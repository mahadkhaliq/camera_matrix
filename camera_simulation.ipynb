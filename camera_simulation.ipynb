{
 "cells": [
  {
   "cell_type": "code",
   "execution_count": 1,
   "id": "acb6eac7",
   "metadata": {},
   "outputs": [],
   "source": [
    "# sources:\n",
    "# http://ais.informatik.uni-freiburg.de/teaching/ws10/robotics2/pdfs/rob2-10-camera-calibration.pdf\n",
    "# https://ksimek.github.io/perspective_camera_toy.html\n",
    "# https://towardsdatascience.com/camera-intrinsic-matrix-with-example-in-python-d79bf2478c12\n",
    "# http://www.info.hiroshima-cu.ac.jp/~miyazaki/knowledge/teche0092.html\n",
    "#https://ksimek.github.io/2012/08/14/decompose/"
   ]
  },
  {
   "cell_type": "code",
   "execution_count": 2,
   "id": "88f82d81",
   "metadata": {},
   "outputs": [
    {
     "name": "stdout",
     "output_type": "stream",
     "text": [
      "Defaulting to user installation because normal site-packages is not writeable\n",
      "Requirement already satisfied: kaleido in /home/gl72/.local/lib/python3.10/site-packages (0.2.1)\n"
     ]
    }
   ],
   "source": [
    "import cv2\n",
    "import numpy as np\n",
    "import matplotlib.pyplot as plt\n",
    "import plotly.graph_objects as go\n",
    "!pip install -U kaleido"
   ]
  },
  {
   "cell_type": "code",
   "execution_count": 3,
   "id": "db69bd4b",
   "metadata": {},
   "outputs": [
    {
     "name": "stdout",
     "output_type": "stream",
     "text": [
      "Defaulting to user installation because normal site-packages is not writeable\n",
      "Requirement already satisfied: plotly in /home/gl72/.local/lib/python3.10/site-packages (5.11.0)\n",
      "Requirement already satisfied: tenacity>=6.2.0 in /home/gl72/.local/lib/python3.10/site-packages (from plotly) (8.1.0)\n"
     ]
    }
   ],
   "source": [
    "!pip install plotly"
   ]
  },
  {
   "cell_type": "code",
   "execution_count": 675,
   "id": "a0339243",
   "metadata": {},
   "outputs": [],
   "source": [
    "# # Create a 3D plane mesh using the meshgrid function\n",
    "# x = np.linspace(-10, 10, 50)\n",
    "# y = np.linspace(-10, 10, 50)\n",
    "# z = np.linspace(-10, 10, 50)\n",
    "# X, Y= np.meshgrid(x, y)\n",
    "\n",
    "# print(X.shape)\n",
    "# print(Y.shape)\n",
    "# print(Z.shape)\n",
    "\n",
    "# mesh_3d = go.Mesh3d(x=x,y=y,z=np.sin(x), color='green', opacity=0.20)\n",
    "# #mesh_3d = go.Mesh3d(x=x,y=y,z=z, color='green', opacity=0.20)\n",
    "# fig = go.Figure(data = [mesh_3d])\n",
    "# fig.show()\n",
    "# np.meshgrid((x,y,z))"
   ]
  },
  {
   "cell_type": "code",
   "execution_count": 64,
   "id": "37ec822e",
   "metadata": {},
   "outputs": [
    {
     "ename": "SyntaxError",
     "evalue": "invalid syntax. Perhaps you forgot a comma? (189266415.py, line 32)",
     "output_type": "error",
     "traceback": [
      "\u001b[0;36m  Cell \u001b[0;32mIn[64], line 32\u001b[0;36m\u001b[0m\n\u001b[0;31m    z=z\u001b[0m\n\u001b[0m      ^\u001b[0m\n\u001b[0;31mSyntaxError\u001b[0m\u001b[0;31m:\u001b[0m invalid syntax. Perhaps you forgot a comma?\n"
     ]
    }
   ],
   "source": [
    "t = np.linspace(0, 10, 100)\n",
    "x, y, z = t, np.cos(t)*10, np.sin(t)*10\n",
    "#x, y,z = np.random.randint(0,15,100), np.random.randint(0,15,100) ,np.random.randint(0,5,100)\n",
    "x, y= np.random.randint(0,15,100), np.random.randint(0,15,100)\n",
    "z = 0.5*x+2*y\n",
    "#print(x)\n",
    "cam1 = np.array([5,5,30])\n",
    "cam1_x = cam1[0]\n",
    "cam1_y = cam1[1]\n",
    "cam1_z = cam1[2]\n",
    "\n",
    "cam2 = np.array([8,6,25])\n",
    "cam2_x = cam2[0]\n",
    "cam2_y = cam2[1]\n",
    "cam2_z = cam2[2]\n",
    "\n",
    "x = np.append(x,cam1_x)\n",
    "y = np.append(y,cam1_y)\n",
    "z = np.append(z,cam1_z)\n",
    "\n",
    "x = np.append(x,cam2_x)\n",
    "y = np.append(y,cam2_y)\n",
    "z = np.append(z,cam2_z)\n",
    "\n",
    "#cam_x = np.linspace(20,25,10)\n",
    "#cam_y = np.full(10,20)\n",
    "#cam_z = np.ones(10)\n",
    "#mesh_3d\n",
    "fig = go.Figure(data=[go.Scatter3d(\n",
    "    x=x,\n",
    "    y=y,\n",
    "    z=z\n",
    "    mode='markers',\n",
    "    marker=dict(\n",
    "        size=5,\n",
    "        color=x,                # set color to an array/list of desired values\n",
    "        colorscale='Viridis',   # choose a colorscale\n",
    "        opacity=0.8\n",
    "    )\n",
    ")])\n",
    "\n",
    "\n",
    "\n",
    "fig.update_layout(margin=dict(l=0, r=0, b=0, t=0))\n",
    "fig.show()\n",
    "\n",
    "\n",
    "\n",
    "\n",
    "#fig = go.Figure(data=[go.Mesh3d(x=x, y=y, z=z, colorscale='Viridis', opacity=0.50)])\n",
    "#fig.show()\n",
    "\n",
    "# plt.scatter(x,z)\n",
    "# plt.xlabel(\"x\")\n",
    "# plt.ylabel(\"y\")\n",
    "# plt.title('X - Y view')\n",
    "\n",
    "# plt.scatter(x,z)\n",
    "# plt.xlabel(\"x\")\n",
    "# plt.ylabel(\"z\")\n"
   ]
  },
  {
   "cell_type": "code",
   "execution_count": 10,
   "id": "4a40fdef",
   "metadata": {
    "scrolled": false
   },
   "outputs": [
    {
     "data": {
      "application/vnd.plotly.v1+json": {
       "config": {
        "plotlyServerURL": "https://plot.ly"
       },
       "data": [
        {
         "marker": {
          "color": [
           7,
           6,
           0,
           2,
           4,
           2,
           6,
           4,
           13,
           13,
           0,
           10,
           10,
           3,
           2,
           4,
           1,
           1,
           1,
           2,
           6,
           11,
           10,
           8,
           4,
           3,
           2,
           14,
           11,
           0,
           5,
           13,
           8,
           4,
           8,
           14,
           12,
           6,
           4,
           13,
           14,
           11,
           5,
           3,
           3,
           13,
           8,
           1,
           3,
           14,
           6,
           13,
           1,
           13,
           6,
           11,
           14,
           13,
           3,
           10,
           11,
           9,
           14,
           13,
           14,
           5,
           12,
           8,
           3,
           3,
           12,
           12,
           3,
           13,
           0,
           3,
           2,
           9,
           8,
           13,
           12,
           4,
           7,
           7,
           7,
           11,
           10,
           9,
           8,
           13,
           5,
           0,
           5,
           7,
           1,
           9,
           3,
           7,
           12,
           11,
           5,
           8
          ],
          "colorscale": [
           [
            0,
            "#440154"
           ],
           [
            0.1111111111111111,
            "#482878"
           ],
           [
            0.2222222222222222,
            "#3e4989"
           ],
           [
            0.3333333333333333,
            "#31688e"
           ],
           [
            0.4444444444444444,
            "#26828e"
           ],
           [
            0.5555555555555556,
            "#1f9e89"
           ],
           [
            0.6666666666666666,
            "#35b779"
           ],
           [
            0.7777777777777778,
            "#6ece58"
           ],
           [
            0.8888888888888888,
            "#b5de2b"
           ],
           [
            1,
            "#fde725"
           ]
          ],
          "opacity": 0.8,
          "size": 5
         },
         "mode": "markers",
         "type": "scatter3d",
         "x": [
          7,
          6,
          0,
          2,
          4,
          2,
          6,
          4,
          13,
          13,
          0,
          10,
          10,
          3,
          2,
          4,
          1,
          1,
          1,
          2,
          6,
          11,
          10,
          8,
          4,
          3,
          2,
          14,
          11,
          0,
          5,
          13,
          8,
          4,
          8,
          14,
          12,
          6,
          4,
          13,
          14,
          11,
          5,
          3,
          3,
          13,
          8,
          1,
          3,
          14,
          6,
          13,
          1,
          13,
          6,
          11,
          14,
          13,
          3,
          10,
          11,
          9,
          14,
          13,
          14,
          5,
          12,
          8,
          3,
          3,
          12,
          12,
          3,
          13,
          0,
          3,
          2,
          9,
          8,
          13,
          12,
          4,
          7,
          7,
          7,
          11,
          10,
          9,
          8,
          13,
          5,
          0,
          5,
          7,
          1,
          9,
          3,
          7,
          12,
          11,
          5,
          8
         ],
         "y": [
          0,
          0,
          9,
          4,
          12,
          11,
          12,
          11,
          8,
          9,
          13,
          10,
          4,
          10,
          3,
          9,
          13,
          7,
          0,
          12,
          7,
          11,
          7,
          14,
          5,
          1,
          6,
          2,
          11,
          11,
          6,
          9,
          11,
          12,
          4,
          10,
          14,
          8,
          10,
          9,
          9,
          11,
          6,
          12,
          11,
          12,
          0,
          8,
          9,
          2,
          2,
          10,
          3,
          7,
          5,
          12,
          3,
          3,
          3,
          10,
          1,
          8,
          6,
          7,
          9,
          4,
          4,
          9,
          14,
          5,
          9,
          8,
          11,
          12,
          8,
          6,
          8,
          7,
          13,
          4,
          8,
          3,
          14,
          8,
          7,
          5,
          14,
          3,
          2,
          1,
          4,
          7,
          12,
          4,
          0,
          1,
          6,
          8,
          8,
          0,
          5,
          6
         ],
         "z": [
          7,
          6,
          0.9,
          2.4,
          5.2,
          3.1,
          7.2,
          5.1,
          13.8,
          13.9,
          1.3,
          11,
          10.4,
          4,
          2.3,
          4.9,
          2.3,
          1.7,
          1,
          3.2,
          6.7,
          12.1,
          10.7,
          9.4,
          4.5,
          3.1,
          2.6,
          14.2,
          12.1,
          1.1,
          5.6,
          13.9,
          9.1,
          5.2,
          8.4,
          15,
          13.4,
          6.8,
          5,
          13.9,
          14.9,
          12.1,
          5.6,
          4.2,
          4.1,
          14.2,
          8,
          1.8,
          3.9,
          14.2,
          6.2,
          14,
          1.3,
          13.7,
          6.5,
          12.2,
          14.3,
          13.3,
          3.3,
          11,
          11.1,
          9.8,
          14.6,
          13.7,
          14.9,
          5.4,
          12.4,
          8.9,
          4.4,
          3.5,
          12.9,
          12.8,
          4.1,
          14.2,
          0.8,
          3.6,
          2.8,
          9.7,
          9.3,
          13.4,
          12.8,
          4.3,
          8.4,
          7.8,
          7.7,
          11.5,
          11.4,
          9.3,
          8.2,
          13.1,
          5.4,
          0.7,
          6.2,
          7.4,
          1,
          9.1,
          3.6,
          7.8,
          12.8,
          11,
          5.5,
          8.6
         ]
        }
       ],
       "layout": {
        "margin": {
         "b": 0,
         "l": 0,
         "r": 0,
         "t": 0
        },
        "scene": {
         "camera": {
          "eye": {
           "x": 0,
           "y": 3,
           "z": 0
          }
         }
        },
        "template": {
         "data": {
          "bar": [
           {
            "error_x": {
             "color": "#2a3f5f"
            },
            "error_y": {
             "color": "#2a3f5f"
            },
            "marker": {
             "line": {
              "color": "#E5ECF6",
              "width": 0.5
             },
             "pattern": {
              "fillmode": "overlay",
              "size": 10,
              "solidity": 0.2
             }
            },
            "type": "bar"
           }
          ],
          "barpolar": [
           {
            "marker": {
             "line": {
              "color": "#E5ECF6",
              "width": 0.5
             },
             "pattern": {
              "fillmode": "overlay",
              "size": 10,
              "solidity": 0.2
             }
            },
            "type": "barpolar"
           }
          ],
          "carpet": [
           {
            "aaxis": {
             "endlinecolor": "#2a3f5f",
             "gridcolor": "white",
             "linecolor": "white",
             "minorgridcolor": "white",
             "startlinecolor": "#2a3f5f"
            },
            "baxis": {
             "endlinecolor": "#2a3f5f",
             "gridcolor": "white",
             "linecolor": "white",
             "minorgridcolor": "white",
             "startlinecolor": "#2a3f5f"
            },
            "type": "carpet"
           }
          ],
          "choropleth": [
           {
            "colorbar": {
             "outlinewidth": 0,
             "ticks": ""
            },
            "type": "choropleth"
           }
          ],
          "contour": [
           {
            "colorbar": {
             "outlinewidth": 0,
             "ticks": ""
            },
            "colorscale": [
             [
              0,
              "#0d0887"
             ],
             [
              0.1111111111111111,
              "#46039f"
             ],
             [
              0.2222222222222222,
              "#7201a8"
             ],
             [
              0.3333333333333333,
              "#9c179e"
             ],
             [
              0.4444444444444444,
              "#bd3786"
             ],
             [
              0.5555555555555556,
              "#d8576b"
             ],
             [
              0.6666666666666666,
              "#ed7953"
             ],
             [
              0.7777777777777778,
              "#fb9f3a"
             ],
             [
              0.8888888888888888,
              "#fdca26"
             ],
             [
              1,
              "#f0f921"
             ]
            ],
            "type": "contour"
           }
          ],
          "contourcarpet": [
           {
            "colorbar": {
             "outlinewidth": 0,
             "ticks": ""
            },
            "type": "contourcarpet"
           }
          ],
          "heatmap": [
           {
            "colorbar": {
             "outlinewidth": 0,
             "ticks": ""
            },
            "colorscale": [
             [
              0,
              "#0d0887"
             ],
             [
              0.1111111111111111,
              "#46039f"
             ],
             [
              0.2222222222222222,
              "#7201a8"
             ],
             [
              0.3333333333333333,
              "#9c179e"
             ],
             [
              0.4444444444444444,
              "#bd3786"
             ],
             [
              0.5555555555555556,
              "#d8576b"
             ],
             [
              0.6666666666666666,
              "#ed7953"
             ],
             [
              0.7777777777777778,
              "#fb9f3a"
             ],
             [
              0.8888888888888888,
              "#fdca26"
             ],
             [
              1,
              "#f0f921"
             ]
            ],
            "type": "heatmap"
           }
          ],
          "heatmapgl": [
           {
            "colorbar": {
             "outlinewidth": 0,
             "ticks": ""
            },
            "colorscale": [
             [
              0,
              "#0d0887"
             ],
             [
              0.1111111111111111,
              "#46039f"
             ],
             [
              0.2222222222222222,
              "#7201a8"
             ],
             [
              0.3333333333333333,
              "#9c179e"
             ],
             [
              0.4444444444444444,
              "#bd3786"
             ],
             [
              0.5555555555555556,
              "#d8576b"
             ],
             [
              0.6666666666666666,
              "#ed7953"
             ],
             [
              0.7777777777777778,
              "#fb9f3a"
             ],
             [
              0.8888888888888888,
              "#fdca26"
             ],
             [
              1,
              "#f0f921"
             ]
            ],
            "type": "heatmapgl"
           }
          ],
          "histogram": [
           {
            "marker": {
             "pattern": {
              "fillmode": "overlay",
              "size": 10,
              "solidity": 0.2
             }
            },
            "type": "histogram"
           }
          ],
          "histogram2d": [
           {
            "colorbar": {
             "outlinewidth": 0,
             "ticks": ""
            },
            "colorscale": [
             [
              0,
              "#0d0887"
             ],
             [
              0.1111111111111111,
              "#46039f"
             ],
             [
              0.2222222222222222,
              "#7201a8"
             ],
             [
              0.3333333333333333,
              "#9c179e"
             ],
             [
              0.4444444444444444,
              "#bd3786"
             ],
             [
              0.5555555555555556,
              "#d8576b"
             ],
             [
              0.6666666666666666,
              "#ed7953"
             ],
             [
              0.7777777777777778,
              "#fb9f3a"
             ],
             [
              0.8888888888888888,
              "#fdca26"
             ],
             [
              1,
              "#f0f921"
             ]
            ],
            "type": "histogram2d"
           }
          ],
          "histogram2dcontour": [
           {
            "colorbar": {
             "outlinewidth": 0,
             "ticks": ""
            },
            "colorscale": [
             [
              0,
              "#0d0887"
             ],
             [
              0.1111111111111111,
              "#46039f"
             ],
             [
              0.2222222222222222,
              "#7201a8"
             ],
             [
              0.3333333333333333,
              "#9c179e"
             ],
             [
              0.4444444444444444,
              "#bd3786"
             ],
             [
              0.5555555555555556,
              "#d8576b"
             ],
             [
              0.6666666666666666,
              "#ed7953"
             ],
             [
              0.7777777777777778,
              "#fb9f3a"
             ],
             [
              0.8888888888888888,
              "#fdca26"
             ],
             [
              1,
              "#f0f921"
             ]
            ],
            "type": "histogram2dcontour"
           }
          ],
          "mesh3d": [
           {
            "colorbar": {
             "outlinewidth": 0,
             "ticks": ""
            },
            "type": "mesh3d"
           }
          ],
          "parcoords": [
           {
            "line": {
             "colorbar": {
              "outlinewidth": 0,
              "ticks": ""
             }
            },
            "type": "parcoords"
           }
          ],
          "pie": [
           {
            "automargin": true,
            "type": "pie"
           }
          ],
          "scatter": [
           {
            "fillpattern": {
             "fillmode": "overlay",
             "size": 10,
             "solidity": 0.2
            },
            "type": "scatter"
           }
          ],
          "scatter3d": [
           {
            "line": {
             "colorbar": {
              "outlinewidth": 0,
              "ticks": ""
             }
            },
            "marker": {
             "colorbar": {
              "outlinewidth": 0,
              "ticks": ""
             }
            },
            "type": "scatter3d"
           }
          ],
          "scattercarpet": [
           {
            "marker": {
             "colorbar": {
              "outlinewidth": 0,
              "ticks": ""
             }
            },
            "type": "scattercarpet"
           }
          ],
          "scattergeo": [
           {
            "marker": {
             "colorbar": {
              "outlinewidth": 0,
              "ticks": ""
             }
            },
            "type": "scattergeo"
           }
          ],
          "scattergl": [
           {
            "marker": {
             "colorbar": {
              "outlinewidth": 0,
              "ticks": ""
             }
            },
            "type": "scattergl"
           }
          ],
          "scattermapbox": [
           {
            "marker": {
             "colorbar": {
              "outlinewidth": 0,
              "ticks": ""
             }
            },
            "type": "scattermapbox"
           }
          ],
          "scatterpolar": [
           {
            "marker": {
             "colorbar": {
              "outlinewidth": 0,
              "ticks": ""
             }
            },
            "type": "scatterpolar"
           }
          ],
          "scatterpolargl": [
           {
            "marker": {
             "colorbar": {
              "outlinewidth": 0,
              "ticks": ""
             }
            },
            "type": "scatterpolargl"
           }
          ],
          "scatterternary": [
           {
            "marker": {
             "colorbar": {
              "outlinewidth": 0,
              "ticks": ""
             }
            },
            "type": "scatterternary"
           }
          ],
          "surface": [
           {
            "colorbar": {
             "outlinewidth": 0,
             "ticks": ""
            },
            "colorscale": [
             [
              0,
              "#0d0887"
             ],
             [
              0.1111111111111111,
              "#46039f"
             ],
             [
              0.2222222222222222,
              "#7201a8"
             ],
             [
              0.3333333333333333,
              "#9c179e"
             ],
             [
              0.4444444444444444,
              "#bd3786"
             ],
             [
              0.5555555555555556,
              "#d8576b"
             ],
             [
              0.6666666666666666,
              "#ed7953"
             ],
             [
              0.7777777777777778,
              "#fb9f3a"
             ],
             [
              0.8888888888888888,
              "#fdca26"
             ],
             [
              1,
              "#f0f921"
             ]
            ],
            "type": "surface"
           }
          ],
          "table": [
           {
            "cells": {
             "fill": {
              "color": "#EBF0F8"
             },
             "line": {
              "color": "white"
             }
            },
            "header": {
             "fill": {
              "color": "#C8D4E3"
             },
             "line": {
              "color": "white"
             }
            },
            "type": "table"
           }
          ]
         },
         "layout": {
          "annotationdefaults": {
           "arrowcolor": "#2a3f5f",
           "arrowhead": 0,
           "arrowwidth": 1
          },
          "autotypenumbers": "strict",
          "coloraxis": {
           "colorbar": {
            "outlinewidth": 0,
            "ticks": ""
           }
          },
          "colorscale": {
           "diverging": [
            [
             0,
             "#8e0152"
            ],
            [
             0.1,
             "#c51b7d"
            ],
            [
             0.2,
             "#de77ae"
            ],
            [
             0.3,
             "#f1b6da"
            ],
            [
             0.4,
             "#fde0ef"
            ],
            [
             0.5,
             "#f7f7f7"
            ],
            [
             0.6,
             "#e6f5d0"
            ],
            [
             0.7,
             "#b8e186"
            ],
            [
             0.8,
             "#7fbc41"
            ],
            [
             0.9,
             "#4d9221"
            ],
            [
             1,
             "#276419"
            ]
           ],
           "sequential": [
            [
             0,
             "#0d0887"
            ],
            [
             0.1111111111111111,
             "#46039f"
            ],
            [
             0.2222222222222222,
             "#7201a8"
            ],
            [
             0.3333333333333333,
             "#9c179e"
            ],
            [
             0.4444444444444444,
             "#bd3786"
            ],
            [
             0.5555555555555556,
             "#d8576b"
            ],
            [
             0.6666666666666666,
             "#ed7953"
            ],
            [
             0.7777777777777778,
             "#fb9f3a"
            ],
            [
             0.8888888888888888,
             "#fdca26"
            ],
            [
             1,
             "#f0f921"
            ]
           ],
           "sequentialminus": [
            [
             0,
             "#0d0887"
            ],
            [
             0.1111111111111111,
             "#46039f"
            ],
            [
             0.2222222222222222,
             "#7201a8"
            ],
            [
             0.3333333333333333,
             "#9c179e"
            ],
            [
             0.4444444444444444,
             "#bd3786"
            ],
            [
             0.5555555555555556,
             "#d8576b"
            ],
            [
             0.6666666666666666,
             "#ed7953"
            ],
            [
             0.7777777777777778,
             "#fb9f3a"
            ],
            [
             0.8888888888888888,
             "#fdca26"
            ],
            [
             1,
             "#f0f921"
            ]
           ]
          },
          "colorway": [
           "#636efa",
           "#EF553B",
           "#00cc96",
           "#ab63fa",
           "#FFA15A",
           "#19d3f3",
           "#FF6692",
           "#B6E880",
           "#FF97FF",
           "#FECB52"
          ],
          "font": {
           "color": "#2a3f5f"
          },
          "geo": {
           "bgcolor": "white",
           "lakecolor": "white",
           "landcolor": "#E5ECF6",
           "showlakes": true,
           "showland": true,
           "subunitcolor": "white"
          },
          "hoverlabel": {
           "align": "left"
          },
          "hovermode": "closest",
          "mapbox": {
           "style": "light"
          },
          "paper_bgcolor": "white",
          "plot_bgcolor": "#E5ECF6",
          "polar": {
           "angularaxis": {
            "gridcolor": "white",
            "linecolor": "white",
            "ticks": ""
           },
           "bgcolor": "#E5ECF6",
           "radialaxis": {
            "gridcolor": "white",
            "linecolor": "white",
            "ticks": ""
           }
          },
          "scene": {
           "xaxis": {
            "backgroundcolor": "#E5ECF6",
            "gridcolor": "white",
            "gridwidth": 2,
            "linecolor": "white",
            "showbackground": true,
            "ticks": "",
            "zerolinecolor": "white"
           },
           "yaxis": {
            "backgroundcolor": "#E5ECF6",
            "gridcolor": "white",
            "gridwidth": 2,
            "linecolor": "white",
            "showbackground": true,
            "ticks": "",
            "zerolinecolor": "white"
           },
           "zaxis": {
            "backgroundcolor": "#E5ECF6",
            "gridcolor": "white",
            "gridwidth": 2,
            "linecolor": "white",
            "showbackground": true,
            "ticks": "",
            "zerolinecolor": "white"
           }
          },
          "shapedefaults": {
           "line": {
            "color": "#2a3f5f"
           }
          },
          "ternary": {
           "aaxis": {
            "gridcolor": "white",
            "linecolor": "white",
            "ticks": ""
           },
           "baxis": {
            "gridcolor": "white",
            "linecolor": "white",
            "ticks": ""
           },
           "bgcolor": "#E5ECF6",
           "caxis": {
            "gridcolor": "white",
            "linecolor": "white",
            "ticks": ""
           }
          },
          "title": {
           "x": 0.05
          },
          "xaxis": {
           "automargin": true,
           "gridcolor": "white",
           "linecolor": "white",
           "ticks": "",
           "title": {
            "standoff": 15
           },
           "zerolinecolor": "white",
           "zerolinewidth": 2
          },
          "yaxis": {
           "automargin": true,
           "gridcolor": "white",
           "linecolor": "white",
           "ticks": "",
           "title": {
            "standoff": 15
           },
           "zerolinecolor": "white",
           "zerolinewidth": 2
          }
         }
        },
        "title": {
         "text": "eye = (x:0., y:3, z:0.)"
        }
       }
      },
      "text/html": [
       "<div>                            <div id=\"edc319af-2c75-487a-b520-3ba1f76a494f\" class=\"plotly-graph-div\" style=\"height:525px; width:100%;\"></div>            <script type=\"text/javascript\">                require([\"plotly\"], function(Plotly) {                    window.PLOTLYENV=window.PLOTLYENV || {};                                    if (document.getElementById(\"edc319af-2c75-487a-b520-3ba1f76a494f\")) {                    Plotly.newPlot(                        \"edc319af-2c75-487a-b520-3ba1f76a494f\",                        [{\"marker\":{\"color\":[7,6,0,2,4,2,6,4,13,13,0,10,10,3,2,4,1,1,1,2,6,11,10,8,4,3,2,14,11,0,5,13,8,4,8,14,12,6,4,13,14,11,5,3,3,13,8,1,3,14,6,13,1,13,6,11,14,13,3,10,11,9,14,13,14,5,12,8,3,3,12,12,3,13,0,3,2,9,8,13,12,4,7,7,7,11,10,9,8,13,5,0,5,7,1,9,3,7,12,11,5,8],\"colorscale\":[[0.0,\"#440154\"],[0.1111111111111111,\"#482878\"],[0.2222222222222222,\"#3e4989\"],[0.3333333333333333,\"#31688e\"],[0.4444444444444444,\"#26828e\"],[0.5555555555555556,\"#1f9e89\"],[0.6666666666666666,\"#35b779\"],[0.7777777777777778,\"#6ece58\"],[0.8888888888888888,\"#b5de2b\"],[1.0,\"#fde725\"]],\"opacity\":0.8,\"size\":5},\"mode\":\"markers\",\"x\":[7,6,0,2,4,2,6,4,13,13,0,10,10,3,2,4,1,1,1,2,6,11,10,8,4,3,2,14,11,0,5,13,8,4,8,14,12,6,4,13,14,11,5,3,3,13,8,1,3,14,6,13,1,13,6,11,14,13,3,10,11,9,14,13,14,5,12,8,3,3,12,12,3,13,0,3,2,9,8,13,12,4,7,7,7,11,10,9,8,13,5,0,5,7,1,9,3,7,12,11,5,8],\"y\":[0,0,9,4,12,11,12,11,8,9,13,10,4,10,3,9,13,7,0,12,7,11,7,14,5,1,6,2,11,11,6,9,11,12,4,10,14,8,10,9,9,11,6,12,11,12,0,8,9,2,2,10,3,7,5,12,3,3,3,10,1,8,6,7,9,4,4,9,14,5,9,8,11,12,8,6,8,7,13,4,8,3,14,8,7,5,14,3,2,1,4,7,12,4,0,1,6,8,8,0,5,6],\"z\":[7.0,6.0,0.9,2.4,5.2,3.1,7.2,5.1,13.8,13.9,1.3,11.0,10.4,4.0,2.3,4.9,2.3,1.7,1.0,3.2,6.7,12.1,10.7,9.4,4.5,3.1,2.6,14.2,12.1,1.1,5.6,13.9,9.1,5.2,8.4,15.0,13.4,6.8,5.0,13.9,14.9,12.1,5.6,4.2,4.1,14.2,8.0,1.8,3.9,14.2,6.2,14.0,1.3,13.7,6.5,12.2,14.3,13.3,3.3,11.0,11.1,9.8,14.6,13.7,14.9,5.4,12.4,8.9,4.4,3.5,12.9,12.8,4.1,14.2,0.8,3.6,2.8,9.7,9.3,13.4,12.8,4.3,8.4,7.8,7.7,11.5,11.4,9.3,8.2,13.1,5.4,0.7,6.2,7.4,1.0,9.1,3.6,7.8,12.8,11.0,5.5,8.6],\"type\":\"scatter3d\"}],                        {\"template\":{\"data\":{\"histogram2dcontour\":[{\"type\":\"histogram2dcontour\",\"colorbar\":{\"outlinewidth\":0,\"ticks\":\"\"},\"colorscale\":[[0.0,\"#0d0887\"],[0.1111111111111111,\"#46039f\"],[0.2222222222222222,\"#7201a8\"],[0.3333333333333333,\"#9c179e\"],[0.4444444444444444,\"#bd3786\"],[0.5555555555555556,\"#d8576b\"],[0.6666666666666666,\"#ed7953\"],[0.7777777777777778,\"#fb9f3a\"],[0.8888888888888888,\"#fdca26\"],[1.0,\"#f0f921\"]]}],\"choropleth\":[{\"type\":\"choropleth\",\"colorbar\":{\"outlinewidth\":0,\"ticks\":\"\"}}],\"histogram2d\":[{\"type\":\"histogram2d\",\"colorbar\":{\"outlinewidth\":0,\"ticks\":\"\"},\"colorscale\":[[0.0,\"#0d0887\"],[0.1111111111111111,\"#46039f\"],[0.2222222222222222,\"#7201a8\"],[0.3333333333333333,\"#9c179e\"],[0.4444444444444444,\"#bd3786\"],[0.5555555555555556,\"#d8576b\"],[0.6666666666666666,\"#ed7953\"],[0.7777777777777778,\"#fb9f3a\"],[0.8888888888888888,\"#fdca26\"],[1.0,\"#f0f921\"]]}],\"heatmap\":[{\"type\":\"heatmap\",\"colorbar\":{\"outlinewidth\":0,\"ticks\":\"\"},\"colorscale\":[[0.0,\"#0d0887\"],[0.1111111111111111,\"#46039f\"],[0.2222222222222222,\"#7201a8\"],[0.3333333333333333,\"#9c179e\"],[0.4444444444444444,\"#bd3786\"],[0.5555555555555556,\"#d8576b\"],[0.6666666666666666,\"#ed7953\"],[0.7777777777777778,\"#fb9f3a\"],[0.8888888888888888,\"#fdca26\"],[1.0,\"#f0f921\"]]}],\"heatmapgl\":[{\"type\":\"heatmapgl\",\"colorbar\":{\"outlinewidth\":0,\"ticks\":\"\"},\"colorscale\":[[0.0,\"#0d0887\"],[0.1111111111111111,\"#46039f\"],[0.2222222222222222,\"#7201a8\"],[0.3333333333333333,\"#9c179e\"],[0.4444444444444444,\"#bd3786\"],[0.5555555555555556,\"#d8576b\"],[0.6666666666666666,\"#ed7953\"],[0.7777777777777778,\"#fb9f3a\"],[0.8888888888888888,\"#fdca26\"],[1.0,\"#f0f921\"]]}],\"contourcarpet\":[{\"type\":\"contourcarpet\",\"colorbar\":{\"outlinewidth\":0,\"ticks\":\"\"}}],\"contour\":[{\"type\":\"contour\",\"colorbar\":{\"outlinewidth\":0,\"ticks\":\"\"},\"colorscale\":[[0.0,\"#0d0887\"],[0.1111111111111111,\"#46039f\"],[0.2222222222222222,\"#7201a8\"],[0.3333333333333333,\"#9c179e\"],[0.4444444444444444,\"#bd3786\"],[0.5555555555555556,\"#d8576b\"],[0.6666666666666666,\"#ed7953\"],[0.7777777777777778,\"#fb9f3a\"],[0.8888888888888888,\"#fdca26\"],[1.0,\"#f0f921\"]]}],\"surface\":[{\"type\":\"surface\",\"colorbar\":{\"outlinewidth\":0,\"ticks\":\"\"},\"colorscale\":[[0.0,\"#0d0887\"],[0.1111111111111111,\"#46039f\"],[0.2222222222222222,\"#7201a8\"],[0.3333333333333333,\"#9c179e\"],[0.4444444444444444,\"#bd3786\"],[0.5555555555555556,\"#d8576b\"],[0.6666666666666666,\"#ed7953\"],[0.7777777777777778,\"#fb9f3a\"],[0.8888888888888888,\"#fdca26\"],[1.0,\"#f0f921\"]]}],\"mesh3d\":[{\"type\":\"mesh3d\",\"colorbar\":{\"outlinewidth\":0,\"ticks\":\"\"}}],\"scatter\":[{\"fillpattern\":{\"fillmode\":\"overlay\",\"size\":10,\"solidity\":0.2},\"type\":\"scatter\"}],\"parcoords\":[{\"type\":\"parcoords\",\"line\":{\"colorbar\":{\"outlinewidth\":0,\"ticks\":\"\"}}}],\"scatterpolargl\":[{\"type\":\"scatterpolargl\",\"marker\":{\"colorbar\":{\"outlinewidth\":0,\"ticks\":\"\"}}}],\"bar\":[{\"error_x\":{\"color\":\"#2a3f5f\"},\"error_y\":{\"color\":\"#2a3f5f\"},\"marker\":{\"line\":{\"color\":\"#E5ECF6\",\"width\":0.5},\"pattern\":{\"fillmode\":\"overlay\",\"size\":10,\"solidity\":0.2}},\"type\":\"bar\"}],\"scattergeo\":[{\"type\":\"scattergeo\",\"marker\":{\"colorbar\":{\"outlinewidth\":0,\"ticks\":\"\"}}}],\"scatterpolar\":[{\"type\":\"scatterpolar\",\"marker\":{\"colorbar\":{\"outlinewidth\":0,\"ticks\":\"\"}}}],\"histogram\":[{\"marker\":{\"pattern\":{\"fillmode\":\"overlay\",\"size\":10,\"solidity\":0.2}},\"type\":\"histogram\"}],\"scattergl\":[{\"type\":\"scattergl\",\"marker\":{\"colorbar\":{\"outlinewidth\":0,\"ticks\":\"\"}}}],\"scatter3d\":[{\"type\":\"scatter3d\",\"line\":{\"colorbar\":{\"outlinewidth\":0,\"ticks\":\"\"}},\"marker\":{\"colorbar\":{\"outlinewidth\":0,\"ticks\":\"\"}}}],\"scattermapbox\":[{\"type\":\"scattermapbox\",\"marker\":{\"colorbar\":{\"outlinewidth\":0,\"ticks\":\"\"}}}],\"scatterternary\":[{\"type\":\"scatterternary\",\"marker\":{\"colorbar\":{\"outlinewidth\":0,\"ticks\":\"\"}}}],\"scattercarpet\":[{\"type\":\"scattercarpet\",\"marker\":{\"colorbar\":{\"outlinewidth\":0,\"ticks\":\"\"}}}],\"carpet\":[{\"aaxis\":{\"endlinecolor\":\"#2a3f5f\",\"gridcolor\":\"white\",\"linecolor\":\"white\",\"minorgridcolor\":\"white\",\"startlinecolor\":\"#2a3f5f\"},\"baxis\":{\"endlinecolor\":\"#2a3f5f\",\"gridcolor\":\"white\",\"linecolor\":\"white\",\"minorgridcolor\":\"white\",\"startlinecolor\":\"#2a3f5f\"},\"type\":\"carpet\"}],\"table\":[{\"cells\":{\"fill\":{\"color\":\"#EBF0F8\"},\"line\":{\"color\":\"white\"}},\"header\":{\"fill\":{\"color\":\"#C8D4E3\"},\"line\":{\"color\":\"white\"}},\"type\":\"table\"}],\"barpolar\":[{\"marker\":{\"line\":{\"color\":\"#E5ECF6\",\"width\":0.5},\"pattern\":{\"fillmode\":\"overlay\",\"size\":10,\"solidity\":0.2}},\"type\":\"barpolar\"}],\"pie\":[{\"automargin\":true,\"type\":\"pie\"}]},\"layout\":{\"autotypenumbers\":\"strict\",\"colorway\":[\"#636efa\",\"#EF553B\",\"#00cc96\",\"#ab63fa\",\"#FFA15A\",\"#19d3f3\",\"#FF6692\",\"#B6E880\",\"#FF97FF\",\"#FECB52\"],\"font\":{\"color\":\"#2a3f5f\"},\"hovermode\":\"closest\",\"hoverlabel\":{\"align\":\"left\"},\"paper_bgcolor\":\"white\",\"plot_bgcolor\":\"#E5ECF6\",\"polar\":{\"bgcolor\":\"#E5ECF6\",\"angularaxis\":{\"gridcolor\":\"white\",\"linecolor\":\"white\",\"ticks\":\"\"},\"radialaxis\":{\"gridcolor\":\"white\",\"linecolor\":\"white\",\"ticks\":\"\"}},\"ternary\":{\"bgcolor\":\"#E5ECF6\",\"aaxis\":{\"gridcolor\":\"white\",\"linecolor\":\"white\",\"ticks\":\"\"},\"baxis\":{\"gridcolor\":\"white\",\"linecolor\":\"white\",\"ticks\":\"\"},\"caxis\":{\"gridcolor\":\"white\",\"linecolor\":\"white\",\"ticks\":\"\"}},\"coloraxis\":{\"colorbar\":{\"outlinewidth\":0,\"ticks\":\"\"}},\"colorscale\":{\"sequential\":[[0.0,\"#0d0887\"],[0.1111111111111111,\"#46039f\"],[0.2222222222222222,\"#7201a8\"],[0.3333333333333333,\"#9c179e\"],[0.4444444444444444,\"#bd3786\"],[0.5555555555555556,\"#d8576b\"],[0.6666666666666666,\"#ed7953\"],[0.7777777777777778,\"#fb9f3a\"],[0.8888888888888888,\"#fdca26\"],[1.0,\"#f0f921\"]],\"sequentialminus\":[[0.0,\"#0d0887\"],[0.1111111111111111,\"#46039f\"],[0.2222222222222222,\"#7201a8\"],[0.3333333333333333,\"#9c179e\"],[0.4444444444444444,\"#bd3786\"],[0.5555555555555556,\"#d8576b\"],[0.6666666666666666,\"#ed7953\"],[0.7777777777777778,\"#fb9f3a\"],[0.8888888888888888,\"#fdca26\"],[1.0,\"#f0f921\"]],\"diverging\":[[0,\"#8e0152\"],[0.1,\"#c51b7d\"],[0.2,\"#de77ae\"],[0.3,\"#f1b6da\"],[0.4,\"#fde0ef\"],[0.5,\"#f7f7f7\"],[0.6,\"#e6f5d0\"],[0.7,\"#b8e186\"],[0.8,\"#7fbc41\"],[0.9,\"#4d9221\"],[1,\"#276419\"]]},\"xaxis\":{\"gridcolor\":\"white\",\"linecolor\":\"white\",\"ticks\":\"\",\"title\":{\"standoff\":15},\"zerolinecolor\":\"white\",\"automargin\":true,\"zerolinewidth\":2},\"yaxis\":{\"gridcolor\":\"white\",\"linecolor\":\"white\",\"ticks\":\"\",\"title\":{\"standoff\":15},\"zerolinecolor\":\"white\",\"automargin\":true,\"zerolinewidth\":2},\"scene\":{\"xaxis\":{\"backgroundcolor\":\"#E5ECF6\",\"gridcolor\":\"white\",\"linecolor\":\"white\",\"showbackground\":true,\"ticks\":\"\",\"zerolinecolor\":\"white\",\"gridwidth\":2},\"yaxis\":{\"backgroundcolor\":\"#E5ECF6\",\"gridcolor\":\"white\",\"linecolor\":\"white\",\"showbackground\":true,\"ticks\":\"\",\"zerolinecolor\":\"white\",\"gridwidth\":2},\"zaxis\":{\"backgroundcolor\":\"#E5ECF6\",\"gridcolor\":\"white\",\"linecolor\":\"white\",\"showbackground\":true,\"ticks\":\"\",\"zerolinecolor\":\"white\",\"gridwidth\":2}},\"shapedefaults\":{\"line\":{\"color\":\"#2a3f5f\"}},\"annotationdefaults\":{\"arrowcolor\":\"#2a3f5f\",\"arrowhead\":0,\"arrowwidth\":1},\"geo\":{\"bgcolor\":\"white\",\"landcolor\":\"#E5ECF6\",\"subunitcolor\":\"white\",\"showland\":true,\"showlakes\":true,\"lakecolor\":\"white\"},\"title\":{\"x\":0.05},\"mapbox\":{\"style\":\"light\"}}},\"margin\":{\"l\":0,\"r\":0,\"b\":0,\"t\":0},\"scene\":{\"camera\":{\"eye\":{\"x\":0.0,\"y\":3,\"z\":0}}},\"title\":{\"text\":\"eye = (x:0., y:3, z:0.)\"}},                        {\"responsive\": true}                    ).then(function(){\n",
       "                            \n",
       "var gd = document.getElementById('edc319af-2c75-487a-b520-3ba1f76a494f');\n",
       "var x = new MutationObserver(function (mutations, observer) {{\n",
       "        var display = window.getComputedStyle(gd).display;\n",
       "        if (!display || display === 'none') {{\n",
       "            console.log([gd, 'removed!']);\n",
       "            Plotly.purge(gd);\n",
       "            observer.disconnect();\n",
       "        }}\n",
       "}});\n",
       "\n",
       "// Listen for the removal of the full notebook cells\n",
       "var notebookContainer = gd.closest('#notebook-container');\n",
       "if (notebookContainer) {{\n",
       "    x.observe(notebookContainer, {childList: true});\n",
       "}}\n",
       "\n",
       "// Listen for the clearing of the current output cell\n",
       "var outputEl = gd.closest('.output');\n",
       "if (outputEl) {{\n",
       "    x.observe(outputEl, {childList: true});\n",
       "}}\n",
       "\n",
       "                        })                };                });            </script>        </div>"
      ]
     },
     "metadata": {},
     "output_type": "display_data"
    }
   ],
   "source": [
    "name = 'eye = (x:0., y:3, z:0.)'\n",
    "camera = dict(\n",
    "    eye=dict(x=0., y=3, z=0)\n",
    ")\n",
    "\n",
    "\n",
    "fig.update_layout(scene_camera=camera, title=name)\n",
    "fig.show()\n"
   ]
  },
  {
   "cell_type": "code",
   "execution_count": 65,
   "id": "9a295435",
   "metadata": {},
   "outputs": [
    {
     "data": {
      "application/vnd.plotly.v1+json": {
       "config": {
        "plotlyServerURL": "https://plot.ly"
       },
       "data": [
        {
         "marker": {
          "color": [
           6,
           10,
           8,
           7,
           4,
           14,
           1,
           2,
           2,
           14,
           10,
           3,
           11,
           14,
           13,
           14,
           4,
           2,
           11,
           0,
           13,
           5,
           14,
           11,
           10,
           1,
           5,
           3,
           8,
           14,
           6,
           3,
           1,
           4,
           11,
           13,
           5,
           7,
           12,
           4,
           9,
           12,
           11,
           5,
           2,
           14,
           12,
           11,
           0,
           6,
           11,
           9,
           3,
           11,
           1,
           0,
           4,
           1,
           7,
           2,
           6,
           3,
           2,
           13,
           11,
           11,
           5,
           9,
           13,
           2,
           3,
           0,
           9,
           0,
           3,
           10,
           4,
           1,
           7,
           11,
           1,
           0,
           14,
           2,
           1,
           10,
           4,
           0,
           14,
           13,
           5,
           2,
           13,
           0,
           6,
           14,
           1,
           0,
           12,
           4,
           5,
           8
          ],
          "colorscale": [
           [
            0,
            "#440154"
           ],
           [
            0.1111111111111111,
            "#482878"
           ],
           [
            0.2222222222222222,
            "#3e4989"
           ],
           [
            0.3333333333333333,
            "#31688e"
           ],
           [
            0.4444444444444444,
            "#26828e"
           ],
           [
            0.5555555555555556,
            "#1f9e89"
           ],
           [
            0.6666666666666666,
            "#35b779"
           ],
           [
            0.7777777777777778,
            "#6ece58"
           ],
           [
            0.8888888888888888,
            "#b5de2b"
           ],
           [
            1,
            "#fde725"
           ]
          ],
          "opacity": 0.8,
          "size": 5
         },
         "mode": "markers",
         "type": "scatter3d",
         "x": [
          6,
          10,
          8,
          7,
          4,
          14,
          1,
          2,
          2,
          14,
          10,
          3,
          11,
          14,
          13,
          14,
          4,
          2,
          11,
          0,
          13,
          5,
          14,
          11,
          10,
          1,
          5,
          3,
          8,
          14,
          6,
          3,
          1,
          4,
          11,
          13,
          5,
          7,
          12,
          4,
          9,
          12,
          11,
          5,
          2,
          14,
          12,
          11,
          0,
          6,
          11,
          9,
          3,
          11,
          1,
          0,
          4,
          1,
          7,
          2,
          6,
          3,
          2,
          13,
          11,
          11,
          5,
          9,
          13,
          2,
          3,
          0,
          9,
          0,
          3,
          10,
          4,
          1,
          7,
          11,
          1,
          0,
          14,
          2,
          1,
          10,
          4,
          0,
          14,
          13,
          5,
          2,
          13,
          0,
          6,
          14,
          1,
          0,
          12,
          4,
          5,
          8
         ],
         "y": [
          11,
          11,
          8,
          4,
          3,
          12,
          14,
          2,
          5,
          6,
          8,
          9,
          0,
          14,
          0,
          1,
          1,
          2,
          12,
          7,
          9,
          10,
          13,
          12,
          11,
          12,
          3,
          4,
          7,
          8,
          11,
          3,
          8,
          10,
          5,
          4,
          4,
          13,
          10,
          4,
          9,
          7,
          9,
          13,
          7,
          10,
          14,
          14,
          4,
          4,
          14,
          11,
          2,
          6,
          7,
          12,
          11,
          10,
          5,
          7,
          1,
          10,
          8,
          3,
          1,
          12,
          8,
          11,
          9,
          7,
          8,
          10,
          7,
          13,
          10,
          8,
          13,
          1,
          7,
          9,
          7,
          14,
          0,
          8,
          0,
          8,
          2,
          10,
          5,
          4,
          4,
          8,
          10,
          10,
          7,
          0,
          12,
          14,
          5,
          11,
          5,
          6
         ],
         "z": [
          7.1,
          11.1,
          8.8,
          7.4,
          4.3,
          15.2,
          2.4,
          2.2,
          2.5,
          14.6,
          10.8,
          3.9,
          11,
          15.4,
          13,
          14.1,
          4.1,
          2.2,
          12.2,
          0.7,
          13.9,
          6,
          15.3,
          12.2,
          11.1,
          2.2,
          5.3,
          3.4,
          8.7,
          14.8,
          7.1,
          3.3,
          1.8,
          5,
          11.5,
          13.4,
          5.4,
          8.3,
          13,
          4.4,
          9.9,
          12.7,
          11.9,
          6.3,
          2.7,
          15,
          13.4,
          12.4,
          0.4,
          6.4,
          12.4,
          10.1,
          3.2,
          11.6,
          1.7,
          1.2,
          5.1,
          2,
          7.5,
          2.7,
          6.1,
          4,
          2.8,
          13.3,
          11.1,
          12.2,
          5.8,
          10.1,
          13.9,
          2.7,
          3.8,
          1,
          9.7,
          1.3,
          4,
          10.8,
          5.3,
          1.1,
          7.7,
          11.9,
          1.7,
          1.4,
          14,
          2.8,
          1,
          10.8,
          4.2,
          1,
          14.5,
          13.4,
          5.4,
          2.8,
          14,
          1,
          6.7,
          14,
          2.2,
          1.4,
          12.5,
          5.1,
          5.5,
          8.6
         ]
        }
       ],
       "layout": {
        "margin": {
         "b": 0,
         "l": 0,
         "r": 0,
         "t": 0
        },
        "scene": {
         "camera": {
          "eye": {
           "x": 0,
           "y": 0,
           "z": 2
          }
         }
        },
        "template": {
         "data": {
          "bar": [
           {
            "error_x": {
             "color": "#2a3f5f"
            },
            "error_y": {
             "color": "#2a3f5f"
            },
            "marker": {
             "line": {
              "color": "#E5ECF6",
              "width": 0.5
             },
             "pattern": {
              "fillmode": "overlay",
              "size": 10,
              "solidity": 0.2
             }
            },
            "type": "bar"
           }
          ],
          "barpolar": [
           {
            "marker": {
             "line": {
              "color": "#E5ECF6",
              "width": 0.5
             },
             "pattern": {
              "fillmode": "overlay",
              "size": 10,
              "solidity": 0.2
             }
            },
            "type": "barpolar"
           }
          ],
          "carpet": [
           {
            "aaxis": {
             "endlinecolor": "#2a3f5f",
             "gridcolor": "white",
             "linecolor": "white",
             "minorgridcolor": "white",
             "startlinecolor": "#2a3f5f"
            },
            "baxis": {
             "endlinecolor": "#2a3f5f",
             "gridcolor": "white",
             "linecolor": "white",
             "minorgridcolor": "white",
             "startlinecolor": "#2a3f5f"
            },
            "type": "carpet"
           }
          ],
          "choropleth": [
           {
            "colorbar": {
             "outlinewidth": 0,
             "ticks": ""
            },
            "type": "choropleth"
           }
          ],
          "contour": [
           {
            "colorbar": {
             "outlinewidth": 0,
             "ticks": ""
            },
            "colorscale": [
             [
              0,
              "#0d0887"
             ],
             [
              0.1111111111111111,
              "#46039f"
             ],
             [
              0.2222222222222222,
              "#7201a8"
             ],
             [
              0.3333333333333333,
              "#9c179e"
             ],
             [
              0.4444444444444444,
              "#bd3786"
             ],
             [
              0.5555555555555556,
              "#d8576b"
             ],
             [
              0.6666666666666666,
              "#ed7953"
             ],
             [
              0.7777777777777778,
              "#fb9f3a"
             ],
             [
              0.8888888888888888,
              "#fdca26"
             ],
             [
              1,
              "#f0f921"
             ]
            ],
            "type": "contour"
           }
          ],
          "contourcarpet": [
           {
            "colorbar": {
             "outlinewidth": 0,
             "ticks": ""
            },
            "type": "contourcarpet"
           }
          ],
          "heatmap": [
           {
            "colorbar": {
             "outlinewidth": 0,
             "ticks": ""
            },
            "colorscale": [
             [
              0,
              "#0d0887"
             ],
             [
              0.1111111111111111,
              "#46039f"
             ],
             [
              0.2222222222222222,
              "#7201a8"
             ],
             [
              0.3333333333333333,
              "#9c179e"
             ],
             [
              0.4444444444444444,
              "#bd3786"
             ],
             [
              0.5555555555555556,
              "#d8576b"
             ],
             [
              0.6666666666666666,
              "#ed7953"
             ],
             [
              0.7777777777777778,
              "#fb9f3a"
             ],
             [
              0.8888888888888888,
              "#fdca26"
             ],
             [
              1,
              "#f0f921"
             ]
            ],
            "type": "heatmap"
           }
          ],
          "heatmapgl": [
           {
            "colorbar": {
             "outlinewidth": 0,
             "ticks": ""
            },
            "colorscale": [
             [
              0,
              "#0d0887"
             ],
             [
              0.1111111111111111,
              "#46039f"
             ],
             [
              0.2222222222222222,
              "#7201a8"
             ],
             [
              0.3333333333333333,
              "#9c179e"
             ],
             [
              0.4444444444444444,
              "#bd3786"
             ],
             [
              0.5555555555555556,
              "#d8576b"
             ],
             [
              0.6666666666666666,
              "#ed7953"
             ],
             [
              0.7777777777777778,
              "#fb9f3a"
             ],
             [
              0.8888888888888888,
              "#fdca26"
             ],
             [
              1,
              "#f0f921"
             ]
            ],
            "type": "heatmapgl"
           }
          ],
          "histogram": [
           {
            "marker": {
             "pattern": {
              "fillmode": "overlay",
              "size": 10,
              "solidity": 0.2
             }
            },
            "type": "histogram"
           }
          ],
          "histogram2d": [
           {
            "colorbar": {
             "outlinewidth": 0,
             "ticks": ""
            },
            "colorscale": [
             [
              0,
              "#0d0887"
             ],
             [
              0.1111111111111111,
              "#46039f"
             ],
             [
              0.2222222222222222,
              "#7201a8"
             ],
             [
              0.3333333333333333,
              "#9c179e"
             ],
             [
              0.4444444444444444,
              "#bd3786"
             ],
             [
              0.5555555555555556,
              "#d8576b"
             ],
             [
              0.6666666666666666,
              "#ed7953"
             ],
             [
              0.7777777777777778,
              "#fb9f3a"
             ],
             [
              0.8888888888888888,
              "#fdca26"
             ],
             [
              1,
              "#f0f921"
             ]
            ],
            "type": "histogram2d"
           }
          ],
          "histogram2dcontour": [
           {
            "colorbar": {
             "outlinewidth": 0,
             "ticks": ""
            },
            "colorscale": [
             [
              0,
              "#0d0887"
             ],
             [
              0.1111111111111111,
              "#46039f"
             ],
             [
              0.2222222222222222,
              "#7201a8"
             ],
             [
              0.3333333333333333,
              "#9c179e"
             ],
             [
              0.4444444444444444,
              "#bd3786"
             ],
             [
              0.5555555555555556,
              "#d8576b"
             ],
             [
              0.6666666666666666,
              "#ed7953"
             ],
             [
              0.7777777777777778,
              "#fb9f3a"
             ],
             [
              0.8888888888888888,
              "#fdca26"
             ],
             [
              1,
              "#f0f921"
             ]
            ],
            "type": "histogram2dcontour"
           }
          ],
          "mesh3d": [
           {
            "colorbar": {
             "outlinewidth": 0,
             "ticks": ""
            },
            "type": "mesh3d"
           }
          ],
          "parcoords": [
           {
            "line": {
             "colorbar": {
              "outlinewidth": 0,
              "ticks": ""
             }
            },
            "type": "parcoords"
           }
          ],
          "pie": [
           {
            "automargin": true,
            "type": "pie"
           }
          ],
          "scatter": [
           {
            "fillpattern": {
             "fillmode": "overlay",
             "size": 10,
             "solidity": 0.2
            },
            "type": "scatter"
           }
          ],
          "scatter3d": [
           {
            "line": {
             "colorbar": {
              "outlinewidth": 0,
              "ticks": ""
             }
            },
            "marker": {
             "colorbar": {
              "outlinewidth": 0,
              "ticks": ""
             }
            },
            "type": "scatter3d"
           }
          ],
          "scattercarpet": [
           {
            "marker": {
             "colorbar": {
              "outlinewidth": 0,
              "ticks": ""
             }
            },
            "type": "scattercarpet"
           }
          ],
          "scattergeo": [
           {
            "marker": {
             "colorbar": {
              "outlinewidth": 0,
              "ticks": ""
             }
            },
            "type": "scattergeo"
           }
          ],
          "scattergl": [
           {
            "marker": {
             "colorbar": {
              "outlinewidth": 0,
              "ticks": ""
             }
            },
            "type": "scattergl"
           }
          ],
          "scattermapbox": [
           {
            "marker": {
             "colorbar": {
              "outlinewidth": 0,
              "ticks": ""
             }
            },
            "type": "scattermapbox"
           }
          ],
          "scatterpolar": [
           {
            "marker": {
             "colorbar": {
              "outlinewidth": 0,
              "ticks": ""
             }
            },
            "type": "scatterpolar"
           }
          ],
          "scatterpolargl": [
           {
            "marker": {
             "colorbar": {
              "outlinewidth": 0,
              "ticks": ""
             }
            },
            "type": "scatterpolargl"
           }
          ],
          "scatterternary": [
           {
            "marker": {
             "colorbar": {
              "outlinewidth": 0,
              "ticks": ""
             }
            },
            "type": "scatterternary"
           }
          ],
          "surface": [
           {
            "colorbar": {
             "outlinewidth": 0,
             "ticks": ""
            },
            "colorscale": [
             [
              0,
              "#0d0887"
             ],
             [
              0.1111111111111111,
              "#46039f"
             ],
             [
              0.2222222222222222,
              "#7201a8"
             ],
             [
              0.3333333333333333,
              "#9c179e"
             ],
             [
              0.4444444444444444,
              "#bd3786"
             ],
             [
              0.5555555555555556,
              "#d8576b"
             ],
             [
              0.6666666666666666,
              "#ed7953"
             ],
             [
              0.7777777777777778,
              "#fb9f3a"
             ],
             [
              0.8888888888888888,
              "#fdca26"
             ],
             [
              1,
              "#f0f921"
             ]
            ],
            "type": "surface"
           }
          ],
          "table": [
           {
            "cells": {
             "fill": {
              "color": "#EBF0F8"
             },
             "line": {
              "color": "white"
             }
            },
            "header": {
             "fill": {
              "color": "#C8D4E3"
             },
             "line": {
              "color": "white"
             }
            },
            "type": "table"
           }
          ]
         },
         "layout": {
          "annotationdefaults": {
           "arrowcolor": "#2a3f5f",
           "arrowhead": 0,
           "arrowwidth": 1
          },
          "autotypenumbers": "strict",
          "coloraxis": {
           "colorbar": {
            "outlinewidth": 0,
            "ticks": ""
           }
          },
          "colorscale": {
           "diverging": [
            [
             0,
             "#8e0152"
            ],
            [
             0.1,
             "#c51b7d"
            ],
            [
             0.2,
             "#de77ae"
            ],
            [
             0.3,
             "#f1b6da"
            ],
            [
             0.4,
             "#fde0ef"
            ],
            [
             0.5,
             "#f7f7f7"
            ],
            [
             0.6,
             "#e6f5d0"
            ],
            [
             0.7,
             "#b8e186"
            ],
            [
             0.8,
             "#7fbc41"
            ],
            [
             0.9,
             "#4d9221"
            ],
            [
             1,
             "#276419"
            ]
           ],
           "sequential": [
            [
             0,
             "#0d0887"
            ],
            [
             0.1111111111111111,
             "#46039f"
            ],
            [
             0.2222222222222222,
             "#7201a8"
            ],
            [
             0.3333333333333333,
             "#9c179e"
            ],
            [
             0.4444444444444444,
             "#bd3786"
            ],
            [
             0.5555555555555556,
             "#d8576b"
            ],
            [
             0.6666666666666666,
             "#ed7953"
            ],
            [
             0.7777777777777778,
             "#fb9f3a"
            ],
            [
             0.8888888888888888,
             "#fdca26"
            ],
            [
             1,
             "#f0f921"
            ]
           ],
           "sequentialminus": [
            [
             0,
             "#0d0887"
            ],
            [
             0.1111111111111111,
             "#46039f"
            ],
            [
             0.2222222222222222,
             "#7201a8"
            ],
            [
             0.3333333333333333,
             "#9c179e"
            ],
            [
             0.4444444444444444,
             "#bd3786"
            ],
            [
             0.5555555555555556,
             "#d8576b"
            ],
            [
             0.6666666666666666,
             "#ed7953"
            ],
            [
             0.7777777777777778,
             "#fb9f3a"
            ],
            [
             0.8888888888888888,
             "#fdca26"
            ],
            [
             1,
             "#f0f921"
            ]
           ]
          },
          "colorway": [
           "#636efa",
           "#EF553B",
           "#00cc96",
           "#ab63fa",
           "#FFA15A",
           "#19d3f3",
           "#FF6692",
           "#B6E880",
           "#FF97FF",
           "#FECB52"
          ],
          "font": {
           "color": "#2a3f5f"
          },
          "geo": {
           "bgcolor": "white",
           "lakecolor": "white",
           "landcolor": "#E5ECF6",
           "showlakes": true,
           "showland": true,
           "subunitcolor": "white"
          },
          "hoverlabel": {
           "align": "left"
          },
          "hovermode": "closest",
          "mapbox": {
           "style": "light"
          },
          "paper_bgcolor": "white",
          "plot_bgcolor": "#E5ECF6",
          "polar": {
           "angularaxis": {
            "gridcolor": "white",
            "linecolor": "white",
            "ticks": ""
           },
           "bgcolor": "#E5ECF6",
           "radialaxis": {
            "gridcolor": "white",
            "linecolor": "white",
            "ticks": ""
           }
          },
          "scene": {
           "xaxis": {
            "backgroundcolor": "#E5ECF6",
            "gridcolor": "white",
            "gridwidth": 2,
            "linecolor": "white",
            "showbackground": true,
            "ticks": "",
            "zerolinecolor": "white"
           },
           "yaxis": {
            "backgroundcolor": "#E5ECF6",
            "gridcolor": "white",
            "gridwidth": 2,
            "linecolor": "white",
            "showbackground": true,
            "ticks": "",
            "zerolinecolor": "white"
           },
           "zaxis": {
            "backgroundcolor": "#E5ECF6",
            "gridcolor": "white",
            "gridwidth": 2,
            "linecolor": "white",
            "showbackground": true,
            "ticks": "",
            "zerolinecolor": "white"
           }
          },
          "shapedefaults": {
           "line": {
            "color": "#2a3f5f"
           }
          },
          "ternary": {
           "aaxis": {
            "gridcolor": "white",
            "linecolor": "white",
            "ticks": ""
           },
           "baxis": {
            "gridcolor": "white",
            "linecolor": "white",
            "ticks": ""
           },
           "bgcolor": "#E5ECF6",
           "caxis": {
            "gridcolor": "white",
            "linecolor": "white",
            "ticks": ""
           }
          },
          "title": {
           "x": 0.05
          },
          "xaxis": {
           "automargin": true,
           "gridcolor": "white",
           "linecolor": "white",
           "ticks": "",
           "title": {
            "standoff": 15
           },
           "zerolinecolor": "white",
           "zerolinewidth": 2
          },
          "yaxis": {
           "automargin": true,
           "gridcolor": "white",
           "linecolor": "white",
           "ticks": "",
           "title": {
            "standoff": 15
           },
           "zerolinecolor": "white",
           "zerolinewidth": 2
          }
         }
        },
        "title": {
         "text": "eye = (x:0., y:0, z:2)"
        }
       }
      },
      "text/html": [
       "<div>                            <div id=\"1ff90bfc-0b63-4466-9335-3243bc18cc55\" class=\"plotly-graph-div\" style=\"height:525px; width:100%;\"></div>            <script type=\"text/javascript\">                require([\"plotly\"], function(Plotly) {                    window.PLOTLYENV=window.PLOTLYENV || {};                                    if (document.getElementById(\"1ff90bfc-0b63-4466-9335-3243bc18cc55\")) {                    Plotly.newPlot(                        \"1ff90bfc-0b63-4466-9335-3243bc18cc55\",                        [{\"marker\":{\"color\":[6,10,8,7,4,14,1,2,2,14,10,3,11,14,13,14,4,2,11,0,13,5,14,11,10,1,5,3,8,14,6,3,1,4,11,13,5,7,12,4,9,12,11,5,2,14,12,11,0,6,11,9,3,11,1,0,4,1,7,2,6,3,2,13,11,11,5,9,13,2,3,0,9,0,3,10,4,1,7,11,1,0,14,2,1,10,4,0,14,13,5,2,13,0,6,14,1,0,12,4,5,8],\"colorscale\":[[0.0,\"#440154\"],[0.1111111111111111,\"#482878\"],[0.2222222222222222,\"#3e4989\"],[0.3333333333333333,\"#31688e\"],[0.4444444444444444,\"#26828e\"],[0.5555555555555556,\"#1f9e89\"],[0.6666666666666666,\"#35b779\"],[0.7777777777777778,\"#6ece58\"],[0.8888888888888888,\"#b5de2b\"],[1.0,\"#fde725\"]],\"opacity\":0.8,\"size\":5},\"mode\":\"markers\",\"x\":[6,10,8,7,4,14,1,2,2,14,10,3,11,14,13,14,4,2,11,0,13,5,14,11,10,1,5,3,8,14,6,3,1,4,11,13,5,7,12,4,9,12,11,5,2,14,12,11,0,6,11,9,3,11,1,0,4,1,7,2,6,3,2,13,11,11,5,9,13,2,3,0,9,0,3,10,4,1,7,11,1,0,14,2,1,10,4,0,14,13,5,2,13,0,6,14,1,0,12,4,5,8],\"y\":[11,11,8,4,3,12,14,2,5,6,8,9,0,14,0,1,1,2,12,7,9,10,13,12,11,12,3,4,7,8,11,3,8,10,5,4,4,13,10,4,9,7,9,13,7,10,14,14,4,4,14,11,2,6,7,12,11,10,5,7,1,10,8,3,1,12,8,11,9,7,8,10,7,13,10,8,13,1,7,9,7,14,0,8,0,8,2,10,5,4,4,8,10,10,7,0,12,14,5,11,5,6],\"z\":[7.1,11.1,8.8,7.4,4.3,15.2,2.4,2.2,2.5,14.6,10.8,3.9,11.0,15.4,13.0,14.1,4.1,2.2,12.2,0.7,13.9,6.0,15.3,12.2,11.1,2.2,5.3,3.4,8.7,14.8,7.1,3.3,1.8,5.0,11.5,13.4,5.4,8.3,13.0,4.4,9.9,12.7,11.9,6.3,2.7,15.0,13.4,12.4,0.4,6.4,12.4,10.1,3.2,11.6,1.7,1.2,5.1,2.0,7.5,2.7,6.1,4.0,2.8,13.3,11.1,12.2,5.8,10.1,13.9,2.7,3.8,1.0,9.7,1.3,4.0,10.8,5.3,1.1,7.7,11.9,1.7,1.4,14.0,2.8,1.0,10.8,4.2,1.0,14.5,13.4,5.4,2.8,14.0,1.0,6.7,14.0,2.2,1.4,12.5,5.1,5.5,8.6],\"type\":\"scatter3d\"}],                        {\"template\":{\"data\":{\"histogram2dcontour\":[{\"type\":\"histogram2dcontour\",\"colorbar\":{\"outlinewidth\":0,\"ticks\":\"\"},\"colorscale\":[[0.0,\"#0d0887\"],[0.1111111111111111,\"#46039f\"],[0.2222222222222222,\"#7201a8\"],[0.3333333333333333,\"#9c179e\"],[0.4444444444444444,\"#bd3786\"],[0.5555555555555556,\"#d8576b\"],[0.6666666666666666,\"#ed7953\"],[0.7777777777777778,\"#fb9f3a\"],[0.8888888888888888,\"#fdca26\"],[1.0,\"#f0f921\"]]}],\"choropleth\":[{\"type\":\"choropleth\",\"colorbar\":{\"outlinewidth\":0,\"ticks\":\"\"}}],\"histogram2d\":[{\"type\":\"histogram2d\",\"colorbar\":{\"outlinewidth\":0,\"ticks\":\"\"},\"colorscale\":[[0.0,\"#0d0887\"],[0.1111111111111111,\"#46039f\"],[0.2222222222222222,\"#7201a8\"],[0.3333333333333333,\"#9c179e\"],[0.4444444444444444,\"#bd3786\"],[0.5555555555555556,\"#d8576b\"],[0.6666666666666666,\"#ed7953\"],[0.7777777777777778,\"#fb9f3a\"],[0.8888888888888888,\"#fdca26\"],[1.0,\"#f0f921\"]]}],\"heatmap\":[{\"type\":\"heatmap\",\"colorbar\":{\"outlinewidth\":0,\"ticks\":\"\"},\"colorscale\":[[0.0,\"#0d0887\"],[0.1111111111111111,\"#46039f\"],[0.2222222222222222,\"#7201a8\"],[0.3333333333333333,\"#9c179e\"],[0.4444444444444444,\"#bd3786\"],[0.5555555555555556,\"#d8576b\"],[0.6666666666666666,\"#ed7953\"],[0.7777777777777778,\"#fb9f3a\"],[0.8888888888888888,\"#fdca26\"],[1.0,\"#f0f921\"]]}],\"heatmapgl\":[{\"type\":\"heatmapgl\",\"colorbar\":{\"outlinewidth\":0,\"ticks\":\"\"},\"colorscale\":[[0.0,\"#0d0887\"],[0.1111111111111111,\"#46039f\"],[0.2222222222222222,\"#7201a8\"],[0.3333333333333333,\"#9c179e\"],[0.4444444444444444,\"#bd3786\"],[0.5555555555555556,\"#d8576b\"],[0.6666666666666666,\"#ed7953\"],[0.7777777777777778,\"#fb9f3a\"],[0.8888888888888888,\"#fdca26\"],[1.0,\"#f0f921\"]]}],\"contourcarpet\":[{\"type\":\"contourcarpet\",\"colorbar\":{\"outlinewidth\":0,\"ticks\":\"\"}}],\"contour\":[{\"type\":\"contour\",\"colorbar\":{\"outlinewidth\":0,\"ticks\":\"\"},\"colorscale\":[[0.0,\"#0d0887\"],[0.1111111111111111,\"#46039f\"],[0.2222222222222222,\"#7201a8\"],[0.3333333333333333,\"#9c179e\"],[0.4444444444444444,\"#bd3786\"],[0.5555555555555556,\"#d8576b\"],[0.6666666666666666,\"#ed7953\"],[0.7777777777777778,\"#fb9f3a\"],[0.8888888888888888,\"#fdca26\"],[1.0,\"#f0f921\"]]}],\"surface\":[{\"type\":\"surface\",\"colorbar\":{\"outlinewidth\":0,\"ticks\":\"\"},\"colorscale\":[[0.0,\"#0d0887\"],[0.1111111111111111,\"#46039f\"],[0.2222222222222222,\"#7201a8\"],[0.3333333333333333,\"#9c179e\"],[0.4444444444444444,\"#bd3786\"],[0.5555555555555556,\"#d8576b\"],[0.6666666666666666,\"#ed7953\"],[0.7777777777777778,\"#fb9f3a\"],[0.8888888888888888,\"#fdca26\"],[1.0,\"#f0f921\"]]}],\"mesh3d\":[{\"type\":\"mesh3d\",\"colorbar\":{\"outlinewidth\":0,\"ticks\":\"\"}}],\"scatter\":[{\"fillpattern\":{\"fillmode\":\"overlay\",\"size\":10,\"solidity\":0.2},\"type\":\"scatter\"}],\"parcoords\":[{\"type\":\"parcoords\",\"line\":{\"colorbar\":{\"outlinewidth\":0,\"ticks\":\"\"}}}],\"scatterpolargl\":[{\"type\":\"scatterpolargl\",\"marker\":{\"colorbar\":{\"outlinewidth\":0,\"ticks\":\"\"}}}],\"bar\":[{\"error_x\":{\"color\":\"#2a3f5f\"},\"error_y\":{\"color\":\"#2a3f5f\"},\"marker\":{\"line\":{\"color\":\"#E5ECF6\",\"width\":0.5},\"pattern\":{\"fillmode\":\"overlay\",\"size\":10,\"solidity\":0.2}},\"type\":\"bar\"}],\"scattergeo\":[{\"type\":\"scattergeo\",\"marker\":{\"colorbar\":{\"outlinewidth\":0,\"ticks\":\"\"}}}],\"scatterpolar\":[{\"type\":\"scatterpolar\",\"marker\":{\"colorbar\":{\"outlinewidth\":0,\"ticks\":\"\"}}}],\"histogram\":[{\"marker\":{\"pattern\":{\"fillmode\":\"overlay\",\"size\":10,\"solidity\":0.2}},\"type\":\"histogram\"}],\"scattergl\":[{\"type\":\"scattergl\",\"marker\":{\"colorbar\":{\"outlinewidth\":0,\"ticks\":\"\"}}}],\"scatter3d\":[{\"type\":\"scatter3d\",\"line\":{\"colorbar\":{\"outlinewidth\":0,\"ticks\":\"\"}},\"marker\":{\"colorbar\":{\"outlinewidth\":0,\"ticks\":\"\"}}}],\"scattermapbox\":[{\"type\":\"scattermapbox\",\"marker\":{\"colorbar\":{\"outlinewidth\":0,\"ticks\":\"\"}}}],\"scatterternary\":[{\"type\":\"scatterternary\",\"marker\":{\"colorbar\":{\"outlinewidth\":0,\"ticks\":\"\"}}}],\"scattercarpet\":[{\"type\":\"scattercarpet\",\"marker\":{\"colorbar\":{\"outlinewidth\":0,\"ticks\":\"\"}}}],\"carpet\":[{\"aaxis\":{\"endlinecolor\":\"#2a3f5f\",\"gridcolor\":\"white\",\"linecolor\":\"white\",\"minorgridcolor\":\"white\",\"startlinecolor\":\"#2a3f5f\"},\"baxis\":{\"endlinecolor\":\"#2a3f5f\",\"gridcolor\":\"white\",\"linecolor\":\"white\",\"minorgridcolor\":\"white\",\"startlinecolor\":\"#2a3f5f\"},\"type\":\"carpet\"}],\"table\":[{\"cells\":{\"fill\":{\"color\":\"#EBF0F8\"},\"line\":{\"color\":\"white\"}},\"header\":{\"fill\":{\"color\":\"#C8D4E3\"},\"line\":{\"color\":\"white\"}},\"type\":\"table\"}],\"barpolar\":[{\"marker\":{\"line\":{\"color\":\"#E5ECF6\",\"width\":0.5},\"pattern\":{\"fillmode\":\"overlay\",\"size\":10,\"solidity\":0.2}},\"type\":\"barpolar\"}],\"pie\":[{\"automargin\":true,\"type\":\"pie\"}]},\"layout\":{\"autotypenumbers\":\"strict\",\"colorway\":[\"#636efa\",\"#EF553B\",\"#00cc96\",\"#ab63fa\",\"#FFA15A\",\"#19d3f3\",\"#FF6692\",\"#B6E880\",\"#FF97FF\",\"#FECB52\"],\"font\":{\"color\":\"#2a3f5f\"},\"hovermode\":\"closest\",\"hoverlabel\":{\"align\":\"left\"},\"paper_bgcolor\":\"white\",\"plot_bgcolor\":\"#E5ECF6\",\"polar\":{\"bgcolor\":\"#E5ECF6\",\"angularaxis\":{\"gridcolor\":\"white\",\"linecolor\":\"white\",\"ticks\":\"\"},\"radialaxis\":{\"gridcolor\":\"white\",\"linecolor\":\"white\",\"ticks\":\"\"}},\"ternary\":{\"bgcolor\":\"#E5ECF6\",\"aaxis\":{\"gridcolor\":\"white\",\"linecolor\":\"white\",\"ticks\":\"\"},\"baxis\":{\"gridcolor\":\"white\",\"linecolor\":\"white\",\"ticks\":\"\"},\"caxis\":{\"gridcolor\":\"white\",\"linecolor\":\"white\",\"ticks\":\"\"}},\"coloraxis\":{\"colorbar\":{\"outlinewidth\":0,\"ticks\":\"\"}},\"colorscale\":{\"sequential\":[[0.0,\"#0d0887\"],[0.1111111111111111,\"#46039f\"],[0.2222222222222222,\"#7201a8\"],[0.3333333333333333,\"#9c179e\"],[0.4444444444444444,\"#bd3786\"],[0.5555555555555556,\"#d8576b\"],[0.6666666666666666,\"#ed7953\"],[0.7777777777777778,\"#fb9f3a\"],[0.8888888888888888,\"#fdca26\"],[1.0,\"#f0f921\"]],\"sequentialminus\":[[0.0,\"#0d0887\"],[0.1111111111111111,\"#46039f\"],[0.2222222222222222,\"#7201a8\"],[0.3333333333333333,\"#9c179e\"],[0.4444444444444444,\"#bd3786\"],[0.5555555555555556,\"#d8576b\"],[0.6666666666666666,\"#ed7953\"],[0.7777777777777778,\"#fb9f3a\"],[0.8888888888888888,\"#fdca26\"],[1.0,\"#f0f921\"]],\"diverging\":[[0,\"#8e0152\"],[0.1,\"#c51b7d\"],[0.2,\"#de77ae\"],[0.3,\"#f1b6da\"],[0.4,\"#fde0ef\"],[0.5,\"#f7f7f7\"],[0.6,\"#e6f5d0\"],[0.7,\"#b8e186\"],[0.8,\"#7fbc41\"],[0.9,\"#4d9221\"],[1,\"#276419\"]]},\"xaxis\":{\"gridcolor\":\"white\",\"linecolor\":\"white\",\"ticks\":\"\",\"title\":{\"standoff\":15},\"zerolinecolor\":\"white\",\"automargin\":true,\"zerolinewidth\":2},\"yaxis\":{\"gridcolor\":\"white\",\"linecolor\":\"white\",\"ticks\":\"\",\"title\":{\"standoff\":15},\"zerolinecolor\":\"white\",\"automargin\":true,\"zerolinewidth\":2},\"scene\":{\"xaxis\":{\"backgroundcolor\":\"#E5ECF6\",\"gridcolor\":\"white\",\"linecolor\":\"white\",\"showbackground\":true,\"ticks\":\"\",\"zerolinecolor\":\"white\",\"gridwidth\":2},\"yaxis\":{\"backgroundcolor\":\"#E5ECF6\",\"gridcolor\":\"white\",\"linecolor\":\"white\",\"showbackground\":true,\"ticks\":\"\",\"zerolinecolor\":\"white\",\"gridwidth\":2},\"zaxis\":{\"backgroundcolor\":\"#E5ECF6\",\"gridcolor\":\"white\",\"linecolor\":\"white\",\"showbackground\":true,\"ticks\":\"\",\"zerolinecolor\":\"white\",\"gridwidth\":2}},\"shapedefaults\":{\"line\":{\"color\":\"#2a3f5f\"}},\"annotationdefaults\":{\"arrowcolor\":\"#2a3f5f\",\"arrowhead\":0,\"arrowwidth\":1},\"geo\":{\"bgcolor\":\"white\",\"landcolor\":\"#E5ECF6\",\"subunitcolor\":\"white\",\"showland\":true,\"showlakes\":true,\"lakecolor\":\"white\"},\"title\":{\"x\":0.05},\"mapbox\":{\"style\":\"light\"}}},\"margin\":{\"l\":0,\"r\":0,\"b\":0,\"t\":0},\"scene\":{\"camera\":{\"eye\":{\"x\":0.0,\"y\":0,\"z\":2}}},\"title\":{\"text\":\"eye = (x:0., y:0, z:2)\"}},                        {\"responsive\": true}                    ).then(function(){\n",
       "                            \n",
       "var gd = document.getElementById('1ff90bfc-0b63-4466-9335-3243bc18cc55');\n",
       "var x = new MutationObserver(function (mutations, observer) {{\n",
       "        var display = window.getComputedStyle(gd).display;\n",
       "        if (!display || display === 'none') {{\n",
       "            console.log([gd, 'removed!']);\n",
       "            Plotly.purge(gd);\n",
       "            observer.disconnect();\n",
       "        }}\n",
       "}});\n",
       "\n",
       "// Listen for the removal of the full notebook cells\n",
       "var notebookContainer = gd.closest('#notebook-container');\n",
       "if (notebookContainer) {{\n",
       "    x.observe(notebookContainer, {childList: true});\n",
       "}}\n",
       "\n",
       "// Listen for the clearing of the current output cell\n",
       "var outputEl = gd.closest('.output');\n",
       "if (outputEl) {{\n",
       "    x.observe(outputEl, {childList: true});\n",
       "}}\n",
       "\n",
       "                        })                };                });            </script>        </div>"
      ]
     },
     "metadata": {},
     "output_type": "display_data"
    }
   ],
   "source": [
    "name = 'eye = (x:0., y:0, z:2)'\n",
    "camera = dict(\n",
    "    eye=dict(x=0., y=0, z=2)\n",
    ")\n",
    "\n",
    "\n",
    "fig.update_layout(scene_camera=camera, title=name)\n",
    "fig.show()\n"
   ]
  },
  {
   "cell_type": "code",
   "execution_count": 66,
   "id": "5639fc06",
   "metadata": {},
   "outputs": [
    {
     "data": {
      "application/vnd.plotly.v1+json": {
       "config": {
        "plotlyServerURL": "https://plot.ly"
       },
       "data": [
        {
         "marker": {
          "color": [
           6,
           10,
           8,
           7,
           4,
           14,
           1,
           2,
           2,
           14,
           10,
           3,
           11,
           14,
           13,
           14,
           4,
           2,
           11,
           0,
           13,
           5,
           14,
           11,
           10,
           1,
           5,
           3,
           8,
           14,
           6,
           3,
           1,
           4,
           11,
           13,
           5,
           7,
           12,
           4,
           9,
           12,
           11,
           5,
           2,
           14,
           12,
           11,
           0,
           6,
           11,
           9,
           3,
           11,
           1,
           0,
           4,
           1,
           7,
           2,
           6,
           3,
           2,
           13,
           11,
           11,
           5,
           9,
           13,
           2,
           3,
           0,
           9,
           0,
           3,
           10,
           4,
           1,
           7,
           11,
           1,
           0,
           14,
           2,
           1,
           10,
           4,
           0,
           14,
           13,
           5,
           2,
           13,
           0,
           6,
           14,
           1,
           0,
           12,
           4,
           5,
           8
          ],
          "colorscale": [
           [
            0,
            "#440154"
           ],
           [
            0.1111111111111111,
            "#482878"
           ],
           [
            0.2222222222222222,
            "#3e4989"
           ],
           [
            0.3333333333333333,
            "#31688e"
           ],
           [
            0.4444444444444444,
            "#26828e"
           ],
           [
            0.5555555555555556,
            "#1f9e89"
           ],
           [
            0.6666666666666666,
            "#35b779"
           ],
           [
            0.7777777777777778,
            "#6ece58"
           ],
           [
            0.8888888888888888,
            "#b5de2b"
           ],
           [
            1,
            "#fde725"
           ]
          ],
          "opacity": 0.8,
          "size": 5
         },
         "mode": "markers",
         "type": "scatter3d",
         "x": [
          6,
          10,
          8,
          7,
          4,
          14,
          1,
          2,
          2,
          14,
          10,
          3,
          11,
          14,
          13,
          14,
          4,
          2,
          11,
          0,
          13,
          5,
          14,
          11,
          10,
          1,
          5,
          3,
          8,
          14,
          6,
          3,
          1,
          4,
          11,
          13,
          5,
          7,
          12,
          4,
          9,
          12,
          11,
          5,
          2,
          14,
          12,
          11,
          0,
          6,
          11,
          9,
          3,
          11,
          1,
          0,
          4,
          1,
          7,
          2,
          6,
          3,
          2,
          13,
          11,
          11,
          5,
          9,
          13,
          2,
          3,
          0,
          9,
          0,
          3,
          10,
          4,
          1,
          7,
          11,
          1,
          0,
          14,
          2,
          1,
          10,
          4,
          0,
          14,
          13,
          5,
          2,
          13,
          0,
          6,
          14,
          1,
          0,
          12,
          4,
          5,
          8
         ],
         "y": [
          11,
          11,
          8,
          4,
          3,
          12,
          14,
          2,
          5,
          6,
          8,
          9,
          0,
          14,
          0,
          1,
          1,
          2,
          12,
          7,
          9,
          10,
          13,
          12,
          11,
          12,
          3,
          4,
          7,
          8,
          11,
          3,
          8,
          10,
          5,
          4,
          4,
          13,
          10,
          4,
          9,
          7,
          9,
          13,
          7,
          10,
          14,
          14,
          4,
          4,
          14,
          11,
          2,
          6,
          7,
          12,
          11,
          10,
          5,
          7,
          1,
          10,
          8,
          3,
          1,
          12,
          8,
          11,
          9,
          7,
          8,
          10,
          7,
          13,
          10,
          8,
          13,
          1,
          7,
          9,
          7,
          14,
          0,
          8,
          0,
          8,
          2,
          10,
          5,
          4,
          4,
          8,
          10,
          10,
          7,
          0,
          12,
          14,
          5,
          11,
          5,
          6
         ],
         "z": [
          7.1,
          11.1,
          8.8,
          7.4,
          4.3,
          15.2,
          2.4,
          2.2,
          2.5,
          14.6,
          10.8,
          3.9,
          11,
          15.4,
          13,
          14.1,
          4.1,
          2.2,
          12.2,
          0.7,
          13.9,
          6,
          15.3,
          12.2,
          11.1,
          2.2,
          5.3,
          3.4,
          8.7,
          14.8,
          7.1,
          3.3,
          1.8,
          5,
          11.5,
          13.4,
          5.4,
          8.3,
          13,
          4.4,
          9.9,
          12.7,
          11.9,
          6.3,
          2.7,
          15,
          13.4,
          12.4,
          0.4,
          6.4,
          12.4,
          10.1,
          3.2,
          11.6,
          1.7,
          1.2,
          5.1,
          2,
          7.5,
          2.7,
          6.1,
          4,
          2.8,
          13.3,
          11.1,
          12.2,
          5.8,
          10.1,
          13.9,
          2.7,
          3.8,
          1,
          9.7,
          1.3,
          4,
          10.8,
          5.3,
          1.1,
          7.7,
          11.9,
          1.7,
          1.4,
          14,
          2.8,
          1,
          10.8,
          4.2,
          1,
          14.5,
          13.4,
          5.4,
          2.8,
          14,
          1,
          6.7,
          14,
          2.2,
          1.4,
          12.5,
          5.1,
          5.5,
          8.6
         ]
        }
       ],
       "layout": {
        "margin": {
         "b": 0,
         "l": 0,
         "r": 0,
         "t": 0
        },
        "scene": {
         "camera": {
          "eye": {
           "x": 3,
           "y": 0,
           "z": 0
          }
         }
        },
        "template": {
         "data": {
          "bar": [
           {
            "error_x": {
             "color": "#2a3f5f"
            },
            "error_y": {
             "color": "#2a3f5f"
            },
            "marker": {
             "line": {
              "color": "#E5ECF6",
              "width": 0.5
             },
             "pattern": {
              "fillmode": "overlay",
              "size": 10,
              "solidity": 0.2
             }
            },
            "type": "bar"
           }
          ],
          "barpolar": [
           {
            "marker": {
             "line": {
              "color": "#E5ECF6",
              "width": 0.5
             },
             "pattern": {
              "fillmode": "overlay",
              "size": 10,
              "solidity": 0.2
             }
            },
            "type": "barpolar"
           }
          ],
          "carpet": [
           {
            "aaxis": {
             "endlinecolor": "#2a3f5f",
             "gridcolor": "white",
             "linecolor": "white",
             "minorgridcolor": "white",
             "startlinecolor": "#2a3f5f"
            },
            "baxis": {
             "endlinecolor": "#2a3f5f",
             "gridcolor": "white",
             "linecolor": "white",
             "minorgridcolor": "white",
             "startlinecolor": "#2a3f5f"
            },
            "type": "carpet"
           }
          ],
          "choropleth": [
           {
            "colorbar": {
             "outlinewidth": 0,
             "ticks": ""
            },
            "type": "choropleth"
           }
          ],
          "contour": [
           {
            "colorbar": {
             "outlinewidth": 0,
             "ticks": ""
            },
            "colorscale": [
             [
              0,
              "#0d0887"
             ],
             [
              0.1111111111111111,
              "#46039f"
             ],
             [
              0.2222222222222222,
              "#7201a8"
             ],
             [
              0.3333333333333333,
              "#9c179e"
             ],
             [
              0.4444444444444444,
              "#bd3786"
             ],
             [
              0.5555555555555556,
              "#d8576b"
             ],
             [
              0.6666666666666666,
              "#ed7953"
             ],
             [
              0.7777777777777778,
              "#fb9f3a"
             ],
             [
              0.8888888888888888,
              "#fdca26"
             ],
             [
              1,
              "#f0f921"
             ]
            ],
            "type": "contour"
           }
          ],
          "contourcarpet": [
           {
            "colorbar": {
             "outlinewidth": 0,
             "ticks": ""
            },
            "type": "contourcarpet"
           }
          ],
          "heatmap": [
           {
            "colorbar": {
             "outlinewidth": 0,
             "ticks": ""
            },
            "colorscale": [
             [
              0,
              "#0d0887"
             ],
             [
              0.1111111111111111,
              "#46039f"
             ],
             [
              0.2222222222222222,
              "#7201a8"
             ],
             [
              0.3333333333333333,
              "#9c179e"
             ],
             [
              0.4444444444444444,
              "#bd3786"
             ],
             [
              0.5555555555555556,
              "#d8576b"
             ],
             [
              0.6666666666666666,
              "#ed7953"
             ],
             [
              0.7777777777777778,
              "#fb9f3a"
             ],
             [
              0.8888888888888888,
              "#fdca26"
             ],
             [
              1,
              "#f0f921"
             ]
            ],
            "type": "heatmap"
           }
          ],
          "heatmapgl": [
           {
            "colorbar": {
             "outlinewidth": 0,
             "ticks": ""
            },
            "colorscale": [
             [
              0,
              "#0d0887"
             ],
             [
              0.1111111111111111,
              "#46039f"
             ],
             [
              0.2222222222222222,
              "#7201a8"
             ],
             [
              0.3333333333333333,
              "#9c179e"
             ],
             [
              0.4444444444444444,
              "#bd3786"
             ],
             [
              0.5555555555555556,
              "#d8576b"
             ],
             [
              0.6666666666666666,
              "#ed7953"
             ],
             [
              0.7777777777777778,
              "#fb9f3a"
             ],
             [
              0.8888888888888888,
              "#fdca26"
             ],
             [
              1,
              "#f0f921"
             ]
            ],
            "type": "heatmapgl"
           }
          ],
          "histogram": [
           {
            "marker": {
             "pattern": {
              "fillmode": "overlay",
              "size": 10,
              "solidity": 0.2
             }
            },
            "type": "histogram"
           }
          ],
          "histogram2d": [
           {
            "colorbar": {
             "outlinewidth": 0,
             "ticks": ""
            },
            "colorscale": [
             [
              0,
              "#0d0887"
             ],
             [
              0.1111111111111111,
              "#46039f"
             ],
             [
              0.2222222222222222,
              "#7201a8"
             ],
             [
              0.3333333333333333,
              "#9c179e"
             ],
             [
              0.4444444444444444,
              "#bd3786"
             ],
             [
              0.5555555555555556,
              "#d8576b"
             ],
             [
              0.6666666666666666,
              "#ed7953"
             ],
             [
              0.7777777777777778,
              "#fb9f3a"
             ],
             [
              0.8888888888888888,
              "#fdca26"
             ],
             [
              1,
              "#f0f921"
             ]
            ],
            "type": "histogram2d"
           }
          ],
          "histogram2dcontour": [
           {
            "colorbar": {
             "outlinewidth": 0,
             "ticks": ""
            },
            "colorscale": [
             [
              0,
              "#0d0887"
             ],
             [
              0.1111111111111111,
              "#46039f"
             ],
             [
              0.2222222222222222,
              "#7201a8"
             ],
             [
              0.3333333333333333,
              "#9c179e"
             ],
             [
              0.4444444444444444,
              "#bd3786"
             ],
             [
              0.5555555555555556,
              "#d8576b"
             ],
             [
              0.6666666666666666,
              "#ed7953"
             ],
             [
              0.7777777777777778,
              "#fb9f3a"
             ],
             [
              0.8888888888888888,
              "#fdca26"
             ],
             [
              1,
              "#f0f921"
             ]
            ],
            "type": "histogram2dcontour"
           }
          ],
          "mesh3d": [
           {
            "colorbar": {
             "outlinewidth": 0,
             "ticks": ""
            },
            "type": "mesh3d"
           }
          ],
          "parcoords": [
           {
            "line": {
             "colorbar": {
              "outlinewidth": 0,
              "ticks": ""
             }
            },
            "type": "parcoords"
           }
          ],
          "pie": [
           {
            "automargin": true,
            "type": "pie"
           }
          ],
          "scatter": [
           {
            "fillpattern": {
             "fillmode": "overlay",
             "size": 10,
             "solidity": 0.2
            },
            "type": "scatter"
           }
          ],
          "scatter3d": [
           {
            "line": {
             "colorbar": {
              "outlinewidth": 0,
              "ticks": ""
             }
            },
            "marker": {
             "colorbar": {
              "outlinewidth": 0,
              "ticks": ""
             }
            },
            "type": "scatter3d"
           }
          ],
          "scattercarpet": [
           {
            "marker": {
             "colorbar": {
              "outlinewidth": 0,
              "ticks": ""
             }
            },
            "type": "scattercarpet"
           }
          ],
          "scattergeo": [
           {
            "marker": {
             "colorbar": {
              "outlinewidth": 0,
              "ticks": ""
             }
            },
            "type": "scattergeo"
           }
          ],
          "scattergl": [
           {
            "marker": {
             "colorbar": {
              "outlinewidth": 0,
              "ticks": ""
             }
            },
            "type": "scattergl"
           }
          ],
          "scattermapbox": [
           {
            "marker": {
             "colorbar": {
              "outlinewidth": 0,
              "ticks": ""
             }
            },
            "type": "scattermapbox"
           }
          ],
          "scatterpolar": [
           {
            "marker": {
             "colorbar": {
              "outlinewidth": 0,
              "ticks": ""
             }
            },
            "type": "scatterpolar"
           }
          ],
          "scatterpolargl": [
           {
            "marker": {
             "colorbar": {
              "outlinewidth": 0,
              "ticks": ""
             }
            },
            "type": "scatterpolargl"
           }
          ],
          "scatterternary": [
           {
            "marker": {
             "colorbar": {
              "outlinewidth": 0,
              "ticks": ""
             }
            },
            "type": "scatterternary"
           }
          ],
          "surface": [
           {
            "colorbar": {
             "outlinewidth": 0,
             "ticks": ""
            },
            "colorscale": [
             [
              0,
              "#0d0887"
             ],
             [
              0.1111111111111111,
              "#46039f"
             ],
             [
              0.2222222222222222,
              "#7201a8"
             ],
             [
              0.3333333333333333,
              "#9c179e"
             ],
             [
              0.4444444444444444,
              "#bd3786"
             ],
             [
              0.5555555555555556,
              "#d8576b"
             ],
             [
              0.6666666666666666,
              "#ed7953"
             ],
             [
              0.7777777777777778,
              "#fb9f3a"
             ],
             [
              0.8888888888888888,
              "#fdca26"
             ],
             [
              1,
              "#f0f921"
             ]
            ],
            "type": "surface"
           }
          ],
          "table": [
           {
            "cells": {
             "fill": {
              "color": "#EBF0F8"
             },
             "line": {
              "color": "white"
             }
            },
            "header": {
             "fill": {
              "color": "#C8D4E3"
             },
             "line": {
              "color": "white"
             }
            },
            "type": "table"
           }
          ]
         },
         "layout": {
          "annotationdefaults": {
           "arrowcolor": "#2a3f5f",
           "arrowhead": 0,
           "arrowwidth": 1
          },
          "autotypenumbers": "strict",
          "coloraxis": {
           "colorbar": {
            "outlinewidth": 0,
            "ticks": ""
           }
          },
          "colorscale": {
           "diverging": [
            [
             0,
             "#8e0152"
            ],
            [
             0.1,
             "#c51b7d"
            ],
            [
             0.2,
             "#de77ae"
            ],
            [
             0.3,
             "#f1b6da"
            ],
            [
             0.4,
             "#fde0ef"
            ],
            [
             0.5,
             "#f7f7f7"
            ],
            [
             0.6,
             "#e6f5d0"
            ],
            [
             0.7,
             "#b8e186"
            ],
            [
             0.8,
             "#7fbc41"
            ],
            [
             0.9,
             "#4d9221"
            ],
            [
             1,
             "#276419"
            ]
           ],
           "sequential": [
            [
             0,
             "#0d0887"
            ],
            [
             0.1111111111111111,
             "#46039f"
            ],
            [
             0.2222222222222222,
             "#7201a8"
            ],
            [
             0.3333333333333333,
             "#9c179e"
            ],
            [
             0.4444444444444444,
             "#bd3786"
            ],
            [
             0.5555555555555556,
             "#d8576b"
            ],
            [
             0.6666666666666666,
             "#ed7953"
            ],
            [
             0.7777777777777778,
             "#fb9f3a"
            ],
            [
             0.8888888888888888,
             "#fdca26"
            ],
            [
             1,
             "#f0f921"
            ]
           ],
           "sequentialminus": [
            [
             0,
             "#0d0887"
            ],
            [
             0.1111111111111111,
             "#46039f"
            ],
            [
             0.2222222222222222,
             "#7201a8"
            ],
            [
             0.3333333333333333,
             "#9c179e"
            ],
            [
             0.4444444444444444,
             "#bd3786"
            ],
            [
             0.5555555555555556,
             "#d8576b"
            ],
            [
             0.6666666666666666,
             "#ed7953"
            ],
            [
             0.7777777777777778,
             "#fb9f3a"
            ],
            [
             0.8888888888888888,
             "#fdca26"
            ],
            [
             1,
             "#f0f921"
            ]
           ]
          },
          "colorway": [
           "#636efa",
           "#EF553B",
           "#00cc96",
           "#ab63fa",
           "#FFA15A",
           "#19d3f3",
           "#FF6692",
           "#B6E880",
           "#FF97FF",
           "#FECB52"
          ],
          "font": {
           "color": "#2a3f5f"
          },
          "geo": {
           "bgcolor": "white",
           "lakecolor": "white",
           "landcolor": "#E5ECF6",
           "showlakes": true,
           "showland": true,
           "subunitcolor": "white"
          },
          "hoverlabel": {
           "align": "left"
          },
          "hovermode": "closest",
          "mapbox": {
           "style": "light"
          },
          "paper_bgcolor": "white",
          "plot_bgcolor": "#E5ECF6",
          "polar": {
           "angularaxis": {
            "gridcolor": "white",
            "linecolor": "white",
            "ticks": ""
           },
           "bgcolor": "#E5ECF6",
           "radialaxis": {
            "gridcolor": "white",
            "linecolor": "white",
            "ticks": ""
           }
          },
          "scene": {
           "xaxis": {
            "backgroundcolor": "#E5ECF6",
            "gridcolor": "white",
            "gridwidth": 2,
            "linecolor": "white",
            "showbackground": true,
            "ticks": "",
            "zerolinecolor": "white"
           },
           "yaxis": {
            "backgroundcolor": "#E5ECF6",
            "gridcolor": "white",
            "gridwidth": 2,
            "linecolor": "white",
            "showbackground": true,
            "ticks": "",
            "zerolinecolor": "white"
           },
           "zaxis": {
            "backgroundcolor": "#E5ECF6",
            "gridcolor": "white",
            "gridwidth": 2,
            "linecolor": "white",
            "showbackground": true,
            "ticks": "",
            "zerolinecolor": "white"
           }
          },
          "shapedefaults": {
           "line": {
            "color": "#2a3f5f"
           }
          },
          "ternary": {
           "aaxis": {
            "gridcolor": "white",
            "linecolor": "white",
            "ticks": ""
           },
           "baxis": {
            "gridcolor": "white",
            "linecolor": "white",
            "ticks": ""
           },
           "bgcolor": "#E5ECF6",
           "caxis": {
            "gridcolor": "white",
            "linecolor": "white",
            "ticks": ""
           }
          },
          "title": {
           "x": 0.05
          },
          "xaxis": {
           "automargin": true,
           "gridcolor": "white",
           "linecolor": "white",
           "ticks": "",
           "title": {
            "standoff": 15
           },
           "zerolinecolor": "white",
           "zerolinewidth": 2
          },
          "yaxis": {
           "automargin": true,
           "gridcolor": "white",
           "linecolor": "white",
           "ticks": "",
           "title": {
            "standoff": 15
           },
           "zerolinecolor": "white",
           "zerolinewidth": 2
          }
         }
        },
        "title": {
         "text": "eye = (x:2., y:0, z:0)"
        }
       }
      },
      "text/html": [
       "<div>                            <div id=\"7fbfa118-8062-4a92-b4c0-8aae016cae05\" class=\"plotly-graph-div\" style=\"height:525px; width:100%;\"></div>            <script type=\"text/javascript\">                require([\"plotly\"], function(Plotly) {                    window.PLOTLYENV=window.PLOTLYENV || {};                                    if (document.getElementById(\"7fbfa118-8062-4a92-b4c0-8aae016cae05\")) {                    Plotly.newPlot(                        \"7fbfa118-8062-4a92-b4c0-8aae016cae05\",                        [{\"marker\":{\"color\":[6,10,8,7,4,14,1,2,2,14,10,3,11,14,13,14,4,2,11,0,13,5,14,11,10,1,5,3,8,14,6,3,1,4,11,13,5,7,12,4,9,12,11,5,2,14,12,11,0,6,11,9,3,11,1,0,4,1,7,2,6,3,2,13,11,11,5,9,13,2,3,0,9,0,3,10,4,1,7,11,1,0,14,2,1,10,4,0,14,13,5,2,13,0,6,14,1,0,12,4,5,8],\"colorscale\":[[0.0,\"#440154\"],[0.1111111111111111,\"#482878\"],[0.2222222222222222,\"#3e4989\"],[0.3333333333333333,\"#31688e\"],[0.4444444444444444,\"#26828e\"],[0.5555555555555556,\"#1f9e89\"],[0.6666666666666666,\"#35b779\"],[0.7777777777777778,\"#6ece58\"],[0.8888888888888888,\"#b5de2b\"],[1.0,\"#fde725\"]],\"opacity\":0.8,\"size\":5},\"mode\":\"markers\",\"x\":[6,10,8,7,4,14,1,2,2,14,10,3,11,14,13,14,4,2,11,0,13,5,14,11,10,1,5,3,8,14,6,3,1,4,11,13,5,7,12,4,9,12,11,5,2,14,12,11,0,6,11,9,3,11,1,0,4,1,7,2,6,3,2,13,11,11,5,9,13,2,3,0,9,0,3,10,4,1,7,11,1,0,14,2,1,10,4,0,14,13,5,2,13,0,6,14,1,0,12,4,5,8],\"y\":[11,11,8,4,3,12,14,2,5,6,8,9,0,14,0,1,1,2,12,7,9,10,13,12,11,12,3,4,7,8,11,3,8,10,5,4,4,13,10,4,9,7,9,13,7,10,14,14,4,4,14,11,2,6,7,12,11,10,5,7,1,10,8,3,1,12,8,11,9,7,8,10,7,13,10,8,13,1,7,9,7,14,0,8,0,8,2,10,5,4,4,8,10,10,7,0,12,14,5,11,5,6],\"z\":[7.1,11.1,8.8,7.4,4.3,15.2,2.4,2.2,2.5,14.6,10.8,3.9,11.0,15.4,13.0,14.1,4.1,2.2,12.2,0.7,13.9,6.0,15.3,12.2,11.1,2.2,5.3,3.4,8.7,14.8,7.1,3.3,1.8,5.0,11.5,13.4,5.4,8.3,13.0,4.4,9.9,12.7,11.9,6.3,2.7,15.0,13.4,12.4,0.4,6.4,12.4,10.1,3.2,11.6,1.7,1.2,5.1,2.0,7.5,2.7,6.1,4.0,2.8,13.3,11.1,12.2,5.8,10.1,13.9,2.7,3.8,1.0,9.7,1.3,4.0,10.8,5.3,1.1,7.7,11.9,1.7,1.4,14.0,2.8,1.0,10.8,4.2,1.0,14.5,13.4,5.4,2.8,14.0,1.0,6.7,14.0,2.2,1.4,12.5,5.1,5.5,8.6],\"type\":\"scatter3d\"}],                        {\"template\":{\"data\":{\"histogram2dcontour\":[{\"type\":\"histogram2dcontour\",\"colorbar\":{\"outlinewidth\":0,\"ticks\":\"\"},\"colorscale\":[[0.0,\"#0d0887\"],[0.1111111111111111,\"#46039f\"],[0.2222222222222222,\"#7201a8\"],[0.3333333333333333,\"#9c179e\"],[0.4444444444444444,\"#bd3786\"],[0.5555555555555556,\"#d8576b\"],[0.6666666666666666,\"#ed7953\"],[0.7777777777777778,\"#fb9f3a\"],[0.8888888888888888,\"#fdca26\"],[1.0,\"#f0f921\"]]}],\"choropleth\":[{\"type\":\"choropleth\",\"colorbar\":{\"outlinewidth\":0,\"ticks\":\"\"}}],\"histogram2d\":[{\"type\":\"histogram2d\",\"colorbar\":{\"outlinewidth\":0,\"ticks\":\"\"},\"colorscale\":[[0.0,\"#0d0887\"],[0.1111111111111111,\"#46039f\"],[0.2222222222222222,\"#7201a8\"],[0.3333333333333333,\"#9c179e\"],[0.4444444444444444,\"#bd3786\"],[0.5555555555555556,\"#d8576b\"],[0.6666666666666666,\"#ed7953\"],[0.7777777777777778,\"#fb9f3a\"],[0.8888888888888888,\"#fdca26\"],[1.0,\"#f0f921\"]]}],\"heatmap\":[{\"type\":\"heatmap\",\"colorbar\":{\"outlinewidth\":0,\"ticks\":\"\"},\"colorscale\":[[0.0,\"#0d0887\"],[0.1111111111111111,\"#46039f\"],[0.2222222222222222,\"#7201a8\"],[0.3333333333333333,\"#9c179e\"],[0.4444444444444444,\"#bd3786\"],[0.5555555555555556,\"#d8576b\"],[0.6666666666666666,\"#ed7953\"],[0.7777777777777778,\"#fb9f3a\"],[0.8888888888888888,\"#fdca26\"],[1.0,\"#f0f921\"]]}],\"heatmapgl\":[{\"type\":\"heatmapgl\",\"colorbar\":{\"outlinewidth\":0,\"ticks\":\"\"},\"colorscale\":[[0.0,\"#0d0887\"],[0.1111111111111111,\"#46039f\"],[0.2222222222222222,\"#7201a8\"],[0.3333333333333333,\"#9c179e\"],[0.4444444444444444,\"#bd3786\"],[0.5555555555555556,\"#d8576b\"],[0.6666666666666666,\"#ed7953\"],[0.7777777777777778,\"#fb9f3a\"],[0.8888888888888888,\"#fdca26\"],[1.0,\"#f0f921\"]]}],\"contourcarpet\":[{\"type\":\"contourcarpet\",\"colorbar\":{\"outlinewidth\":0,\"ticks\":\"\"}}],\"contour\":[{\"type\":\"contour\",\"colorbar\":{\"outlinewidth\":0,\"ticks\":\"\"},\"colorscale\":[[0.0,\"#0d0887\"],[0.1111111111111111,\"#46039f\"],[0.2222222222222222,\"#7201a8\"],[0.3333333333333333,\"#9c179e\"],[0.4444444444444444,\"#bd3786\"],[0.5555555555555556,\"#d8576b\"],[0.6666666666666666,\"#ed7953\"],[0.7777777777777778,\"#fb9f3a\"],[0.8888888888888888,\"#fdca26\"],[1.0,\"#f0f921\"]]}],\"surface\":[{\"type\":\"surface\",\"colorbar\":{\"outlinewidth\":0,\"ticks\":\"\"},\"colorscale\":[[0.0,\"#0d0887\"],[0.1111111111111111,\"#46039f\"],[0.2222222222222222,\"#7201a8\"],[0.3333333333333333,\"#9c179e\"],[0.4444444444444444,\"#bd3786\"],[0.5555555555555556,\"#d8576b\"],[0.6666666666666666,\"#ed7953\"],[0.7777777777777778,\"#fb9f3a\"],[0.8888888888888888,\"#fdca26\"],[1.0,\"#f0f921\"]]}],\"mesh3d\":[{\"type\":\"mesh3d\",\"colorbar\":{\"outlinewidth\":0,\"ticks\":\"\"}}],\"scatter\":[{\"fillpattern\":{\"fillmode\":\"overlay\",\"size\":10,\"solidity\":0.2},\"type\":\"scatter\"}],\"parcoords\":[{\"type\":\"parcoords\",\"line\":{\"colorbar\":{\"outlinewidth\":0,\"ticks\":\"\"}}}],\"scatterpolargl\":[{\"type\":\"scatterpolargl\",\"marker\":{\"colorbar\":{\"outlinewidth\":0,\"ticks\":\"\"}}}],\"bar\":[{\"error_x\":{\"color\":\"#2a3f5f\"},\"error_y\":{\"color\":\"#2a3f5f\"},\"marker\":{\"line\":{\"color\":\"#E5ECF6\",\"width\":0.5},\"pattern\":{\"fillmode\":\"overlay\",\"size\":10,\"solidity\":0.2}},\"type\":\"bar\"}],\"scattergeo\":[{\"type\":\"scattergeo\",\"marker\":{\"colorbar\":{\"outlinewidth\":0,\"ticks\":\"\"}}}],\"scatterpolar\":[{\"type\":\"scatterpolar\",\"marker\":{\"colorbar\":{\"outlinewidth\":0,\"ticks\":\"\"}}}],\"histogram\":[{\"marker\":{\"pattern\":{\"fillmode\":\"overlay\",\"size\":10,\"solidity\":0.2}},\"type\":\"histogram\"}],\"scattergl\":[{\"type\":\"scattergl\",\"marker\":{\"colorbar\":{\"outlinewidth\":0,\"ticks\":\"\"}}}],\"scatter3d\":[{\"type\":\"scatter3d\",\"line\":{\"colorbar\":{\"outlinewidth\":0,\"ticks\":\"\"}},\"marker\":{\"colorbar\":{\"outlinewidth\":0,\"ticks\":\"\"}}}],\"scattermapbox\":[{\"type\":\"scattermapbox\",\"marker\":{\"colorbar\":{\"outlinewidth\":0,\"ticks\":\"\"}}}],\"scatterternary\":[{\"type\":\"scatterternary\",\"marker\":{\"colorbar\":{\"outlinewidth\":0,\"ticks\":\"\"}}}],\"scattercarpet\":[{\"type\":\"scattercarpet\",\"marker\":{\"colorbar\":{\"outlinewidth\":0,\"ticks\":\"\"}}}],\"carpet\":[{\"aaxis\":{\"endlinecolor\":\"#2a3f5f\",\"gridcolor\":\"white\",\"linecolor\":\"white\",\"minorgridcolor\":\"white\",\"startlinecolor\":\"#2a3f5f\"},\"baxis\":{\"endlinecolor\":\"#2a3f5f\",\"gridcolor\":\"white\",\"linecolor\":\"white\",\"minorgridcolor\":\"white\",\"startlinecolor\":\"#2a3f5f\"},\"type\":\"carpet\"}],\"table\":[{\"cells\":{\"fill\":{\"color\":\"#EBF0F8\"},\"line\":{\"color\":\"white\"}},\"header\":{\"fill\":{\"color\":\"#C8D4E3\"},\"line\":{\"color\":\"white\"}},\"type\":\"table\"}],\"barpolar\":[{\"marker\":{\"line\":{\"color\":\"#E5ECF6\",\"width\":0.5},\"pattern\":{\"fillmode\":\"overlay\",\"size\":10,\"solidity\":0.2}},\"type\":\"barpolar\"}],\"pie\":[{\"automargin\":true,\"type\":\"pie\"}]},\"layout\":{\"autotypenumbers\":\"strict\",\"colorway\":[\"#636efa\",\"#EF553B\",\"#00cc96\",\"#ab63fa\",\"#FFA15A\",\"#19d3f3\",\"#FF6692\",\"#B6E880\",\"#FF97FF\",\"#FECB52\"],\"font\":{\"color\":\"#2a3f5f\"},\"hovermode\":\"closest\",\"hoverlabel\":{\"align\":\"left\"},\"paper_bgcolor\":\"white\",\"plot_bgcolor\":\"#E5ECF6\",\"polar\":{\"bgcolor\":\"#E5ECF6\",\"angularaxis\":{\"gridcolor\":\"white\",\"linecolor\":\"white\",\"ticks\":\"\"},\"radialaxis\":{\"gridcolor\":\"white\",\"linecolor\":\"white\",\"ticks\":\"\"}},\"ternary\":{\"bgcolor\":\"#E5ECF6\",\"aaxis\":{\"gridcolor\":\"white\",\"linecolor\":\"white\",\"ticks\":\"\"},\"baxis\":{\"gridcolor\":\"white\",\"linecolor\":\"white\",\"ticks\":\"\"},\"caxis\":{\"gridcolor\":\"white\",\"linecolor\":\"white\",\"ticks\":\"\"}},\"coloraxis\":{\"colorbar\":{\"outlinewidth\":0,\"ticks\":\"\"}},\"colorscale\":{\"sequential\":[[0.0,\"#0d0887\"],[0.1111111111111111,\"#46039f\"],[0.2222222222222222,\"#7201a8\"],[0.3333333333333333,\"#9c179e\"],[0.4444444444444444,\"#bd3786\"],[0.5555555555555556,\"#d8576b\"],[0.6666666666666666,\"#ed7953\"],[0.7777777777777778,\"#fb9f3a\"],[0.8888888888888888,\"#fdca26\"],[1.0,\"#f0f921\"]],\"sequentialminus\":[[0.0,\"#0d0887\"],[0.1111111111111111,\"#46039f\"],[0.2222222222222222,\"#7201a8\"],[0.3333333333333333,\"#9c179e\"],[0.4444444444444444,\"#bd3786\"],[0.5555555555555556,\"#d8576b\"],[0.6666666666666666,\"#ed7953\"],[0.7777777777777778,\"#fb9f3a\"],[0.8888888888888888,\"#fdca26\"],[1.0,\"#f0f921\"]],\"diverging\":[[0,\"#8e0152\"],[0.1,\"#c51b7d\"],[0.2,\"#de77ae\"],[0.3,\"#f1b6da\"],[0.4,\"#fde0ef\"],[0.5,\"#f7f7f7\"],[0.6,\"#e6f5d0\"],[0.7,\"#b8e186\"],[0.8,\"#7fbc41\"],[0.9,\"#4d9221\"],[1,\"#276419\"]]},\"xaxis\":{\"gridcolor\":\"white\",\"linecolor\":\"white\",\"ticks\":\"\",\"title\":{\"standoff\":15},\"zerolinecolor\":\"white\",\"automargin\":true,\"zerolinewidth\":2},\"yaxis\":{\"gridcolor\":\"white\",\"linecolor\":\"white\",\"ticks\":\"\",\"title\":{\"standoff\":15},\"zerolinecolor\":\"white\",\"automargin\":true,\"zerolinewidth\":2},\"scene\":{\"xaxis\":{\"backgroundcolor\":\"#E5ECF6\",\"gridcolor\":\"white\",\"linecolor\":\"white\",\"showbackground\":true,\"ticks\":\"\",\"zerolinecolor\":\"white\",\"gridwidth\":2},\"yaxis\":{\"backgroundcolor\":\"#E5ECF6\",\"gridcolor\":\"white\",\"linecolor\":\"white\",\"showbackground\":true,\"ticks\":\"\",\"zerolinecolor\":\"white\",\"gridwidth\":2},\"zaxis\":{\"backgroundcolor\":\"#E5ECF6\",\"gridcolor\":\"white\",\"linecolor\":\"white\",\"showbackground\":true,\"ticks\":\"\",\"zerolinecolor\":\"white\",\"gridwidth\":2}},\"shapedefaults\":{\"line\":{\"color\":\"#2a3f5f\"}},\"annotationdefaults\":{\"arrowcolor\":\"#2a3f5f\",\"arrowhead\":0,\"arrowwidth\":1},\"geo\":{\"bgcolor\":\"white\",\"landcolor\":\"#E5ECF6\",\"subunitcolor\":\"white\",\"showland\":true,\"showlakes\":true,\"lakecolor\":\"white\"},\"title\":{\"x\":0.05},\"mapbox\":{\"style\":\"light\"}}},\"margin\":{\"l\":0,\"r\":0,\"b\":0,\"t\":0},\"scene\":{\"camera\":{\"eye\":{\"x\":3,\"y\":0,\"z\":0}}},\"title\":{\"text\":\"eye = (x:2., y:0, z:0)\"}},                        {\"responsive\": true}                    ).then(function(){\n",
       "                            \n",
       "var gd = document.getElementById('7fbfa118-8062-4a92-b4c0-8aae016cae05');\n",
       "var x = new MutationObserver(function (mutations, observer) {{\n",
       "        var display = window.getComputedStyle(gd).display;\n",
       "        if (!display || display === 'none') {{\n",
       "            console.log([gd, 'removed!']);\n",
       "            Plotly.purge(gd);\n",
       "            observer.disconnect();\n",
       "        }}\n",
       "}});\n",
       "\n",
       "// Listen for the removal of the full notebook cells\n",
       "var notebookContainer = gd.closest('#notebook-container');\n",
       "if (notebookContainer) {{\n",
       "    x.observe(notebookContainer, {childList: true});\n",
       "}}\n",
       "\n",
       "// Listen for the clearing of the current output cell\n",
       "var outputEl = gd.closest('.output');\n",
       "if (outputEl) {{\n",
       "    x.observe(outputEl, {childList: true});\n",
       "}}\n",
       "\n",
       "                        })                };                });            </script>        </div>"
      ]
     },
     "metadata": {},
     "output_type": "display_data"
    }
   ],
   "source": [
    "name = 'eye = (x:2., y:0, z:0)'\n",
    "camera = dict(\n",
    "    eye=dict(x=3, y=0, z=0)\n",
    ")\n",
    "\n",
    "\n",
    "fig.update_layout(scene_camera=camera, title=name)\n",
    "fig.show()"
   ]
  },
  {
   "cell_type": "code",
   "execution_count": 67,
   "id": "fab50519",
   "metadata": {
    "scrolled": false
   },
   "outputs": [
    {
     "name": "stdout",
     "output_type": "stream",
     "text": [
      "Rotation Matrix for Camera 1:\n",
      " [[ 0.5       -0.8660254  0.       ]\n",
      " [ 0.8660254  0.5        0.       ]\n",
      " [ 0.         0.         1.       ]]\n",
      "\n",
      "Translation Matrix for Camera 1:\n",
      " [[ 1  0  5]\n",
      " [ 0  1  5]\n",
      " [ 0  0 30]]\n",
      "\n",
      "Extrinsic Matrix for Camera 1:\n",
      " [[ 0.5       -0.8660254  5.       ]\n",
      " [ 0.8660254  0.5        5.       ]\n",
      " [ 0.         0.        30.       ]]\n",
      "\n",
      "Intrinsic Matrix for Camera 1:\n",
      " [[0.02  0.005 0.01 ]\n",
      " [0.    0.02  0.02 ]\n",
      " [0.    0.    1.   ]]\n",
      "\n",
      "Projection Matrix for Camera 1:\n",
      " [[ 1.43301270e-02 -1.48205081e-02  4.25000000e-01]\n",
      " [ 1.73205081e-02  1.00000000e-02  7.00000000e-01]\n",
      " [ 0.00000000e+00  0.00000000e+00  3.00000000e+01]]\n",
      "\n",
      "\n",
      "\n",
      "Rotation Matrix for Camera 2 :\n",
      " [[ 0.8660254 -0.5        0.       ]\n",
      " [ 0.5        0.8660254  0.       ]\n",
      " [ 0.         0.         1.       ]]\n",
      "\n",
      " Translation Matrix for Camera 2 :\n",
      " [[ 1  0  8]\n",
      " [ 0  1  6]\n",
      " [ 0  0 25]]\n",
      "\n",
      "Extrinsic Matrix for Camera 2:\n",
      " [[ 0.8660254 -0.5        8.       ]\n",
      " [ 0.5        0.8660254  6.       ]\n",
      " [ 0.         0.        25.       ]]\n",
      "\n",
      "Intrinsic Matrix for Camera 2:\n",
      " [[0.02  0.005 0.01 ]\n",
      " [0.    0.02  0.02 ]\n",
      " [0.    0.    1.   ]]\n",
      "\n",
      "Projection Matrix for Camera 2:\n",
      " [[ 1.98205081e-02 -5.66987298e-03  4.40000000e-01]\n",
      " [ 1.00000000e-02  1.73205081e-02  6.20000000e-01]\n",
      " [ 0.00000000e+00  0.00000000e+00  2.50000000e+01]]\n"
     ]
    }
   ],
   "source": [
    "#define camera calibration matrix\n",
    "\n",
    "#camera_1\n",
    "\n",
    "#K-matrix\n",
    "c1_f = .02 #20mm lens\n",
    "c1_u = 0.01\n",
    "c1_v = 0.02\n",
    "c1_sk = 0.005\n",
    "\n",
    "c1_k = np.array([\n",
    "    [c1_f, c1_sk, c1_u],\n",
    "    [0, c1_f, c1_v],\n",
    "    [0,0,1]\n",
    "])\n",
    "\n",
    "#camera intrinsic\n",
    "ang1 = np.radians(60)\n",
    "#defining rotation about z axis:\n",
    "c1_r11 = np.cos(ang1)\n",
    "c1_r12 = -np.sin(ang1)\n",
    "c1_r13 = 0\n",
    "c1_r21 = np.sin(ang1)\n",
    "c1_r22 = np.cos(ang1)\n",
    "c1_r23 = 0\n",
    "c1_r31 = 0\n",
    "c1_r32 = 0\n",
    "c1_r33 = 1\n",
    "\n",
    "c1_tx= cam1_x\n",
    "c1_ty= cam1_y\n",
    "c1_tz= cam1_z\n",
    "\n",
    "#completing rotation matrix\n",
    "# c1_r = np.array([\n",
    "#     [c1_r11, c1_r12, c1_r13, 0],\n",
    "#     [c1_r21, c1_r22, c1_r23, 0],\n",
    "#     [c1_r31, c1_r32, c1_r33, 0],\n",
    "#     [0,0,0,1]\n",
    "# ])\n",
    "\n",
    "c1_r = np.array([\n",
    "    [c1_r11, c1_r12, c1_r13],\n",
    "    [c1_r21, c1_r22, c1_r23],\n",
    "    [c1_r31, c1_r32, c1_r33]\n",
    "])\n",
    "\n",
    "#completing translation matrix\n",
    "# c1_t = np.array([\n",
    "#     [1,0,0,c1_tx],\n",
    "#     [0,1,0,c1_ty],\n",
    "#     [0,0,1,c1_tz],\n",
    "#     [0,0,0,1]]\n",
    "# )\n",
    "\n",
    "c1_t = np.array([\n",
    "    [1,0,c1_tx],\n",
    "    [0,1,c1_ty],\n",
    "    [0,0,c1_tz]]\n",
    ")\n",
    "\n",
    "\n",
    "\n",
    "\n",
    "c1_ex = np.matmul(c1_t, c1_r)\n",
    "c1_p = np.matmul(c1_k, c1_ex)\n",
    "\n",
    "print('Rotation Matrix for Camera 1:\\n', c1_r)\n",
    "print('\\nTranslation Matrix for Camera 1:\\n', c1_t)\n",
    "print('\\nExtrinsic Matrix for Camera 1:\\n', c1_ex)\n",
    "print('\\nIntrinsic Matrix for Camera 1:\\n', c1_k)\n",
    "print('\\nProjection Matrix for Camera 1:\\n', c1_p)\n",
    "\n",
    "\n",
    "\n",
    "\n",
    "#camera_2\n",
    "c2_f = .02 #20mm lens\n",
    "c2_u = 0.01\n",
    "c2_v = 0.02\n",
    "c2_sk = 0.005\n",
    "\n",
    "c2_k = np.array([\n",
    "    [c2_f, c2_sk, c2_u],\n",
    "    [0, c2_f, c2_v],\n",
    "    [0,0,1]\n",
    "])\n",
    "\n",
    "\n",
    "#defining rotation about z axis:\n",
    "\n",
    "ang2 = np.radians(30) #angle of rotation\n",
    "c2_r11 = np.cos(ang2)\n",
    "c2_r12 = -np.sin(ang2)\n",
    "c2_r13 = 0\n",
    "c2_r21 = np.sin(ang2)\n",
    "c2_r22 = np.cos(ang2)\n",
    "c2_r23 = 0\n",
    "c2_r31 = 0\n",
    "c2_r32 = 0\n",
    "c2_r33 = 1\n",
    "\n",
    "#defining translation\n",
    "c2_tx= cam2_x\n",
    "c2_ty= cam2_y\n",
    "c2_tz= cam2_z\n",
    "\n",
    "#completing the rotation matrix\n",
    "# c2_r = np.array([\n",
    "#     [c2_r11, c2_r12, c2_r13, 0],\n",
    "#     [c2_r21, c2_r22, c2_r23, 0],\n",
    "#     [c2_r31, c2_r32, c2_r33, 0],\n",
    "#     [0,0,0,1]\n",
    "# ])\n",
    "\n",
    "\n",
    "c2_r = np.array([\n",
    "    [c2_r11, c2_r12, c2_r13],\n",
    "    [c2_r21, c2_r22, c2_r23],\n",
    "    [c2_r31, c2_r32, c2_r33]\n",
    "])\n",
    "\n",
    "\n",
    "#completing the translation matrix\n",
    "# c2_t = np.array([\n",
    "#     [1,0,0,c2_tx],\n",
    "#     [0,1,0,c2_ty],\n",
    "#     [0,0,1,c2_tz],\n",
    "#     [0,0,0,1]]\n",
    "# )\n",
    "\n",
    "c2_t = np.array([\n",
    "    [1,0,c2_tx],\n",
    "    [0,1,c2_ty],\n",
    "    [0,0,c2_tz]]\n",
    ")\n",
    "\n",
    "c2_ex = np.matmul(c2_t, c2_r)\n",
    "c2_p = np.matmul(c2_k, c2_ex)\n",
    "print('\\n\\n\\nRotation Matrix for Camera 2 :\\n',c2_r)\n",
    "print('\\n Translation Matrix for Camera 2 :\\n', c2_t)\n",
    "print('\\nExtrinsic Matrix for Camera 2:\\n', c2_ex)\n",
    "print('\\nIntrinsic Matrix for Camera 2:\\n', c2_k)\n",
    "print('\\nProjection Matrix for Camera 2:\\n', c2_p)"
   ]
  },
  {
   "cell_type": "code",
   "execution_count": 68,
   "id": "d98ae28f",
   "metadata": {},
   "outputs": [
    {
     "name": "stdout",
     "output_type": "stream",
     "text": [
      "(3, 100)\n",
      "[ 6 10  8  7  4 14  1  2  2 14 10  3 11 14 13 14  4  2 11  0 13  5 14 11\n",
      " 10  1  5  3  8 14  6  3  1  4 11 13  5  7 12  4  9 12 11  5  2 14 12 11\n",
      "  0  6 11  9  3 11  1  0  4  1  7  2  6  3  2 13 11 11  5  9 13  2  3  0\n",
      "  9  0  3 10  4  1  7 11  1  0 14  2  1 10  4  0 14 13  5  2 13  0  6 14\n",
      "  1  0 12  4  5  8]\n",
      "[11 11  8  4  3 12 14  2  5  6  8  9  0 14  0  1  1  2 12  7  9 10 13 12\n",
      " 11 12  3  4  7  8 11  3  8 10  5  4  4 13 10  4  9  7  9 13  7 10 14 14\n",
      "  4  4 14 11  2  6  7 12 11 10  5  7  1 10  8  3  1 12  8 11  9  7  8 10\n",
      "  7 13 10  8 13  1  7  9  7 14  0  8  0  8  2 10  5  4  4  8 10 10  7  0\n",
      " 12 14  5 11  5  6]\n",
      "[ 3  4  3  4  2  1  2  0  1  1  0  2  2  4  0  0  4  2  1  1  0  1  3  0\n",
      "  2  3  3  2  3  2  4  1  1  0  4  1  0  2  4  2  0  3  3  1  0  0  2  1\n",
      "  4  3  1  0  3  1  1  3  3  2  2  4  4  2  1  4  4  1  2  4  2  3  1  2\n",
      "  1  1  2  4  1  2  2  0  0  0  3  1  0  1  2  3  4  0  4  4  1  0  4  4\n",
      "  3  4  4  1 30 25]\n"
     ]
    }
   ],
   "source": [
    "#ptss = np.vstack((x,y,z, np.ones(len(x))))[:,:100]\n",
    "ptss = np.vstack((x,y,z))[:,:100]\n",
    "print(ptss.shape)\n",
    "print(x)\n",
    "print(y)\n",
    "print(z)"
   ]
  },
  {
   "cell_type": "code",
   "execution_count": 69,
   "id": "8e0ebcaf",
   "metadata": {},
   "outputs": [],
   "source": [
    "pts_o = np.matmul(c1_p, ptss)\n",
    "x_c1 = pts_o[0,:]\n",
    "y_c1 = pts_o[1,:]\n",
    "z_c1 = pts_o[2,:]"
   ]
  },
  {
   "cell_type": "code",
   "execution_count": 70,
   "id": "6831bae9",
   "metadata": {},
   "outputs": [
    {
     "data": {
      "application/vnd.plotly.v1+json": {
       "config": {
        "plotlyServerURL": "https://plot.ly"
       },
       "data": [
        {
         "marker": {
          "color": [
           6,
           10,
           8,
           7,
           4,
           14,
           1,
           2,
           2,
           14,
           10,
           3,
           11,
           14,
           13,
           14,
           4,
           2,
           11,
           0,
           13,
           5,
           14,
           11,
           10,
           1,
           5,
           3,
           8,
           14,
           6,
           3,
           1,
           4,
           11,
           13,
           5,
           7,
           12,
           4,
           9,
           12,
           11,
           5,
           2,
           14,
           12,
           11,
           0,
           6,
           11,
           9,
           3,
           11,
           1,
           0,
           4,
           1,
           7,
           2,
           6,
           3,
           2,
           13,
           11,
           11,
           5,
           9,
           13,
           2,
           3,
           0,
           9,
           0,
           3,
           10,
           4,
           1,
           7,
           11,
           1,
           0,
           14,
           2,
           1,
           10,
           4,
           0,
           14,
           13,
           5,
           2,
           13,
           0,
           6,
           14,
           1,
           0,
           12,
           4,
           5,
           8
          ],
          "colorscale": [
           [
            0,
            "#440154"
           ],
           [
            0.1111111111111111,
            "#482878"
           ],
           [
            0.2222222222222222,
            "#3e4989"
           ],
           [
            0.3333333333333333,
            "#31688e"
           ],
           [
            0.4444444444444444,
            "#26828e"
           ],
           [
            0.5555555555555556,
            "#1f9e89"
           ],
           [
            0.6666666666666666,
            "#35b779"
           ],
           [
            0.7777777777777778,
            "#6ece58"
           ],
           [
            0.8888888888888888,
            "#b5de2b"
           ],
           [
            1,
            "#fde725"
           ]
          ],
          "opacity": 0.8,
          "size": 5
         },
         "mode": "markers",
         "type": "scatter3d",
         "x": [
          1.1979551732809566,
          1.6802756813566453,
          1.2710769515458673,
          1.7410288568297003,
          0.8628589838486225,
          0.44777568135664547,
          0.6568430139592794,
          -0.0009807621135331547,
          0.3795577136594005,
          0.536698729810778,
          0.02473720558371177,
          0.7596058083755676,
          1.007631397208144,
          1.693134665205268,
          0.18629165124598854,
          0.18580127018922196,
          1.7425,
          0.8490192378864668,
          0.40478530029987886,
          0.32125644347017857,
          0.05290707856478957,
          0.34844555433772323,
          1.2829551732809565,
          -0.02021469970012113,
          0.8302756813566454,
          1.1114840301106568,
          1.3021891108675445,
          0.8337083487540115,
          1.285897459621556,
          0.9320577136594005,
          1.6229551732809566,
          0.42352885682970026,
          0.320766062413412,
          -0.09088457268119896,
          1.7835288568297003,
          0.5520096189432334,
          0.012368602791855886,
          0.7576442841485013,
          1.7237564434701786,
          0.8480384757729337,
          -0.004413429510899208,
          1.3432179676972449,
          1.299246824526945,
          0.3039840301106569,
          -0.07508330249197702,
          0.052416697508023,
          0.8144744111674235,
          0.3751442841485013,
          1.6407179676972448,
          1.301698729810778,
          0.3751442841485013,
          -0.03405444566227675,
          1.288349364905389,
          0.4937083487540115,
          0.3355865704891008,
          1.0971539030917346,
          1.1692949192431121,
          0.7161250462620344,
          0.8762083487540114,
          1.624916697508023,
          1.7711602540378444,
          0.7447853002998788,
          0.3350961894323342,
          1.8418301270189221,
          1.8428108891324553,
          0.40478530029987886,
          0.8030865704891008,
          1.6659455543377233,
          0.9029070785647896,
          1.1999166975080229,
          0.3494263164512564,
          0.7017949192431122,
          0.45022758664047835,
          0.23233339501604594,
          0.7447853002998788,
          1.7247372055837118,
          0.2896539030917347,
          0.8495096189432334,
          0.846567332602634,
          0.024246824526945182,
          -0.08941342951089921,
          -0.20748711305964282,
          1.4756217782649106,
          0.3350961894323342,
          0.014330127018922195,
          0.4497372055837118,
          0.8776794919243112,
          1.1267949192431121,
          1.8265192378864668,
          0.12700961894323345,
          1.7123686027918559,
          1.6100961894323342,
          0.4630865704891008,
          -0.14820508075688774,
          1.6822372055837118,
          1.9006217782649106,
          1.1114840301106568,
          1.4925128869403572,
          1.7978589838486225,
          0.31929491924311226
         ],
         "y": [
          2.313923048454132,
          3.083205080756888,
          2.3185640646055097,
          2.9612435565298214,
          1.499282032302755,
          1.062487113059643,
          1.5573205080756887,
          0.05464101615137755,
          0.7846410161513775,
          1.0024871130596429,
          0.25320508075688775,
          1.5419615242270663,
          1.5905255888325764,
          3.1824871130596426,
          0.22516660498395405,
          0.25248711305964283,
          2.879282032302755,
          1.4546410161513774,
          1.0105255888325764,
          0.77,
          0.3151666049839541,
          0.8866025403784439,
          2.4724871130596426,
          0.3105255888325765,
          1.6832050807568877,
          2.2373205080756886,
          2.2166025403784433,
          1.4919615242270663,
          2.30856406460551,
          1.7224871130596426,
          3.0139230484541324,
          0.7819615242270663,
          0.7973205080756888,
          0.16928203230275513,
          3.040525588832576,
          0.965166604983954,
          0.12660254037844387,
          1.6512435565298214,
          3.1078460969082653,
          1.509282032302755,
          0.24588457268119898,
          2.377846096908265,
          2.380525588832576,
          0.9166025403784439,
          0.10464101615137755,
          0.34248711305964286,
          1.7478460969082652,
          1.0305255888325764,
          2.84,
          2.2439230484541324,
          1.0305255888325764,
          0.26588457268119897,
          2.171961524227066,
          0.9505255888325765,
          0.7873205080756888,
          2.2199999999999998,
          2.279282032302755,
          1.5173205080756886,
          1.5712435565298213,
          2.9046410161513774,
          2.9139230484541323,
          1.5519615242270661,
          0.8146410161513775,
          3.055166604983954,
          3.000525588832576,
          1.0105255888325764,
          1.5666025403784438,
          3.065884572681199,
          1.715166604983954,
          2.204641016151377,
          0.8319615242270663,
          1.5,
          0.925884572681199,
          0.83,
          1.5519615242270661,
          3.0532050807568876,
          0.899282032302755,
          1.4273205080756888,
          1.5912435565298213,
          0.2805255888325765,
          0.08732050807568878,
          0.14,
          2.3424871130596423,
          0.8146410161513775,
          0.017320508075688773,
          0.9532050807568877,
          1.489282032302755,
          2.1999999999999997,
          3.0924871130596427,
          0.26516660498395406,
          2.9266025403784437,
          2.9146410161513776,
          1.025166604983954,
          0.10000000000000002,
          2.9739230484541324,
          3.0424871130596425,
          2.2373205080756886,
          2.94,
          3.057846096908265,
          0.879282032302755
         ],
         "z": [
          90,
          120,
          90,
          120,
          60,
          30,
          60,
          0,
          30,
          30,
          0,
          60,
          60,
          120,
          0,
          0,
          120,
          60,
          30,
          30,
          0,
          30,
          90,
          0,
          60,
          90,
          90,
          60,
          90,
          60,
          120,
          30,
          30,
          0,
          120,
          30,
          0,
          60,
          120,
          60,
          0,
          90,
          90,
          30,
          0,
          0,
          60,
          30,
          120,
          90,
          30,
          0,
          90,
          30,
          30,
          90,
          90,
          60,
          60,
          120,
          120,
          60,
          30,
          120,
          120,
          30,
          60,
          120,
          60,
          90,
          30,
          60,
          30,
          30,
          60,
          120,
          30,
          60,
          60,
          0,
          0,
          0,
          90,
          30,
          0,
          30,
          60,
          90,
          120,
          0,
          120,
          120,
          30,
          0,
          120,
          120,
          90,
          120,
          120,
          30
         ]
        }
       ],
       "layout": {
        "margin": {
         "b": 0,
         "l": 0,
         "r": 0,
         "t": 0
        },
        "template": {
         "data": {
          "bar": [
           {
            "error_x": {
             "color": "#2a3f5f"
            },
            "error_y": {
             "color": "#2a3f5f"
            },
            "marker": {
             "line": {
              "color": "#E5ECF6",
              "width": 0.5
             },
             "pattern": {
              "fillmode": "overlay",
              "size": 10,
              "solidity": 0.2
             }
            },
            "type": "bar"
           }
          ],
          "barpolar": [
           {
            "marker": {
             "line": {
              "color": "#E5ECF6",
              "width": 0.5
             },
             "pattern": {
              "fillmode": "overlay",
              "size": 10,
              "solidity": 0.2
             }
            },
            "type": "barpolar"
           }
          ],
          "carpet": [
           {
            "aaxis": {
             "endlinecolor": "#2a3f5f",
             "gridcolor": "white",
             "linecolor": "white",
             "minorgridcolor": "white",
             "startlinecolor": "#2a3f5f"
            },
            "baxis": {
             "endlinecolor": "#2a3f5f",
             "gridcolor": "white",
             "linecolor": "white",
             "minorgridcolor": "white",
             "startlinecolor": "#2a3f5f"
            },
            "type": "carpet"
           }
          ],
          "choropleth": [
           {
            "colorbar": {
             "outlinewidth": 0,
             "ticks": ""
            },
            "type": "choropleth"
           }
          ],
          "contour": [
           {
            "colorbar": {
             "outlinewidth": 0,
             "ticks": ""
            },
            "colorscale": [
             [
              0,
              "#0d0887"
             ],
             [
              0.1111111111111111,
              "#46039f"
             ],
             [
              0.2222222222222222,
              "#7201a8"
             ],
             [
              0.3333333333333333,
              "#9c179e"
             ],
             [
              0.4444444444444444,
              "#bd3786"
             ],
             [
              0.5555555555555556,
              "#d8576b"
             ],
             [
              0.6666666666666666,
              "#ed7953"
             ],
             [
              0.7777777777777778,
              "#fb9f3a"
             ],
             [
              0.8888888888888888,
              "#fdca26"
             ],
             [
              1,
              "#f0f921"
             ]
            ],
            "type": "contour"
           }
          ],
          "contourcarpet": [
           {
            "colorbar": {
             "outlinewidth": 0,
             "ticks": ""
            },
            "type": "contourcarpet"
           }
          ],
          "heatmap": [
           {
            "colorbar": {
             "outlinewidth": 0,
             "ticks": ""
            },
            "colorscale": [
             [
              0,
              "#0d0887"
             ],
             [
              0.1111111111111111,
              "#46039f"
             ],
             [
              0.2222222222222222,
              "#7201a8"
             ],
             [
              0.3333333333333333,
              "#9c179e"
             ],
             [
              0.4444444444444444,
              "#bd3786"
             ],
             [
              0.5555555555555556,
              "#d8576b"
             ],
             [
              0.6666666666666666,
              "#ed7953"
             ],
             [
              0.7777777777777778,
              "#fb9f3a"
             ],
             [
              0.8888888888888888,
              "#fdca26"
             ],
             [
              1,
              "#f0f921"
             ]
            ],
            "type": "heatmap"
           }
          ],
          "heatmapgl": [
           {
            "colorbar": {
             "outlinewidth": 0,
             "ticks": ""
            },
            "colorscale": [
             [
              0,
              "#0d0887"
             ],
             [
              0.1111111111111111,
              "#46039f"
             ],
             [
              0.2222222222222222,
              "#7201a8"
             ],
             [
              0.3333333333333333,
              "#9c179e"
             ],
             [
              0.4444444444444444,
              "#bd3786"
             ],
             [
              0.5555555555555556,
              "#d8576b"
             ],
             [
              0.6666666666666666,
              "#ed7953"
             ],
             [
              0.7777777777777778,
              "#fb9f3a"
             ],
             [
              0.8888888888888888,
              "#fdca26"
             ],
             [
              1,
              "#f0f921"
             ]
            ],
            "type": "heatmapgl"
           }
          ],
          "histogram": [
           {
            "marker": {
             "pattern": {
              "fillmode": "overlay",
              "size": 10,
              "solidity": 0.2
             }
            },
            "type": "histogram"
           }
          ],
          "histogram2d": [
           {
            "colorbar": {
             "outlinewidth": 0,
             "ticks": ""
            },
            "colorscale": [
             [
              0,
              "#0d0887"
             ],
             [
              0.1111111111111111,
              "#46039f"
             ],
             [
              0.2222222222222222,
              "#7201a8"
             ],
             [
              0.3333333333333333,
              "#9c179e"
             ],
             [
              0.4444444444444444,
              "#bd3786"
             ],
             [
              0.5555555555555556,
              "#d8576b"
             ],
             [
              0.6666666666666666,
              "#ed7953"
             ],
             [
              0.7777777777777778,
              "#fb9f3a"
             ],
             [
              0.8888888888888888,
              "#fdca26"
             ],
             [
              1,
              "#f0f921"
             ]
            ],
            "type": "histogram2d"
           }
          ],
          "histogram2dcontour": [
           {
            "colorbar": {
             "outlinewidth": 0,
             "ticks": ""
            },
            "colorscale": [
             [
              0,
              "#0d0887"
             ],
             [
              0.1111111111111111,
              "#46039f"
             ],
             [
              0.2222222222222222,
              "#7201a8"
             ],
             [
              0.3333333333333333,
              "#9c179e"
             ],
             [
              0.4444444444444444,
              "#bd3786"
             ],
             [
              0.5555555555555556,
              "#d8576b"
             ],
             [
              0.6666666666666666,
              "#ed7953"
             ],
             [
              0.7777777777777778,
              "#fb9f3a"
             ],
             [
              0.8888888888888888,
              "#fdca26"
             ],
             [
              1,
              "#f0f921"
             ]
            ],
            "type": "histogram2dcontour"
           }
          ],
          "mesh3d": [
           {
            "colorbar": {
             "outlinewidth": 0,
             "ticks": ""
            },
            "type": "mesh3d"
           }
          ],
          "parcoords": [
           {
            "line": {
             "colorbar": {
              "outlinewidth": 0,
              "ticks": ""
             }
            },
            "type": "parcoords"
           }
          ],
          "pie": [
           {
            "automargin": true,
            "type": "pie"
           }
          ],
          "scatter": [
           {
            "fillpattern": {
             "fillmode": "overlay",
             "size": 10,
             "solidity": 0.2
            },
            "type": "scatter"
           }
          ],
          "scatter3d": [
           {
            "line": {
             "colorbar": {
              "outlinewidth": 0,
              "ticks": ""
             }
            },
            "marker": {
             "colorbar": {
              "outlinewidth": 0,
              "ticks": ""
             }
            },
            "type": "scatter3d"
           }
          ],
          "scattercarpet": [
           {
            "marker": {
             "colorbar": {
              "outlinewidth": 0,
              "ticks": ""
             }
            },
            "type": "scattercarpet"
           }
          ],
          "scattergeo": [
           {
            "marker": {
             "colorbar": {
              "outlinewidth": 0,
              "ticks": ""
             }
            },
            "type": "scattergeo"
           }
          ],
          "scattergl": [
           {
            "marker": {
             "colorbar": {
              "outlinewidth": 0,
              "ticks": ""
             }
            },
            "type": "scattergl"
           }
          ],
          "scattermapbox": [
           {
            "marker": {
             "colorbar": {
              "outlinewidth": 0,
              "ticks": ""
             }
            },
            "type": "scattermapbox"
           }
          ],
          "scatterpolar": [
           {
            "marker": {
             "colorbar": {
              "outlinewidth": 0,
              "ticks": ""
             }
            },
            "type": "scatterpolar"
           }
          ],
          "scatterpolargl": [
           {
            "marker": {
             "colorbar": {
              "outlinewidth": 0,
              "ticks": ""
             }
            },
            "type": "scatterpolargl"
           }
          ],
          "scatterternary": [
           {
            "marker": {
             "colorbar": {
              "outlinewidth": 0,
              "ticks": ""
             }
            },
            "type": "scatterternary"
           }
          ],
          "surface": [
           {
            "colorbar": {
             "outlinewidth": 0,
             "ticks": ""
            },
            "colorscale": [
             [
              0,
              "#0d0887"
             ],
             [
              0.1111111111111111,
              "#46039f"
             ],
             [
              0.2222222222222222,
              "#7201a8"
             ],
             [
              0.3333333333333333,
              "#9c179e"
             ],
             [
              0.4444444444444444,
              "#bd3786"
             ],
             [
              0.5555555555555556,
              "#d8576b"
             ],
             [
              0.6666666666666666,
              "#ed7953"
             ],
             [
              0.7777777777777778,
              "#fb9f3a"
             ],
             [
              0.8888888888888888,
              "#fdca26"
             ],
             [
              1,
              "#f0f921"
             ]
            ],
            "type": "surface"
           }
          ],
          "table": [
           {
            "cells": {
             "fill": {
              "color": "#EBF0F8"
             },
             "line": {
              "color": "white"
             }
            },
            "header": {
             "fill": {
              "color": "#C8D4E3"
             },
             "line": {
              "color": "white"
             }
            },
            "type": "table"
           }
          ]
         },
         "layout": {
          "annotationdefaults": {
           "arrowcolor": "#2a3f5f",
           "arrowhead": 0,
           "arrowwidth": 1
          },
          "autotypenumbers": "strict",
          "coloraxis": {
           "colorbar": {
            "outlinewidth": 0,
            "ticks": ""
           }
          },
          "colorscale": {
           "diverging": [
            [
             0,
             "#8e0152"
            ],
            [
             0.1,
             "#c51b7d"
            ],
            [
             0.2,
             "#de77ae"
            ],
            [
             0.3,
             "#f1b6da"
            ],
            [
             0.4,
             "#fde0ef"
            ],
            [
             0.5,
             "#f7f7f7"
            ],
            [
             0.6,
             "#e6f5d0"
            ],
            [
             0.7,
             "#b8e186"
            ],
            [
             0.8,
             "#7fbc41"
            ],
            [
             0.9,
             "#4d9221"
            ],
            [
             1,
             "#276419"
            ]
           ],
           "sequential": [
            [
             0,
             "#0d0887"
            ],
            [
             0.1111111111111111,
             "#46039f"
            ],
            [
             0.2222222222222222,
             "#7201a8"
            ],
            [
             0.3333333333333333,
             "#9c179e"
            ],
            [
             0.4444444444444444,
             "#bd3786"
            ],
            [
             0.5555555555555556,
             "#d8576b"
            ],
            [
             0.6666666666666666,
             "#ed7953"
            ],
            [
             0.7777777777777778,
             "#fb9f3a"
            ],
            [
             0.8888888888888888,
             "#fdca26"
            ],
            [
             1,
             "#f0f921"
            ]
           ],
           "sequentialminus": [
            [
             0,
             "#0d0887"
            ],
            [
             0.1111111111111111,
             "#46039f"
            ],
            [
             0.2222222222222222,
             "#7201a8"
            ],
            [
             0.3333333333333333,
             "#9c179e"
            ],
            [
             0.4444444444444444,
             "#bd3786"
            ],
            [
             0.5555555555555556,
             "#d8576b"
            ],
            [
             0.6666666666666666,
             "#ed7953"
            ],
            [
             0.7777777777777778,
             "#fb9f3a"
            ],
            [
             0.8888888888888888,
             "#fdca26"
            ],
            [
             1,
             "#f0f921"
            ]
           ]
          },
          "colorway": [
           "#636efa",
           "#EF553B",
           "#00cc96",
           "#ab63fa",
           "#FFA15A",
           "#19d3f3",
           "#FF6692",
           "#B6E880",
           "#FF97FF",
           "#FECB52"
          ],
          "font": {
           "color": "#2a3f5f"
          },
          "geo": {
           "bgcolor": "white",
           "lakecolor": "white",
           "landcolor": "#E5ECF6",
           "showlakes": true,
           "showland": true,
           "subunitcolor": "white"
          },
          "hoverlabel": {
           "align": "left"
          },
          "hovermode": "closest",
          "mapbox": {
           "style": "light"
          },
          "paper_bgcolor": "white",
          "plot_bgcolor": "#E5ECF6",
          "polar": {
           "angularaxis": {
            "gridcolor": "white",
            "linecolor": "white",
            "ticks": ""
           },
           "bgcolor": "#E5ECF6",
           "radialaxis": {
            "gridcolor": "white",
            "linecolor": "white",
            "ticks": ""
           }
          },
          "scene": {
           "xaxis": {
            "backgroundcolor": "#E5ECF6",
            "gridcolor": "white",
            "gridwidth": 2,
            "linecolor": "white",
            "showbackground": true,
            "ticks": "",
            "zerolinecolor": "white"
           },
           "yaxis": {
            "backgroundcolor": "#E5ECF6",
            "gridcolor": "white",
            "gridwidth": 2,
            "linecolor": "white",
            "showbackground": true,
            "ticks": "",
            "zerolinecolor": "white"
           },
           "zaxis": {
            "backgroundcolor": "#E5ECF6",
            "gridcolor": "white",
            "gridwidth": 2,
            "linecolor": "white",
            "showbackground": true,
            "ticks": "",
            "zerolinecolor": "white"
           }
          },
          "shapedefaults": {
           "line": {
            "color": "#2a3f5f"
           }
          },
          "ternary": {
           "aaxis": {
            "gridcolor": "white",
            "linecolor": "white",
            "ticks": ""
           },
           "baxis": {
            "gridcolor": "white",
            "linecolor": "white",
            "ticks": ""
           },
           "bgcolor": "#E5ECF6",
           "caxis": {
            "gridcolor": "white",
            "linecolor": "white",
            "ticks": ""
           }
          },
          "title": {
           "x": 0.05
          },
          "xaxis": {
           "automargin": true,
           "gridcolor": "white",
           "linecolor": "white",
           "ticks": "",
           "title": {
            "standoff": 15
           },
           "zerolinecolor": "white",
           "zerolinewidth": 2
          },
          "yaxis": {
           "automargin": true,
           "gridcolor": "white",
           "linecolor": "white",
           "ticks": "",
           "title": {
            "standoff": 15
           },
           "zerolinecolor": "white",
           "zerolinewidth": 2
          }
         }
        }
       }
      },
      "text/html": [
       "<div>                            <div id=\"1e049579-e304-4681-bfcf-32fcbae3f813\" class=\"plotly-graph-div\" style=\"height:525px; width:100%;\"></div>            <script type=\"text/javascript\">                require([\"plotly\"], function(Plotly) {                    window.PLOTLYENV=window.PLOTLYENV || {};                                    if (document.getElementById(\"1e049579-e304-4681-bfcf-32fcbae3f813\")) {                    Plotly.newPlot(                        \"1e049579-e304-4681-bfcf-32fcbae3f813\",                        [{\"marker\":{\"color\":[6,10,8,7,4,14,1,2,2,14,10,3,11,14,13,14,4,2,11,0,13,5,14,11,10,1,5,3,8,14,6,3,1,4,11,13,5,7,12,4,9,12,11,5,2,14,12,11,0,6,11,9,3,11,1,0,4,1,7,2,6,3,2,13,11,11,5,9,13,2,3,0,9,0,3,10,4,1,7,11,1,0,14,2,1,10,4,0,14,13,5,2,13,0,6,14,1,0,12,4,5,8],\"colorscale\":[[0.0,\"#440154\"],[0.1111111111111111,\"#482878\"],[0.2222222222222222,\"#3e4989\"],[0.3333333333333333,\"#31688e\"],[0.4444444444444444,\"#26828e\"],[0.5555555555555556,\"#1f9e89\"],[0.6666666666666666,\"#35b779\"],[0.7777777777777778,\"#6ece58\"],[0.8888888888888888,\"#b5de2b\"],[1.0,\"#fde725\"]],\"opacity\":0.8,\"size\":5},\"mode\":\"markers\",\"x\":[1.1979551732809566,1.6802756813566453,1.2710769515458673,1.7410288568297003,0.8628589838486225,0.44777568135664547,0.6568430139592794,-0.0009807621135331547,0.3795577136594005,0.536698729810778,0.02473720558371177,0.7596058083755676,1.007631397208144,1.693134665205268,0.18629165124598854,0.18580127018922196,1.7425,0.8490192378864668,0.40478530029987886,0.32125644347017857,0.05290707856478957,0.34844555433772323,1.2829551732809565,-0.02021469970012113,0.8302756813566454,1.1114840301106568,1.3021891108675445,0.8337083487540115,1.285897459621556,0.9320577136594005,1.6229551732809566,0.42352885682970026,0.320766062413412,-0.09088457268119896,1.7835288568297003,0.5520096189432334,0.012368602791855886,0.7576442841485013,1.7237564434701786,0.8480384757729337,-0.004413429510899208,1.3432179676972449,1.299246824526945,0.3039840301106569,-0.07508330249197702,0.052416697508023,0.8144744111674235,0.3751442841485013,1.6407179676972448,1.301698729810778,0.3751442841485013,-0.03405444566227675,1.288349364905389,0.4937083487540115,0.3355865704891008,1.0971539030917346,1.1692949192431121,0.7161250462620344,0.8762083487540114,1.624916697508023,1.7711602540378444,0.7447853002998788,0.3350961894323342,1.8418301270189221,1.8428108891324553,0.40478530029987886,0.8030865704891008,1.6659455543377233,0.9029070785647896,1.1999166975080229,0.3494263164512564,0.7017949192431122,0.45022758664047835,0.23233339501604594,0.7447853002998788,1.7247372055837118,0.2896539030917347,0.8495096189432334,0.846567332602634,0.024246824526945182,-0.08941342951089921,-0.20748711305964282,1.4756217782649106,0.3350961894323342,0.014330127018922195,0.4497372055837118,0.8776794919243112,1.1267949192431121,1.8265192378864668,0.12700961894323345,1.7123686027918559,1.6100961894323342,0.4630865704891008,-0.14820508075688774,1.6822372055837118,1.9006217782649106,1.1114840301106568,1.4925128869403572,1.7978589838486225,0.31929491924311226],\"y\":[2.313923048454132,3.083205080756888,2.3185640646055097,2.9612435565298214,1.499282032302755,1.062487113059643,1.5573205080756887,0.05464101615137755,0.7846410161513775,1.0024871130596429,0.25320508075688775,1.5419615242270663,1.5905255888325764,3.1824871130596426,0.22516660498395405,0.25248711305964283,2.879282032302755,1.4546410161513774,1.0105255888325764,0.77,0.3151666049839541,0.8866025403784439,2.4724871130596426,0.3105255888325765,1.6832050807568877,2.2373205080756886,2.2166025403784433,1.4919615242270663,2.30856406460551,1.7224871130596426,3.0139230484541324,0.7819615242270663,0.7973205080756888,0.16928203230275513,3.040525588832576,0.965166604983954,0.12660254037844387,1.6512435565298214,3.1078460969082653,1.509282032302755,0.24588457268119898,2.377846096908265,2.380525588832576,0.9166025403784439,0.10464101615137755,0.34248711305964286,1.7478460969082652,1.0305255888325764,2.84,2.2439230484541324,1.0305255888325764,0.26588457268119897,2.171961524227066,0.9505255888325765,0.7873205080756888,2.2199999999999998,2.279282032302755,1.5173205080756886,1.5712435565298213,2.9046410161513774,2.9139230484541323,1.5519615242270661,0.8146410161513775,3.055166604983954,3.000525588832576,1.0105255888325764,1.5666025403784438,3.065884572681199,1.715166604983954,2.204641016151377,0.8319615242270663,1.5,0.925884572681199,0.83,1.5519615242270661,3.0532050807568876,0.899282032302755,1.4273205080756888,1.5912435565298213,0.2805255888325765,0.08732050807568878,0.14,2.3424871130596423,0.8146410161513775,0.017320508075688773,0.9532050807568877,1.489282032302755,2.1999999999999997,3.0924871130596427,0.26516660498395406,2.9266025403784437,2.9146410161513776,1.025166604983954,0.10000000000000002,2.9739230484541324,3.0424871130596425,2.2373205080756886,2.94,3.057846096908265,0.879282032302755],\"z\":[90.0,120.0,90.0,120.0,60.0,30.0,60.0,0.0,30.0,30.0,0.0,60.0,60.0,120.0,0.0,0.0,120.0,60.0,30.0,30.0,0.0,30.0,90.0,0.0,60.0,90.0,90.0,60.0,90.0,60.0,120.0,30.0,30.0,0.0,120.0,30.0,0.0,60.0,120.0,60.0,0.0,90.0,90.0,30.0,0.0,0.0,60.0,30.0,120.0,90.0,30.0,0.0,90.0,30.0,30.0,90.0,90.0,60.0,60.0,120.0,120.0,60.0,30.0,120.0,120.0,30.0,60.0,120.0,60.0,90.0,30.0,60.0,30.0,30.0,60.0,120.0,30.0,60.0,60.0,0.0,0.0,0.0,90.0,30.0,0.0,30.0,60.0,90.0,120.0,0.0,120.0,120.0,30.0,0.0,120.0,120.0,90.0,120.0,120.0,30.0],\"type\":\"scatter3d\"}],                        {\"template\":{\"data\":{\"histogram2dcontour\":[{\"type\":\"histogram2dcontour\",\"colorbar\":{\"outlinewidth\":0,\"ticks\":\"\"},\"colorscale\":[[0.0,\"#0d0887\"],[0.1111111111111111,\"#46039f\"],[0.2222222222222222,\"#7201a8\"],[0.3333333333333333,\"#9c179e\"],[0.4444444444444444,\"#bd3786\"],[0.5555555555555556,\"#d8576b\"],[0.6666666666666666,\"#ed7953\"],[0.7777777777777778,\"#fb9f3a\"],[0.8888888888888888,\"#fdca26\"],[1.0,\"#f0f921\"]]}],\"choropleth\":[{\"type\":\"choropleth\",\"colorbar\":{\"outlinewidth\":0,\"ticks\":\"\"}}],\"histogram2d\":[{\"type\":\"histogram2d\",\"colorbar\":{\"outlinewidth\":0,\"ticks\":\"\"},\"colorscale\":[[0.0,\"#0d0887\"],[0.1111111111111111,\"#46039f\"],[0.2222222222222222,\"#7201a8\"],[0.3333333333333333,\"#9c179e\"],[0.4444444444444444,\"#bd3786\"],[0.5555555555555556,\"#d8576b\"],[0.6666666666666666,\"#ed7953\"],[0.7777777777777778,\"#fb9f3a\"],[0.8888888888888888,\"#fdca26\"],[1.0,\"#f0f921\"]]}],\"heatmap\":[{\"type\":\"heatmap\",\"colorbar\":{\"outlinewidth\":0,\"ticks\":\"\"},\"colorscale\":[[0.0,\"#0d0887\"],[0.1111111111111111,\"#46039f\"],[0.2222222222222222,\"#7201a8\"],[0.3333333333333333,\"#9c179e\"],[0.4444444444444444,\"#bd3786\"],[0.5555555555555556,\"#d8576b\"],[0.6666666666666666,\"#ed7953\"],[0.7777777777777778,\"#fb9f3a\"],[0.8888888888888888,\"#fdca26\"],[1.0,\"#f0f921\"]]}],\"heatmapgl\":[{\"type\":\"heatmapgl\",\"colorbar\":{\"outlinewidth\":0,\"ticks\":\"\"},\"colorscale\":[[0.0,\"#0d0887\"],[0.1111111111111111,\"#46039f\"],[0.2222222222222222,\"#7201a8\"],[0.3333333333333333,\"#9c179e\"],[0.4444444444444444,\"#bd3786\"],[0.5555555555555556,\"#d8576b\"],[0.6666666666666666,\"#ed7953\"],[0.7777777777777778,\"#fb9f3a\"],[0.8888888888888888,\"#fdca26\"],[1.0,\"#f0f921\"]]}],\"contourcarpet\":[{\"type\":\"contourcarpet\",\"colorbar\":{\"outlinewidth\":0,\"ticks\":\"\"}}],\"contour\":[{\"type\":\"contour\",\"colorbar\":{\"outlinewidth\":0,\"ticks\":\"\"},\"colorscale\":[[0.0,\"#0d0887\"],[0.1111111111111111,\"#46039f\"],[0.2222222222222222,\"#7201a8\"],[0.3333333333333333,\"#9c179e\"],[0.4444444444444444,\"#bd3786\"],[0.5555555555555556,\"#d8576b\"],[0.6666666666666666,\"#ed7953\"],[0.7777777777777778,\"#fb9f3a\"],[0.8888888888888888,\"#fdca26\"],[1.0,\"#f0f921\"]]}],\"surface\":[{\"type\":\"surface\",\"colorbar\":{\"outlinewidth\":0,\"ticks\":\"\"},\"colorscale\":[[0.0,\"#0d0887\"],[0.1111111111111111,\"#46039f\"],[0.2222222222222222,\"#7201a8\"],[0.3333333333333333,\"#9c179e\"],[0.4444444444444444,\"#bd3786\"],[0.5555555555555556,\"#d8576b\"],[0.6666666666666666,\"#ed7953\"],[0.7777777777777778,\"#fb9f3a\"],[0.8888888888888888,\"#fdca26\"],[1.0,\"#f0f921\"]]}],\"mesh3d\":[{\"type\":\"mesh3d\",\"colorbar\":{\"outlinewidth\":0,\"ticks\":\"\"}}],\"scatter\":[{\"fillpattern\":{\"fillmode\":\"overlay\",\"size\":10,\"solidity\":0.2},\"type\":\"scatter\"}],\"parcoords\":[{\"type\":\"parcoords\",\"line\":{\"colorbar\":{\"outlinewidth\":0,\"ticks\":\"\"}}}],\"scatterpolargl\":[{\"type\":\"scatterpolargl\",\"marker\":{\"colorbar\":{\"outlinewidth\":0,\"ticks\":\"\"}}}],\"bar\":[{\"error_x\":{\"color\":\"#2a3f5f\"},\"error_y\":{\"color\":\"#2a3f5f\"},\"marker\":{\"line\":{\"color\":\"#E5ECF6\",\"width\":0.5},\"pattern\":{\"fillmode\":\"overlay\",\"size\":10,\"solidity\":0.2}},\"type\":\"bar\"}],\"scattergeo\":[{\"type\":\"scattergeo\",\"marker\":{\"colorbar\":{\"outlinewidth\":0,\"ticks\":\"\"}}}],\"scatterpolar\":[{\"type\":\"scatterpolar\",\"marker\":{\"colorbar\":{\"outlinewidth\":0,\"ticks\":\"\"}}}],\"histogram\":[{\"marker\":{\"pattern\":{\"fillmode\":\"overlay\",\"size\":10,\"solidity\":0.2}},\"type\":\"histogram\"}],\"scattergl\":[{\"type\":\"scattergl\",\"marker\":{\"colorbar\":{\"outlinewidth\":0,\"ticks\":\"\"}}}],\"scatter3d\":[{\"type\":\"scatter3d\",\"line\":{\"colorbar\":{\"outlinewidth\":0,\"ticks\":\"\"}},\"marker\":{\"colorbar\":{\"outlinewidth\":0,\"ticks\":\"\"}}}],\"scattermapbox\":[{\"type\":\"scattermapbox\",\"marker\":{\"colorbar\":{\"outlinewidth\":0,\"ticks\":\"\"}}}],\"scatterternary\":[{\"type\":\"scatterternary\",\"marker\":{\"colorbar\":{\"outlinewidth\":0,\"ticks\":\"\"}}}],\"scattercarpet\":[{\"type\":\"scattercarpet\",\"marker\":{\"colorbar\":{\"outlinewidth\":0,\"ticks\":\"\"}}}],\"carpet\":[{\"aaxis\":{\"endlinecolor\":\"#2a3f5f\",\"gridcolor\":\"white\",\"linecolor\":\"white\",\"minorgridcolor\":\"white\",\"startlinecolor\":\"#2a3f5f\"},\"baxis\":{\"endlinecolor\":\"#2a3f5f\",\"gridcolor\":\"white\",\"linecolor\":\"white\",\"minorgridcolor\":\"white\",\"startlinecolor\":\"#2a3f5f\"},\"type\":\"carpet\"}],\"table\":[{\"cells\":{\"fill\":{\"color\":\"#EBF0F8\"},\"line\":{\"color\":\"white\"}},\"header\":{\"fill\":{\"color\":\"#C8D4E3\"},\"line\":{\"color\":\"white\"}},\"type\":\"table\"}],\"barpolar\":[{\"marker\":{\"line\":{\"color\":\"#E5ECF6\",\"width\":0.5},\"pattern\":{\"fillmode\":\"overlay\",\"size\":10,\"solidity\":0.2}},\"type\":\"barpolar\"}],\"pie\":[{\"automargin\":true,\"type\":\"pie\"}]},\"layout\":{\"autotypenumbers\":\"strict\",\"colorway\":[\"#636efa\",\"#EF553B\",\"#00cc96\",\"#ab63fa\",\"#FFA15A\",\"#19d3f3\",\"#FF6692\",\"#B6E880\",\"#FF97FF\",\"#FECB52\"],\"font\":{\"color\":\"#2a3f5f\"},\"hovermode\":\"closest\",\"hoverlabel\":{\"align\":\"left\"},\"paper_bgcolor\":\"white\",\"plot_bgcolor\":\"#E5ECF6\",\"polar\":{\"bgcolor\":\"#E5ECF6\",\"angularaxis\":{\"gridcolor\":\"white\",\"linecolor\":\"white\",\"ticks\":\"\"},\"radialaxis\":{\"gridcolor\":\"white\",\"linecolor\":\"white\",\"ticks\":\"\"}},\"ternary\":{\"bgcolor\":\"#E5ECF6\",\"aaxis\":{\"gridcolor\":\"white\",\"linecolor\":\"white\",\"ticks\":\"\"},\"baxis\":{\"gridcolor\":\"white\",\"linecolor\":\"white\",\"ticks\":\"\"},\"caxis\":{\"gridcolor\":\"white\",\"linecolor\":\"white\",\"ticks\":\"\"}},\"coloraxis\":{\"colorbar\":{\"outlinewidth\":0,\"ticks\":\"\"}},\"colorscale\":{\"sequential\":[[0.0,\"#0d0887\"],[0.1111111111111111,\"#46039f\"],[0.2222222222222222,\"#7201a8\"],[0.3333333333333333,\"#9c179e\"],[0.4444444444444444,\"#bd3786\"],[0.5555555555555556,\"#d8576b\"],[0.6666666666666666,\"#ed7953\"],[0.7777777777777778,\"#fb9f3a\"],[0.8888888888888888,\"#fdca26\"],[1.0,\"#f0f921\"]],\"sequentialminus\":[[0.0,\"#0d0887\"],[0.1111111111111111,\"#46039f\"],[0.2222222222222222,\"#7201a8\"],[0.3333333333333333,\"#9c179e\"],[0.4444444444444444,\"#bd3786\"],[0.5555555555555556,\"#d8576b\"],[0.6666666666666666,\"#ed7953\"],[0.7777777777777778,\"#fb9f3a\"],[0.8888888888888888,\"#fdca26\"],[1.0,\"#f0f921\"]],\"diverging\":[[0,\"#8e0152\"],[0.1,\"#c51b7d\"],[0.2,\"#de77ae\"],[0.3,\"#f1b6da\"],[0.4,\"#fde0ef\"],[0.5,\"#f7f7f7\"],[0.6,\"#e6f5d0\"],[0.7,\"#b8e186\"],[0.8,\"#7fbc41\"],[0.9,\"#4d9221\"],[1,\"#276419\"]]},\"xaxis\":{\"gridcolor\":\"white\",\"linecolor\":\"white\",\"ticks\":\"\",\"title\":{\"standoff\":15},\"zerolinecolor\":\"white\",\"automargin\":true,\"zerolinewidth\":2},\"yaxis\":{\"gridcolor\":\"white\",\"linecolor\":\"white\",\"ticks\":\"\",\"title\":{\"standoff\":15},\"zerolinecolor\":\"white\",\"automargin\":true,\"zerolinewidth\":2},\"scene\":{\"xaxis\":{\"backgroundcolor\":\"#E5ECF6\",\"gridcolor\":\"white\",\"linecolor\":\"white\",\"showbackground\":true,\"ticks\":\"\",\"zerolinecolor\":\"white\",\"gridwidth\":2},\"yaxis\":{\"backgroundcolor\":\"#E5ECF6\",\"gridcolor\":\"white\",\"linecolor\":\"white\",\"showbackground\":true,\"ticks\":\"\",\"zerolinecolor\":\"white\",\"gridwidth\":2},\"zaxis\":{\"backgroundcolor\":\"#E5ECF6\",\"gridcolor\":\"white\",\"linecolor\":\"white\",\"showbackground\":true,\"ticks\":\"\",\"zerolinecolor\":\"white\",\"gridwidth\":2}},\"shapedefaults\":{\"line\":{\"color\":\"#2a3f5f\"}},\"annotationdefaults\":{\"arrowcolor\":\"#2a3f5f\",\"arrowhead\":0,\"arrowwidth\":1},\"geo\":{\"bgcolor\":\"white\",\"landcolor\":\"#E5ECF6\",\"subunitcolor\":\"white\",\"showland\":true,\"showlakes\":true,\"lakecolor\":\"white\"},\"title\":{\"x\":0.05},\"mapbox\":{\"style\":\"light\"}}},\"margin\":{\"l\":0,\"r\":0,\"b\":0,\"t\":0}},                        {\"responsive\": true}                    ).then(function(){\n",
       "                            \n",
       "var gd = document.getElementById('1e049579-e304-4681-bfcf-32fcbae3f813');\n",
       "var x = new MutationObserver(function (mutations, observer) {{\n",
       "        var display = window.getComputedStyle(gd).display;\n",
       "        if (!display || display === 'none') {{\n",
       "            console.log([gd, 'removed!']);\n",
       "            Plotly.purge(gd);\n",
       "            observer.disconnect();\n",
       "        }}\n",
       "}});\n",
       "\n",
       "// Listen for the removal of the full notebook cells\n",
       "var notebookContainer = gd.closest('#notebook-container');\n",
       "if (notebookContainer) {{\n",
       "    x.observe(notebookContainer, {childList: true});\n",
       "}}\n",
       "\n",
       "// Listen for the clearing of the current output cell\n",
       "var outputEl = gd.closest('.output');\n",
       "if (outputEl) {{\n",
       "    x.observe(outputEl, {childList: true});\n",
       "}}\n",
       "\n",
       "                        })                };                });            </script>        </div>"
      ]
     },
     "metadata": {},
     "output_type": "display_data"
    }
   ],
   "source": [
    "fig_c1 = go.Figure(data=[go.Scatter3d(\n",
    "    x=x_c1,\n",
    "    y=y_c1,\n",
    "    z=z_c1,\n",
    "    mode='markers',\n",
    "    marker=dict(\n",
    "        size=5,\n",
    "        color=x,                # set color to an array/list of desired values\n",
    "        colorscale='Viridis',   # choose a colorscale\n",
    "        opacity=0.8\n",
    "    )\n",
    ")])\n",
    "\n",
    "\n",
    "\n",
    "fig_c1.update_layout(margin=dict(l=0, r=0, b=0, t=0))\n",
    "fig_c1.show()"
   ]
  },
  {
   "cell_type": "code",
   "execution_count": 71,
   "id": "6e976c33",
   "metadata": {},
   "outputs": [
    {
     "data": {
      "application/vnd.plotly.v1+json": {
       "config": {
        "plotlyServerURL": "https://plot.ly"
       },
       "data": [
        {
         "marker": {
          "color": [
           6,
           10,
           8,
           7,
           4,
           14,
           1,
           2,
           2,
           14,
           10,
           3,
           11,
           14,
           13,
           14,
           4,
           2,
           11,
           0,
           13,
           5,
           14,
           11,
           10,
           1,
           5,
           3,
           8,
           14,
           6,
           3,
           1,
           4,
           11,
           13,
           5,
           7,
           12,
           4,
           9,
           12,
           11,
           5,
           2,
           14,
           12,
           11,
           0,
           6,
           11,
           9,
           3,
           11,
           1,
           0,
           4,
           1,
           7,
           2,
           6,
           3,
           2,
           13,
           11,
           11,
           5,
           9,
           13,
           2,
           3,
           0,
           9,
           0,
           3,
           10,
           4,
           1,
           7,
           11,
           1,
           0,
           14,
           2,
           1,
           10,
           4,
           0,
           14,
           13,
           5,
           2,
           13,
           0,
           6,
           14,
           1,
           0,
           12,
           4,
           5,
           8
          ],
          "colorscale": [
           [
            0,
            "#440154"
           ],
           [
            0.1111111111111111,
            "#482878"
           ],
           [
            0.2222222222222222,
            "#3e4989"
           ],
           [
            0.3333333333333333,
            "#31688e"
           ],
           [
            0.4444444444444444,
            "#26828e"
           ],
           [
            0.5555555555555556,
            "#1f9e89"
           ],
           [
            0.6666666666666666,
            "#35b779"
           ],
           [
            0.7777777777777778,
            "#6ece58"
           ],
           [
            0.8888888888888888,
            "#b5de2b"
           ],
           [
            1,
            "#fde725"
           ]
          ],
          "opacity": 0.8,
          "size": 5
         },
         "mode": "markers",
         "type": "scatter3d",
         "x": [
          1.1979551732809566,
          1.6802756813566453,
          1.2710769515458673,
          1.7410288568297003,
          0.8628589838486225,
          0.44777568135664547,
          0.6568430139592794,
          -0.0009807621135331547,
          0.3795577136594005,
          0.536698729810778,
          0.02473720558371177,
          0.7596058083755676,
          1.007631397208144,
          1.693134665205268,
          0.18629165124598854,
          0.18580127018922196,
          1.7425,
          0.8490192378864668,
          0.40478530029987886,
          0.32125644347017857,
          0.05290707856478957,
          0.34844555433772323,
          1.2829551732809565,
          -0.02021469970012113,
          0.8302756813566454,
          1.1114840301106568,
          1.3021891108675445,
          0.8337083487540115,
          1.285897459621556,
          0.9320577136594005,
          1.6229551732809566,
          0.42352885682970026,
          0.320766062413412,
          -0.09088457268119896,
          1.7835288568297003,
          0.5520096189432334,
          0.012368602791855886,
          0.7576442841485013,
          1.7237564434701786,
          0.8480384757729337,
          -0.004413429510899208,
          1.3432179676972449,
          1.299246824526945,
          0.3039840301106569,
          -0.07508330249197702,
          0.052416697508023,
          0.8144744111674235,
          0.3751442841485013,
          1.6407179676972448,
          1.301698729810778,
          0.3751442841485013,
          -0.03405444566227675,
          1.288349364905389,
          0.4937083487540115,
          0.3355865704891008,
          1.0971539030917346,
          1.1692949192431121,
          0.7161250462620344,
          0.8762083487540114,
          1.624916697508023,
          1.7711602540378444,
          0.7447853002998788,
          0.3350961894323342,
          1.8418301270189221,
          1.8428108891324553,
          0.40478530029987886,
          0.8030865704891008,
          1.6659455543377233,
          0.9029070785647896,
          1.1999166975080229,
          0.3494263164512564,
          0.7017949192431122,
          0.45022758664047835,
          0.23233339501604594,
          0.7447853002998788,
          1.7247372055837118,
          0.2896539030917347,
          0.8495096189432334,
          0.846567332602634,
          0.024246824526945182,
          -0.08941342951089921,
          -0.20748711305964282,
          1.4756217782649106,
          0.3350961894323342,
          0.014330127018922195,
          0.4497372055837118,
          0.8776794919243112,
          1.1267949192431121,
          1.8265192378864668,
          0.12700961894323345,
          1.7123686027918559,
          1.6100961894323342,
          0.4630865704891008,
          -0.14820508075688774,
          1.6822372055837118,
          1.9006217782649106,
          1.1114840301106568,
          1.4925128869403572,
          1.7978589838486225,
          0.31929491924311226
         ],
         "y": [
          2.313923048454132,
          3.083205080756888,
          2.3185640646055097,
          2.9612435565298214,
          1.499282032302755,
          1.062487113059643,
          1.5573205080756887,
          0.05464101615137755,
          0.7846410161513775,
          1.0024871130596429,
          0.25320508075688775,
          1.5419615242270663,
          1.5905255888325764,
          3.1824871130596426,
          0.22516660498395405,
          0.25248711305964283,
          2.879282032302755,
          1.4546410161513774,
          1.0105255888325764,
          0.77,
          0.3151666049839541,
          0.8866025403784439,
          2.4724871130596426,
          0.3105255888325765,
          1.6832050807568877,
          2.2373205080756886,
          2.2166025403784433,
          1.4919615242270663,
          2.30856406460551,
          1.7224871130596426,
          3.0139230484541324,
          0.7819615242270663,
          0.7973205080756888,
          0.16928203230275513,
          3.040525588832576,
          0.965166604983954,
          0.12660254037844387,
          1.6512435565298214,
          3.1078460969082653,
          1.509282032302755,
          0.24588457268119898,
          2.377846096908265,
          2.380525588832576,
          0.9166025403784439,
          0.10464101615137755,
          0.34248711305964286,
          1.7478460969082652,
          1.0305255888325764,
          2.84,
          2.2439230484541324,
          1.0305255888325764,
          0.26588457268119897,
          2.171961524227066,
          0.9505255888325765,
          0.7873205080756888,
          2.2199999999999998,
          2.279282032302755,
          1.5173205080756886,
          1.5712435565298213,
          2.9046410161513774,
          2.9139230484541323,
          1.5519615242270661,
          0.8146410161513775,
          3.055166604983954,
          3.000525588832576,
          1.0105255888325764,
          1.5666025403784438,
          3.065884572681199,
          1.715166604983954,
          2.204641016151377,
          0.8319615242270663,
          1.5,
          0.925884572681199,
          0.83,
          1.5519615242270661,
          3.0532050807568876,
          0.899282032302755,
          1.4273205080756888,
          1.5912435565298213,
          0.2805255888325765,
          0.08732050807568878,
          0.14,
          2.3424871130596423,
          0.8146410161513775,
          0.017320508075688773,
          0.9532050807568877,
          1.489282032302755,
          2.1999999999999997,
          3.0924871130596427,
          0.26516660498395406,
          2.9266025403784437,
          2.9146410161513776,
          1.025166604983954,
          0.10000000000000002,
          2.9739230484541324,
          3.0424871130596425,
          2.2373205080756886,
          2.94,
          3.057846096908265,
          0.879282032302755
         ],
         "z": [
          90,
          120,
          90,
          120,
          60,
          30,
          60,
          0,
          30,
          30,
          0,
          60,
          60,
          120,
          0,
          0,
          120,
          60,
          30,
          30,
          0,
          30,
          90,
          0,
          60,
          90,
          90,
          60,
          90,
          60,
          120,
          30,
          30,
          0,
          120,
          30,
          0,
          60,
          120,
          60,
          0,
          90,
          90,
          30,
          0,
          0,
          60,
          30,
          120,
          90,
          30,
          0,
          90,
          30,
          30,
          90,
          90,
          60,
          60,
          120,
          120,
          60,
          30,
          120,
          120,
          30,
          60,
          120,
          60,
          90,
          30,
          60,
          30,
          30,
          60,
          120,
          30,
          60,
          60,
          0,
          0,
          0,
          90,
          30,
          0,
          30,
          60,
          90,
          120,
          0,
          120,
          120,
          30,
          0,
          120,
          120,
          90,
          120,
          120,
          30
         ]
        }
       ],
       "layout": {
        "margin": {
         "b": 0,
         "l": 0,
         "r": 0,
         "t": 0
        },
        "scene": {
         "camera": {
          "eye": {
           "x": 0,
           "y": 3,
           "z": 0
          }
         }
        },
        "template": {
         "data": {
          "bar": [
           {
            "error_x": {
             "color": "#2a3f5f"
            },
            "error_y": {
             "color": "#2a3f5f"
            },
            "marker": {
             "line": {
              "color": "#E5ECF6",
              "width": 0.5
             },
             "pattern": {
              "fillmode": "overlay",
              "size": 10,
              "solidity": 0.2
             }
            },
            "type": "bar"
           }
          ],
          "barpolar": [
           {
            "marker": {
             "line": {
              "color": "#E5ECF6",
              "width": 0.5
             },
             "pattern": {
              "fillmode": "overlay",
              "size": 10,
              "solidity": 0.2
             }
            },
            "type": "barpolar"
           }
          ],
          "carpet": [
           {
            "aaxis": {
             "endlinecolor": "#2a3f5f",
             "gridcolor": "white",
             "linecolor": "white",
             "minorgridcolor": "white",
             "startlinecolor": "#2a3f5f"
            },
            "baxis": {
             "endlinecolor": "#2a3f5f",
             "gridcolor": "white",
             "linecolor": "white",
             "minorgridcolor": "white",
             "startlinecolor": "#2a3f5f"
            },
            "type": "carpet"
           }
          ],
          "choropleth": [
           {
            "colorbar": {
             "outlinewidth": 0,
             "ticks": ""
            },
            "type": "choropleth"
           }
          ],
          "contour": [
           {
            "colorbar": {
             "outlinewidth": 0,
             "ticks": ""
            },
            "colorscale": [
             [
              0,
              "#0d0887"
             ],
             [
              0.1111111111111111,
              "#46039f"
             ],
             [
              0.2222222222222222,
              "#7201a8"
             ],
             [
              0.3333333333333333,
              "#9c179e"
             ],
             [
              0.4444444444444444,
              "#bd3786"
             ],
             [
              0.5555555555555556,
              "#d8576b"
             ],
             [
              0.6666666666666666,
              "#ed7953"
             ],
             [
              0.7777777777777778,
              "#fb9f3a"
             ],
             [
              0.8888888888888888,
              "#fdca26"
             ],
             [
              1,
              "#f0f921"
             ]
            ],
            "type": "contour"
           }
          ],
          "contourcarpet": [
           {
            "colorbar": {
             "outlinewidth": 0,
             "ticks": ""
            },
            "type": "contourcarpet"
           }
          ],
          "heatmap": [
           {
            "colorbar": {
             "outlinewidth": 0,
             "ticks": ""
            },
            "colorscale": [
             [
              0,
              "#0d0887"
             ],
             [
              0.1111111111111111,
              "#46039f"
             ],
             [
              0.2222222222222222,
              "#7201a8"
             ],
             [
              0.3333333333333333,
              "#9c179e"
             ],
             [
              0.4444444444444444,
              "#bd3786"
             ],
             [
              0.5555555555555556,
              "#d8576b"
             ],
             [
              0.6666666666666666,
              "#ed7953"
             ],
             [
              0.7777777777777778,
              "#fb9f3a"
             ],
             [
              0.8888888888888888,
              "#fdca26"
             ],
             [
              1,
              "#f0f921"
             ]
            ],
            "type": "heatmap"
           }
          ],
          "heatmapgl": [
           {
            "colorbar": {
             "outlinewidth": 0,
             "ticks": ""
            },
            "colorscale": [
             [
              0,
              "#0d0887"
             ],
             [
              0.1111111111111111,
              "#46039f"
             ],
             [
              0.2222222222222222,
              "#7201a8"
             ],
             [
              0.3333333333333333,
              "#9c179e"
             ],
             [
              0.4444444444444444,
              "#bd3786"
             ],
             [
              0.5555555555555556,
              "#d8576b"
             ],
             [
              0.6666666666666666,
              "#ed7953"
             ],
             [
              0.7777777777777778,
              "#fb9f3a"
             ],
             [
              0.8888888888888888,
              "#fdca26"
             ],
             [
              1,
              "#f0f921"
             ]
            ],
            "type": "heatmapgl"
           }
          ],
          "histogram": [
           {
            "marker": {
             "pattern": {
              "fillmode": "overlay",
              "size": 10,
              "solidity": 0.2
             }
            },
            "type": "histogram"
           }
          ],
          "histogram2d": [
           {
            "colorbar": {
             "outlinewidth": 0,
             "ticks": ""
            },
            "colorscale": [
             [
              0,
              "#0d0887"
             ],
             [
              0.1111111111111111,
              "#46039f"
             ],
             [
              0.2222222222222222,
              "#7201a8"
             ],
             [
              0.3333333333333333,
              "#9c179e"
             ],
             [
              0.4444444444444444,
              "#bd3786"
             ],
             [
              0.5555555555555556,
              "#d8576b"
             ],
             [
              0.6666666666666666,
              "#ed7953"
             ],
             [
              0.7777777777777778,
              "#fb9f3a"
             ],
             [
              0.8888888888888888,
              "#fdca26"
             ],
             [
              1,
              "#f0f921"
             ]
            ],
            "type": "histogram2d"
           }
          ],
          "histogram2dcontour": [
           {
            "colorbar": {
             "outlinewidth": 0,
             "ticks": ""
            },
            "colorscale": [
             [
              0,
              "#0d0887"
             ],
             [
              0.1111111111111111,
              "#46039f"
             ],
             [
              0.2222222222222222,
              "#7201a8"
             ],
             [
              0.3333333333333333,
              "#9c179e"
             ],
             [
              0.4444444444444444,
              "#bd3786"
             ],
             [
              0.5555555555555556,
              "#d8576b"
             ],
             [
              0.6666666666666666,
              "#ed7953"
             ],
             [
              0.7777777777777778,
              "#fb9f3a"
             ],
             [
              0.8888888888888888,
              "#fdca26"
             ],
             [
              1,
              "#f0f921"
             ]
            ],
            "type": "histogram2dcontour"
           }
          ],
          "mesh3d": [
           {
            "colorbar": {
             "outlinewidth": 0,
             "ticks": ""
            },
            "type": "mesh3d"
           }
          ],
          "parcoords": [
           {
            "line": {
             "colorbar": {
              "outlinewidth": 0,
              "ticks": ""
             }
            },
            "type": "parcoords"
           }
          ],
          "pie": [
           {
            "automargin": true,
            "type": "pie"
           }
          ],
          "scatter": [
           {
            "fillpattern": {
             "fillmode": "overlay",
             "size": 10,
             "solidity": 0.2
            },
            "type": "scatter"
           }
          ],
          "scatter3d": [
           {
            "line": {
             "colorbar": {
              "outlinewidth": 0,
              "ticks": ""
             }
            },
            "marker": {
             "colorbar": {
              "outlinewidth": 0,
              "ticks": ""
             }
            },
            "type": "scatter3d"
           }
          ],
          "scattercarpet": [
           {
            "marker": {
             "colorbar": {
              "outlinewidth": 0,
              "ticks": ""
             }
            },
            "type": "scattercarpet"
           }
          ],
          "scattergeo": [
           {
            "marker": {
             "colorbar": {
              "outlinewidth": 0,
              "ticks": ""
             }
            },
            "type": "scattergeo"
           }
          ],
          "scattergl": [
           {
            "marker": {
             "colorbar": {
              "outlinewidth": 0,
              "ticks": ""
             }
            },
            "type": "scattergl"
           }
          ],
          "scattermapbox": [
           {
            "marker": {
             "colorbar": {
              "outlinewidth": 0,
              "ticks": ""
             }
            },
            "type": "scattermapbox"
           }
          ],
          "scatterpolar": [
           {
            "marker": {
             "colorbar": {
              "outlinewidth": 0,
              "ticks": ""
             }
            },
            "type": "scatterpolar"
           }
          ],
          "scatterpolargl": [
           {
            "marker": {
             "colorbar": {
              "outlinewidth": 0,
              "ticks": ""
             }
            },
            "type": "scatterpolargl"
           }
          ],
          "scatterternary": [
           {
            "marker": {
             "colorbar": {
              "outlinewidth": 0,
              "ticks": ""
             }
            },
            "type": "scatterternary"
           }
          ],
          "surface": [
           {
            "colorbar": {
             "outlinewidth": 0,
             "ticks": ""
            },
            "colorscale": [
             [
              0,
              "#0d0887"
             ],
             [
              0.1111111111111111,
              "#46039f"
             ],
             [
              0.2222222222222222,
              "#7201a8"
             ],
             [
              0.3333333333333333,
              "#9c179e"
             ],
             [
              0.4444444444444444,
              "#bd3786"
             ],
             [
              0.5555555555555556,
              "#d8576b"
             ],
             [
              0.6666666666666666,
              "#ed7953"
             ],
             [
              0.7777777777777778,
              "#fb9f3a"
             ],
             [
              0.8888888888888888,
              "#fdca26"
             ],
             [
              1,
              "#f0f921"
             ]
            ],
            "type": "surface"
           }
          ],
          "table": [
           {
            "cells": {
             "fill": {
              "color": "#EBF0F8"
             },
             "line": {
              "color": "white"
             }
            },
            "header": {
             "fill": {
              "color": "#C8D4E3"
             },
             "line": {
              "color": "white"
             }
            },
            "type": "table"
           }
          ]
         },
         "layout": {
          "annotationdefaults": {
           "arrowcolor": "#2a3f5f",
           "arrowhead": 0,
           "arrowwidth": 1
          },
          "autotypenumbers": "strict",
          "coloraxis": {
           "colorbar": {
            "outlinewidth": 0,
            "ticks": ""
           }
          },
          "colorscale": {
           "diverging": [
            [
             0,
             "#8e0152"
            ],
            [
             0.1,
             "#c51b7d"
            ],
            [
             0.2,
             "#de77ae"
            ],
            [
             0.3,
             "#f1b6da"
            ],
            [
             0.4,
             "#fde0ef"
            ],
            [
             0.5,
             "#f7f7f7"
            ],
            [
             0.6,
             "#e6f5d0"
            ],
            [
             0.7,
             "#b8e186"
            ],
            [
             0.8,
             "#7fbc41"
            ],
            [
             0.9,
             "#4d9221"
            ],
            [
             1,
             "#276419"
            ]
           ],
           "sequential": [
            [
             0,
             "#0d0887"
            ],
            [
             0.1111111111111111,
             "#46039f"
            ],
            [
             0.2222222222222222,
             "#7201a8"
            ],
            [
             0.3333333333333333,
             "#9c179e"
            ],
            [
             0.4444444444444444,
             "#bd3786"
            ],
            [
             0.5555555555555556,
             "#d8576b"
            ],
            [
             0.6666666666666666,
             "#ed7953"
            ],
            [
             0.7777777777777778,
             "#fb9f3a"
            ],
            [
             0.8888888888888888,
             "#fdca26"
            ],
            [
             1,
             "#f0f921"
            ]
           ],
           "sequentialminus": [
            [
             0,
             "#0d0887"
            ],
            [
             0.1111111111111111,
             "#46039f"
            ],
            [
             0.2222222222222222,
             "#7201a8"
            ],
            [
             0.3333333333333333,
             "#9c179e"
            ],
            [
             0.4444444444444444,
             "#bd3786"
            ],
            [
             0.5555555555555556,
             "#d8576b"
            ],
            [
             0.6666666666666666,
             "#ed7953"
            ],
            [
             0.7777777777777778,
             "#fb9f3a"
            ],
            [
             0.8888888888888888,
             "#fdca26"
            ],
            [
             1,
             "#f0f921"
            ]
           ]
          },
          "colorway": [
           "#636efa",
           "#EF553B",
           "#00cc96",
           "#ab63fa",
           "#FFA15A",
           "#19d3f3",
           "#FF6692",
           "#B6E880",
           "#FF97FF",
           "#FECB52"
          ],
          "font": {
           "color": "#2a3f5f"
          },
          "geo": {
           "bgcolor": "white",
           "lakecolor": "white",
           "landcolor": "#E5ECF6",
           "showlakes": true,
           "showland": true,
           "subunitcolor": "white"
          },
          "hoverlabel": {
           "align": "left"
          },
          "hovermode": "closest",
          "mapbox": {
           "style": "light"
          },
          "paper_bgcolor": "white",
          "plot_bgcolor": "#E5ECF6",
          "polar": {
           "angularaxis": {
            "gridcolor": "white",
            "linecolor": "white",
            "ticks": ""
           },
           "bgcolor": "#E5ECF6",
           "radialaxis": {
            "gridcolor": "white",
            "linecolor": "white",
            "ticks": ""
           }
          },
          "scene": {
           "xaxis": {
            "backgroundcolor": "#E5ECF6",
            "gridcolor": "white",
            "gridwidth": 2,
            "linecolor": "white",
            "showbackground": true,
            "ticks": "",
            "zerolinecolor": "white"
           },
           "yaxis": {
            "backgroundcolor": "#E5ECF6",
            "gridcolor": "white",
            "gridwidth": 2,
            "linecolor": "white",
            "showbackground": true,
            "ticks": "",
            "zerolinecolor": "white"
           },
           "zaxis": {
            "backgroundcolor": "#E5ECF6",
            "gridcolor": "white",
            "gridwidth": 2,
            "linecolor": "white",
            "showbackground": true,
            "ticks": "",
            "zerolinecolor": "white"
           }
          },
          "shapedefaults": {
           "line": {
            "color": "#2a3f5f"
           }
          },
          "ternary": {
           "aaxis": {
            "gridcolor": "white",
            "linecolor": "white",
            "ticks": ""
           },
           "baxis": {
            "gridcolor": "white",
            "linecolor": "white",
            "ticks": ""
           },
           "bgcolor": "#E5ECF6",
           "caxis": {
            "gridcolor": "white",
            "linecolor": "white",
            "ticks": ""
           }
          },
          "title": {
           "x": 0.05
          },
          "xaxis": {
           "automargin": true,
           "gridcolor": "white",
           "linecolor": "white",
           "ticks": "",
           "title": {
            "standoff": 15
           },
           "zerolinecolor": "white",
           "zerolinewidth": 2
          },
          "yaxis": {
           "automargin": true,
           "gridcolor": "white",
           "linecolor": "white",
           "ticks": "",
           "title": {
            "standoff": 15
           },
           "zerolinecolor": "white",
           "zerolinewidth": 2
          }
         }
        },
        "title": {
         "text": "eye = (x:0., y:3, z:0.)"
        }
       }
      },
      "text/html": [
       "<div>                            <div id=\"d6b4a7dd-33d0-4a6b-a000-c557706263c2\" class=\"plotly-graph-div\" style=\"height:525px; width:100%;\"></div>            <script type=\"text/javascript\">                require([\"plotly\"], function(Plotly) {                    window.PLOTLYENV=window.PLOTLYENV || {};                                    if (document.getElementById(\"d6b4a7dd-33d0-4a6b-a000-c557706263c2\")) {                    Plotly.newPlot(                        \"d6b4a7dd-33d0-4a6b-a000-c557706263c2\",                        [{\"marker\":{\"color\":[6,10,8,7,4,14,1,2,2,14,10,3,11,14,13,14,4,2,11,0,13,5,14,11,10,1,5,3,8,14,6,3,1,4,11,13,5,7,12,4,9,12,11,5,2,14,12,11,0,6,11,9,3,11,1,0,4,1,7,2,6,3,2,13,11,11,5,9,13,2,3,0,9,0,3,10,4,1,7,11,1,0,14,2,1,10,4,0,14,13,5,2,13,0,6,14,1,0,12,4,5,8],\"colorscale\":[[0.0,\"#440154\"],[0.1111111111111111,\"#482878\"],[0.2222222222222222,\"#3e4989\"],[0.3333333333333333,\"#31688e\"],[0.4444444444444444,\"#26828e\"],[0.5555555555555556,\"#1f9e89\"],[0.6666666666666666,\"#35b779\"],[0.7777777777777778,\"#6ece58\"],[0.8888888888888888,\"#b5de2b\"],[1.0,\"#fde725\"]],\"opacity\":0.8,\"size\":5},\"mode\":\"markers\",\"x\":[1.1979551732809566,1.6802756813566453,1.2710769515458673,1.7410288568297003,0.8628589838486225,0.44777568135664547,0.6568430139592794,-0.0009807621135331547,0.3795577136594005,0.536698729810778,0.02473720558371177,0.7596058083755676,1.007631397208144,1.693134665205268,0.18629165124598854,0.18580127018922196,1.7425,0.8490192378864668,0.40478530029987886,0.32125644347017857,0.05290707856478957,0.34844555433772323,1.2829551732809565,-0.02021469970012113,0.8302756813566454,1.1114840301106568,1.3021891108675445,0.8337083487540115,1.285897459621556,0.9320577136594005,1.6229551732809566,0.42352885682970026,0.320766062413412,-0.09088457268119896,1.7835288568297003,0.5520096189432334,0.012368602791855886,0.7576442841485013,1.7237564434701786,0.8480384757729337,-0.004413429510899208,1.3432179676972449,1.299246824526945,0.3039840301106569,-0.07508330249197702,0.052416697508023,0.8144744111674235,0.3751442841485013,1.6407179676972448,1.301698729810778,0.3751442841485013,-0.03405444566227675,1.288349364905389,0.4937083487540115,0.3355865704891008,1.0971539030917346,1.1692949192431121,0.7161250462620344,0.8762083487540114,1.624916697508023,1.7711602540378444,0.7447853002998788,0.3350961894323342,1.8418301270189221,1.8428108891324553,0.40478530029987886,0.8030865704891008,1.6659455543377233,0.9029070785647896,1.1999166975080229,0.3494263164512564,0.7017949192431122,0.45022758664047835,0.23233339501604594,0.7447853002998788,1.7247372055837118,0.2896539030917347,0.8495096189432334,0.846567332602634,0.024246824526945182,-0.08941342951089921,-0.20748711305964282,1.4756217782649106,0.3350961894323342,0.014330127018922195,0.4497372055837118,0.8776794919243112,1.1267949192431121,1.8265192378864668,0.12700961894323345,1.7123686027918559,1.6100961894323342,0.4630865704891008,-0.14820508075688774,1.6822372055837118,1.9006217782649106,1.1114840301106568,1.4925128869403572,1.7978589838486225,0.31929491924311226],\"y\":[2.313923048454132,3.083205080756888,2.3185640646055097,2.9612435565298214,1.499282032302755,1.062487113059643,1.5573205080756887,0.05464101615137755,0.7846410161513775,1.0024871130596429,0.25320508075688775,1.5419615242270663,1.5905255888325764,3.1824871130596426,0.22516660498395405,0.25248711305964283,2.879282032302755,1.4546410161513774,1.0105255888325764,0.77,0.3151666049839541,0.8866025403784439,2.4724871130596426,0.3105255888325765,1.6832050807568877,2.2373205080756886,2.2166025403784433,1.4919615242270663,2.30856406460551,1.7224871130596426,3.0139230484541324,0.7819615242270663,0.7973205080756888,0.16928203230275513,3.040525588832576,0.965166604983954,0.12660254037844387,1.6512435565298214,3.1078460969082653,1.509282032302755,0.24588457268119898,2.377846096908265,2.380525588832576,0.9166025403784439,0.10464101615137755,0.34248711305964286,1.7478460969082652,1.0305255888325764,2.84,2.2439230484541324,1.0305255888325764,0.26588457268119897,2.171961524227066,0.9505255888325765,0.7873205080756888,2.2199999999999998,2.279282032302755,1.5173205080756886,1.5712435565298213,2.9046410161513774,2.9139230484541323,1.5519615242270661,0.8146410161513775,3.055166604983954,3.000525588832576,1.0105255888325764,1.5666025403784438,3.065884572681199,1.715166604983954,2.204641016151377,0.8319615242270663,1.5,0.925884572681199,0.83,1.5519615242270661,3.0532050807568876,0.899282032302755,1.4273205080756888,1.5912435565298213,0.2805255888325765,0.08732050807568878,0.14,2.3424871130596423,0.8146410161513775,0.017320508075688773,0.9532050807568877,1.489282032302755,2.1999999999999997,3.0924871130596427,0.26516660498395406,2.9266025403784437,2.9146410161513776,1.025166604983954,0.10000000000000002,2.9739230484541324,3.0424871130596425,2.2373205080756886,2.94,3.057846096908265,0.879282032302755],\"z\":[90.0,120.0,90.0,120.0,60.0,30.0,60.0,0.0,30.0,30.0,0.0,60.0,60.0,120.0,0.0,0.0,120.0,60.0,30.0,30.0,0.0,30.0,90.0,0.0,60.0,90.0,90.0,60.0,90.0,60.0,120.0,30.0,30.0,0.0,120.0,30.0,0.0,60.0,120.0,60.0,0.0,90.0,90.0,30.0,0.0,0.0,60.0,30.0,120.0,90.0,30.0,0.0,90.0,30.0,30.0,90.0,90.0,60.0,60.0,120.0,120.0,60.0,30.0,120.0,120.0,30.0,60.0,120.0,60.0,90.0,30.0,60.0,30.0,30.0,60.0,120.0,30.0,60.0,60.0,0.0,0.0,0.0,90.0,30.0,0.0,30.0,60.0,90.0,120.0,0.0,120.0,120.0,30.0,0.0,120.0,120.0,90.0,120.0,120.0,30.0],\"type\":\"scatter3d\"}],                        {\"template\":{\"data\":{\"histogram2dcontour\":[{\"type\":\"histogram2dcontour\",\"colorbar\":{\"outlinewidth\":0,\"ticks\":\"\"},\"colorscale\":[[0.0,\"#0d0887\"],[0.1111111111111111,\"#46039f\"],[0.2222222222222222,\"#7201a8\"],[0.3333333333333333,\"#9c179e\"],[0.4444444444444444,\"#bd3786\"],[0.5555555555555556,\"#d8576b\"],[0.6666666666666666,\"#ed7953\"],[0.7777777777777778,\"#fb9f3a\"],[0.8888888888888888,\"#fdca26\"],[1.0,\"#f0f921\"]]}],\"choropleth\":[{\"type\":\"choropleth\",\"colorbar\":{\"outlinewidth\":0,\"ticks\":\"\"}}],\"histogram2d\":[{\"type\":\"histogram2d\",\"colorbar\":{\"outlinewidth\":0,\"ticks\":\"\"},\"colorscale\":[[0.0,\"#0d0887\"],[0.1111111111111111,\"#46039f\"],[0.2222222222222222,\"#7201a8\"],[0.3333333333333333,\"#9c179e\"],[0.4444444444444444,\"#bd3786\"],[0.5555555555555556,\"#d8576b\"],[0.6666666666666666,\"#ed7953\"],[0.7777777777777778,\"#fb9f3a\"],[0.8888888888888888,\"#fdca26\"],[1.0,\"#f0f921\"]]}],\"heatmap\":[{\"type\":\"heatmap\",\"colorbar\":{\"outlinewidth\":0,\"ticks\":\"\"},\"colorscale\":[[0.0,\"#0d0887\"],[0.1111111111111111,\"#46039f\"],[0.2222222222222222,\"#7201a8\"],[0.3333333333333333,\"#9c179e\"],[0.4444444444444444,\"#bd3786\"],[0.5555555555555556,\"#d8576b\"],[0.6666666666666666,\"#ed7953\"],[0.7777777777777778,\"#fb9f3a\"],[0.8888888888888888,\"#fdca26\"],[1.0,\"#f0f921\"]]}],\"heatmapgl\":[{\"type\":\"heatmapgl\",\"colorbar\":{\"outlinewidth\":0,\"ticks\":\"\"},\"colorscale\":[[0.0,\"#0d0887\"],[0.1111111111111111,\"#46039f\"],[0.2222222222222222,\"#7201a8\"],[0.3333333333333333,\"#9c179e\"],[0.4444444444444444,\"#bd3786\"],[0.5555555555555556,\"#d8576b\"],[0.6666666666666666,\"#ed7953\"],[0.7777777777777778,\"#fb9f3a\"],[0.8888888888888888,\"#fdca26\"],[1.0,\"#f0f921\"]]}],\"contourcarpet\":[{\"type\":\"contourcarpet\",\"colorbar\":{\"outlinewidth\":0,\"ticks\":\"\"}}],\"contour\":[{\"type\":\"contour\",\"colorbar\":{\"outlinewidth\":0,\"ticks\":\"\"},\"colorscale\":[[0.0,\"#0d0887\"],[0.1111111111111111,\"#46039f\"],[0.2222222222222222,\"#7201a8\"],[0.3333333333333333,\"#9c179e\"],[0.4444444444444444,\"#bd3786\"],[0.5555555555555556,\"#d8576b\"],[0.6666666666666666,\"#ed7953\"],[0.7777777777777778,\"#fb9f3a\"],[0.8888888888888888,\"#fdca26\"],[1.0,\"#f0f921\"]]}],\"surface\":[{\"type\":\"surface\",\"colorbar\":{\"outlinewidth\":0,\"ticks\":\"\"},\"colorscale\":[[0.0,\"#0d0887\"],[0.1111111111111111,\"#46039f\"],[0.2222222222222222,\"#7201a8\"],[0.3333333333333333,\"#9c179e\"],[0.4444444444444444,\"#bd3786\"],[0.5555555555555556,\"#d8576b\"],[0.6666666666666666,\"#ed7953\"],[0.7777777777777778,\"#fb9f3a\"],[0.8888888888888888,\"#fdca26\"],[1.0,\"#f0f921\"]]}],\"mesh3d\":[{\"type\":\"mesh3d\",\"colorbar\":{\"outlinewidth\":0,\"ticks\":\"\"}}],\"scatter\":[{\"fillpattern\":{\"fillmode\":\"overlay\",\"size\":10,\"solidity\":0.2},\"type\":\"scatter\"}],\"parcoords\":[{\"type\":\"parcoords\",\"line\":{\"colorbar\":{\"outlinewidth\":0,\"ticks\":\"\"}}}],\"scatterpolargl\":[{\"type\":\"scatterpolargl\",\"marker\":{\"colorbar\":{\"outlinewidth\":0,\"ticks\":\"\"}}}],\"bar\":[{\"error_x\":{\"color\":\"#2a3f5f\"},\"error_y\":{\"color\":\"#2a3f5f\"},\"marker\":{\"line\":{\"color\":\"#E5ECF6\",\"width\":0.5},\"pattern\":{\"fillmode\":\"overlay\",\"size\":10,\"solidity\":0.2}},\"type\":\"bar\"}],\"scattergeo\":[{\"type\":\"scattergeo\",\"marker\":{\"colorbar\":{\"outlinewidth\":0,\"ticks\":\"\"}}}],\"scatterpolar\":[{\"type\":\"scatterpolar\",\"marker\":{\"colorbar\":{\"outlinewidth\":0,\"ticks\":\"\"}}}],\"histogram\":[{\"marker\":{\"pattern\":{\"fillmode\":\"overlay\",\"size\":10,\"solidity\":0.2}},\"type\":\"histogram\"}],\"scattergl\":[{\"type\":\"scattergl\",\"marker\":{\"colorbar\":{\"outlinewidth\":0,\"ticks\":\"\"}}}],\"scatter3d\":[{\"type\":\"scatter3d\",\"line\":{\"colorbar\":{\"outlinewidth\":0,\"ticks\":\"\"}},\"marker\":{\"colorbar\":{\"outlinewidth\":0,\"ticks\":\"\"}}}],\"scattermapbox\":[{\"type\":\"scattermapbox\",\"marker\":{\"colorbar\":{\"outlinewidth\":0,\"ticks\":\"\"}}}],\"scatterternary\":[{\"type\":\"scatterternary\",\"marker\":{\"colorbar\":{\"outlinewidth\":0,\"ticks\":\"\"}}}],\"scattercarpet\":[{\"type\":\"scattercarpet\",\"marker\":{\"colorbar\":{\"outlinewidth\":0,\"ticks\":\"\"}}}],\"carpet\":[{\"aaxis\":{\"endlinecolor\":\"#2a3f5f\",\"gridcolor\":\"white\",\"linecolor\":\"white\",\"minorgridcolor\":\"white\",\"startlinecolor\":\"#2a3f5f\"},\"baxis\":{\"endlinecolor\":\"#2a3f5f\",\"gridcolor\":\"white\",\"linecolor\":\"white\",\"minorgridcolor\":\"white\",\"startlinecolor\":\"#2a3f5f\"},\"type\":\"carpet\"}],\"table\":[{\"cells\":{\"fill\":{\"color\":\"#EBF0F8\"},\"line\":{\"color\":\"white\"}},\"header\":{\"fill\":{\"color\":\"#C8D4E3\"},\"line\":{\"color\":\"white\"}},\"type\":\"table\"}],\"barpolar\":[{\"marker\":{\"line\":{\"color\":\"#E5ECF6\",\"width\":0.5},\"pattern\":{\"fillmode\":\"overlay\",\"size\":10,\"solidity\":0.2}},\"type\":\"barpolar\"}],\"pie\":[{\"automargin\":true,\"type\":\"pie\"}]},\"layout\":{\"autotypenumbers\":\"strict\",\"colorway\":[\"#636efa\",\"#EF553B\",\"#00cc96\",\"#ab63fa\",\"#FFA15A\",\"#19d3f3\",\"#FF6692\",\"#B6E880\",\"#FF97FF\",\"#FECB52\"],\"font\":{\"color\":\"#2a3f5f\"},\"hovermode\":\"closest\",\"hoverlabel\":{\"align\":\"left\"},\"paper_bgcolor\":\"white\",\"plot_bgcolor\":\"#E5ECF6\",\"polar\":{\"bgcolor\":\"#E5ECF6\",\"angularaxis\":{\"gridcolor\":\"white\",\"linecolor\":\"white\",\"ticks\":\"\"},\"radialaxis\":{\"gridcolor\":\"white\",\"linecolor\":\"white\",\"ticks\":\"\"}},\"ternary\":{\"bgcolor\":\"#E5ECF6\",\"aaxis\":{\"gridcolor\":\"white\",\"linecolor\":\"white\",\"ticks\":\"\"},\"baxis\":{\"gridcolor\":\"white\",\"linecolor\":\"white\",\"ticks\":\"\"},\"caxis\":{\"gridcolor\":\"white\",\"linecolor\":\"white\",\"ticks\":\"\"}},\"coloraxis\":{\"colorbar\":{\"outlinewidth\":0,\"ticks\":\"\"}},\"colorscale\":{\"sequential\":[[0.0,\"#0d0887\"],[0.1111111111111111,\"#46039f\"],[0.2222222222222222,\"#7201a8\"],[0.3333333333333333,\"#9c179e\"],[0.4444444444444444,\"#bd3786\"],[0.5555555555555556,\"#d8576b\"],[0.6666666666666666,\"#ed7953\"],[0.7777777777777778,\"#fb9f3a\"],[0.8888888888888888,\"#fdca26\"],[1.0,\"#f0f921\"]],\"sequentialminus\":[[0.0,\"#0d0887\"],[0.1111111111111111,\"#46039f\"],[0.2222222222222222,\"#7201a8\"],[0.3333333333333333,\"#9c179e\"],[0.4444444444444444,\"#bd3786\"],[0.5555555555555556,\"#d8576b\"],[0.6666666666666666,\"#ed7953\"],[0.7777777777777778,\"#fb9f3a\"],[0.8888888888888888,\"#fdca26\"],[1.0,\"#f0f921\"]],\"diverging\":[[0,\"#8e0152\"],[0.1,\"#c51b7d\"],[0.2,\"#de77ae\"],[0.3,\"#f1b6da\"],[0.4,\"#fde0ef\"],[0.5,\"#f7f7f7\"],[0.6,\"#e6f5d0\"],[0.7,\"#b8e186\"],[0.8,\"#7fbc41\"],[0.9,\"#4d9221\"],[1,\"#276419\"]]},\"xaxis\":{\"gridcolor\":\"white\",\"linecolor\":\"white\",\"ticks\":\"\",\"title\":{\"standoff\":15},\"zerolinecolor\":\"white\",\"automargin\":true,\"zerolinewidth\":2},\"yaxis\":{\"gridcolor\":\"white\",\"linecolor\":\"white\",\"ticks\":\"\",\"title\":{\"standoff\":15},\"zerolinecolor\":\"white\",\"automargin\":true,\"zerolinewidth\":2},\"scene\":{\"xaxis\":{\"backgroundcolor\":\"#E5ECF6\",\"gridcolor\":\"white\",\"linecolor\":\"white\",\"showbackground\":true,\"ticks\":\"\",\"zerolinecolor\":\"white\",\"gridwidth\":2},\"yaxis\":{\"backgroundcolor\":\"#E5ECF6\",\"gridcolor\":\"white\",\"linecolor\":\"white\",\"showbackground\":true,\"ticks\":\"\",\"zerolinecolor\":\"white\",\"gridwidth\":2},\"zaxis\":{\"backgroundcolor\":\"#E5ECF6\",\"gridcolor\":\"white\",\"linecolor\":\"white\",\"showbackground\":true,\"ticks\":\"\",\"zerolinecolor\":\"white\",\"gridwidth\":2}},\"shapedefaults\":{\"line\":{\"color\":\"#2a3f5f\"}},\"annotationdefaults\":{\"arrowcolor\":\"#2a3f5f\",\"arrowhead\":0,\"arrowwidth\":1},\"geo\":{\"bgcolor\":\"white\",\"landcolor\":\"#E5ECF6\",\"subunitcolor\":\"white\",\"showland\":true,\"showlakes\":true,\"lakecolor\":\"white\"},\"title\":{\"x\":0.05},\"mapbox\":{\"style\":\"light\"}}},\"margin\":{\"l\":0,\"r\":0,\"b\":0,\"t\":0},\"scene\":{\"camera\":{\"eye\":{\"x\":0.0,\"y\":3,\"z\":0}}},\"title\":{\"text\":\"eye = (x:0., y:3, z:0.)\"}},                        {\"responsive\": true}                    ).then(function(){\n",
       "                            \n",
       "var gd = document.getElementById('d6b4a7dd-33d0-4a6b-a000-c557706263c2');\n",
       "var x = new MutationObserver(function (mutations, observer) {{\n",
       "        var display = window.getComputedStyle(gd).display;\n",
       "        if (!display || display === 'none') {{\n",
       "            console.log([gd, 'removed!']);\n",
       "            Plotly.purge(gd);\n",
       "            observer.disconnect();\n",
       "        }}\n",
       "}});\n",
       "\n",
       "// Listen for the removal of the full notebook cells\n",
       "var notebookContainer = gd.closest('#notebook-container');\n",
       "if (notebookContainer) {{\n",
       "    x.observe(notebookContainer, {childList: true});\n",
       "}}\n",
       "\n",
       "// Listen for the clearing of the current output cell\n",
       "var outputEl = gd.closest('.output');\n",
       "if (outputEl) {{\n",
       "    x.observe(outputEl, {childList: true});\n",
       "}}\n",
       "\n",
       "                        })                };                });            </script>        </div>"
      ]
     },
     "metadata": {},
     "output_type": "display_data"
    }
   ],
   "source": [
    "name = 'eye = (x:0., y:3, z:0.)'\n",
    "camera = dict(\n",
    "    eye=dict(x=0., y=3, z=0)\n",
    ")\n",
    "\n",
    "\n",
    "fig_c1.update_layout(scene_camera=camera, title=name)\n",
    "fig_c1.show()"
   ]
  },
  {
   "cell_type": "code",
   "execution_count": 72,
   "id": "a5bafa90",
   "metadata": {},
   "outputs": [
    {
     "data": {
      "application/vnd.plotly.v1+json": {
       "config": {
        "plotlyServerURL": "https://plot.ly"
       },
       "data": [
        {
         "marker": {
          "color": [
           6,
           10,
           8,
           7,
           4,
           14,
           1,
           2,
           2,
           14,
           10,
           3,
           11,
           14,
           13,
           14,
           4,
           2,
           11,
           0,
           13,
           5,
           14,
           11,
           10,
           1,
           5,
           3,
           8,
           14,
           6,
           3,
           1,
           4,
           11,
           13,
           5,
           7,
           12,
           4,
           9,
           12,
           11,
           5,
           2,
           14,
           12,
           11,
           0,
           6,
           11,
           9,
           3,
           11,
           1,
           0,
           4,
           1,
           7,
           2,
           6,
           3,
           2,
           13,
           11,
           11,
           5,
           9,
           13,
           2,
           3,
           0,
           9,
           0,
           3,
           10,
           4,
           1,
           7,
           11,
           1,
           0,
           14,
           2,
           1,
           10,
           4,
           0,
           14,
           13,
           5,
           2,
           13,
           0,
           6,
           14,
           1,
           0,
           12,
           4,
           5,
           8
          ],
          "colorscale": [
           [
            0,
            "#440154"
           ],
           [
            0.1111111111111111,
            "#482878"
           ],
           [
            0.2222222222222222,
            "#3e4989"
           ],
           [
            0.3333333333333333,
            "#31688e"
           ],
           [
            0.4444444444444444,
            "#26828e"
           ],
           [
            0.5555555555555556,
            "#1f9e89"
           ],
           [
            0.6666666666666666,
            "#35b779"
           ],
           [
            0.7777777777777778,
            "#6ece58"
           ],
           [
            0.8888888888888888,
            "#b5de2b"
           ],
           [
            1,
            "#fde725"
           ]
          ],
          "opacity": 0.8,
          "size": 5
         },
         "mode": "markers",
         "type": "scatter3d",
         "x": [
          1.1979551732809566,
          1.6802756813566453,
          1.2710769515458673,
          1.7410288568297003,
          0.8628589838486225,
          0.44777568135664547,
          0.6568430139592794,
          -0.0009807621135331547,
          0.3795577136594005,
          0.536698729810778,
          0.02473720558371177,
          0.7596058083755676,
          1.007631397208144,
          1.693134665205268,
          0.18629165124598854,
          0.18580127018922196,
          1.7425,
          0.8490192378864668,
          0.40478530029987886,
          0.32125644347017857,
          0.05290707856478957,
          0.34844555433772323,
          1.2829551732809565,
          -0.02021469970012113,
          0.8302756813566454,
          1.1114840301106568,
          1.3021891108675445,
          0.8337083487540115,
          1.285897459621556,
          0.9320577136594005,
          1.6229551732809566,
          0.42352885682970026,
          0.320766062413412,
          -0.09088457268119896,
          1.7835288568297003,
          0.5520096189432334,
          0.012368602791855886,
          0.7576442841485013,
          1.7237564434701786,
          0.8480384757729337,
          -0.004413429510899208,
          1.3432179676972449,
          1.299246824526945,
          0.3039840301106569,
          -0.07508330249197702,
          0.052416697508023,
          0.8144744111674235,
          0.3751442841485013,
          1.6407179676972448,
          1.301698729810778,
          0.3751442841485013,
          -0.03405444566227675,
          1.288349364905389,
          0.4937083487540115,
          0.3355865704891008,
          1.0971539030917346,
          1.1692949192431121,
          0.7161250462620344,
          0.8762083487540114,
          1.624916697508023,
          1.7711602540378444,
          0.7447853002998788,
          0.3350961894323342,
          1.8418301270189221,
          1.8428108891324553,
          0.40478530029987886,
          0.8030865704891008,
          1.6659455543377233,
          0.9029070785647896,
          1.1999166975080229,
          0.3494263164512564,
          0.7017949192431122,
          0.45022758664047835,
          0.23233339501604594,
          0.7447853002998788,
          1.7247372055837118,
          0.2896539030917347,
          0.8495096189432334,
          0.846567332602634,
          0.024246824526945182,
          -0.08941342951089921,
          -0.20748711305964282,
          1.4756217782649106,
          0.3350961894323342,
          0.014330127018922195,
          0.4497372055837118,
          0.8776794919243112,
          1.1267949192431121,
          1.8265192378864668,
          0.12700961894323345,
          1.7123686027918559,
          1.6100961894323342,
          0.4630865704891008,
          -0.14820508075688774,
          1.6822372055837118,
          1.9006217782649106,
          1.1114840301106568,
          1.4925128869403572,
          1.7978589838486225,
          0.31929491924311226
         ],
         "y": [
          2.313923048454132,
          3.083205080756888,
          2.3185640646055097,
          2.9612435565298214,
          1.499282032302755,
          1.062487113059643,
          1.5573205080756887,
          0.05464101615137755,
          0.7846410161513775,
          1.0024871130596429,
          0.25320508075688775,
          1.5419615242270663,
          1.5905255888325764,
          3.1824871130596426,
          0.22516660498395405,
          0.25248711305964283,
          2.879282032302755,
          1.4546410161513774,
          1.0105255888325764,
          0.77,
          0.3151666049839541,
          0.8866025403784439,
          2.4724871130596426,
          0.3105255888325765,
          1.6832050807568877,
          2.2373205080756886,
          2.2166025403784433,
          1.4919615242270663,
          2.30856406460551,
          1.7224871130596426,
          3.0139230484541324,
          0.7819615242270663,
          0.7973205080756888,
          0.16928203230275513,
          3.040525588832576,
          0.965166604983954,
          0.12660254037844387,
          1.6512435565298214,
          3.1078460969082653,
          1.509282032302755,
          0.24588457268119898,
          2.377846096908265,
          2.380525588832576,
          0.9166025403784439,
          0.10464101615137755,
          0.34248711305964286,
          1.7478460969082652,
          1.0305255888325764,
          2.84,
          2.2439230484541324,
          1.0305255888325764,
          0.26588457268119897,
          2.171961524227066,
          0.9505255888325765,
          0.7873205080756888,
          2.2199999999999998,
          2.279282032302755,
          1.5173205080756886,
          1.5712435565298213,
          2.9046410161513774,
          2.9139230484541323,
          1.5519615242270661,
          0.8146410161513775,
          3.055166604983954,
          3.000525588832576,
          1.0105255888325764,
          1.5666025403784438,
          3.065884572681199,
          1.715166604983954,
          2.204641016151377,
          0.8319615242270663,
          1.5,
          0.925884572681199,
          0.83,
          1.5519615242270661,
          3.0532050807568876,
          0.899282032302755,
          1.4273205080756888,
          1.5912435565298213,
          0.2805255888325765,
          0.08732050807568878,
          0.14,
          2.3424871130596423,
          0.8146410161513775,
          0.017320508075688773,
          0.9532050807568877,
          1.489282032302755,
          2.1999999999999997,
          3.0924871130596427,
          0.26516660498395406,
          2.9266025403784437,
          2.9146410161513776,
          1.025166604983954,
          0.10000000000000002,
          2.9739230484541324,
          3.0424871130596425,
          2.2373205080756886,
          2.94,
          3.057846096908265,
          0.879282032302755
         ],
         "z": [
          90,
          120,
          90,
          120,
          60,
          30,
          60,
          0,
          30,
          30,
          0,
          60,
          60,
          120,
          0,
          0,
          120,
          60,
          30,
          30,
          0,
          30,
          90,
          0,
          60,
          90,
          90,
          60,
          90,
          60,
          120,
          30,
          30,
          0,
          120,
          30,
          0,
          60,
          120,
          60,
          0,
          90,
          90,
          30,
          0,
          0,
          60,
          30,
          120,
          90,
          30,
          0,
          90,
          30,
          30,
          90,
          90,
          60,
          60,
          120,
          120,
          60,
          30,
          120,
          120,
          30,
          60,
          120,
          60,
          90,
          30,
          60,
          30,
          30,
          60,
          120,
          30,
          60,
          60,
          0,
          0,
          0,
          90,
          30,
          0,
          30,
          60,
          90,
          120,
          0,
          120,
          120,
          30,
          0,
          120,
          120,
          90,
          120,
          120,
          30
         ]
        }
       ],
       "layout": {
        "margin": {
         "b": 0,
         "l": 0,
         "r": 0,
         "t": 0
        },
        "scene": {
         "camera": {
          "eye": {
           "x": 0,
           "y": 0,
           "z": 2
          }
         }
        },
        "template": {
         "data": {
          "bar": [
           {
            "error_x": {
             "color": "#2a3f5f"
            },
            "error_y": {
             "color": "#2a3f5f"
            },
            "marker": {
             "line": {
              "color": "#E5ECF6",
              "width": 0.5
             },
             "pattern": {
              "fillmode": "overlay",
              "size": 10,
              "solidity": 0.2
             }
            },
            "type": "bar"
           }
          ],
          "barpolar": [
           {
            "marker": {
             "line": {
              "color": "#E5ECF6",
              "width": 0.5
             },
             "pattern": {
              "fillmode": "overlay",
              "size": 10,
              "solidity": 0.2
             }
            },
            "type": "barpolar"
           }
          ],
          "carpet": [
           {
            "aaxis": {
             "endlinecolor": "#2a3f5f",
             "gridcolor": "white",
             "linecolor": "white",
             "minorgridcolor": "white",
             "startlinecolor": "#2a3f5f"
            },
            "baxis": {
             "endlinecolor": "#2a3f5f",
             "gridcolor": "white",
             "linecolor": "white",
             "minorgridcolor": "white",
             "startlinecolor": "#2a3f5f"
            },
            "type": "carpet"
           }
          ],
          "choropleth": [
           {
            "colorbar": {
             "outlinewidth": 0,
             "ticks": ""
            },
            "type": "choropleth"
           }
          ],
          "contour": [
           {
            "colorbar": {
             "outlinewidth": 0,
             "ticks": ""
            },
            "colorscale": [
             [
              0,
              "#0d0887"
             ],
             [
              0.1111111111111111,
              "#46039f"
             ],
             [
              0.2222222222222222,
              "#7201a8"
             ],
             [
              0.3333333333333333,
              "#9c179e"
             ],
             [
              0.4444444444444444,
              "#bd3786"
             ],
             [
              0.5555555555555556,
              "#d8576b"
             ],
             [
              0.6666666666666666,
              "#ed7953"
             ],
             [
              0.7777777777777778,
              "#fb9f3a"
             ],
             [
              0.8888888888888888,
              "#fdca26"
             ],
             [
              1,
              "#f0f921"
             ]
            ],
            "type": "contour"
           }
          ],
          "contourcarpet": [
           {
            "colorbar": {
             "outlinewidth": 0,
             "ticks": ""
            },
            "type": "contourcarpet"
           }
          ],
          "heatmap": [
           {
            "colorbar": {
             "outlinewidth": 0,
             "ticks": ""
            },
            "colorscale": [
             [
              0,
              "#0d0887"
             ],
             [
              0.1111111111111111,
              "#46039f"
             ],
             [
              0.2222222222222222,
              "#7201a8"
             ],
             [
              0.3333333333333333,
              "#9c179e"
             ],
             [
              0.4444444444444444,
              "#bd3786"
             ],
             [
              0.5555555555555556,
              "#d8576b"
             ],
             [
              0.6666666666666666,
              "#ed7953"
             ],
             [
              0.7777777777777778,
              "#fb9f3a"
             ],
             [
              0.8888888888888888,
              "#fdca26"
             ],
             [
              1,
              "#f0f921"
             ]
            ],
            "type": "heatmap"
           }
          ],
          "heatmapgl": [
           {
            "colorbar": {
             "outlinewidth": 0,
             "ticks": ""
            },
            "colorscale": [
             [
              0,
              "#0d0887"
             ],
             [
              0.1111111111111111,
              "#46039f"
             ],
             [
              0.2222222222222222,
              "#7201a8"
             ],
             [
              0.3333333333333333,
              "#9c179e"
             ],
             [
              0.4444444444444444,
              "#bd3786"
             ],
             [
              0.5555555555555556,
              "#d8576b"
             ],
             [
              0.6666666666666666,
              "#ed7953"
             ],
             [
              0.7777777777777778,
              "#fb9f3a"
             ],
             [
              0.8888888888888888,
              "#fdca26"
             ],
             [
              1,
              "#f0f921"
             ]
            ],
            "type": "heatmapgl"
           }
          ],
          "histogram": [
           {
            "marker": {
             "pattern": {
              "fillmode": "overlay",
              "size": 10,
              "solidity": 0.2
             }
            },
            "type": "histogram"
           }
          ],
          "histogram2d": [
           {
            "colorbar": {
             "outlinewidth": 0,
             "ticks": ""
            },
            "colorscale": [
             [
              0,
              "#0d0887"
             ],
             [
              0.1111111111111111,
              "#46039f"
             ],
             [
              0.2222222222222222,
              "#7201a8"
             ],
             [
              0.3333333333333333,
              "#9c179e"
             ],
             [
              0.4444444444444444,
              "#bd3786"
             ],
             [
              0.5555555555555556,
              "#d8576b"
             ],
             [
              0.6666666666666666,
              "#ed7953"
             ],
             [
              0.7777777777777778,
              "#fb9f3a"
             ],
             [
              0.8888888888888888,
              "#fdca26"
             ],
             [
              1,
              "#f0f921"
             ]
            ],
            "type": "histogram2d"
           }
          ],
          "histogram2dcontour": [
           {
            "colorbar": {
             "outlinewidth": 0,
             "ticks": ""
            },
            "colorscale": [
             [
              0,
              "#0d0887"
             ],
             [
              0.1111111111111111,
              "#46039f"
             ],
             [
              0.2222222222222222,
              "#7201a8"
             ],
             [
              0.3333333333333333,
              "#9c179e"
             ],
             [
              0.4444444444444444,
              "#bd3786"
             ],
             [
              0.5555555555555556,
              "#d8576b"
             ],
             [
              0.6666666666666666,
              "#ed7953"
             ],
             [
              0.7777777777777778,
              "#fb9f3a"
             ],
             [
              0.8888888888888888,
              "#fdca26"
             ],
             [
              1,
              "#f0f921"
             ]
            ],
            "type": "histogram2dcontour"
           }
          ],
          "mesh3d": [
           {
            "colorbar": {
             "outlinewidth": 0,
             "ticks": ""
            },
            "type": "mesh3d"
           }
          ],
          "parcoords": [
           {
            "line": {
             "colorbar": {
              "outlinewidth": 0,
              "ticks": ""
             }
            },
            "type": "parcoords"
           }
          ],
          "pie": [
           {
            "automargin": true,
            "type": "pie"
           }
          ],
          "scatter": [
           {
            "fillpattern": {
             "fillmode": "overlay",
             "size": 10,
             "solidity": 0.2
            },
            "type": "scatter"
           }
          ],
          "scatter3d": [
           {
            "line": {
             "colorbar": {
              "outlinewidth": 0,
              "ticks": ""
             }
            },
            "marker": {
             "colorbar": {
              "outlinewidth": 0,
              "ticks": ""
             }
            },
            "type": "scatter3d"
           }
          ],
          "scattercarpet": [
           {
            "marker": {
             "colorbar": {
              "outlinewidth": 0,
              "ticks": ""
             }
            },
            "type": "scattercarpet"
           }
          ],
          "scattergeo": [
           {
            "marker": {
             "colorbar": {
              "outlinewidth": 0,
              "ticks": ""
             }
            },
            "type": "scattergeo"
           }
          ],
          "scattergl": [
           {
            "marker": {
             "colorbar": {
              "outlinewidth": 0,
              "ticks": ""
             }
            },
            "type": "scattergl"
           }
          ],
          "scattermapbox": [
           {
            "marker": {
             "colorbar": {
              "outlinewidth": 0,
              "ticks": ""
             }
            },
            "type": "scattermapbox"
           }
          ],
          "scatterpolar": [
           {
            "marker": {
             "colorbar": {
              "outlinewidth": 0,
              "ticks": ""
             }
            },
            "type": "scatterpolar"
           }
          ],
          "scatterpolargl": [
           {
            "marker": {
             "colorbar": {
              "outlinewidth": 0,
              "ticks": ""
             }
            },
            "type": "scatterpolargl"
           }
          ],
          "scatterternary": [
           {
            "marker": {
             "colorbar": {
              "outlinewidth": 0,
              "ticks": ""
             }
            },
            "type": "scatterternary"
           }
          ],
          "surface": [
           {
            "colorbar": {
             "outlinewidth": 0,
             "ticks": ""
            },
            "colorscale": [
             [
              0,
              "#0d0887"
             ],
             [
              0.1111111111111111,
              "#46039f"
             ],
             [
              0.2222222222222222,
              "#7201a8"
             ],
             [
              0.3333333333333333,
              "#9c179e"
             ],
             [
              0.4444444444444444,
              "#bd3786"
             ],
             [
              0.5555555555555556,
              "#d8576b"
             ],
             [
              0.6666666666666666,
              "#ed7953"
             ],
             [
              0.7777777777777778,
              "#fb9f3a"
             ],
             [
              0.8888888888888888,
              "#fdca26"
             ],
             [
              1,
              "#f0f921"
             ]
            ],
            "type": "surface"
           }
          ],
          "table": [
           {
            "cells": {
             "fill": {
              "color": "#EBF0F8"
             },
             "line": {
              "color": "white"
             }
            },
            "header": {
             "fill": {
              "color": "#C8D4E3"
             },
             "line": {
              "color": "white"
             }
            },
            "type": "table"
           }
          ]
         },
         "layout": {
          "annotationdefaults": {
           "arrowcolor": "#2a3f5f",
           "arrowhead": 0,
           "arrowwidth": 1
          },
          "autotypenumbers": "strict",
          "coloraxis": {
           "colorbar": {
            "outlinewidth": 0,
            "ticks": ""
           }
          },
          "colorscale": {
           "diverging": [
            [
             0,
             "#8e0152"
            ],
            [
             0.1,
             "#c51b7d"
            ],
            [
             0.2,
             "#de77ae"
            ],
            [
             0.3,
             "#f1b6da"
            ],
            [
             0.4,
             "#fde0ef"
            ],
            [
             0.5,
             "#f7f7f7"
            ],
            [
             0.6,
             "#e6f5d0"
            ],
            [
             0.7,
             "#b8e186"
            ],
            [
             0.8,
             "#7fbc41"
            ],
            [
             0.9,
             "#4d9221"
            ],
            [
             1,
             "#276419"
            ]
           ],
           "sequential": [
            [
             0,
             "#0d0887"
            ],
            [
             0.1111111111111111,
             "#46039f"
            ],
            [
             0.2222222222222222,
             "#7201a8"
            ],
            [
             0.3333333333333333,
             "#9c179e"
            ],
            [
             0.4444444444444444,
             "#bd3786"
            ],
            [
             0.5555555555555556,
             "#d8576b"
            ],
            [
             0.6666666666666666,
             "#ed7953"
            ],
            [
             0.7777777777777778,
             "#fb9f3a"
            ],
            [
             0.8888888888888888,
             "#fdca26"
            ],
            [
             1,
             "#f0f921"
            ]
           ],
           "sequentialminus": [
            [
             0,
             "#0d0887"
            ],
            [
             0.1111111111111111,
             "#46039f"
            ],
            [
             0.2222222222222222,
             "#7201a8"
            ],
            [
             0.3333333333333333,
             "#9c179e"
            ],
            [
             0.4444444444444444,
             "#bd3786"
            ],
            [
             0.5555555555555556,
             "#d8576b"
            ],
            [
             0.6666666666666666,
             "#ed7953"
            ],
            [
             0.7777777777777778,
             "#fb9f3a"
            ],
            [
             0.8888888888888888,
             "#fdca26"
            ],
            [
             1,
             "#f0f921"
            ]
           ]
          },
          "colorway": [
           "#636efa",
           "#EF553B",
           "#00cc96",
           "#ab63fa",
           "#FFA15A",
           "#19d3f3",
           "#FF6692",
           "#B6E880",
           "#FF97FF",
           "#FECB52"
          ],
          "font": {
           "color": "#2a3f5f"
          },
          "geo": {
           "bgcolor": "white",
           "lakecolor": "white",
           "landcolor": "#E5ECF6",
           "showlakes": true,
           "showland": true,
           "subunitcolor": "white"
          },
          "hoverlabel": {
           "align": "left"
          },
          "hovermode": "closest",
          "mapbox": {
           "style": "light"
          },
          "paper_bgcolor": "white",
          "plot_bgcolor": "#E5ECF6",
          "polar": {
           "angularaxis": {
            "gridcolor": "white",
            "linecolor": "white",
            "ticks": ""
           },
           "bgcolor": "#E5ECF6",
           "radialaxis": {
            "gridcolor": "white",
            "linecolor": "white",
            "ticks": ""
           }
          },
          "scene": {
           "xaxis": {
            "backgroundcolor": "#E5ECF6",
            "gridcolor": "white",
            "gridwidth": 2,
            "linecolor": "white",
            "showbackground": true,
            "ticks": "",
            "zerolinecolor": "white"
           },
           "yaxis": {
            "backgroundcolor": "#E5ECF6",
            "gridcolor": "white",
            "gridwidth": 2,
            "linecolor": "white",
            "showbackground": true,
            "ticks": "",
            "zerolinecolor": "white"
           },
           "zaxis": {
            "backgroundcolor": "#E5ECF6",
            "gridcolor": "white",
            "gridwidth": 2,
            "linecolor": "white",
            "showbackground": true,
            "ticks": "",
            "zerolinecolor": "white"
           }
          },
          "shapedefaults": {
           "line": {
            "color": "#2a3f5f"
           }
          },
          "ternary": {
           "aaxis": {
            "gridcolor": "white",
            "linecolor": "white",
            "ticks": ""
           },
           "baxis": {
            "gridcolor": "white",
            "linecolor": "white",
            "ticks": ""
           },
           "bgcolor": "#E5ECF6",
           "caxis": {
            "gridcolor": "white",
            "linecolor": "white",
            "ticks": ""
           }
          },
          "title": {
           "x": 0.05
          },
          "xaxis": {
           "automargin": true,
           "gridcolor": "white",
           "linecolor": "white",
           "ticks": "",
           "title": {
            "standoff": 15
           },
           "zerolinecolor": "white",
           "zerolinewidth": 2
          },
          "yaxis": {
           "automargin": true,
           "gridcolor": "white",
           "linecolor": "white",
           "ticks": "",
           "title": {
            "standoff": 15
           },
           "zerolinecolor": "white",
           "zerolinewidth": 2
          }
         }
        },
        "title": {
         "text": "eye = (x:0., y:0, z:2)"
        }
       }
      },
      "text/html": [
       "<div>                            <div id=\"3e21e749-b4ba-4181-8b1a-8c44f0725bc0\" class=\"plotly-graph-div\" style=\"height:525px; width:100%;\"></div>            <script type=\"text/javascript\">                require([\"plotly\"], function(Plotly) {                    window.PLOTLYENV=window.PLOTLYENV || {};                                    if (document.getElementById(\"3e21e749-b4ba-4181-8b1a-8c44f0725bc0\")) {                    Plotly.newPlot(                        \"3e21e749-b4ba-4181-8b1a-8c44f0725bc0\",                        [{\"marker\":{\"color\":[6,10,8,7,4,14,1,2,2,14,10,3,11,14,13,14,4,2,11,0,13,5,14,11,10,1,5,3,8,14,6,3,1,4,11,13,5,7,12,4,9,12,11,5,2,14,12,11,0,6,11,9,3,11,1,0,4,1,7,2,6,3,2,13,11,11,5,9,13,2,3,0,9,0,3,10,4,1,7,11,1,0,14,2,1,10,4,0,14,13,5,2,13,0,6,14,1,0,12,4,5,8],\"colorscale\":[[0.0,\"#440154\"],[0.1111111111111111,\"#482878\"],[0.2222222222222222,\"#3e4989\"],[0.3333333333333333,\"#31688e\"],[0.4444444444444444,\"#26828e\"],[0.5555555555555556,\"#1f9e89\"],[0.6666666666666666,\"#35b779\"],[0.7777777777777778,\"#6ece58\"],[0.8888888888888888,\"#b5de2b\"],[1.0,\"#fde725\"]],\"opacity\":0.8,\"size\":5},\"mode\":\"markers\",\"x\":[1.1979551732809566,1.6802756813566453,1.2710769515458673,1.7410288568297003,0.8628589838486225,0.44777568135664547,0.6568430139592794,-0.0009807621135331547,0.3795577136594005,0.536698729810778,0.02473720558371177,0.7596058083755676,1.007631397208144,1.693134665205268,0.18629165124598854,0.18580127018922196,1.7425,0.8490192378864668,0.40478530029987886,0.32125644347017857,0.05290707856478957,0.34844555433772323,1.2829551732809565,-0.02021469970012113,0.8302756813566454,1.1114840301106568,1.3021891108675445,0.8337083487540115,1.285897459621556,0.9320577136594005,1.6229551732809566,0.42352885682970026,0.320766062413412,-0.09088457268119896,1.7835288568297003,0.5520096189432334,0.012368602791855886,0.7576442841485013,1.7237564434701786,0.8480384757729337,-0.004413429510899208,1.3432179676972449,1.299246824526945,0.3039840301106569,-0.07508330249197702,0.052416697508023,0.8144744111674235,0.3751442841485013,1.6407179676972448,1.301698729810778,0.3751442841485013,-0.03405444566227675,1.288349364905389,0.4937083487540115,0.3355865704891008,1.0971539030917346,1.1692949192431121,0.7161250462620344,0.8762083487540114,1.624916697508023,1.7711602540378444,0.7447853002998788,0.3350961894323342,1.8418301270189221,1.8428108891324553,0.40478530029987886,0.8030865704891008,1.6659455543377233,0.9029070785647896,1.1999166975080229,0.3494263164512564,0.7017949192431122,0.45022758664047835,0.23233339501604594,0.7447853002998788,1.7247372055837118,0.2896539030917347,0.8495096189432334,0.846567332602634,0.024246824526945182,-0.08941342951089921,-0.20748711305964282,1.4756217782649106,0.3350961894323342,0.014330127018922195,0.4497372055837118,0.8776794919243112,1.1267949192431121,1.8265192378864668,0.12700961894323345,1.7123686027918559,1.6100961894323342,0.4630865704891008,-0.14820508075688774,1.6822372055837118,1.9006217782649106,1.1114840301106568,1.4925128869403572,1.7978589838486225,0.31929491924311226],\"y\":[2.313923048454132,3.083205080756888,2.3185640646055097,2.9612435565298214,1.499282032302755,1.062487113059643,1.5573205080756887,0.05464101615137755,0.7846410161513775,1.0024871130596429,0.25320508075688775,1.5419615242270663,1.5905255888325764,3.1824871130596426,0.22516660498395405,0.25248711305964283,2.879282032302755,1.4546410161513774,1.0105255888325764,0.77,0.3151666049839541,0.8866025403784439,2.4724871130596426,0.3105255888325765,1.6832050807568877,2.2373205080756886,2.2166025403784433,1.4919615242270663,2.30856406460551,1.7224871130596426,3.0139230484541324,0.7819615242270663,0.7973205080756888,0.16928203230275513,3.040525588832576,0.965166604983954,0.12660254037844387,1.6512435565298214,3.1078460969082653,1.509282032302755,0.24588457268119898,2.377846096908265,2.380525588832576,0.9166025403784439,0.10464101615137755,0.34248711305964286,1.7478460969082652,1.0305255888325764,2.84,2.2439230484541324,1.0305255888325764,0.26588457268119897,2.171961524227066,0.9505255888325765,0.7873205080756888,2.2199999999999998,2.279282032302755,1.5173205080756886,1.5712435565298213,2.9046410161513774,2.9139230484541323,1.5519615242270661,0.8146410161513775,3.055166604983954,3.000525588832576,1.0105255888325764,1.5666025403784438,3.065884572681199,1.715166604983954,2.204641016151377,0.8319615242270663,1.5,0.925884572681199,0.83,1.5519615242270661,3.0532050807568876,0.899282032302755,1.4273205080756888,1.5912435565298213,0.2805255888325765,0.08732050807568878,0.14,2.3424871130596423,0.8146410161513775,0.017320508075688773,0.9532050807568877,1.489282032302755,2.1999999999999997,3.0924871130596427,0.26516660498395406,2.9266025403784437,2.9146410161513776,1.025166604983954,0.10000000000000002,2.9739230484541324,3.0424871130596425,2.2373205080756886,2.94,3.057846096908265,0.879282032302755],\"z\":[90.0,120.0,90.0,120.0,60.0,30.0,60.0,0.0,30.0,30.0,0.0,60.0,60.0,120.0,0.0,0.0,120.0,60.0,30.0,30.0,0.0,30.0,90.0,0.0,60.0,90.0,90.0,60.0,90.0,60.0,120.0,30.0,30.0,0.0,120.0,30.0,0.0,60.0,120.0,60.0,0.0,90.0,90.0,30.0,0.0,0.0,60.0,30.0,120.0,90.0,30.0,0.0,90.0,30.0,30.0,90.0,90.0,60.0,60.0,120.0,120.0,60.0,30.0,120.0,120.0,30.0,60.0,120.0,60.0,90.0,30.0,60.0,30.0,30.0,60.0,120.0,30.0,60.0,60.0,0.0,0.0,0.0,90.0,30.0,0.0,30.0,60.0,90.0,120.0,0.0,120.0,120.0,30.0,0.0,120.0,120.0,90.0,120.0,120.0,30.0],\"type\":\"scatter3d\"}],                        {\"template\":{\"data\":{\"histogram2dcontour\":[{\"type\":\"histogram2dcontour\",\"colorbar\":{\"outlinewidth\":0,\"ticks\":\"\"},\"colorscale\":[[0.0,\"#0d0887\"],[0.1111111111111111,\"#46039f\"],[0.2222222222222222,\"#7201a8\"],[0.3333333333333333,\"#9c179e\"],[0.4444444444444444,\"#bd3786\"],[0.5555555555555556,\"#d8576b\"],[0.6666666666666666,\"#ed7953\"],[0.7777777777777778,\"#fb9f3a\"],[0.8888888888888888,\"#fdca26\"],[1.0,\"#f0f921\"]]}],\"choropleth\":[{\"type\":\"choropleth\",\"colorbar\":{\"outlinewidth\":0,\"ticks\":\"\"}}],\"histogram2d\":[{\"type\":\"histogram2d\",\"colorbar\":{\"outlinewidth\":0,\"ticks\":\"\"},\"colorscale\":[[0.0,\"#0d0887\"],[0.1111111111111111,\"#46039f\"],[0.2222222222222222,\"#7201a8\"],[0.3333333333333333,\"#9c179e\"],[0.4444444444444444,\"#bd3786\"],[0.5555555555555556,\"#d8576b\"],[0.6666666666666666,\"#ed7953\"],[0.7777777777777778,\"#fb9f3a\"],[0.8888888888888888,\"#fdca26\"],[1.0,\"#f0f921\"]]}],\"heatmap\":[{\"type\":\"heatmap\",\"colorbar\":{\"outlinewidth\":0,\"ticks\":\"\"},\"colorscale\":[[0.0,\"#0d0887\"],[0.1111111111111111,\"#46039f\"],[0.2222222222222222,\"#7201a8\"],[0.3333333333333333,\"#9c179e\"],[0.4444444444444444,\"#bd3786\"],[0.5555555555555556,\"#d8576b\"],[0.6666666666666666,\"#ed7953\"],[0.7777777777777778,\"#fb9f3a\"],[0.8888888888888888,\"#fdca26\"],[1.0,\"#f0f921\"]]}],\"heatmapgl\":[{\"type\":\"heatmapgl\",\"colorbar\":{\"outlinewidth\":0,\"ticks\":\"\"},\"colorscale\":[[0.0,\"#0d0887\"],[0.1111111111111111,\"#46039f\"],[0.2222222222222222,\"#7201a8\"],[0.3333333333333333,\"#9c179e\"],[0.4444444444444444,\"#bd3786\"],[0.5555555555555556,\"#d8576b\"],[0.6666666666666666,\"#ed7953\"],[0.7777777777777778,\"#fb9f3a\"],[0.8888888888888888,\"#fdca26\"],[1.0,\"#f0f921\"]]}],\"contourcarpet\":[{\"type\":\"contourcarpet\",\"colorbar\":{\"outlinewidth\":0,\"ticks\":\"\"}}],\"contour\":[{\"type\":\"contour\",\"colorbar\":{\"outlinewidth\":0,\"ticks\":\"\"},\"colorscale\":[[0.0,\"#0d0887\"],[0.1111111111111111,\"#46039f\"],[0.2222222222222222,\"#7201a8\"],[0.3333333333333333,\"#9c179e\"],[0.4444444444444444,\"#bd3786\"],[0.5555555555555556,\"#d8576b\"],[0.6666666666666666,\"#ed7953\"],[0.7777777777777778,\"#fb9f3a\"],[0.8888888888888888,\"#fdca26\"],[1.0,\"#f0f921\"]]}],\"surface\":[{\"type\":\"surface\",\"colorbar\":{\"outlinewidth\":0,\"ticks\":\"\"},\"colorscale\":[[0.0,\"#0d0887\"],[0.1111111111111111,\"#46039f\"],[0.2222222222222222,\"#7201a8\"],[0.3333333333333333,\"#9c179e\"],[0.4444444444444444,\"#bd3786\"],[0.5555555555555556,\"#d8576b\"],[0.6666666666666666,\"#ed7953\"],[0.7777777777777778,\"#fb9f3a\"],[0.8888888888888888,\"#fdca26\"],[1.0,\"#f0f921\"]]}],\"mesh3d\":[{\"type\":\"mesh3d\",\"colorbar\":{\"outlinewidth\":0,\"ticks\":\"\"}}],\"scatter\":[{\"fillpattern\":{\"fillmode\":\"overlay\",\"size\":10,\"solidity\":0.2},\"type\":\"scatter\"}],\"parcoords\":[{\"type\":\"parcoords\",\"line\":{\"colorbar\":{\"outlinewidth\":0,\"ticks\":\"\"}}}],\"scatterpolargl\":[{\"type\":\"scatterpolargl\",\"marker\":{\"colorbar\":{\"outlinewidth\":0,\"ticks\":\"\"}}}],\"bar\":[{\"error_x\":{\"color\":\"#2a3f5f\"},\"error_y\":{\"color\":\"#2a3f5f\"},\"marker\":{\"line\":{\"color\":\"#E5ECF6\",\"width\":0.5},\"pattern\":{\"fillmode\":\"overlay\",\"size\":10,\"solidity\":0.2}},\"type\":\"bar\"}],\"scattergeo\":[{\"type\":\"scattergeo\",\"marker\":{\"colorbar\":{\"outlinewidth\":0,\"ticks\":\"\"}}}],\"scatterpolar\":[{\"type\":\"scatterpolar\",\"marker\":{\"colorbar\":{\"outlinewidth\":0,\"ticks\":\"\"}}}],\"histogram\":[{\"marker\":{\"pattern\":{\"fillmode\":\"overlay\",\"size\":10,\"solidity\":0.2}},\"type\":\"histogram\"}],\"scattergl\":[{\"type\":\"scattergl\",\"marker\":{\"colorbar\":{\"outlinewidth\":0,\"ticks\":\"\"}}}],\"scatter3d\":[{\"type\":\"scatter3d\",\"line\":{\"colorbar\":{\"outlinewidth\":0,\"ticks\":\"\"}},\"marker\":{\"colorbar\":{\"outlinewidth\":0,\"ticks\":\"\"}}}],\"scattermapbox\":[{\"type\":\"scattermapbox\",\"marker\":{\"colorbar\":{\"outlinewidth\":0,\"ticks\":\"\"}}}],\"scatterternary\":[{\"type\":\"scatterternary\",\"marker\":{\"colorbar\":{\"outlinewidth\":0,\"ticks\":\"\"}}}],\"scattercarpet\":[{\"type\":\"scattercarpet\",\"marker\":{\"colorbar\":{\"outlinewidth\":0,\"ticks\":\"\"}}}],\"carpet\":[{\"aaxis\":{\"endlinecolor\":\"#2a3f5f\",\"gridcolor\":\"white\",\"linecolor\":\"white\",\"minorgridcolor\":\"white\",\"startlinecolor\":\"#2a3f5f\"},\"baxis\":{\"endlinecolor\":\"#2a3f5f\",\"gridcolor\":\"white\",\"linecolor\":\"white\",\"minorgridcolor\":\"white\",\"startlinecolor\":\"#2a3f5f\"},\"type\":\"carpet\"}],\"table\":[{\"cells\":{\"fill\":{\"color\":\"#EBF0F8\"},\"line\":{\"color\":\"white\"}},\"header\":{\"fill\":{\"color\":\"#C8D4E3\"},\"line\":{\"color\":\"white\"}},\"type\":\"table\"}],\"barpolar\":[{\"marker\":{\"line\":{\"color\":\"#E5ECF6\",\"width\":0.5},\"pattern\":{\"fillmode\":\"overlay\",\"size\":10,\"solidity\":0.2}},\"type\":\"barpolar\"}],\"pie\":[{\"automargin\":true,\"type\":\"pie\"}]},\"layout\":{\"autotypenumbers\":\"strict\",\"colorway\":[\"#636efa\",\"#EF553B\",\"#00cc96\",\"#ab63fa\",\"#FFA15A\",\"#19d3f3\",\"#FF6692\",\"#B6E880\",\"#FF97FF\",\"#FECB52\"],\"font\":{\"color\":\"#2a3f5f\"},\"hovermode\":\"closest\",\"hoverlabel\":{\"align\":\"left\"},\"paper_bgcolor\":\"white\",\"plot_bgcolor\":\"#E5ECF6\",\"polar\":{\"bgcolor\":\"#E5ECF6\",\"angularaxis\":{\"gridcolor\":\"white\",\"linecolor\":\"white\",\"ticks\":\"\"},\"radialaxis\":{\"gridcolor\":\"white\",\"linecolor\":\"white\",\"ticks\":\"\"}},\"ternary\":{\"bgcolor\":\"#E5ECF6\",\"aaxis\":{\"gridcolor\":\"white\",\"linecolor\":\"white\",\"ticks\":\"\"},\"baxis\":{\"gridcolor\":\"white\",\"linecolor\":\"white\",\"ticks\":\"\"},\"caxis\":{\"gridcolor\":\"white\",\"linecolor\":\"white\",\"ticks\":\"\"}},\"coloraxis\":{\"colorbar\":{\"outlinewidth\":0,\"ticks\":\"\"}},\"colorscale\":{\"sequential\":[[0.0,\"#0d0887\"],[0.1111111111111111,\"#46039f\"],[0.2222222222222222,\"#7201a8\"],[0.3333333333333333,\"#9c179e\"],[0.4444444444444444,\"#bd3786\"],[0.5555555555555556,\"#d8576b\"],[0.6666666666666666,\"#ed7953\"],[0.7777777777777778,\"#fb9f3a\"],[0.8888888888888888,\"#fdca26\"],[1.0,\"#f0f921\"]],\"sequentialminus\":[[0.0,\"#0d0887\"],[0.1111111111111111,\"#46039f\"],[0.2222222222222222,\"#7201a8\"],[0.3333333333333333,\"#9c179e\"],[0.4444444444444444,\"#bd3786\"],[0.5555555555555556,\"#d8576b\"],[0.6666666666666666,\"#ed7953\"],[0.7777777777777778,\"#fb9f3a\"],[0.8888888888888888,\"#fdca26\"],[1.0,\"#f0f921\"]],\"diverging\":[[0,\"#8e0152\"],[0.1,\"#c51b7d\"],[0.2,\"#de77ae\"],[0.3,\"#f1b6da\"],[0.4,\"#fde0ef\"],[0.5,\"#f7f7f7\"],[0.6,\"#e6f5d0\"],[0.7,\"#b8e186\"],[0.8,\"#7fbc41\"],[0.9,\"#4d9221\"],[1,\"#276419\"]]},\"xaxis\":{\"gridcolor\":\"white\",\"linecolor\":\"white\",\"ticks\":\"\",\"title\":{\"standoff\":15},\"zerolinecolor\":\"white\",\"automargin\":true,\"zerolinewidth\":2},\"yaxis\":{\"gridcolor\":\"white\",\"linecolor\":\"white\",\"ticks\":\"\",\"title\":{\"standoff\":15},\"zerolinecolor\":\"white\",\"automargin\":true,\"zerolinewidth\":2},\"scene\":{\"xaxis\":{\"backgroundcolor\":\"#E5ECF6\",\"gridcolor\":\"white\",\"linecolor\":\"white\",\"showbackground\":true,\"ticks\":\"\",\"zerolinecolor\":\"white\",\"gridwidth\":2},\"yaxis\":{\"backgroundcolor\":\"#E5ECF6\",\"gridcolor\":\"white\",\"linecolor\":\"white\",\"showbackground\":true,\"ticks\":\"\",\"zerolinecolor\":\"white\",\"gridwidth\":2},\"zaxis\":{\"backgroundcolor\":\"#E5ECF6\",\"gridcolor\":\"white\",\"linecolor\":\"white\",\"showbackground\":true,\"ticks\":\"\",\"zerolinecolor\":\"white\",\"gridwidth\":2}},\"shapedefaults\":{\"line\":{\"color\":\"#2a3f5f\"}},\"annotationdefaults\":{\"arrowcolor\":\"#2a3f5f\",\"arrowhead\":0,\"arrowwidth\":1},\"geo\":{\"bgcolor\":\"white\",\"landcolor\":\"#E5ECF6\",\"subunitcolor\":\"white\",\"showland\":true,\"showlakes\":true,\"lakecolor\":\"white\"},\"title\":{\"x\":0.05},\"mapbox\":{\"style\":\"light\"}}},\"margin\":{\"l\":0,\"r\":0,\"b\":0,\"t\":0},\"scene\":{\"camera\":{\"eye\":{\"x\":0.0,\"y\":0,\"z\":2}}},\"title\":{\"text\":\"eye = (x:0., y:0, z:2)\"}},                        {\"responsive\": true}                    ).then(function(){\n",
       "                            \n",
       "var gd = document.getElementById('3e21e749-b4ba-4181-8b1a-8c44f0725bc0');\n",
       "var x = new MutationObserver(function (mutations, observer) {{\n",
       "        var display = window.getComputedStyle(gd).display;\n",
       "        if (!display || display === 'none') {{\n",
       "            console.log([gd, 'removed!']);\n",
       "            Plotly.purge(gd);\n",
       "            observer.disconnect();\n",
       "        }}\n",
       "}});\n",
       "\n",
       "// Listen for the removal of the full notebook cells\n",
       "var notebookContainer = gd.closest('#notebook-container');\n",
       "if (notebookContainer) {{\n",
       "    x.observe(notebookContainer, {childList: true});\n",
       "}}\n",
       "\n",
       "// Listen for the clearing of the current output cell\n",
       "var outputEl = gd.closest('.output');\n",
       "if (outputEl) {{\n",
       "    x.observe(outputEl, {childList: true});\n",
       "}}\n",
       "\n",
       "                        })                };                });            </script>        </div>"
      ]
     },
     "metadata": {},
     "output_type": "display_data"
    }
   ],
   "source": [
    "name = 'eye = (x:0., y:0, z:2)'\n",
    "camera = dict(\n",
    "    eye=dict(x=0., y=0, z=2)\n",
    ")\n",
    "\n",
    "\n",
    "fig_c1.update_layout(scene_camera=camera, title=name)\n",
    "fig_c1.show()"
   ]
  },
  {
   "cell_type": "code",
   "execution_count": 73,
   "id": "d37bc452",
   "metadata": {
    "scrolled": false
   },
   "outputs": [
    {
     "data": {
      "application/vnd.plotly.v1+json": {
       "config": {
        "plotlyServerURL": "https://plot.ly"
       },
       "data": [
        {
         "marker": {
          "color": [
           6,
           10,
           8,
           7,
           4,
           14,
           1,
           2,
           2,
           14,
           10,
           3,
           11,
           14,
           13,
           14,
           4,
           2,
           11,
           0,
           13,
           5,
           14,
           11,
           10,
           1,
           5,
           3,
           8,
           14,
           6,
           3,
           1,
           4,
           11,
           13,
           5,
           7,
           12,
           4,
           9,
           12,
           11,
           5,
           2,
           14,
           12,
           11,
           0,
           6,
           11,
           9,
           3,
           11,
           1,
           0,
           4,
           1,
           7,
           2,
           6,
           3,
           2,
           13,
           11,
           11,
           5,
           9,
           13,
           2,
           3,
           0,
           9,
           0,
           3,
           10,
           4,
           1,
           7,
           11,
           1,
           0,
           14,
           2,
           1,
           10,
           4,
           0,
           14,
           13,
           5,
           2,
           13,
           0,
           6,
           14,
           1,
           0,
           12,
           4,
           5,
           8
          ],
          "colorscale": [
           [
            0,
            "#440154"
           ],
           [
            0.1111111111111111,
            "#482878"
           ],
           [
            0.2222222222222222,
            "#3e4989"
           ],
           [
            0.3333333333333333,
            "#31688e"
           ],
           [
            0.4444444444444444,
            "#26828e"
           ],
           [
            0.5555555555555556,
            "#1f9e89"
           ],
           [
            0.6666666666666666,
            "#35b779"
           ],
           [
            0.7777777777777778,
            "#6ece58"
           ],
           [
            0.8888888888888888,
            "#b5de2b"
           ],
           [
            1,
            "#fde725"
           ]
          ],
          "opacity": 0.8,
          "size": 5
         },
         "mode": "markers",
         "type": "scatter3d",
         "x": [
          1.1979551732809566,
          1.6802756813566453,
          1.2710769515458673,
          1.7410288568297003,
          0.8628589838486225,
          0.44777568135664547,
          0.6568430139592794,
          -0.0009807621135331547,
          0.3795577136594005,
          0.536698729810778,
          0.02473720558371177,
          0.7596058083755676,
          1.007631397208144,
          1.693134665205268,
          0.18629165124598854,
          0.18580127018922196,
          1.7425,
          0.8490192378864668,
          0.40478530029987886,
          0.32125644347017857,
          0.05290707856478957,
          0.34844555433772323,
          1.2829551732809565,
          -0.02021469970012113,
          0.8302756813566454,
          1.1114840301106568,
          1.3021891108675445,
          0.8337083487540115,
          1.285897459621556,
          0.9320577136594005,
          1.6229551732809566,
          0.42352885682970026,
          0.320766062413412,
          -0.09088457268119896,
          1.7835288568297003,
          0.5520096189432334,
          0.012368602791855886,
          0.7576442841485013,
          1.7237564434701786,
          0.8480384757729337,
          -0.004413429510899208,
          1.3432179676972449,
          1.299246824526945,
          0.3039840301106569,
          -0.07508330249197702,
          0.052416697508023,
          0.8144744111674235,
          0.3751442841485013,
          1.6407179676972448,
          1.301698729810778,
          0.3751442841485013,
          -0.03405444566227675,
          1.288349364905389,
          0.4937083487540115,
          0.3355865704891008,
          1.0971539030917346,
          1.1692949192431121,
          0.7161250462620344,
          0.8762083487540114,
          1.624916697508023,
          1.7711602540378444,
          0.7447853002998788,
          0.3350961894323342,
          1.8418301270189221,
          1.8428108891324553,
          0.40478530029987886,
          0.8030865704891008,
          1.6659455543377233,
          0.9029070785647896,
          1.1999166975080229,
          0.3494263164512564,
          0.7017949192431122,
          0.45022758664047835,
          0.23233339501604594,
          0.7447853002998788,
          1.7247372055837118,
          0.2896539030917347,
          0.8495096189432334,
          0.846567332602634,
          0.024246824526945182,
          -0.08941342951089921,
          -0.20748711305964282,
          1.4756217782649106,
          0.3350961894323342,
          0.014330127018922195,
          0.4497372055837118,
          0.8776794919243112,
          1.1267949192431121,
          1.8265192378864668,
          0.12700961894323345,
          1.7123686027918559,
          1.6100961894323342,
          0.4630865704891008,
          -0.14820508075688774,
          1.6822372055837118,
          1.9006217782649106,
          1.1114840301106568,
          1.4925128869403572,
          1.7978589838486225,
          0.31929491924311226
         ],
         "y": [
          2.313923048454132,
          3.083205080756888,
          2.3185640646055097,
          2.9612435565298214,
          1.499282032302755,
          1.062487113059643,
          1.5573205080756887,
          0.05464101615137755,
          0.7846410161513775,
          1.0024871130596429,
          0.25320508075688775,
          1.5419615242270663,
          1.5905255888325764,
          3.1824871130596426,
          0.22516660498395405,
          0.25248711305964283,
          2.879282032302755,
          1.4546410161513774,
          1.0105255888325764,
          0.77,
          0.3151666049839541,
          0.8866025403784439,
          2.4724871130596426,
          0.3105255888325765,
          1.6832050807568877,
          2.2373205080756886,
          2.2166025403784433,
          1.4919615242270663,
          2.30856406460551,
          1.7224871130596426,
          3.0139230484541324,
          0.7819615242270663,
          0.7973205080756888,
          0.16928203230275513,
          3.040525588832576,
          0.965166604983954,
          0.12660254037844387,
          1.6512435565298214,
          3.1078460969082653,
          1.509282032302755,
          0.24588457268119898,
          2.377846096908265,
          2.380525588832576,
          0.9166025403784439,
          0.10464101615137755,
          0.34248711305964286,
          1.7478460969082652,
          1.0305255888325764,
          2.84,
          2.2439230484541324,
          1.0305255888325764,
          0.26588457268119897,
          2.171961524227066,
          0.9505255888325765,
          0.7873205080756888,
          2.2199999999999998,
          2.279282032302755,
          1.5173205080756886,
          1.5712435565298213,
          2.9046410161513774,
          2.9139230484541323,
          1.5519615242270661,
          0.8146410161513775,
          3.055166604983954,
          3.000525588832576,
          1.0105255888325764,
          1.5666025403784438,
          3.065884572681199,
          1.715166604983954,
          2.204641016151377,
          0.8319615242270663,
          1.5,
          0.925884572681199,
          0.83,
          1.5519615242270661,
          3.0532050807568876,
          0.899282032302755,
          1.4273205080756888,
          1.5912435565298213,
          0.2805255888325765,
          0.08732050807568878,
          0.14,
          2.3424871130596423,
          0.8146410161513775,
          0.017320508075688773,
          0.9532050807568877,
          1.489282032302755,
          2.1999999999999997,
          3.0924871130596427,
          0.26516660498395406,
          2.9266025403784437,
          2.9146410161513776,
          1.025166604983954,
          0.10000000000000002,
          2.9739230484541324,
          3.0424871130596425,
          2.2373205080756886,
          2.94,
          3.057846096908265,
          0.879282032302755
         ],
         "z": [
          90,
          120,
          90,
          120,
          60,
          30,
          60,
          0,
          30,
          30,
          0,
          60,
          60,
          120,
          0,
          0,
          120,
          60,
          30,
          30,
          0,
          30,
          90,
          0,
          60,
          90,
          90,
          60,
          90,
          60,
          120,
          30,
          30,
          0,
          120,
          30,
          0,
          60,
          120,
          60,
          0,
          90,
          90,
          30,
          0,
          0,
          60,
          30,
          120,
          90,
          30,
          0,
          90,
          30,
          30,
          90,
          90,
          60,
          60,
          120,
          120,
          60,
          30,
          120,
          120,
          30,
          60,
          120,
          60,
          90,
          30,
          60,
          30,
          30,
          60,
          120,
          30,
          60,
          60,
          0,
          0,
          0,
          90,
          30,
          0,
          30,
          60,
          90,
          120,
          0,
          120,
          120,
          30,
          0,
          120,
          120,
          90,
          120,
          120,
          30
         ]
        }
       ],
       "layout": {
        "margin": {
         "b": 0,
         "l": 0,
         "r": 0,
         "t": 0
        },
        "scene": {
         "camera": {
          "eye": {
           "x": 3,
           "y": 0,
           "z": 0
          }
         }
        },
        "template": {
         "data": {
          "bar": [
           {
            "error_x": {
             "color": "#2a3f5f"
            },
            "error_y": {
             "color": "#2a3f5f"
            },
            "marker": {
             "line": {
              "color": "#E5ECF6",
              "width": 0.5
             },
             "pattern": {
              "fillmode": "overlay",
              "size": 10,
              "solidity": 0.2
             }
            },
            "type": "bar"
           }
          ],
          "barpolar": [
           {
            "marker": {
             "line": {
              "color": "#E5ECF6",
              "width": 0.5
             },
             "pattern": {
              "fillmode": "overlay",
              "size": 10,
              "solidity": 0.2
             }
            },
            "type": "barpolar"
           }
          ],
          "carpet": [
           {
            "aaxis": {
             "endlinecolor": "#2a3f5f",
             "gridcolor": "white",
             "linecolor": "white",
             "minorgridcolor": "white",
             "startlinecolor": "#2a3f5f"
            },
            "baxis": {
             "endlinecolor": "#2a3f5f",
             "gridcolor": "white",
             "linecolor": "white",
             "minorgridcolor": "white",
             "startlinecolor": "#2a3f5f"
            },
            "type": "carpet"
           }
          ],
          "choropleth": [
           {
            "colorbar": {
             "outlinewidth": 0,
             "ticks": ""
            },
            "type": "choropleth"
           }
          ],
          "contour": [
           {
            "colorbar": {
             "outlinewidth": 0,
             "ticks": ""
            },
            "colorscale": [
             [
              0,
              "#0d0887"
             ],
             [
              0.1111111111111111,
              "#46039f"
             ],
             [
              0.2222222222222222,
              "#7201a8"
             ],
             [
              0.3333333333333333,
              "#9c179e"
             ],
             [
              0.4444444444444444,
              "#bd3786"
             ],
             [
              0.5555555555555556,
              "#d8576b"
             ],
             [
              0.6666666666666666,
              "#ed7953"
             ],
             [
              0.7777777777777778,
              "#fb9f3a"
             ],
             [
              0.8888888888888888,
              "#fdca26"
             ],
             [
              1,
              "#f0f921"
             ]
            ],
            "type": "contour"
           }
          ],
          "contourcarpet": [
           {
            "colorbar": {
             "outlinewidth": 0,
             "ticks": ""
            },
            "type": "contourcarpet"
           }
          ],
          "heatmap": [
           {
            "colorbar": {
             "outlinewidth": 0,
             "ticks": ""
            },
            "colorscale": [
             [
              0,
              "#0d0887"
             ],
             [
              0.1111111111111111,
              "#46039f"
             ],
             [
              0.2222222222222222,
              "#7201a8"
             ],
             [
              0.3333333333333333,
              "#9c179e"
             ],
             [
              0.4444444444444444,
              "#bd3786"
             ],
             [
              0.5555555555555556,
              "#d8576b"
             ],
             [
              0.6666666666666666,
              "#ed7953"
             ],
             [
              0.7777777777777778,
              "#fb9f3a"
             ],
             [
              0.8888888888888888,
              "#fdca26"
             ],
             [
              1,
              "#f0f921"
             ]
            ],
            "type": "heatmap"
           }
          ],
          "heatmapgl": [
           {
            "colorbar": {
             "outlinewidth": 0,
             "ticks": ""
            },
            "colorscale": [
             [
              0,
              "#0d0887"
             ],
             [
              0.1111111111111111,
              "#46039f"
             ],
             [
              0.2222222222222222,
              "#7201a8"
             ],
             [
              0.3333333333333333,
              "#9c179e"
             ],
             [
              0.4444444444444444,
              "#bd3786"
             ],
             [
              0.5555555555555556,
              "#d8576b"
             ],
             [
              0.6666666666666666,
              "#ed7953"
             ],
             [
              0.7777777777777778,
              "#fb9f3a"
             ],
             [
              0.8888888888888888,
              "#fdca26"
             ],
             [
              1,
              "#f0f921"
             ]
            ],
            "type": "heatmapgl"
           }
          ],
          "histogram": [
           {
            "marker": {
             "pattern": {
              "fillmode": "overlay",
              "size": 10,
              "solidity": 0.2
             }
            },
            "type": "histogram"
           }
          ],
          "histogram2d": [
           {
            "colorbar": {
             "outlinewidth": 0,
             "ticks": ""
            },
            "colorscale": [
             [
              0,
              "#0d0887"
             ],
             [
              0.1111111111111111,
              "#46039f"
             ],
             [
              0.2222222222222222,
              "#7201a8"
             ],
             [
              0.3333333333333333,
              "#9c179e"
             ],
             [
              0.4444444444444444,
              "#bd3786"
             ],
             [
              0.5555555555555556,
              "#d8576b"
             ],
             [
              0.6666666666666666,
              "#ed7953"
             ],
             [
              0.7777777777777778,
              "#fb9f3a"
             ],
             [
              0.8888888888888888,
              "#fdca26"
             ],
             [
              1,
              "#f0f921"
             ]
            ],
            "type": "histogram2d"
           }
          ],
          "histogram2dcontour": [
           {
            "colorbar": {
             "outlinewidth": 0,
             "ticks": ""
            },
            "colorscale": [
             [
              0,
              "#0d0887"
             ],
             [
              0.1111111111111111,
              "#46039f"
             ],
             [
              0.2222222222222222,
              "#7201a8"
             ],
             [
              0.3333333333333333,
              "#9c179e"
             ],
             [
              0.4444444444444444,
              "#bd3786"
             ],
             [
              0.5555555555555556,
              "#d8576b"
             ],
             [
              0.6666666666666666,
              "#ed7953"
             ],
             [
              0.7777777777777778,
              "#fb9f3a"
             ],
             [
              0.8888888888888888,
              "#fdca26"
             ],
             [
              1,
              "#f0f921"
             ]
            ],
            "type": "histogram2dcontour"
           }
          ],
          "mesh3d": [
           {
            "colorbar": {
             "outlinewidth": 0,
             "ticks": ""
            },
            "type": "mesh3d"
           }
          ],
          "parcoords": [
           {
            "line": {
             "colorbar": {
              "outlinewidth": 0,
              "ticks": ""
             }
            },
            "type": "parcoords"
           }
          ],
          "pie": [
           {
            "automargin": true,
            "type": "pie"
           }
          ],
          "scatter": [
           {
            "fillpattern": {
             "fillmode": "overlay",
             "size": 10,
             "solidity": 0.2
            },
            "type": "scatter"
           }
          ],
          "scatter3d": [
           {
            "line": {
             "colorbar": {
              "outlinewidth": 0,
              "ticks": ""
             }
            },
            "marker": {
             "colorbar": {
              "outlinewidth": 0,
              "ticks": ""
             }
            },
            "type": "scatter3d"
           }
          ],
          "scattercarpet": [
           {
            "marker": {
             "colorbar": {
              "outlinewidth": 0,
              "ticks": ""
             }
            },
            "type": "scattercarpet"
           }
          ],
          "scattergeo": [
           {
            "marker": {
             "colorbar": {
              "outlinewidth": 0,
              "ticks": ""
             }
            },
            "type": "scattergeo"
           }
          ],
          "scattergl": [
           {
            "marker": {
             "colorbar": {
              "outlinewidth": 0,
              "ticks": ""
             }
            },
            "type": "scattergl"
           }
          ],
          "scattermapbox": [
           {
            "marker": {
             "colorbar": {
              "outlinewidth": 0,
              "ticks": ""
             }
            },
            "type": "scattermapbox"
           }
          ],
          "scatterpolar": [
           {
            "marker": {
             "colorbar": {
              "outlinewidth": 0,
              "ticks": ""
             }
            },
            "type": "scatterpolar"
           }
          ],
          "scatterpolargl": [
           {
            "marker": {
             "colorbar": {
              "outlinewidth": 0,
              "ticks": ""
             }
            },
            "type": "scatterpolargl"
           }
          ],
          "scatterternary": [
           {
            "marker": {
             "colorbar": {
              "outlinewidth": 0,
              "ticks": ""
             }
            },
            "type": "scatterternary"
           }
          ],
          "surface": [
           {
            "colorbar": {
             "outlinewidth": 0,
             "ticks": ""
            },
            "colorscale": [
             [
              0,
              "#0d0887"
             ],
             [
              0.1111111111111111,
              "#46039f"
             ],
             [
              0.2222222222222222,
              "#7201a8"
             ],
             [
              0.3333333333333333,
              "#9c179e"
             ],
             [
              0.4444444444444444,
              "#bd3786"
             ],
             [
              0.5555555555555556,
              "#d8576b"
             ],
             [
              0.6666666666666666,
              "#ed7953"
             ],
             [
              0.7777777777777778,
              "#fb9f3a"
             ],
             [
              0.8888888888888888,
              "#fdca26"
             ],
             [
              1,
              "#f0f921"
             ]
            ],
            "type": "surface"
           }
          ],
          "table": [
           {
            "cells": {
             "fill": {
              "color": "#EBF0F8"
             },
             "line": {
              "color": "white"
             }
            },
            "header": {
             "fill": {
              "color": "#C8D4E3"
             },
             "line": {
              "color": "white"
             }
            },
            "type": "table"
           }
          ]
         },
         "layout": {
          "annotationdefaults": {
           "arrowcolor": "#2a3f5f",
           "arrowhead": 0,
           "arrowwidth": 1
          },
          "autotypenumbers": "strict",
          "coloraxis": {
           "colorbar": {
            "outlinewidth": 0,
            "ticks": ""
           }
          },
          "colorscale": {
           "diverging": [
            [
             0,
             "#8e0152"
            ],
            [
             0.1,
             "#c51b7d"
            ],
            [
             0.2,
             "#de77ae"
            ],
            [
             0.3,
             "#f1b6da"
            ],
            [
             0.4,
             "#fde0ef"
            ],
            [
             0.5,
             "#f7f7f7"
            ],
            [
             0.6,
             "#e6f5d0"
            ],
            [
             0.7,
             "#b8e186"
            ],
            [
             0.8,
             "#7fbc41"
            ],
            [
             0.9,
             "#4d9221"
            ],
            [
             1,
             "#276419"
            ]
           ],
           "sequential": [
            [
             0,
             "#0d0887"
            ],
            [
             0.1111111111111111,
             "#46039f"
            ],
            [
             0.2222222222222222,
             "#7201a8"
            ],
            [
             0.3333333333333333,
             "#9c179e"
            ],
            [
             0.4444444444444444,
             "#bd3786"
            ],
            [
             0.5555555555555556,
             "#d8576b"
            ],
            [
             0.6666666666666666,
             "#ed7953"
            ],
            [
             0.7777777777777778,
             "#fb9f3a"
            ],
            [
             0.8888888888888888,
             "#fdca26"
            ],
            [
             1,
             "#f0f921"
            ]
           ],
           "sequentialminus": [
            [
             0,
             "#0d0887"
            ],
            [
             0.1111111111111111,
             "#46039f"
            ],
            [
             0.2222222222222222,
             "#7201a8"
            ],
            [
             0.3333333333333333,
             "#9c179e"
            ],
            [
             0.4444444444444444,
             "#bd3786"
            ],
            [
             0.5555555555555556,
             "#d8576b"
            ],
            [
             0.6666666666666666,
             "#ed7953"
            ],
            [
             0.7777777777777778,
             "#fb9f3a"
            ],
            [
             0.8888888888888888,
             "#fdca26"
            ],
            [
             1,
             "#f0f921"
            ]
           ]
          },
          "colorway": [
           "#636efa",
           "#EF553B",
           "#00cc96",
           "#ab63fa",
           "#FFA15A",
           "#19d3f3",
           "#FF6692",
           "#B6E880",
           "#FF97FF",
           "#FECB52"
          ],
          "font": {
           "color": "#2a3f5f"
          },
          "geo": {
           "bgcolor": "white",
           "lakecolor": "white",
           "landcolor": "#E5ECF6",
           "showlakes": true,
           "showland": true,
           "subunitcolor": "white"
          },
          "hoverlabel": {
           "align": "left"
          },
          "hovermode": "closest",
          "mapbox": {
           "style": "light"
          },
          "paper_bgcolor": "white",
          "plot_bgcolor": "#E5ECF6",
          "polar": {
           "angularaxis": {
            "gridcolor": "white",
            "linecolor": "white",
            "ticks": ""
           },
           "bgcolor": "#E5ECF6",
           "radialaxis": {
            "gridcolor": "white",
            "linecolor": "white",
            "ticks": ""
           }
          },
          "scene": {
           "xaxis": {
            "backgroundcolor": "#E5ECF6",
            "gridcolor": "white",
            "gridwidth": 2,
            "linecolor": "white",
            "showbackground": true,
            "ticks": "",
            "zerolinecolor": "white"
           },
           "yaxis": {
            "backgroundcolor": "#E5ECF6",
            "gridcolor": "white",
            "gridwidth": 2,
            "linecolor": "white",
            "showbackground": true,
            "ticks": "",
            "zerolinecolor": "white"
           },
           "zaxis": {
            "backgroundcolor": "#E5ECF6",
            "gridcolor": "white",
            "gridwidth": 2,
            "linecolor": "white",
            "showbackground": true,
            "ticks": "",
            "zerolinecolor": "white"
           }
          },
          "shapedefaults": {
           "line": {
            "color": "#2a3f5f"
           }
          },
          "ternary": {
           "aaxis": {
            "gridcolor": "white",
            "linecolor": "white",
            "ticks": ""
           },
           "baxis": {
            "gridcolor": "white",
            "linecolor": "white",
            "ticks": ""
           },
           "bgcolor": "#E5ECF6",
           "caxis": {
            "gridcolor": "white",
            "linecolor": "white",
            "ticks": ""
           }
          },
          "title": {
           "x": 0.05
          },
          "xaxis": {
           "automargin": true,
           "gridcolor": "white",
           "linecolor": "white",
           "ticks": "",
           "title": {
            "standoff": 15
           },
           "zerolinecolor": "white",
           "zerolinewidth": 2
          },
          "yaxis": {
           "automargin": true,
           "gridcolor": "white",
           "linecolor": "white",
           "ticks": "",
           "title": {
            "standoff": 15
           },
           "zerolinecolor": "white",
           "zerolinewidth": 2
          }
         }
        },
        "title": {
         "text": "eye = (x:2., y:0, z:0)"
        }
       }
      },
      "text/html": [
       "<div>                            <div id=\"6f1ad075-3b51-4ef3-8026-b5d09ef1a658\" class=\"plotly-graph-div\" style=\"height:525px; width:100%;\"></div>            <script type=\"text/javascript\">                require([\"plotly\"], function(Plotly) {                    window.PLOTLYENV=window.PLOTLYENV || {};                                    if (document.getElementById(\"6f1ad075-3b51-4ef3-8026-b5d09ef1a658\")) {                    Plotly.newPlot(                        \"6f1ad075-3b51-4ef3-8026-b5d09ef1a658\",                        [{\"marker\":{\"color\":[6,10,8,7,4,14,1,2,2,14,10,3,11,14,13,14,4,2,11,0,13,5,14,11,10,1,5,3,8,14,6,3,1,4,11,13,5,7,12,4,9,12,11,5,2,14,12,11,0,6,11,9,3,11,1,0,4,1,7,2,6,3,2,13,11,11,5,9,13,2,3,0,9,0,3,10,4,1,7,11,1,0,14,2,1,10,4,0,14,13,5,2,13,0,6,14,1,0,12,4,5,8],\"colorscale\":[[0.0,\"#440154\"],[0.1111111111111111,\"#482878\"],[0.2222222222222222,\"#3e4989\"],[0.3333333333333333,\"#31688e\"],[0.4444444444444444,\"#26828e\"],[0.5555555555555556,\"#1f9e89\"],[0.6666666666666666,\"#35b779\"],[0.7777777777777778,\"#6ece58\"],[0.8888888888888888,\"#b5de2b\"],[1.0,\"#fde725\"]],\"opacity\":0.8,\"size\":5},\"mode\":\"markers\",\"x\":[1.1979551732809566,1.6802756813566453,1.2710769515458673,1.7410288568297003,0.8628589838486225,0.44777568135664547,0.6568430139592794,-0.0009807621135331547,0.3795577136594005,0.536698729810778,0.02473720558371177,0.7596058083755676,1.007631397208144,1.693134665205268,0.18629165124598854,0.18580127018922196,1.7425,0.8490192378864668,0.40478530029987886,0.32125644347017857,0.05290707856478957,0.34844555433772323,1.2829551732809565,-0.02021469970012113,0.8302756813566454,1.1114840301106568,1.3021891108675445,0.8337083487540115,1.285897459621556,0.9320577136594005,1.6229551732809566,0.42352885682970026,0.320766062413412,-0.09088457268119896,1.7835288568297003,0.5520096189432334,0.012368602791855886,0.7576442841485013,1.7237564434701786,0.8480384757729337,-0.004413429510899208,1.3432179676972449,1.299246824526945,0.3039840301106569,-0.07508330249197702,0.052416697508023,0.8144744111674235,0.3751442841485013,1.6407179676972448,1.301698729810778,0.3751442841485013,-0.03405444566227675,1.288349364905389,0.4937083487540115,0.3355865704891008,1.0971539030917346,1.1692949192431121,0.7161250462620344,0.8762083487540114,1.624916697508023,1.7711602540378444,0.7447853002998788,0.3350961894323342,1.8418301270189221,1.8428108891324553,0.40478530029987886,0.8030865704891008,1.6659455543377233,0.9029070785647896,1.1999166975080229,0.3494263164512564,0.7017949192431122,0.45022758664047835,0.23233339501604594,0.7447853002998788,1.7247372055837118,0.2896539030917347,0.8495096189432334,0.846567332602634,0.024246824526945182,-0.08941342951089921,-0.20748711305964282,1.4756217782649106,0.3350961894323342,0.014330127018922195,0.4497372055837118,0.8776794919243112,1.1267949192431121,1.8265192378864668,0.12700961894323345,1.7123686027918559,1.6100961894323342,0.4630865704891008,-0.14820508075688774,1.6822372055837118,1.9006217782649106,1.1114840301106568,1.4925128869403572,1.7978589838486225,0.31929491924311226],\"y\":[2.313923048454132,3.083205080756888,2.3185640646055097,2.9612435565298214,1.499282032302755,1.062487113059643,1.5573205080756887,0.05464101615137755,0.7846410161513775,1.0024871130596429,0.25320508075688775,1.5419615242270663,1.5905255888325764,3.1824871130596426,0.22516660498395405,0.25248711305964283,2.879282032302755,1.4546410161513774,1.0105255888325764,0.77,0.3151666049839541,0.8866025403784439,2.4724871130596426,0.3105255888325765,1.6832050807568877,2.2373205080756886,2.2166025403784433,1.4919615242270663,2.30856406460551,1.7224871130596426,3.0139230484541324,0.7819615242270663,0.7973205080756888,0.16928203230275513,3.040525588832576,0.965166604983954,0.12660254037844387,1.6512435565298214,3.1078460969082653,1.509282032302755,0.24588457268119898,2.377846096908265,2.380525588832576,0.9166025403784439,0.10464101615137755,0.34248711305964286,1.7478460969082652,1.0305255888325764,2.84,2.2439230484541324,1.0305255888325764,0.26588457268119897,2.171961524227066,0.9505255888325765,0.7873205080756888,2.2199999999999998,2.279282032302755,1.5173205080756886,1.5712435565298213,2.9046410161513774,2.9139230484541323,1.5519615242270661,0.8146410161513775,3.055166604983954,3.000525588832576,1.0105255888325764,1.5666025403784438,3.065884572681199,1.715166604983954,2.204641016151377,0.8319615242270663,1.5,0.925884572681199,0.83,1.5519615242270661,3.0532050807568876,0.899282032302755,1.4273205080756888,1.5912435565298213,0.2805255888325765,0.08732050807568878,0.14,2.3424871130596423,0.8146410161513775,0.017320508075688773,0.9532050807568877,1.489282032302755,2.1999999999999997,3.0924871130596427,0.26516660498395406,2.9266025403784437,2.9146410161513776,1.025166604983954,0.10000000000000002,2.9739230484541324,3.0424871130596425,2.2373205080756886,2.94,3.057846096908265,0.879282032302755],\"z\":[90.0,120.0,90.0,120.0,60.0,30.0,60.0,0.0,30.0,30.0,0.0,60.0,60.0,120.0,0.0,0.0,120.0,60.0,30.0,30.0,0.0,30.0,90.0,0.0,60.0,90.0,90.0,60.0,90.0,60.0,120.0,30.0,30.0,0.0,120.0,30.0,0.0,60.0,120.0,60.0,0.0,90.0,90.0,30.0,0.0,0.0,60.0,30.0,120.0,90.0,30.0,0.0,90.0,30.0,30.0,90.0,90.0,60.0,60.0,120.0,120.0,60.0,30.0,120.0,120.0,30.0,60.0,120.0,60.0,90.0,30.0,60.0,30.0,30.0,60.0,120.0,30.0,60.0,60.0,0.0,0.0,0.0,90.0,30.0,0.0,30.0,60.0,90.0,120.0,0.0,120.0,120.0,30.0,0.0,120.0,120.0,90.0,120.0,120.0,30.0],\"type\":\"scatter3d\"}],                        {\"template\":{\"data\":{\"histogram2dcontour\":[{\"type\":\"histogram2dcontour\",\"colorbar\":{\"outlinewidth\":0,\"ticks\":\"\"},\"colorscale\":[[0.0,\"#0d0887\"],[0.1111111111111111,\"#46039f\"],[0.2222222222222222,\"#7201a8\"],[0.3333333333333333,\"#9c179e\"],[0.4444444444444444,\"#bd3786\"],[0.5555555555555556,\"#d8576b\"],[0.6666666666666666,\"#ed7953\"],[0.7777777777777778,\"#fb9f3a\"],[0.8888888888888888,\"#fdca26\"],[1.0,\"#f0f921\"]]}],\"choropleth\":[{\"type\":\"choropleth\",\"colorbar\":{\"outlinewidth\":0,\"ticks\":\"\"}}],\"histogram2d\":[{\"type\":\"histogram2d\",\"colorbar\":{\"outlinewidth\":0,\"ticks\":\"\"},\"colorscale\":[[0.0,\"#0d0887\"],[0.1111111111111111,\"#46039f\"],[0.2222222222222222,\"#7201a8\"],[0.3333333333333333,\"#9c179e\"],[0.4444444444444444,\"#bd3786\"],[0.5555555555555556,\"#d8576b\"],[0.6666666666666666,\"#ed7953\"],[0.7777777777777778,\"#fb9f3a\"],[0.8888888888888888,\"#fdca26\"],[1.0,\"#f0f921\"]]}],\"heatmap\":[{\"type\":\"heatmap\",\"colorbar\":{\"outlinewidth\":0,\"ticks\":\"\"},\"colorscale\":[[0.0,\"#0d0887\"],[0.1111111111111111,\"#46039f\"],[0.2222222222222222,\"#7201a8\"],[0.3333333333333333,\"#9c179e\"],[0.4444444444444444,\"#bd3786\"],[0.5555555555555556,\"#d8576b\"],[0.6666666666666666,\"#ed7953\"],[0.7777777777777778,\"#fb9f3a\"],[0.8888888888888888,\"#fdca26\"],[1.0,\"#f0f921\"]]}],\"heatmapgl\":[{\"type\":\"heatmapgl\",\"colorbar\":{\"outlinewidth\":0,\"ticks\":\"\"},\"colorscale\":[[0.0,\"#0d0887\"],[0.1111111111111111,\"#46039f\"],[0.2222222222222222,\"#7201a8\"],[0.3333333333333333,\"#9c179e\"],[0.4444444444444444,\"#bd3786\"],[0.5555555555555556,\"#d8576b\"],[0.6666666666666666,\"#ed7953\"],[0.7777777777777778,\"#fb9f3a\"],[0.8888888888888888,\"#fdca26\"],[1.0,\"#f0f921\"]]}],\"contourcarpet\":[{\"type\":\"contourcarpet\",\"colorbar\":{\"outlinewidth\":0,\"ticks\":\"\"}}],\"contour\":[{\"type\":\"contour\",\"colorbar\":{\"outlinewidth\":0,\"ticks\":\"\"},\"colorscale\":[[0.0,\"#0d0887\"],[0.1111111111111111,\"#46039f\"],[0.2222222222222222,\"#7201a8\"],[0.3333333333333333,\"#9c179e\"],[0.4444444444444444,\"#bd3786\"],[0.5555555555555556,\"#d8576b\"],[0.6666666666666666,\"#ed7953\"],[0.7777777777777778,\"#fb9f3a\"],[0.8888888888888888,\"#fdca26\"],[1.0,\"#f0f921\"]]}],\"surface\":[{\"type\":\"surface\",\"colorbar\":{\"outlinewidth\":0,\"ticks\":\"\"},\"colorscale\":[[0.0,\"#0d0887\"],[0.1111111111111111,\"#46039f\"],[0.2222222222222222,\"#7201a8\"],[0.3333333333333333,\"#9c179e\"],[0.4444444444444444,\"#bd3786\"],[0.5555555555555556,\"#d8576b\"],[0.6666666666666666,\"#ed7953\"],[0.7777777777777778,\"#fb9f3a\"],[0.8888888888888888,\"#fdca26\"],[1.0,\"#f0f921\"]]}],\"mesh3d\":[{\"type\":\"mesh3d\",\"colorbar\":{\"outlinewidth\":0,\"ticks\":\"\"}}],\"scatter\":[{\"fillpattern\":{\"fillmode\":\"overlay\",\"size\":10,\"solidity\":0.2},\"type\":\"scatter\"}],\"parcoords\":[{\"type\":\"parcoords\",\"line\":{\"colorbar\":{\"outlinewidth\":0,\"ticks\":\"\"}}}],\"scatterpolargl\":[{\"type\":\"scatterpolargl\",\"marker\":{\"colorbar\":{\"outlinewidth\":0,\"ticks\":\"\"}}}],\"bar\":[{\"error_x\":{\"color\":\"#2a3f5f\"},\"error_y\":{\"color\":\"#2a3f5f\"},\"marker\":{\"line\":{\"color\":\"#E5ECF6\",\"width\":0.5},\"pattern\":{\"fillmode\":\"overlay\",\"size\":10,\"solidity\":0.2}},\"type\":\"bar\"}],\"scattergeo\":[{\"type\":\"scattergeo\",\"marker\":{\"colorbar\":{\"outlinewidth\":0,\"ticks\":\"\"}}}],\"scatterpolar\":[{\"type\":\"scatterpolar\",\"marker\":{\"colorbar\":{\"outlinewidth\":0,\"ticks\":\"\"}}}],\"histogram\":[{\"marker\":{\"pattern\":{\"fillmode\":\"overlay\",\"size\":10,\"solidity\":0.2}},\"type\":\"histogram\"}],\"scattergl\":[{\"type\":\"scattergl\",\"marker\":{\"colorbar\":{\"outlinewidth\":0,\"ticks\":\"\"}}}],\"scatter3d\":[{\"type\":\"scatter3d\",\"line\":{\"colorbar\":{\"outlinewidth\":0,\"ticks\":\"\"}},\"marker\":{\"colorbar\":{\"outlinewidth\":0,\"ticks\":\"\"}}}],\"scattermapbox\":[{\"type\":\"scattermapbox\",\"marker\":{\"colorbar\":{\"outlinewidth\":0,\"ticks\":\"\"}}}],\"scatterternary\":[{\"type\":\"scatterternary\",\"marker\":{\"colorbar\":{\"outlinewidth\":0,\"ticks\":\"\"}}}],\"scattercarpet\":[{\"type\":\"scattercarpet\",\"marker\":{\"colorbar\":{\"outlinewidth\":0,\"ticks\":\"\"}}}],\"carpet\":[{\"aaxis\":{\"endlinecolor\":\"#2a3f5f\",\"gridcolor\":\"white\",\"linecolor\":\"white\",\"minorgridcolor\":\"white\",\"startlinecolor\":\"#2a3f5f\"},\"baxis\":{\"endlinecolor\":\"#2a3f5f\",\"gridcolor\":\"white\",\"linecolor\":\"white\",\"minorgridcolor\":\"white\",\"startlinecolor\":\"#2a3f5f\"},\"type\":\"carpet\"}],\"table\":[{\"cells\":{\"fill\":{\"color\":\"#EBF0F8\"},\"line\":{\"color\":\"white\"}},\"header\":{\"fill\":{\"color\":\"#C8D4E3\"},\"line\":{\"color\":\"white\"}},\"type\":\"table\"}],\"barpolar\":[{\"marker\":{\"line\":{\"color\":\"#E5ECF6\",\"width\":0.5},\"pattern\":{\"fillmode\":\"overlay\",\"size\":10,\"solidity\":0.2}},\"type\":\"barpolar\"}],\"pie\":[{\"automargin\":true,\"type\":\"pie\"}]},\"layout\":{\"autotypenumbers\":\"strict\",\"colorway\":[\"#636efa\",\"#EF553B\",\"#00cc96\",\"#ab63fa\",\"#FFA15A\",\"#19d3f3\",\"#FF6692\",\"#B6E880\",\"#FF97FF\",\"#FECB52\"],\"font\":{\"color\":\"#2a3f5f\"},\"hovermode\":\"closest\",\"hoverlabel\":{\"align\":\"left\"},\"paper_bgcolor\":\"white\",\"plot_bgcolor\":\"#E5ECF6\",\"polar\":{\"bgcolor\":\"#E5ECF6\",\"angularaxis\":{\"gridcolor\":\"white\",\"linecolor\":\"white\",\"ticks\":\"\"},\"radialaxis\":{\"gridcolor\":\"white\",\"linecolor\":\"white\",\"ticks\":\"\"}},\"ternary\":{\"bgcolor\":\"#E5ECF6\",\"aaxis\":{\"gridcolor\":\"white\",\"linecolor\":\"white\",\"ticks\":\"\"},\"baxis\":{\"gridcolor\":\"white\",\"linecolor\":\"white\",\"ticks\":\"\"},\"caxis\":{\"gridcolor\":\"white\",\"linecolor\":\"white\",\"ticks\":\"\"}},\"coloraxis\":{\"colorbar\":{\"outlinewidth\":0,\"ticks\":\"\"}},\"colorscale\":{\"sequential\":[[0.0,\"#0d0887\"],[0.1111111111111111,\"#46039f\"],[0.2222222222222222,\"#7201a8\"],[0.3333333333333333,\"#9c179e\"],[0.4444444444444444,\"#bd3786\"],[0.5555555555555556,\"#d8576b\"],[0.6666666666666666,\"#ed7953\"],[0.7777777777777778,\"#fb9f3a\"],[0.8888888888888888,\"#fdca26\"],[1.0,\"#f0f921\"]],\"sequentialminus\":[[0.0,\"#0d0887\"],[0.1111111111111111,\"#46039f\"],[0.2222222222222222,\"#7201a8\"],[0.3333333333333333,\"#9c179e\"],[0.4444444444444444,\"#bd3786\"],[0.5555555555555556,\"#d8576b\"],[0.6666666666666666,\"#ed7953\"],[0.7777777777777778,\"#fb9f3a\"],[0.8888888888888888,\"#fdca26\"],[1.0,\"#f0f921\"]],\"diverging\":[[0,\"#8e0152\"],[0.1,\"#c51b7d\"],[0.2,\"#de77ae\"],[0.3,\"#f1b6da\"],[0.4,\"#fde0ef\"],[0.5,\"#f7f7f7\"],[0.6,\"#e6f5d0\"],[0.7,\"#b8e186\"],[0.8,\"#7fbc41\"],[0.9,\"#4d9221\"],[1,\"#276419\"]]},\"xaxis\":{\"gridcolor\":\"white\",\"linecolor\":\"white\",\"ticks\":\"\",\"title\":{\"standoff\":15},\"zerolinecolor\":\"white\",\"automargin\":true,\"zerolinewidth\":2},\"yaxis\":{\"gridcolor\":\"white\",\"linecolor\":\"white\",\"ticks\":\"\",\"title\":{\"standoff\":15},\"zerolinecolor\":\"white\",\"automargin\":true,\"zerolinewidth\":2},\"scene\":{\"xaxis\":{\"backgroundcolor\":\"#E5ECF6\",\"gridcolor\":\"white\",\"linecolor\":\"white\",\"showbackground\":true,\"ticks\":\"\",\"zerolinecolor\":\"white\",\"gridwidth\":2},\"yaxis\":{\"backgroundcolor\":\"#E5ECF6\",\"gridcolor\":\"white\",\"linecolor\":\"white\",\"showbackground\":true,\"ticks\":\"\",\"zerolinecolor\":\"white\",\"gridwidth\":2},\"zaxis\":{\"backgroundcolor\":\"#E5ECF6\",\"gridcolor\":\"white\",\"linecolor\":\"white\",\"showbackground\":true,\"ticks\":\"\",\"zerolinecolor\":\"white\",\"gridwidth\":2}},\"shapedefaults\":{\"line\":{\"color\":\"#2a3f5f\"}},\"annotationdefaults\":{\"arrowcolor\":\"#2a3f5f\",\"arrowhead\":0,\"arrowwidth\":1},\"geo\":{\"bgcolor\":\"white\",\"landcolor\":\"#E5ECF6\",\"subunitcolor\":\"white\",\"showland\":true,\"showlakes\":true,\"lakecolor\":\"white\"},\"title\":{\"x\":0.05},\"mapbox\":{\"style\":\"light\"}}},\"margin\":{\"l\":0,\"r\":0,\"b\":0,\"t\":0},\"scene\":{\"camera\":{\"eye\":{\"x\":3,\"y\":0,\"z\":0}}},\"title\":{\"text\":\"eye = (x:2., y:0, z:0)\"}},                        {\"responsive\": true}                    ).then(function(){\n",
       "                            \n",
       "var gd = document.getElementById('6f1ad075-3b51-4ef3-8026-b5d09ef1a658');\n",
       "var x = new MutationObserver(function (mutations, observer) {{\n",
       "        var display = window.getComputedStyle(gd).display;\n",
       "        if (!display || display === 'none') {{\n",
       "            console.log([gd, 'removed!']);\n",
       "            Plotly.purge(gd);\n",
       "            observer.disconnect();\n",
       "        }}\n",
       "}});\n",
       "\n",
       "// Listen for the removal of the full notebook cells\n",
       "var notebookContainer = gd.closest('#notebook-container');\n",
       "if (notebookContainer) {{\n",
       "    x.observe(notebookContainer, {childList: true});\n",
       "}}\n",
       "\n",
       "// Listen for the clearing of the current output cell\n",
       "var outputEl = gd.closest('.output');\n",
       "if (outputEl) {{\n",
       "    x.observe(outputEl, {childList: true});\n",
       "}}\n",
       "\n",
       "                        })                };                });            </script>        </div>"
      ]
     },
     "metadata": {},
     "output_type": "display_data"
    }
   ],
   "source": [
    "name = 'eye = (x:2., y:0, z:0)'\n",
    "camera = dict(\n",
    "    eye=dict(x=3, y=0, z=0)\n",
    ")\n",
    "\n",
    "\n",
    "fig_c1.update_layout(scene_camera=camera, title=name)\n",
    "fig_c1.show()"
   ]
  },
  {
   "cell_type": "code",
   "execution_count": 74,
   "id": "25a9675f",
   "metadata": {},
   "outputs": [],
   "source": [
    "pts_o2 = np.matmul(c2_p, ptss)\n",
    "x_c2 = pts_o2[0,:]\n",
    "y_c2 = pts_o2[1,:]\n",
    "z_c2 = pts_o2[2,:]"
   ]
  },
  {
   "cell_type": "code",
   "execution_count": 75,
   "id": "3f655a9c",
   "metadata": {},
   "outputs": [
    {
     "data": {
      "application/vnd.plotly.v1+json": {
       "config": {
        "plotlyServerURL": "https://plot.ly"
       },
       "data": [
        {
         "marker": {
          "color": [
           6,
           10,
           8,
           7,
           4,
           14,
           1,
           2,
           2,
           14,
           10,
           3,
           11,
           14,
           13,
           14,
           4,
           2,
           11,
           0,
           13,
           5,
           14,
           11,
           10,
           1,
           5,
           3,
           8,
           14,
           6,
           3,
           1,
           4,
           11,
           13,
           5,
           7,
           12,
           4,
           9,
           12,
           11,
           5,
           2,
           14,
           12,
           11,
           0,
           6,
           11,
           9,
           3,
           11,
           1,
           0,
           4,
           1,
           7,
           2,
           6,
           3,
           2,
           13,
           11,
           11,
           5,
           9,
           13,
           2,
           3,
           0,
           9,
           0,
           3,
           10,
           4,
           1,
           7,
           11,
           1,
           0,
           14,
           2,
           1,
           10,
           4,
           0,
           14,
           13,
           5,
           2,
           13,
           0,
           6,
           14,
           1,
           0,
           12,
           4,
           5,
           8
          ],
          "colorscale": [
           [
            0,
            "#440154"
           ],
           [
            0.1111111111111111,
            "#482878"
           ],
           [
            0.2222222222222222,
            "#3e4989"
           ],
           [
            0.3333333333333333,
            "#31688e"
           ],
           [
            0.4444444444444444,
            "#26828e"
           ],
           [
            0.5555555555555556,
            "#1f9e89"
           ],
           [
            0.6666666666666666,
            "#35b779"
           ],
           [
            0.7777777777777778,
            "#6ece58"
           ],
           [
            0.8888888888888888,
            "#b5de2b"
           ],
           [
            1,
            "#fde725"
           ]
          ],
          "opacity": 0.8,
          "size": 5
         },
         "mode": "markers",
         "type": "scatter3d",
         "x": [
          1.376554445662277,
          1.8958364779650319,
          1.433205080756888,
          1.8760640646055102,
          0.9422724133595217,
          0.6494486372867092,
          0.8204422863405996,
          0.028301270189221933,
          0.4512916512459885,
          0.683467875173176,
          0.15284609690826528,
          0.888432667397366,
          1.0980255888325765,
          1.9581088913245535,
          0.25766660498395405,
          0.271817240078565,
          1.8336121593216772,
          0.9083012701892219,
          0.5899871130596428,
          0.4003108891324554,
          0.2066377481542538,
          0.4824038105676658,
          1.5237787643056313,
          0.14998711305964285,
          1.015836477965032,
          1.271782032302755,
          1.4020929214352105,
          0.9167820323027551,
          1.4388749537379657,
          1.1121281292110203,
          1.8165544456622769,
          0.4824519052838329,
          0.41446152422706634,
          0.022583302491977035,
          1.9496762239271874,
          0.6749871130596428,
          0.07642304845413264,
          0.94503520777581,
          1.9411473670974873,
          0.9366025403784439,
          0.12735571585149869,
          1.5181569860407207,
          1.4869967320028763,
          0.4653941916244324,
          -4.8094716167089435e-05,
          0.22078838324886474,
          1.038467875173176,
          0.5786473670974872,
          1.7373205080756888,
          1.4162435565298215,
          0.5786473670974872,
          0.1160159698893431,
          1.3681217782649107,
          0.6240063509461097,
          0.42013139720814413,
          1.2519615242270663,
          1.3369134295108993,
          0.8431217782649107,
          0.9903941916244323,
          1.7599519052838328,
          1.8732531754730548,
          0.8827627944162882,
          0.4342820323027551,
          2.000656986040721,
          1.9723557158514988,
          0.5899871130596428,
          0.9337435565298214,
          1.876015969889343,
          1.0866377481542537,
          1.3199519052838329,
          0.4541025403784439,
          0.823301270189222,
          0.5786954618136544,
          0.3662916512459885,
          0.8827627944162882,
          1.9128460969082652,
          0.4455736835487436,
          0.894150635094611,
          0.9790544456622767,
          0.16699673200287624,
          -0.01986860279185586,
          -0.07937822173508927,
          1.5974871130596429,
          0.4342820323027551,
          0.019820508075688772,
          0.5928460969082653,
          0.9479422863405995,
          1.2633012701892221,
          2.0091377481542536,
          0.23498711305964282,
          1.8364230484541326,
          1.754282032302755,
          0.640967875173176,
          -0.05669872981077805,
          1.839233937586588,
          2.037487113059643,
          1.271782032302755,
          1.6806217782649107,
          1.9694967320028762,
          0.45691342951089925
         ],
         "y": [
          2.1105255888325765,
          2.7705255888325766,
          2.07856406460551,
          2.6192820323027552,
          1.3319615242270664,
          0.9678460969082653,
          1.4924871130596429,
          0.05464101615137754,
          0.7266025403784439,
          0.8639230484541326,
          0.23856406460551016,
          1.4258845726811988,
          1.35,
          2.8624871130596428,
          0.12999999999999998,
          0.15732050807568876,
          2.537320508075689,
          1.2946410161513775,
          0.9378460969082653,
          0.7412435565298214,
          0.28588457268119893,
          0.8432050807568877,
          2.225166604983954,
          0.31784609690826526,
          1.5305255888325764,
          2.077846096908265,
          1.9619615242270663,
          1.339282032302755,
          2.0612435565298215,
          1.5185640646055103,
          2.7305255888325766,
          0.7019615242270663,
          0.7685640646055102,
          0.2132050807568877,
          2.6766025403784437,
          0.8192820323027551,
          0.11928203230275508,
          1.535166604983954,
          2.7732050807568878,
          1.349282032302755,
          0.24588457268119895,
          2.101243556529821,
          2.1258845726811986,
          0.8951666049839541,
          0.1412435565298214,
          0.3132050807568877,
          1.6024871130596428,
          0.9724871130596429,
          2.549282032302755,
          1.989282032302755,
          0.9724871130596429,
          0.2805255888325765,
          1.9246410161513774,
          0.8339230484541327,
          0.7512435565298214,
          2.0678460969082653,
          2.0905255888325764,
          1.4232050807568877,
          1.396602540378444,
          2.6212435565298216,
          2.557320508075689,
          1.4432050807568877,
          0.7785640646055102,
          2.6619615242270664,
          2.6073205080756887,
          0.9378460969082653,
          1.4285640646055102,
          2.7605255888325764,
          1.525884572681199,
          2.0012435565298214,
          0.7885640646055102,
          1.4132050807568877,
          0.8312435565298214,
          0.845166604983954,
          1.4432050807568877,
          2.71856406460551,
          0.885166604983954,
          1.2673205080756889,
          1.4312435565298214,
          0.2658845726811989,
          0.13124355652982142,
          0.24248711305964282,
          1.9999999999999998,
          0.7785640646055102,
          0.009999999999999998,
          0.8585640646055102,
          1.3146410161513775,
          2.0332050807568876,
          2.706602540378444,
          0.19928203230275507,
          2.5992820323027552,
          2.63856406460551,
          0.9232050807568877,
          0.17320508075688773,
          2.6612435565298216,
          2.62,
          2.077846096908265,
          2.7224871130596426,
          2.686602540378444,
          0.8505255888325765
         ],
         "z": [
          75,
          100,
          75,
          100,
          50,
          25,
          50,
          0,
          25,
          25,
          0,
          50,
          50,
          100,
          0,
          0,
          100,
          50,
          25,
          25,
          0,
          25,
          75,
          0,
          50,
          75,
          75,
          50,
          75,
          50,
          100,
          25,
          25,
          0,
          100,
          25,
          0,
          50,
          100,
          50,
          0,
          75,
          75,
          25,
          0,
          0,
          50,
          25,
          100,
          75,
          25,
          0,
          75,
          25,
          25,
          75,
          75,
          50,
          50,
          100,
          100,
          50,
          25,
          100,
          100,
          25,
          50,
          100,
          50,
          75,
          25,
          50,
          25,
          25,
          50,
          100,
          25,
          50,
          50,
          0,
          0,
          0,
          75,
          25,
          0,
          25,
          50,
          75,
          100,
          0,
          100,
          100,
          25,
          0,
          100,
          100,
          75,
          100,
          100,
          25
         ]
        }
       ],
       "layout": {
        "margin": {
         "b": 0,
         "l": 0,
         "r": 0,
         "t": 0
        },
        "template": {
         "data": {
          "bar": [
           {
            "error_x": {
             "color": "#2a3f5f"
            },
            "error_y": {
             "color": "#2a3f5f"
            },
            "marker": {
             "line": {
              "color": "#E5ECF6",
              "width": 0.5
             },
             "pattern": {
              "fillmode": "overlay",
              "size": 10,
              "solidity": 0.2
             }
            },
            "type": "bar"
           }
          ],
          "barpolar": [
           {
            "marker": {
             "line": {
              "color": "#E5ECF6",
              "width": 0.5
             },
             "pattern": {
              "fillmode": "overlay",
              "size": 10,
              "solidity": 0.2
             }
            },
            "type": "barpolar"
           }
          ],
          "carpet": [
           {
            "aaxis": {
             "endlinecolor": "#2a3f5f",
             "gridcolor": "white",
             "linecolor": "white",
             "minorgridcolor": "white",
             "startlinecolor": "#2a3f5f"
            },
            "baxis": {
             "endlinecolor": "#2a3f5f",
             "gridcolor": "white",
             "linecolor": "white",
             "minorgridcolor": "white",
             "startlinecolor": "#2a3f5f"
            },
            "type": "carpet"
           }
          ],
          "choropleth": [
           {
            "colorbar": {
             "outlinewidth": 0,
             "ticks": ""
            },
            "type": "choropleth"
           }
          ],
          "contour": [
           {
            "colorbar": {
             "outlinewidth": 0,
             "ticks": ""
            },
            "colorscale": [
             [
              0,
              "#0d0887"
             ],
             [
              0.1111111111111111,
              "#46039f"
             ],
             [
              0.2222222222222222,
              "#7201a8"
             ],
             [
              0.3333333333333333,
              "#9c179e"
             ],
             [
              0.4444444444444444,
              "#bd3786"
             ],
             [
              0.5555555555555556,
              "#d8576b"
             ],
             [
              0.6666666666666666,
              "#ed7953"
             ],
             [
              0.7777777777777778,
              "#fb9f3a"
             ],
             [
              0.8888888888888888,
              "#fdca26"
             ],
             [
              1,
              "#f0f921"
             ]
            ],
            "type": "contour"
           }
          ],
          "contourcarpet": [
           {
            "colorbar": {
             "outlinewidth": 0,
             "ticks": ""
            },
            "type": "contourcarpet"
           }
          ],
          "heatmap": [
           {
            "colorbar": {
             "outlinewidth": 0,
             "ticks": ""
            },
            "colorscale": [
             [
              0,
              "#0d0887"
             ],
             [
              0.1111111111111111,
              "#46039f"
             ],
             [
              0.2222222222222222,
              "#7201a8"
             ],
             [
              0.3333333333333333,
              "#9c179e"
             ],
             [
              0.4444444444444444,
              "#bd3786"
             ],
             [
              0.5555555555555556,
              "#d8576b"
             ],
             [
              0.6666666666666666,
              "#ed7953"
             ],
             [
              0.7777777777777778,
              "#fb9f3a"
             ],
             [
              0.8888888888888888,
              "#fdca26"
             ],
             [
              1,
              "#f0f921"
             ]
            ],
            "type": "heatmap"
           }
          ],
          "heatmapgl": [
           {
            "colorbar": {
             "outlinewidth": 0,
             "ticks": ""
            },
            "colorscale": [
             [
              0,
              "#0d0887"
             ],
             [
              0.1111111111111111,
              "#46039f"
             ],
             [
              0.2222222222222222,
              "#7201a8"
             ],
             [
              0.3333333333333333,
              "#9c179e"
             ],
             [
              0.4444444444444444,
              "#bd3786"
             ],
             [
              0.5555555555555556,
              "#d8576b"
             ],
             [
              0.6666666666666666,
              "#ed7953"
             ],
             [
              0.7777777777777778,
              "#fb9f3a"
             ],
             [
              0.8888888888888888,
              "#fdca26"
             ],
             [
              1,
              "#f0f921"
             ]
            ],
            "type": "heatmapgl"
           }
          ],
          "histogram": [
           {
            "marker": {
             "pattern": {
              "fillmode": "overlay",
              "size": 10,
              "solidity": 0.2
             }
            },
            "type": "histogram"
           }
          ],
          "histogram2d": [
           {
            "colorbar": {
             "outlinewidth": 0,
             "ticks": ""
            },
            "colorscale": [
             [
              0,
              "#0d0887"
             ],
             [
              0.1111111111111111,
              "#46039f"
             ],
             [
              0.2222222222222222,
              "#7201a8"
             ],
             [
              0.3333333333333333,
              "#9c179e"
             ],
             [
              0.4444444444444444,
              "#bd3786"
             ],
             [
              0.5555555555555556,
              "#d8576b"
             ],
             [
              0.6666666666666666,
              "#ed7953"
             ],
             [
              0.7777777777777778,
              "#fb9f3a"
             ],
             [
              0.8888888888888888,
              "#fdca26"
             ],
             [
              1,
              "#f0f921"
             ]
            ],
            "type": "histogram2d"
           }
          ],
          "histogram2dcontour": [
           {
            "colorbar": {
             "outlinewidth": 0,
             "ticks": ""
            },
            "colorscale": [
             [
              0,
              "#0d0887"
             ],
             [
              0.1111111111111111,
              "#46039f"
             ],
             [
              0.2222222222222222,
              "#7201a8"
             ],
             [
              0.3333333333333333,
              "#9c179e"
             ],
             [
              0.4444444444444444,
              "#bd3786"
             ],
             [
              0.5555555555555556,
              "#d8576b"
             ],
             [
              0.6666666666666666,
              "#ed7953"
             ],
             [
              0.7777777777777778,
              "#fb9f3a"
             ],
             [
              0.8888888888888888,
              "#fdca26"
             ],
             [
              1,
              "#f0f921"
             ]
            ],
            "type": "histogram2dcontour"
           }
          ],
          "mesh3d": [
           {
            "colorbar": {
             "outlinewidth": 0,
             "ticks": ""
            },
            "type": "mesh3d"
           }
          ],
          "parcoords": [
           {
            "line": {
             "colorbar": {
              "outlinewidth": 0,
              "ticks": ""
             }
            },
            "type": "parcoords"
           }
          ],
          "pie": [
           {
            "automargin": true,
            "type": "pie"
           }
          ],
          "scatter": [
           {
            "fillpattern": {
             "fillmode": "overlay",
             "size": 10,
             "solidity": 0.2
            },
            "type": "scatter"
           }
          ],
          "scatter3d": [
           {
            "line": {
             "colorbar": {
              "outlinewidth": 0,
              "ticks": ""
             }
            },
            "marker": {
             "colorbar": {
              "outlinewidth": 0,
              "ticks": ""
             }
            },
            "type": "scatter3d"
           }
          ],
          "scattercarpet": [
           {
            "marker": {
             "colorbar": {
              "outlinewidth": 0,
              "ticks": ""
             }
            },
            "type": "scattercarpet"
           }
          ],
          "scattergeo": [
           {
            "marker": {
             "colorbar": {
              "outlinewidth": 0,
              "ticks": ""
             }
            },
            "type": "scattergeo"
           }
          ],
          "scattergl": [
           {
            "marker": {
             "colorbar": {
              "outlinewidth": 0,
              "ticks": ""
             }
            },
            "type": "scattergl"
           }
          ],
          "scattermapbox": [
           {
            "marker": {
             "colorbar": {
              "outlinewidth": 0,
              "ticks": ""
             }
            },
            "type": "scattermapbox"
           }
          ],
          "scatterpolar": [
           {
            "marker": {
             "colorbar": {
              "outlinewidth": 0,
              "ticks": ""
             }
            },
            "type": "scatterpolar"
           }
          ],
          "scatterpolargl": [
           {
            "marker": {
             "colorbar": {
              "outlinewidth": 0,
              "ticks": ""
             }
            },
            "type": "scatterpolargl"
           }
          ],
          "scatterternary": [
           {
            "marker": {
             "colorbar": {
              "outlinewidth": 0,
              "ticks": ""
             }
            },
            "type": "scatterternary"
           }
          ],
          "surface": [
           {
            "colorbar": {
             "outlinewidth": 0,
             "ticks": ""
            },
            "colorscale": [
             [
              0,
              "#0d0887"
             ],
             [
              0.1111111111111111,
              "#46039f"
             ],
             [
              0.2222222222222222,
              "#7201a8"
             ],
             [
              0.3333333333333333,
              "#9c179e"
             ],
             [
              0.4444444444444444,
              "#bd3786"
             ],
             [
              0.5555555555555556,
              "#d8576b"
             ],
             [
              0.6666666666666666,
              "#ed7953"
             ],
             [
              0.7777777777777778,
              "#fb9f3a"
             ],
             [
              0.8888888888888888,
              "#fdca26"
             ],
             [
              1,
              "#f0f921"
             ]
            ],
            "type": "surface"
           }
          ],
          "table": [
           {
            "cells": {
             "fill": {
              "color": "#EBF0F8"
             },
             "line": {
              "color": "white"
             }
            },
            "header": {
             "fill": {
              "color": "#C8D4E3"
             },
             "line": {
              "color": "white"
             }
            },
            "type": "table"
           }
          ]
         },
         "layout": {
          "annotationdefaults": {
           "arrowcolor": "#2a3f5f",
           "arrowhead": 0,
           "arrowwidth": 1
          },
          "autotypenumbers": "strict",
          "coloraxis": {
           "colorbar": {
            "outlinewidth": 0,
            "ticks": ""
           }
          },
          "colorscale": {
           "diverging": [
            [
             0,
             "#8e0152"
            ],
            [
             0.1,
             "#c51b7d"
            ],
            [
             0.2,
             "#de77ae"
            ],
            [
             0.3,
             "#f1b6da"
            ],
            [
             0.4,
             "#fde0ef"
            ],
            [
             0.5,
             "#f7f7f7"
            ],
            [
             0.6,
             "#e6f5d0"
            ],
            [
             0.7,
             "#b8e186"
            ],
            [
             0.8,
             "#7fbc41"
            ],
            [
             0.9,
             "#4d9221"
            ],
            [
             1,
             "#276419"
            ]
           ],
           "sequential": [
            [
             0,
             "#0d0887"
            ],
            [
             0.1111111111111111,
             "#46039f"
            ],
            [
             0.2222222222222222,
             "#7201a8"
            ],
            [
             0.3333333333333333,
             "#9c179e"
            ],
            [
             0.4444444444444444,
             "#bd3786"
            ],
            [
             0.5555555555555556,
             "#d8576b"
            ],
            [
             0.6666666666666666,
             "#ed7953"
            ],
            [
             0.7777777777777778,
             "#fb9f3a"
            ],
            [
             0.8888888888888888,
             "#fdca26"
            ],
            [
             1,
             "#f0f921"
            ]
           ],
           "sequentialminus": [
            [
             0,
             "#0d0887"
            ],
            [
             0.1111111111111111,
             "#46039f"
            ],
            [
             0.2222222222222222,
             "#7201a8"
            ],
            [
             0.3333333333333333,
             "#9c179e"
            ],
            [
             0.4444444444444444,
             "#bd3786"
            ],
            [
             0.5555555555555556,
             "#d8576b"
            ],
            [
             0.6666666666666666,
             "#ed7953"
            ],
            [
             0.7777777777777778,
             "#fb9f3a"
            ],
            [
             0.8888888888888888,
             "#fdca26"
            ],
            [
             1,
             "#f0f921"
            ]
           ]
          },
          "colorway": [
           "#636efa",
           "#EF553B",
           "#00cc96",
           "#ab63fa",
           "#FFA15A",
           "#19d3f3",
           "#FF6692",
           "#B6E880",
           "#FF97FF",
           "#FECB52"
          ],
          "font": {
           "color": "#2a3f5f"
          },
          "geo": {
           "bgcolor": "white",
           "lakecolor": "white",
           "landcolor": "#E5ECF6",
           "showlakes": true,
           "showland": true,
           "subunitcolor": "white"
          },
          "hoverlabel": {
           "align": "left"
          },
          "hovermode": "closest",
          "mapbox": {
           "style": "light"
          },
          "paper_bgcolor": "white",
          "plot_bgcolor": "#E5ECF6",
          "polar": {
           "angularaxis": {
            "gridcolor": "white",
            "linecolor": "white",
            "ticks": ""
           },
           "bgcolor": "#E5ECF6",
           "radialaxis": {
            "gridcolor": "white",
            "linecolor": "white",
            "ticks": ""
           }
          },
          "scene": {
           "xaxis": {
            "backgroundcolor": "#E5ECF6",
            "gridcolor": "white",
            "gridwidth": 2,
            "linecolor": "white",
            "showbackground": true,
            "ticks": "",
            "zerolinecolor": "white"
           },
           "yaxis": {
            "backgroundcolor": "#E5ECF6",
            "gridcolor": "white",
            "gridwidth": 2,
            "linecolor": "white",
            "showbackground": true,
            "ticks": "",
            "zerolinecolor": "white"
           },
           "zaxis": {
            "backgroundcolor": "#E5ECF6",
            "gridcolor": "white",
            "gridwidth": 2,
            "linecolor": "white",
            "showbackground": true,
            "ticks": "",
            "zerolinecolor": "white"
           }
          },
          "shapedefaults": {
           "line": {
            "color": "#2a3f5f"
           }
          },
          "ternary": {
           "aaxis": {
            "gridcolor": "white",
            "linecolor": "white",
            "ticks": ""
           },
           "baxis": {
            "gridcolor": "white",
            "linecolor": "white",
            "ticks": ""
           },
           "bgcolor": "#E5ECF6",
           "caxis": {
            "gridcolor": "white",
            "linecolor": "white",
            "ticks": ""
           }
          },
          "title": {
           "x": 0.05
          },
          "xaxis": {
           "automargin": true,
           "gridcolor": "white",
           "linecolor": "white",
           "ticks": "",
           "title": {
            "standoff": 15
           },
           "zerolinecolor": "white",
           "zerolinewidth": 2
          },
          "yaxis": {
           "automargin": true,
           "gridcolor": "white",
           "linecolor": "white",
           "ticks": "",
           "title": {
            "standoff": 15
           },
           "zerolinecolor": "white",
           "zerolinewidth": 2
          }
         }
        }
       }
      },
      "text/html": [
       "<div>                            <div id=\"9f3fb549-c6c4-4353-99b1-eb152ece3aa1\" class=\"plotly-graph-div\" style=\"height:525px; width:100%;\"></div>            <script type=\"text/javascript\">                require([\"plotly\"], function(Plotly) {                    window.PLOTLYENV=window.PLOTLYENV || {};                                    if (document.getElementById(\"9f3fb549-c6c4-4353-99b1-eb152ece3aa1\")) {                    Plotly.newPlot(                        \"9f3fb549-c6c4-4353-99b1-eb152ece3aa1\",                        [{\"marker\":{\"color\":[6,10,8,7,4,14,1,2,2,14,10,3,11,14,13,14,4,2,11,0,13,5,14,11,10,1,5,3,8,14,6,3,1,4,11,13,5,7,12,4,9,12,11,5,2,14,12,11,0,6,11,9,3,11,1,0,4,1,7,2,6,3,2,13,11,11,5,9,13,2,3,0,9,0,3,10,4,1,7,11,1,0,14,2,1,10,4,0,14,13,5,2,13,0,6,14,1,0,12,4,5,8],\"colorscale\":[[0.0,\"#440154\"],[0.1111111111111111,\"#482878\"],[0.2222222222222222,\"#3e4989\"],[0.3333333333333333,\"#31688e\"],[0.4444444444444444,\"#26828e\"],[0.5555555555555556,\"#1f9e89\"],[0.6666666666666666,\"#35b779\"],[0.7777777777777778,\"#6ece58\"],[0.8888888888888888,\"#b5de2b\"],[1.0,\"#fde725\"]],\"opacity\":0.8,\"size\":5},\"mode\":\"markers\",\"x\":[1.376554445662277,1.8958364779650319,1.433205080756888,1.8760640646055102,0.9422724133595217,0.6494486372867092,0.8204422863405996,0.028301270189221933,0.4512916512459885,0.683467875173176,0.15284609690826528,0.888432667397366,1.0980255888325765,1.9581088913245535,0.25766660498395405,0.271817240078565,1.8336121593216772,0.9083012701892219,0.5899871130596428,0.4003108891324554,0.2066377481542538,0.4824038105676658,1.5237787643056313,0.14998711305964285,1.015836477965032,1.271782032302755,1.4020929214352105,0.9167820323027551,1.4388749537379657,1.1121281292110203,1.8165544456622769,0.4824519052838329,0.41446152422706634,0.022583302491977035,1.9496762239271874,0.6749871130596428,0.07642304845413264,0.94503520777581,1.9411473670974873,0.9366025403784439,0.12735571585149869,1.5181569860407207,1.4869967320028763,0.4653941916244324,-4.8094716167089435e-05,0.22078838324886474,1.038467875173176,0.5786473670974872,1.7373205080756888,1.4162435565298215,0.5786473670974872,0.1160159698893431,1.3681217782649107,0.6240063509461097,0.42013139720814413,1.2519615242270663,1.3369134295108993,0.8431217782649107,0.9903941916244323,1.7599519052838328,1.8732531754730548,0.8827627944162882,0.4342820323027551,2.000656986040721,1.9723557158514988,0.5899871130596428,0.9337435565298214,1.876015969889343,1.0866377481542537,1.3199519052838329,0.4541025403784439,0.823301270189222,0.5786954618136544,0.3662916512459885,0.8827627944162882,1.9128460969082652,0.4455736835487436,0.894150635094611,0.9790544456622767,0.16699673200287624,-0.01986860279185586,-0.07937822173508927,1.5974871130596429,0.4342820323027551,0.019820508075688772,0.5928460969082653,0.9479422863405995,1.2633012701892221,2.0091377481542536,0.23498711305964282,1.8364230484541326,1.754282032302755,0.640967875173176,-0.05669872981077805,1.839233937586588,2.037487113059643,1.271782032302755,1.6806217782649107,1.9694967320028762,0.45691342951089925],\"y\":[2.1105255888325765,2.7705255888325766,2.07856406460551,2.6192820323027552,1.3319615242270664,0.9678460969082653,1.4924871130596429,0.05464101615137754,0.7266025403784439,0.8639230484541326,0.23856406460551016,1.4258845726811988,1.35,2.8624871130596428,0.12999999999999998,0.15732050807568876,2.537320508075689,1.2946410161513775,0.9378460969082653,0.7412435565298214,0.28588457268119893,0.8432050807568877,2.225166604983954,0.31784609690826526,1.5305255888325764,2.077846096908265,1.9619615242270663,1.339282032302755,2.0612435565298215,1.5185640646055103,2.7305255888325766,0.7019615242270663,0.7685640646055102,0.2132050807568877,2.6766025403784437,0.8192820323027551,0.11928203230275508,1.535166604983954,2.7732050807568878,1.349282032302755,0.24588457268119895,2.101243556529821,2.1258845726811986,0.8951666049839541,0.1412435565298214,0.3132050807568877,1.6024871130596428,0.9724871130596429,2.549282032302755,1.989282032302755,0.9724871130596429,0.2805255888325765,1.9246410161513774,0.8339230484541327,0.7512435565298214,2.0678460969082653,2.0905255888325764,1.4232050807568877,1.396602540378444,2.6212435565298216,2.557320508075689,1.4432050807568877,0.7785640646055102,2.6619615242270664,2.6073205080756887,0.9378460969082653,1.4285640646055102,2.7605255888325764,1.525884572681199,2.0012435565298214,0.7885640646055102,1.4132050807568877,0.8312435565298214,0.845166604983954,1.4432050807568877,2.71856406460551,0.885166604983954,1.2673205080756889,1.4312435565298214,0.2658845726811989,0.13124355652982142,0.24248711305964282,1.9999999999999998,0.7785640646055102,0.009999999999999998,0.8585640646055102,1.3146410161513775,2.0332050807568876,2.706602540378444,0.19928203230275507,2.5992820323027552,2.63856406460551,0.9232050807568877,0.17320508075688773,2.6612435565298216,2.62,2.077846096908265,2.7224871130596426,2.686602540378444,0.8505255888325765],\"z\":[75.0,100.0,75.0,100.0,50.0,25.0,50.0,0.0,25.0,25.0,0.0,50.0,50.0,100.0,0.0,0.0,100.0,50.0,25.0,25.0,0.0,25.0,75.0,0.0,50.0,75.0,75.0,50.0,75.0,50.0,100.0,25.0,25.0,0.0,100.0,25.0,0.0,50.0,100.0,50.0,0.0,75.0,75.0,25.0,0.0,0.0,50.0,25.0,100.0,75.0,25.0,0.0,75.0,25.0,25.0,75.0,75.0,50.0,50.0,100.0,100.0,50.0,25.0,100.0,100.0,25.0,50.0,100.0,50.0,75.0,25.0,50.0,25.0,25.0,50.0,100.0,25.0,50.0,50.0,0.0,0.0,0.0,75.0,25.0,0.0,25.0,50.0,75.0,100.0,0.0,100.0,100.0,25.0,0.0,100.0,100.0,75.0,100.0,100.0,25.0],\"type\":\"scatter3d\"}],                        {\"template\":{\"data\":{\"histogram2dcontour\":[{\"type\":\"histogram2dcontour\",\"colorbar\":{\"outlinewidth\":0,\"ticks\":\"\"},\"colorscale\":[[0.0,\"#0d0887\"],[0.1111111111111111,\"#46039f\"],[0.2222222222222222,\"#7201a8\"],[0.3333333333333333,\"#9c179e\"],[0.4444444444444444,\"#bd3786\"],[0.5555555555555556,\"#d8576b\"],[0.6666666666666666,\"#ed7953\"],[0.7777777777777778,\"#fb9f3a\"],[0.8888888888888888,\"#fdca26\"],[1.0,\"#f0f921\"]]}],\"choropleth\":[{\"type\":\"choropleth\",\"colorbar\":{\"outlinewidth\":0,\"ticks\":\"\"}}],\"histogram2d\":[{\"type\":\"histogram2d\",\"colorbar\":{\"outlinewidth\":0,\"ticks\":\"\"},\"colorscale\":[[0.0,\"#0d0887\"],[0.1111111111111111,\"#46039f\"],[0.2222222222222222,\"#7201a8\"],[0.3333333333333333,\"#9c179e\"],[0.4444444444444444,\"#bd3786\"],[0.5555555555555556,\"#d8576b\"],[0.6666666666666666,\"#ed7953\"],[0.7777777777777778,\"#fb9f3a\"],[0.8888888888888888,\"#fdca26\"],[1.0,\"#f0f921\"]]}],\"heatmap\":[{\"type\":\"heatmap\",\"colorbar\":{\"outlinewidth\":0,\"ticks\":\"\"},\"colorscale\":[[0.0,\"#0d0887\"],[0.1111111111111111,\"#46039f\"],[0.2222222222222222,\"#7201a8\"],[0.3333333333333333,\"#9c179e\"],[0.4444444444444444,\"#bd3786\"],[0.5555555555555556,\"#d8576b\"],[0.6666666666666666,\"#ed7953\"],[0.7777777777777778,\"#fb9f3a\"],[0.8888888888888888,\"#fdca26\"],[1.0,\"#f0f921\"]]}],\"heatmapgl\":[{\"type\":\"heatmapgl\",\"colorbar\":{\"outlinewidth\":0,\"ticks\":\"\"},\"colorscale\":[[0.0,\"#0d0887\"],[0.1111111111111111,\"#46039f\"],[0.2222222222222222,\"#7201a8\"],[0.3333333333333333,\"#9c179e\"],[0.4444444444444444,\"#bd3786\"],[0.5555555555555556,\"#d8576b\"],[0.6666666666666666,\"#ed7953\"],[0.7777777777777778,\"#fb9f3a\"],[0.8888888888888888,\"#fdca26\"],[1.0,\"#f0f921\"]]}],\"contourcarpet\":[{\"type\":\"contourcarpet\",\"colorbar\":{\"outlinewidth\":0,\"ticks\":\"\"}}],\"contour\":[{\"type\":\"contour\",\"colorbar\":{\"outlinewidth\":0,\"ticks\":\"\"},\"colorscale\":[[0.0,\"#0d0887\"],[0.1111111111111111,\"#46039f\"],[0.2222222222222222,\"#7201a8\"],[0.3333333333333333,\"#9c179e\"],[0.4444444444444444,\"#bd3786\"],[0.5555555555555556,\"#d8576b\"],[0.6666666666666666,\"#ed7953\"],[0.7777777777777778,\"#fb9f3a\"],[0.8888888888888888,\"#fdca26\"],[1.0,\"#f0f921\"]]}],\"surface\":[{\"type\":\"surface\",\"colorbar\":{\"outlinewidth\":0,\"ticks\":\"\"},\"colorscale\":[[0.0,\"#0d0887\"],[0.1111111111111111,\"#46039f\"],[0.2222222222222222,\"#7201a8\"],[0.3333333333333333,\"#9c179e\"],[0.4444444444444444,\"#bd3786\"],[0.5555555555555556,\"#d8576b\"],[0.6666666666666666,\"#ed7953\"],[0.7777777777777778,\"#fb9f3a\"],[0.8888888888888888,\"#fdca26\"],[1.0,\"#f0f921\"]]}],\"mesh3d\":[{\"type\":\"mesh3d\",\"colorbar\":{\"outlinewidth\":0,\"ticks\":\"\"}}],\"scatter\":[{\"fillpattern\":{\"fillmode\":\"overlay\",\"size\":10,\"solidity\":0.2},\"type\":\"scatter\"}],\"parcoords\":[{\"type\":\"parcoords\",\"line\":{\"colorbar\":{\"outlinewidth\":0,\"ticks\":\"\"}}}],\"scatterpolargl\":[{\"type\":\"scatterpolargl\",\"marker\":{\"colorbar\":{\"outlinewidth\":0,\"ticks\":\"\"}}}],\"bar\":[{\"error_x\":{\"color\":\"#2a3f5f\"},\"error_y\":{\"color\":\"#2a3f5f\"},\"marker\":{\"line\":{\"color\":\"#E5ECF6\",\"width\":0.5},\"pattern\":{\"fillmode\":\"overlay\",\"size\":10,\"solidity\":0.2}},\"type\":\"bar\"}],\"scattergeo\":[{\"type\":\"scattergeo\",\"marker\":{\"colorbar\":{\"outlinewidth\":0,\"ticks\":\"\"}}}],\"scatterpolar\":[{\"type\":\"scatterpolar\",\"marker\":{\"colorbar\":{\"outlinewidth\":0,\"ticks\":\"\"}}}],\"histogram\":[{\"marker\":{\"pattern\":{\"fillmode\":\"overlay\",\"size\":10,\"solidity\":0.2}},\"type\":\"histogram\"}],\"scattergl\":[{\"type\":\"scattergl\",\"marker\":{\"colorbar\":{\"outlinewidth\":0,\"ticks\":\"\"}}}],\"scatter3d\":[{\"type\":\"scatter3d\",\"line\":{\"colorbar\":{\"outlinewidth\":0,\"ticks\":\"\"}},\"marker\":{\"colorbar\":{\"outlinewidth\":0,\"ticks\":\"\"}}}],\"scattermapbox\":[{\"type\":\"scattermapbox\",\"marker\":{\"colorbar\":{\"outlinewidth\":0,\"ticks\":\"\"}}}],\"scatterternary\":[{\"type\":\"scatterternary\",\"marker\":{\"colorbar\":{\"outlinewidth\":0,\"ticks\":\"\"}}}],\"scattercarpet\":[{\"type\":\"scattercarpet\",\"marker\":{\"colorbar\":{\"outlinewidth\":0,\"ticks\":\"\"}}}],\"carpet\":[{\"aaxis\":{\"endlinecolor\":\"#2a3f5f\",\"gridcolor\":\"white\",\"linecolor\":\"white\",\"minorgridcolor\":\"white\",\"startlinecolor\":\"#2a3f5f\"},\"baxis\":{\"endlinecolor\":\"#2a3f5f\",\"gridcolor\":\"white\",\"linecolor\":\"white\",\"minorgridcolor\":\"white\",\"startlinecolor\":\"#2a3f5f\"},\"type\":\"carpet\"}],\"table\":[{\"cells\":{\"fill\":{\"color\":\"#EBF0F8\"},\"line\":{\"color\":\"white\"}},\"header\":{\"fill\":{\"color\":\"#C8D4E3\"},\"line\":{\"color\":\"white\"}},\"type\":\"table\"}],\"barpolar\":[{\"marker\":{\"line\":{\"color\":\"#E5ECF6\",\"width\":0.5},\"pattern\":{\"fillmode\":\"overlay\",\"size\":10,\"solidity\":0.2}},\"type\":\"barpolar\"}],\"pie\":[{\"automargin\":true,\"type\":\"pie\"}]},\"layout\":{\"autotypenumbers\":\"strict\",\"colorway\":[\"#636efa\",\"#EF553B\",\"#00cc96\",\"#ab63fa\",\"#FFA15A\",\"#19d3f3\",\"#FF6692\",\"#B6E880\",\"#FF97FF\",\"#FECB52\"],\"font\":{\"color\":\"#2a3f5f\"},\"hovermode\":\"closest\",\"hoverlabel\":{\"align\":\"left\"},\"paper_bgcolor\":\"white\",\"plot_bgcolor\":\"#E5ECF6\",\"polar\":{\"bgcolor\":\"#E5ECF6\",\"angularaxis\":{\"gridcolor\":\"white\",\"linecolor\":\"white\",\"ticks\":\"\"},\"radialaxis\":{\"gridcolor\":\"white\",\"linecolor\":\"white\",\"ticks\":\"\"}},\"ternary\":{\"bgcolor\":\"#E5ECF6\",\"aaxis\":{\"gridcolor\":\"white\",\"linecolor\":\"white\",\"ticks\":\"\"},\"baxis\":{\"gridcolor\":\"white\",\"linecolor\":\"white\",\"ticks\":\"\"},\"caxis\":{\"gridcolor\":\"white\",\"linecolor\":\"white\",\"ticks\":\"\"}},\"coloraxis\":{\"colorbar\":{\"outlinewidth\":0,\"ticks\":\"\"}},\"colorscale\":{\"sequential\":[[0.0,\"#0d0887\"],[0.1111111111111111,\"#46039f\"],[0.2222222222222222,\"#7201a8\"],[0.3333333333333333,\"#9c179e\"],[0.4444444444444444,\"#bd3786\"],[0.5555555555555556,\"#d8576b\"],[0.6666666666666666,\"#ed7953\"],[0.7777777777777778,\"#fb9f3a\"],[0.8888888888888888,\"#fdca26\"],[1.0,\"#f0f921\"]],\"sequentialminus\":[[0.0,\"#0d0887\"],[0.1111111111111111,\"#46039f\"],[0.2222222222222222,\"#7201a8\"],[0.3333333333333333,\"#9c179e\"],[0.4444444444444444,\"#bd3786\"],[0.5555555555555556,\"#d8576b\"],[0.6666666666666666,\"#ed7953\"],[0.7777777777777778,\"#fb9f3a\"],[0.8888888888888888,\"#fdca26\"],[1.0,\"#f0f921\"]],\"diverging\":[[0,\"#8e0152\"],[0.1,\"#c51b7d\"],[0.2,\"#de77ae\"],[0.3,\"#f1b6da\"],[0.4,\"#fde0ef\"],[0.5,\"#f7f7f7\"],[0.6,\"#e6f5d0\"],[0.7,\"#b8e186\"],[0.8,\"#7fbc41\"],[0.9,\"#4d9221\"],[1,\"#276419\"]]},\"xaxis\":{\"gridcolor\":\"white\",\"linecolor\":\"white\",\"ticks\":\"\",\"title\":{\"standoff\":15},\"zerolinecolor\":\"white\",\"automargin\":true,\"zerolinewidth\":2},\"yaxis\":{\"gridcolor\":\"white\",\"linecolor\":\"white\",\"ticks\":\"\",\"title\":{\"standoff\":15},\"zerolinecolor\":\"white\",\"automargin\":true,\"zerolinewidth\":2},\"scene\":{\"xaxis\":{\"backgroundcolor\":\"#E5ECF6\",\"gridcolor\":\"white\",\"linecolor\":\"white\",\"showbackground\":true,\"ticks\":\"\",\"zerolinecolor\":\"white\",\"gridwidth\":2},\"yaxis\":{\"backgroundcolor\":\"#E5ECF6\",\"gridcolor\":\"white\",\"linecolor\":\"white\",\"showbackground\":true,\"ticks\":\"\",\"zerolinecolor\":\"white\",\"gridwidth\":2},\"zaxis\":{\"backgroundcolor\":\"#E5ECF6\",\"gridcolor\":\"white\",\"linecolor\":\"white\",\"showbackground\":true,\"ticks\":\"\",\"zerolinecolor\":\"white\",\"gridwidth\":2}},\"shapedefaults\":{\"line\":{\"color\":\"#2a3f5f\"}},\"annotationdefaults\":{\"arrowcolor\":\"#2a3f5f\",\"arrowhead\":0,\"arrowwidth\":1},\"geo\":{\"bgcolor\":\"white\",\"landcolor\":\"#E5ECF6\",\"subunitcolor\":\"white\",\"showland\":true,\"showlakes\":true,\"lakecolor\":\"white\"},\"title\":{\"x\":0.05},\"mapbox\":{\"style\":\"light\"}}},\"margin\":{\"l\":0,\"r\":0,\"b\":0,\"t\":0}},                        {\"responsive\": true}                    ).then(function(){\n",
       "                            \n",
       "var gd = document.getElementById('9f3fb549-c6c4-4353-99b1-eb152ece3aa1');\n",
       "var x = new MutationObserver(function (mutations, observer) {{\n",
       "        var display = window.getComputedStyle(gd).display;\n",
       "        if (!display || display === 'none') {{\n",
       "            console.log([gd, 'removed!']);\n",
       "            Plotly.purge(gd);\n",
       "            observer.disconnect();\n",
       "        }}\n",
       "}});\n",
       "\n",
       "// Listen for the removal of the full notebook cells\n",
       "var notebookContainer = gd.closest('#notebook-container');\n",
       "if (notebookContainer) {{\n",
       "    x.observe(notebookContainer, {childList: true});\n",
       "}}\n",
       "\n",
       "// Listen for the clearing of the current output cell\n",
       "var outputEl = gd.closest('.output');\n",
       "if (outputEl) {{\n",
       "    x.observe(outputEl, {childList: true});\n",
       "}}\n",
       "\n",
       "                        })                };                });            </script>        </div>"
      ]
     },
     "metadata": {},
     "output_type": "display_data"
    }
   ],
   "source": [
    "fig_c2 = go.Figure(data=[go.Scatter3d(\n",
    "    x=x_c2,\n",
    "    y=y_c2,\n",
    "    z=z_c2,\n",
    "    mode='markers',\n",
    "    marker=dict(\n",
    "        size=5,\n",
    "        color=x,                # set color to an array/list of desired values\n",
    "        colorscale='Viridis',   # choose a colorscale\n",
    "        opacity=0.8\n",
    "    )\n",
    ")])\n",
    "\n",
    "\n",
    "\n",
    "fig_c2.update_layout(margin=dict(l=0, r=0, b=0, t=0))\n",
    "fig_c2.show()"
   ]
  },
  {
   "cell_type": "code",
   "execution_count": 76,
   "id": "1436090a",
   "metadata": {},
   "outputs": [
    {
     "data": {
      "application/vnd.plotly.v1+json": {
       "config": {
        "plotlyServerURL": "https://plot.ly"
       },
       "data": [
        {
         "marker": {
          "color": [
           6,
           10,
           8,
           7,
           4,
           14,
           1,
           2,
           2,
           14,
           10,
           3,
           11,
           14,
           13,
           14,
           4,
           2,
           11,
           0,
           13,
           5,
           14,
           11,
           10,
           1,
           5,
           3,
           8,
           14,
           6,
           3,
           1,
           4,
           11,
           13,
           5,
           7,
           12,
           4,
           9,
           12,
           11,
           5,
           2,
           14,
           12,
           11,
           0,
           6,
           11,
           9,
           3,
           11,
           1,
           0,
           4,
           1,
           7,
           2,
           6,
           3,
           2,
           13,
           11,
           11,
           5,
           9,
           13,
           2,
           3,
           0,
           9,
           0,
           3,
           10,
           4,
           1,
           7,
           11,
           1,
           0,
           14,
           2,
           1,
           10,
           4,
           0,
           14,
           13,
           5,
           2,
           13,
           0,
           6,
           14,
           1,
           0,
           12,
           4,
           5,
           8
          ],
          "colorscale": [
           [
            0,
            "#440154"
           ],
           [
            0.1111111111111111,
            "#482878"
           ],
           [
            0.2222222222222222,
            "#3e4989"
           ],
           [
            0.3333333333333333,
            "#31688e"
           ],
           [
            0.4444444444444444,
            "#26828e"
           ],
           [
            0.5555555555555556,
            "#1f9e89"
           ],
           [
            0.6666666666666666,
            "#35b779"
           ],
           [
            0.7777777777777778,
            "#6ece58"
           ],
           [
            0.8888888888888888,
            "#b5de2b"
           ],
           [
            1,
            "#fde725"
           ]
          ],
          "opacity": 0.8,
          "size": 5
         },
         "mode": "markers",
         "type": "scatter3d",
         "x": [
          1.376554445662277,
          1.8958364779650319,
          1.433205080756888,
          1.8760640646055102,
          0.9422724133595217,
          0.6494486372867092,
          0.8204422863405996,
          0.028301270189221933,
          0.4512916512459885,
          0.683467875173176,
          0.15284609690826528,
          0.888432667397366,
          1.0980255888325765,
          1.9581088913245535,
          0.25766660498395405,
          0.271817240078565,
          1.8336121593216772,
          0.9083012701892219,
          0.5899871130596428,
          0.4003108891324554,
          0.2066377481542538,
          0.4824038105676658,
          1.5237787643056313,
          0.14998711305964285,
          1.015836477965032,
          1.271782032302755,
          1.4020929214352105,
          0.9167820323027551,
          1.4388749537379657,
          1.1121281292110203,
          1.8165544456622769,
          0.4824519052838329,
          0.41446152422706634,
          0.022583302491977035,
          1.9496762239271874,
          0.6749871130596428,
          0.07642304845413264,
          0.94503520777581,
          1.9411473670974873,
          0.9366025403784439,
          0.12735571585149869,
          1.5181569860407207,
          1.4869967320028763,
          0.4653941916244324,
          -4.8094716167089435e-05,
          0.22078838324886474,
          1.038467875173176,
          0.5786473670974872,
          1.7373205080756888,
          1.4162435565298215,
          0.5786473670974872,
          0.1160159698893431,
          1.3681217782649107,
          0.6240063509461097,
          0.42013139720814413,
          1.2519615242270663,
          1.3369134295108993,
          0.8431217782649107,
          0.9903941916244323,
          1.7599519052838328,
          1.8732531754730548,
          0.8827627944162882,
          0.4342820323027551,
          2.000656986040721,
          1.9723557158514988,
          0.5899871130596428,
          0.9337435565298214,
          1.876015969889343,
          1.0866377481542537,
          1.3199519052838329,
          0.4541025403784439,
          0.823301270189222,
          0.5786954618136544,
          0.3662916512459885,
          0.8827627944162882,
          1.9128460969082652,
          0.4455736835487436,
          0.894150635094611,
          0.9790544456622767,
          0.16699673200287624,
          -0.01986860279185586,
          -0.07937822173508927,
          1.5974871130596429,
          0.4342820323027551,
          0.019820508075688772,
          0.5928460969082653,
          0.9479422863405995,
          1.2633012701892221,
          2.0091377481542536,
          0.23498711305964282,
          1.8364230484541326,
          1.754282032302755,
          0.640967875173176,
          -0.05669872981077805,
          1.839233937586588,
          2.037487113059643,
          1.271782032302755,
          1.6806217782649107,
          1.9694967320028762,
          0.45691342951089925
         ],
         "y": [
          2.1105255888325765,
          2.7705255888325766,
          2.07856406460551,
          2.6192820323027552,
          1.3319615242270664,
          0.9678460969082653,
          1.4924871130596429,
          0.05464101615137754,
          0.7266025403784439,
          0.8639230484541326,
          0.23856406460551016,
          1.4258845726811988,
          1.35,
          2.8624871130596428,
          0.12999999999999998,
          0.15732050807568876,
          2.537320508075689,
          1.2946410161513775,
          0.9378460969082653,
          0.7412435565298214,
          0.28588457268119893,
          0.8432050807568877,
          2.225166604983954,
          0.31784609690826526,
          1.5305255888325764,
          2.077846096908265,
          1.9619615242270663,
          1.339282032302755,
          2.0612435565298215,
          1.5185640646055103,
          2.7305255888325766,
          0.7019615242270663,
          0.7685640646055102,
          0.2132050807568877,
          2.6766025403784437,
          0.8192820323027551,
          0.11928203230275508,
          1.535166604983954,
          2.7732050807568878,
          1.349282032302755,
          0.24588457268119895,
          2.101243556529821,
          2.1258845726811986,
          0.8951666049839541,
          0.1412435565298214,
          0.3132050807568877,
          1.6024871130596428,
          0.9724871130596429,
          2.549282032302755,
          1.989282032302755,
          0.9724871130596429,
          0.2805255888325765,
          1.9246410161513774,
          0.8339230484541327,
          0.7512435565298214,
          2.0678460969082653,
          2.0905255888325764,
          1.4232050807568877,
          1.396602540378444,
          2.6212435565298216,
          2.557320508075689,
          1.4432050807568877,
          0.7785640646055102,
          2.6619615242270664,
          2.6073205080756887,
          0.9378460969082653,
          1.4285640646055102,
          2.7605255888325764,
          1.525884572681199,
          2.0012435565298214,
          0.7885640646055102,
          1.4132050807568877,
          0.8312435565298214,
          0.845166604983954,
          1.4432050807568877,
          2.71856406460551,
          0.885166604983954,
          1.2673205080756889,
          1.4312435565298214,
          0.2658845726811989,
          0.13124355652982142,
          0.24248711305964282,
          1.9999999999999998,
          0.7785640646055102,
          0.009999999999999998,
          0.8585640646055102,
          1.3146410161513775,
          2.0332050807568876,
          2.706602540378444,
          0.19928203230275507,
          2.5992820323027552,
          2.63856406460551,
          0.9232050807568877,
          0.17320508075688773,
          2.6612435565298216,
          2.62,
          2.077846096908265,
          2.7224871130596426,
          2.686602540378444,
          0.8505255888325765
         ],
         "z": [
          75,
          100,
          75,
          100,
          50,
          25,
          50,
          0,
          25,
          25,
          0,
          50,
          50,
          100,
          0,
          0,
          100,
          50,
          25,
          25,
          0,
          25,
          75,
          0,
          50,
          75,
          75,
          50,
          75,
          50,
          100,
          25,
          25,
          0,
          100,
          25,
          0,
          50,
          100,
          50,
          0,
          75,
          75,
          25,
          0,
          0,
          50,
          25,
          100,
          75,
          25,
          0,
          75,
          25,
          25,
          75,
          75,
          50,
          50,
          100,
          100,
          50,
          25,
          100,
          100,
          25,
          50,
          100,
          50,
          75,
          25,
          50,
          25,
          25,
          50,
          100,
          25,
          50,
          50,
          0,
          0,
          0,
          75,
          25,
          0,
          25,
          50,
          75,
          100,
          0,
          100,
          100,
          25,
          0,
          100,
          100,
          75,
          100,
          100,
          25
         ]
        }
       ],
       "layout": {
        "margin": {
         "b": 0,
         "l": 0,
         "r": 0,
         "t": 0
        },
        "scene": {
         "camera": {
          "eye": {
           "x": 0,
           "y": 3,
           "z": 0
          }
         }
        },
        "template": {
         "data": {
          "bar": [
           {
            "error_x": {
             "color": "#2a3f5f"
            },
            "error_y": {
             "color": "#2a3f5f"
            },
            "marker": {
             "line": {
              "color": "#E5ECF6",
              "width": 0.5
             },
             "pattern": {
              "fillmode": "overlay",
              "size": 10,
              "solidity": 0.2
             }
            },
            "type": "bar"
           }
          ],
          "barpolar": [
           {
            "marker": {
             "line": {
              "color": "#E5ECF6",
              "width": 0.5
             },
             "pattern": {
              "fillmode": "overlay",
              "size": 10,
              "solidity": 0.2
             }
            },
            "type": "barpolar"
           }
          ],
          "carpet": [
           {
            "aaxis": {
             "endlinecolor": "#2a3f5f",
             "gridcolor": "white",
             "linecolor": "white",
             "minorgridcolor": "white",
             "startlinecolor": "#2a3f5f"
            },
            "baxis": {
             "endlinecolor": "#2a3f5f",
             "gridcolor": "white",
             "linecolor": "white",
             "minorgridcolor": "white",
             "startlinecolor": "#2a3f5f"
            },
            "type": "carpet"
           }
          ],
          "choropleth": [
           {
            "colorbar": {
             "outlinewidth": 0,
             "ticks": ""
            },
            "type": "choropleth"
           }
          ],
          "contour": [
           {
            "colorbar": {
             "outlinewidth": 0,
             "ticks": ""
            },
            "colorscale": [
             [
              0,
              "#0d0887"
             ],
             [
              0.1111111111111111,
              "#46039f"
             ],
             [
              0.2222222222222222,
              "#7201a8"
             ],
             [
              0.3333333333333333,
              "#9c179e"
             ],
             [
              0.4444444444444444,
              "#bd3786"
             ],
             [
              0.5555555555555556,
              "#d8576b"
             ],
             [
              0.6666666666666666,
              "#ed7953"
             ],
             [
              0.7777777777777778,
              "#fb9f3a"
             ],
             [
              0.8888888888888888,
              "#fdca26"
             ],
             [
              1,
              "#f0f921"
             ]
            ],
            "type": "contour"
           }
          ],
          "contourcarpet": [
           {
            "colorbar": {
             "outlinewidth": 0,
             "ticks": ""
            },
            "type": "contourcarpet"
           }
          ],
          "heatmap": [
           {
            "colorbar": {
             "outlinewidth": 0,
             "ticks": ""
            },
            "colorscale": [
             [
              0,
              "#0d0887"
             ],
             [
              0.1111111111111111,
              "#46039f"
             ],
             [
              0.2222222222222222,
              "#7201a8"
             ],
             [
              0.3333333333333333,
              "#9c179e"
             ],
             [
              0.4444444444444444,
              "#bd3786"
             ],
             [
              0.5555555555555556,
              "#d8576b"
             ],
             [
              0.6666666666666666,
              "#ed7953"
             ],
             [
              0.7777777777777778,
              "#fb9f3a"
             ],
             [
              0.8888888888888888,
              "#fdca26"
             ],
             [
              1,
              "#f0f921"
             ]
            ],
            "type": "heatmap"
           }
          ],
          "heatmapgl": [
           {
            "colorbar": {
             "outlinewidth": 0,
             "ticks": ""
            },
            "colorscale": [
             [
              0,
              "#0d0887"
             ],
             [
              0.1111111111111111,
              "#46039f"
             ],
             [
              0.2222222222222222,
              "#7201a8"
             ],
             [
              0.3333333333333333,
              "#9c179e"
             ],
             [
              0.4444444444444444,
              "#bd3786"
             ],
             [
              0.5555555555555556,
              "#d8576b"
             ],
             [
              0.6666666666666666,
              "#ed7953"
             ],
             [
              0.7777777777777778,
              "#fb9f3a"
             ],
             [
              0.8888888888888888,
              "#fdca26"
             ],
             [
              1,
              "#f0f921"
             ]
            ],
            "type": "heatmapgl"
           }
          ],
          "histogram": [
           {
            "marker": {
             "pattern": {
              "fillmode": "overlay",
              "size": 10,
              "solidity": 0.2
             }
            },
            "type": "histogram"
           }
          ],
          "histogram2d": [
           {
            "colorbar": {
             "outlinewidth": 0,
             "ticks": ""
            },
            "colorscale": [
             [
              0,
              "#0d0887"
             ],
             [
              0.1111111111111111,
              "#46039f"
             ],
             [
              0.2222222222222222,
              "#7201a8"
             ],
             [
              0.3333333333333333,
              "#9c179e"
             ],
             [
              0.4444444444444444,
              "#bd3786"
             ],
             [
              0.5555555555555556,
              "#d8576b"
             ],
             [
              0.6666666666666666,
              "#ed7953"
             ],
             [
              0.7777777777777778,
              "#fb9f3a"
             ],
             [
              0.8888888888888888,
              "#fdca26"
             ],
             [
              1,
              "#f0f921"
             ]
            ],
            "type": "histogram2d"
           }
          ],
          "histogram2dcontour": [
           {
            "colorbar": {
             "outlinewidth": 0,
             "ticks": ""
            },
            "colorscale": [
             [
              0,
              "#0d0887"
             ],
             [
              0.1111111111111111,
              "#46039f"
             ],
             [
              0.2222222222222222,
              "#7201a8"
             ],
             [
              0.3333333333333333,
              "#9c179e"
             ],
             [
              0.4444444444444444,
              "#bd3786"
             ],
             [
              0.5555555555555556,
              "#d8576b"
             ],
             [
              0.6666666666666666,
              "#ed7953"
             ],
             [
              0.7777777777777778,
              "#fb9f3a"
             ],
             [
              0.8888888888888888,
              "#fdca26"
             ],
             [
              1,
              "#f0f921"
             ]
            ],
            "type": "histogram2dcontour"
           }
          ],
          "mesh3d": [
           {
            "colorbar": {
             "outlinewidth": 0,
             "ticks": ""
            },
            "type": "mesh3d"
           }
          ],
          "parcoords": [
           {
            "line": {
             "colorbar": {
              "outlinewidth": 0,
              "ticks": ""
             }
            },
            "type": "parcoords"
           }
          ],
          "pie": [
           {
            "automargin": true,
            "type": "pie"
           }
          ],
          "scatter": [
           {
            "fillpattern": {
             "fillmode": "overlay",
             "size": 10,
             "solidity": 0.2
            },
            "type": "scatter"
           }
          ],
          "scatter3d": [
           {
            "line": {
             "colorbar": {
              "outlinewidth": 0,
              "ticks": ""
             }
            },
            "marker": {
             "colorbar": {
              "outlinewidth": 0,
              "ticks": ""
             }
            },
            "type": "scatter3d"
           }
          ],
          "scattercarpet": [
           {
            "marker": {
             "colorbar": {
              "outlinewidth": 0,
              "ticks": ""
             }
            },
            "type": "scattercarpet"
           }
          ],
          "scattergeo": [
           {
            "marker": {
             "colorbar": {
              "outlinewidth": 0,
              "ticks": ""
             }
            },
            "type": "scattergeo"
           }
          ],
          "scattergl": [
           {
            "marker": {
             "colorbar": {
              "outlinewidth": 0,
              "ticks": ""
             }
            },
            "type": "scattergl"
           }
          ],
          "scattermapbox": [
           {
            "marker": {
             "colorbar": {
              "outlinewidth": 0,
              "ticks": ""
             }
            },
            "type": "scattermapbox"
           }
          ],
          "scatterpolar": [
           {
            "marker": {
             "colorbar": {
              "outlinewidth": 0,
              "ticks": ""
             }
            },
            "type": "scatterpolar"
           }
          ],
          "scatterpolargl": [
           {
            "marker": {
             "colorbar": {
              "outlinewidth": 0,
              "ticks": ""
             }
            },
            "type": "scatterpolargl"
           }
          ],
          "scatterternary": [
           {
            "marker": {
             "colorbar": {
              "outlinewidth": 0,
              "ticks": ""
             }
            },
            "type": "scatterternary"
           }
          ],
          "surface": [
           {
            "colorbar": {
             "outlinewidth": 0,
             "ticks": ""
            },
            "colorscale": [
             [
              0,
              "#0d0887"
             ],
             [
              0.1111111111111111,
              "#46039f"
             ],
             [
              0.2222222222222222,
              "#7201a8"
             ],
             [
              0.3333333333333333,
              "#9c179e"
             ],
             [
              0.4444444444444444,
              "#bd3786"
             ],
             [
              0.5555555555555556,
              "#d8576b"
             ],
             [
              0.6666666666666666,
              "#ed7953"
             ],
             [
              0.7777777777777778,
              "#fb9f3a"
             ],
             [
              0.8888888888888888,
              "#fdca26"
             ],
             [
              1,
              "#f0f921"
             ]
            ],
            "type": "surface"
           }
          ],
          "table": [
           {
            "cells": {
             "fill": {
              "color": "#EBF0F8"
             },
             "line": {
              "color": "white"
             }
            },
            "header": {
             "fill": {
              "color": "#C8D4E3"
             },
             "line": {
              "color": "white"
             }
            },
            "type": "table"
           }
          ]
         },
         "layout": {
          "annotationdefaults": {
           "arrowcolor": "#2a3f5f",
           "arrowhead": 0,
           "arrowwidth": 1
          },
          "autotypenumbers": "strict",
          "coloraxis": {
           "colorbar": {
            "outlinewidth": 0,
            "ticks": ""
           }
          },
          "colorscale": {
           "diverging": [
            [
             0,
             "#8e0152"
            ],
            [
             0.1,
             "#c51b7d"
            ],
            [
             0.2,
             "#de77ae"
            ],
            [
             0.3,
             "#f1b6da"
            ],
            [
             0.4,
             "#fde0ef"
            ],
            [
             0.5,
             "#f7f7f7"
            ],
            [
             0.6,
             "#e6f5d0"
            ],
            [
             0.7,
             "#b8e186"
            ],
            [
             0.8,
             "#7fbc41"
            ],
            [
             0.9,
             "#4d9221"
            ],
            [
             1,
             "#276419"
            ]
           ],
           "sequential": [
            [
             0,
             "#0d0887"
            ],
            [
             0.1111111111111111,
             "#46039f"
            ],
            [
             0.2222222222222222,
             "#7201a8"
            ],
            [
             0.3333333333333333,
             "#9c179e"
            ],
            [
             0.4444444444444444,
             "#bd3786"
            ],
            [
             0.5555555555555556,
             "#d8576b"
            ],
            [
             0.6666666666666666,
             "#ed7953"
            ],
            [
             0.7777777777777778,
             "#fb9f3a"
            ],
            [
             0.8888888888888888,
             "#fdca26"
            ],
            [
             1,
             "#f0f921"
            ]
           ],
           "sequentialminus": [
            [
             0,
             "#0d0887"
            ],
            [
             0.1111111111111111,
             "#46039f"
            ],
            [
             0.2222222222222222,
             "#7201a8"
            ],
            [
             0.3333333333333333,
             "#9c179e"
            ],
            [
             0.4444444444444444,
             "#bd3786"
            ],
            [
             0.5555555555555556,
             "#d8576b"
            ],
            [
             0.6666666666666666,
             "#ed7953"
            ],
            [
             0.7777777777777778,
             "#fb9f3a"
            ],
            [
             0.8888888888888888,
             "#fdca26"
            ],
            [
             1,
             "#f0f921"
            ]
           ]
          },
          "colorway": [
           "#636efa",
           "#EF553B",
           "#00cc96",
           "#ab63fa",
           "#FFA15A",
           "#19d3f3",
           "#FF6692",
           "#B6E880",
           "#FF97FF",
           "#FECB52"
          ],
          "font": {
           "color": "#2a3f5f"
          },
          "geo": {
           "bgcolor": "white",
           "lakecolor": "white",
           "landcolor": "#E5ECF6",
           "showlakes": true,
           "showland": true,
           "subunitcolor": "white"
          },
          "hoverlabel": {
           "align": "left"
          },
          "hovermode": "closest",
          "mapbox": {
           "style": "light"
          },
          "paper_bgcolor": "white",
          "plot_bgcolor": "#E5ECF6",
          "polar": {
           "angularaxis": {
            "gridcolor": "white",
            "linecolor": "white",
            "ticks": ""
           },
           "bgcolor": "#E5ECF6",
           "radialaxis": {
            "gridcolor": "white",
            "linecolor": "white",
            "ticks": ""
           }
          },
          "scene": {
           "xaxis": {
            "backgroundcolor": "#E5ECF6",
            "gridcolor": "white",
            "gridwidth": 2,
            "linecolor": "white",
            "showbackground": true,
            "ticks": "",
            "zerolinecolor": "white"
           },
           "yaxis": {
            "backgroundcolor": "#E5ECF6",
            "gridcolor": "white",
            "gridwidth": 2,
            "linecolor": "white",
            "showbackground": true,
            "ticks": "",
            "zerolinecolor": "white"
           },
           "zaxis": {
            "backgroundcolor": "#E5ECF6",
            "gridcolor": "white",
            "gridwidth": 2,
            "linecolor": "white",
            "showbackground": true,
            "ticks": "",
            "zerolinecolor": "white"
           }
          },
          "shapedefaults": {
           "line": {
            "color": "#2a3f5f"
           }
          },
          "ternary": {
           "aaxis": {
            "gridcolor": "white",
            "linecolor": "white",
            "ticks": ""
           },
           "baxis": {
            "gridcolor": "white",
            "linecolor": "white",
            "ticks": ""
           },
           "bgcolor": "#E5ECF6",
           "caxis": {
            "gridcolor": "white",
            "linecolor": "white",
            "ticks": ""
           }
          },
          "title": {
           "x": 0.05
          },
          "xaxis": {
           "automargin": true,
           "gridcolor": "white",
           "linecolor": "white",
           "ticks": "",
           "title": {
            "standoff": 15
           },
           "zerolinecolor": "white",
           "zerolinewidth": 2
          },
          "yaxis": {
           "automargin": true,
           "gridcolor": "white",
           "linecolor": "white",
           "ticks": "",
           "title": {
            "standoff": 15
           },
           "zerolinecolor": "white",
           "zerolinewidth": 2
          }
         }
        },
        "title": {
         "text": "eye = (x:0., y:3, z:0.)"
        }
       }
      },
      "text/html": [
       "<div>                            <div id=\"c0bd227f-5938-4ca5-a2d7-e5863c3e9bb8\" class=\"plotly-graph-div\" style=\"height:525px; width:100%;\"></div>            <script type=\"text/javascript\">                require([\"plotly\"], function(Plotly) {                    window.PLOTLYENV=window.PLOTLYENV || {};                                    if (document.getElementById(\"c0bd227f-5938-4ca5-a2d7-e5863c3e9bb8\")) {                    Plotly.newPlot(                        \"c0bd227f-5938-4ca5-a2d7-e5863c3e9bb8\",                        [{\"marker\":{\"color\":[6,10,8,7,4,14,1,2,2,14,10,3,11,14,13,14,4,2,11,0,13,5,14,11,10,1,5,3,8,14,6,3,1,4,11,13,5,7,12,4,9,12,11,5,2,14,12,11,0,6,11,9,3,11,1,0,4,1,7,2,6,3,2,13,11,11,5,9,13,2,3,0,9,0,3,10,4,1,7,11,1,0,14,2,1,10,4,0,14,13,5,2,13,0,6,14,1,0,12,4,5,8],\"colorscale\":[[0.0,\"#440154\"],[0.1111111111111111,\"#482878\"],[0.2222222222222222,\"#3e4989\"],[0.3333333333333333,\"#31688e\"],[0.4444444444444444,\"#26828e\"],[0.5555555555555556,\"#1f9e89\"],[0.6666666666666666,\"#35b779\"],[0.7777777777777778,\"#6ece58\"],[0.8888888888888888,\"#b5de2b\"],[1.0,\"#fde725\"]],\"opacity\":0.8,\"size\":5},\"mode\":\"markers\",\"x\":[1.376554445662277,1.8958364779650319,1.433205080756888,1.8760640646055102,0.9422724133595217,0.6494486372867092,0.8204422863405996,0.028301270189221933,0.4512916512459885,0.683467875173176,0.15284609690826528,0.888432667397366,1.0980255888325765,1.9581088913245535,0.25766660498395405,0.271817240078565,1.8336121593216772,0.9083012701892219,0.5899871130596428,0.4003108891324554,0.2066377481542538,0.4824038105676658,1.5237787643056313,0.14998711305964285,1.015836477965032,1.271782032302755,1.4020929214352105,0.9167820323027551,1.4388749537379657,1.1121281292110203,1.8165544456622769,0.4824519052838329,0.41446152422706634,0.022583302491977035,1.9496762239271874,0.6749871130596428,0.07642304845413264,0.94503520777581,1.9411473670974873,0.9366025403784439,0.12735571585149869,1.5181569860407207,1.4869967320028763,0.4653941916244324,-4.8094716167089435e-05,0.22078838324886474,1.038467875173176,0.5786473670974872,1.7373205080756888,1.4162435565298215,0.5786473670974872,0.1160159698893431,1.3681217782649107,0.6240063509461097,0.42013139720814413,1.2519615242270663,1.3369134295108993,0.8431217782649107,0.9903941916244323,1.7599519052838328,1.8732531754730548,0.8827627944162882,0.4342820323027551,2.000656986040721,1.9723557158514988,0.5899871130596428,0.9337435565298214,1.876015969889343,1.0866377481542537,1.3199519052838329,0.4541025403784439,0.823301270189222,0.5786954618136544,0.3662916512459885,0.8827627944162882,1.9128460969082652,0.4455736835487436,0.894150635094611,0.9790544456622767,0.16699673200287624,-0.01986860279185586,-0.07937822173508927,1.5974871130596429,0.4342820323027551,0.019820508075688772,0.5928460969082653,0.9479422863405995,1.2633012701892221,2.0091377481542536,0.23498711305964282,1.8364230484541326,1.754282032302755,0.640967875173176,-0.05669872981077805,1.839233937586588,2.037487113059643,1.271782032302755,1.6806217782649107,1.9694967320028762,0.45691342951089925],\"y\":[2.1105255888325765,2.7705255888325766,2.07856406460551,2.6192820323027552,1.3319615242270664,0.9678460969082653,1.4924871130596429,0.05464101615137754,0.7266025403784439,0.8639230484541326,0.23856406460551016,1.4258845726811988,1.35,2.8624871130596428,0.12999999999999998,0.15732050807568876,2.537320508075689,1.2946410161513775,0.9378460969082653,0.7412435565298214,0.28588457268119893,0.8432050807568877,2.225166604983954,0.31784609690826526,1.5305255888325764,2.077846096908265,1.9619615242270663,1.339282032302755,2.0612435565298215,1.5185640646055103,2.7305255888325766,0.7019615242270663,0.7685640646055102,0.2132050807568877,2.6766025403784437,0.8192820323027551,0.11928203230275508,1.535166604983954,2.7732050807568878,1.349282032302755,0.24588457268119895,2.101243556529821,2.1258845726811986,0.8951666049839541,0.1412435565298214,0.3132050807568877,1.6024871130596428,0.9724871130596429,2.549282032302755,1.989282032302755,0.9724871130596429,0.2805255888325765,1.9246410161513774,0.8339230484541327,0.7512435565298214,2.0678460969082653,2.0905255888325764,1.4232050807568877,1.396602540378444,2.6212435565298216,2.557320508075689,1.4432050807568877,0.7785640646055102,2.6619615242270664,2.6073205080756887,0.9378460969082653,1.4285640646055102,2.7605255888325764,1.525884572681199,2.0012435565298214,0.7885640646055102,1.4132050807568877,0.8312435565298214,0.845166604983954,1.4432050807568877,2.71856406460551,0.885166604983954,1.2673205080756889,1.4312435565298214,0.2658845726811989,0.13124355652982142,0.24248711305964282,1.9999999999999998,0.7785640646055102,0.009999999999999998,0.8585640646055102,1.3146410161513775,2.0332050807568876,2.706602540378444,0.19928203230275507,2.5992820323027552,2.63856406460551,0.9232050807568877,0.17320508075688773,2.6612435565298216,2.62,2.077846096908265,2.7224871130596426,2.686602540378444,0.8505255888325765],\"z\":[75.0,100.0,75.0,100.0,50.0,25.0,50.0,0.0,25.0,25.0,0.0,50.0,50.0,100.0,0.0,0.0,100.0,50.0,25.0,25.0,0.0,25.0,75.0,0.0,50.0,75.0,75.0,50.0,75.0,50.0,100.0,25.0,25.0,0.0,100.0,25.0,0.0,50.0,100.0,50.0,0.0,75.0,75.0,25.0,0.0,0.0,50.0,25.0,100.0,75.0,25.0,0.0,75.0,25.0,25.0,75.0,75.0,50.0,50.0,100.0,100.0,50.0,25.0,100.0,100.0,25.0,50.0,100.0,50.0,75.0,25.0,50.0,25.0,25.0,50.0,100.0,25.0,50.0,50.0,0.0,0.0,0.0,75.0,25.0,0.0,25.0,50.0,75.0,100.0,0.0,100.0,100.0,25.0,0.0,100.0,100.0,75.0,100.0,100.0,25.0],\"type\":\"scatter3d\"}],                        {\"template\":{\"data\":{\"histogram2dcontour\":[{\"type\":\"histogram2dcontour\",\"colorbar\":{\"outlinewidth\":0,\"ticks\":\"\"},\"colorscale\":[[0.0,\"#0d0887\"],[0.1111111111111111,\"#46039f\"],[0.2222222222222222,\"#7201a8\"],[0.3333333333333333,\"#9c179e\"],[0.4444444444444444,\"#bd3786\"],[0.5555555555555556,\"#d8576b\"],[0.6666666666666666,\"#ed7953\"],[0.7777777777777778,\"#fb9f3a\"],[0.8888888888888888,\"#fdca26\"],[1.0,\"#f0f921\"]]}],\"choropleth\":[{\"type\":\"choropleth\",\"colorbar\":{\"outlinewidth\":0,\"ticks\":\"\"}}],\"histogram2d\":[{\"type\":\"histogram2d\",\"colorbar\":{\"outlinewidth\":0,\"ticks\":\"\"},\"colorscale\":[[0.0,\"#0d0887\"],[0.1111111111111111,\"#46039f\"],[0.2222222222222222,\"#7201a8\"],[0.3333333333333333,\"#9c179e\"],[0.4444444444444444,\"#bd3786\"],[0.5555555555555556,\"#d8576b\"],[0.6666666666666666,\"#ed7953\"],[0.7777777777777778,\"#fb9f3a\"],[0.8888888888888888,\"#fdca26\"],[1.0,\"#f0f921\"]]}],\"heatmap\":[{\"type\":\"heatmap\",\"colorbar\":{\"outlinewidth\":0,\"ticks\":\"\"},\"colorscale\":[[0.0,\"#0d0887\"],[0.1111111111111111,\"#46039f\"],[0.2222222222222222,\"#7201a8\"],[0.3333333333333333,\"#9c179e\"],[0.4444444444444444,\"#bd3786\"],[0.5555555555555556,\"#d8576b\"],[0.6666666666666666,\"#ed7953\"],[0.7777777777777778,\"#fb9f3a\"],[0.8888888888888888,\"#fdca26\"],[1.0,\"#f0f921\"]]}],\"heatmapgl\":[{\"type\":\"heatmapgl\",\"colorbar\":{\"outlinewidth\":0,\"ticks\":\"\"},\"colorscale\":[[0.0,\"#0d0887\"],[0.1111111111111111,\"#46039f\"],[0.2222222222222222,\"#7201a8\"],[0.3333333333333333,\"#9c179e\"],[0.4444444444444444,\"#bd3786\"],[0.5555555555555556,\"#d8576b\"],[0.6666666666666666,\"#ed7953\"],[0.7777777777777778,\"#fb9f3a\"],[0.8888888888888888,\"#fdca26\"],[1.0,\"#f0f921\"]]}],\"contourcarpet\":[{\"type\":\"contourcarpet\",\"colorbar\":{\"outlinewidth\":0,\"ticks\":\"\"}}],\"contour\":[{\"type\":\"contour\",\"colorbar\":{\"outlinewidth\":0,\"ticks\":\"\"},\"colorscale\":[[0.0,\"#0d0887\"],[0.1111111111111111,\"#46039f\"],[0.2222222222222222,\"#7201a8\"],[0.3333333333333333,\"#9c179e\"],[0.4444444444444444,\"#bd3786\"],[0.5555555555555556,\"#d8576b\"],[0.6666666666666666,\"#ed7953\"],[0.7777777777777778,\"#fb9f3a\"],[0.8888888888888888,\"#fdca26\"],[1.0,\"#f0f921\"]]}],\"surface\":[{\"type\":\"surface\",\"colorbar\":{\"outlinewidth\":0,\"ticks\":\"\"},\"colorscale\":[[0.0,\"#0d0887\"],[0.1111111111111111,\"#46039f\"],[0.2222222222222222,\"#7201a8\"],[0.3333333333333333,\"#9c179e\"],[0.4444444444444444,\"#bd3786\"],[0.5555555555555556,\"#d8576b\"],[0.6666666666666666,\"#ed7953\"],[0.7777777777777778,\"#fb9f3a\"],[0.8888888888888888,\"#fdca26\"],[1.0,\"#f0f921\"]]}],\"mesh3d\":[{\"type\":\"mesh3d\",\"colorbar\":{\"outlinewidth\":0,\"ticks\":\"\"}}],\"scatter\":[{\"fillpattern\":{\"fillmode\":\"overlay\",\"size\":10,\"solidity\":0.2},\"type\":\"scatter\"}],\"parcoords\":[{\"type\":\"parcoords\",\"line\":{\"colorbar\":{\"outlinewidth\":0,\"ticks\":\"\"}}}],\"scatterpolargl\":[{\"type\":\"scatterpolargl\",\"marker\":{\"colorbar\":{\"outlinewidth\":0,\"ticks\":\"\"}}}],\"bar\":[{\"error_x\":{\"color\":\"#2a3f5f\"},\"error_y\":{\"color\":\"#2a3f5f\"},\"marker\":{\"line\":{\"color\":\"#E5ECF6\",\"width\":0.5},\"pattern\":{\"fillmode\":\"overlay\",\"size\":10,\"solidity\":0.2}},\"type\":\"bar\"}],\"scattergeo\":[{\"type\":\"scattergeo\",\"marker\":{\"colorbar\":{\"outlinewidth\":0,\"ticks\":\"\"}}}],\"scatterpolar\":[{\"type\":\"scatterpolar\",\"marker\":{\"colorbar\":{\"outlinewidth\":0,\"ticks\":\"\"}}}],\"histogram\":[{\"marker\":{\"pattern\":{\"fillmode\":\"overlay\",\"size\":10,\"solidity\":0.2}},\"type\":\"histogram\"}],\"scattergl\":[{\"type\":\"scattergl\",\"marker\":{\"colorbar\":{\"outlinewidth\":0,\"ticks\":\"\"}}}],\"scatter3d\":[{\"type\":\"scatter3d\",\"line\":{\"colorbar\":{\"outlinewidth\":0,\"ticks\":\"\"}},\"marker\":{\"colorbar\":{\"outlinewidth\":0,\"ticks\":\"\"}}}],\"scattermapbox\":[{\"type\":\"scattermapbox\",\"marker\":{\"colorbar\":{\"outlinewidth\":0,\"ticks\":\"\"}}}],\"scatterternary\":[{\"type\":\"scatterternary\",\"marker\":{\"colorbar\":{\"outlinewidth\":0,\"ticks\":\"\"}}}],\"scattercarpet\":[{\"type\":\"scattercarpet\",\"marker\":{\"colorbar\":{\"outlinewidth\":0,\"ticks\":\"\"}}}],\"carpet\":[{\"aaxis\":{\"endlinecolor\":\"#2a3f5f\",\"gridcolor\":\"white\",\"linecolor\":\"white\",\"minorgridcolor\":\"white\",\"startlinecolor\":\"#2a3f5f\"},\"baxis\":{\"endlinecolor\":\"#2a3f5f\",\"gridcolor\":\"white\",\"linecolor\":\"white\",\"minorgridcolor\":\"white\",\"startlinecolor\":\"#2a3f5f\"},\"type\":\"carpet\"}],\"table\":[{\"cells\":{\"fill\":{\"color\":\"#EBF0F8\"},\"line\":{\"color\":\"white\"}},\"header\":{\"fill\":{\"color\":\"#C8D4E3\"},\"line\":{\"color\":\"white\"}},\"type\":\"table\"}],\"barpolar\":[{\"marker\":{\"line\":{\"color\":\"#E5ECF6\",\"width\":0.5},\"pattern\":{\"fillmode\":\"overlay\",\"size\":10,\"solidity\":0.2}},\"type\":\"barpolar\"}],\"pie\":[{\"automargin\":true,\"type\":\"pie\"}]},\"layout\":{\"autotypenumbers\":\"strict\",\"colorway\":[\"#636efa\",\"#EF553B\",\"#00cc96\",\"#ab63fa\",\"#FFA15A\",\"#19d3f3\",\"#FF6692\",\"#B6E880\",\"#FF97FF\",\"#FECB52\"],\"font\":{\"color\":\"#2a3f5f\"},\"hovermode\":\"closest\",\"hoverlabel\":{\"align\":\"left\"},\"paper_bgcolor\":\"white\",\"plot_bgcolor\":\"#E5ECF6\",\"polar\":{\"bgcolor\":\"#E5ECF6\",\"angularaxis\":{\"gridcolor\":\"white\",\"linecolor\":\"white\",\"ticks\":\"\"},\"radialaxis\":{\"gridcolor\":\"white\",\"linecolor\":\"white\",\"ticks\":\"\"}},\"ternary\":{\"bgcolor\":\"#E5ECF6\",\"aaxis\":{\"gridcolor\":\"white\",\"linecolor\":\"white\",\"ticks\":\"\"},\"baxis\":{\"gridcolor\":\"white\",\"linecolor\":\"white\",\"ticks\":\"\"},\"caxis\":{\"gridcolor\":\"white\",\"linecolor\":\"white\",\"ticks\":\"\"}},\"coloraxis\":{\"colorbar\":{\"outlinewidth\":0,\"ticks\":\"\"}},\"colorscale\":{\"sequential\":[[0.0,\"#0d0887\"],[0.1111111111111111,\"#46039f\"],[0.2222222222222222,\"#7201a8\"],[0.3333333333333333,\"#9c179e\"],[0.4444444444444444,\"#bd3786\"],[0.5555555555555556,\"#d8576b\"],[0.6666666666666666,\"#ed7953\"],[0.7777777777777778,\"#fb9f3a\"],[0.8888888888888888,\"#fdca26\"],[1.0,\"#f0f921\"]],\"sequentialminus\":[[0.0,\"#0d0887\"],[0.1111111111111111,\"#46039f\"],[0.2222222222222222,\"#7201a8\"],[0.3333333333333333,\"#9c179e\"],[0.4444444444444444,\"#bd3786\"],[0.5555555555555556,\"#d8576b\"],[0.6666666666666666,\"#ed7953\"],[0.7777777777777778,\"#fb9f3a\"],[0.8888888888888888,\"#fdca26\"],[1.0,\"#f0f921\"]],\"diverging\":[[0,\"#8e0152\"],[0.1,\"#c51b7d\"],[0.2,\"#de77ae\"],[0.3,\"#f1b6da\"],[0.4,\"#fde0ef\"],[0.5,\"#f7f7f7\"],[0.6,\"#e6f5d0\"],[0.7,\"#b8e186\"],[0.8,\"#7fbc41\"],[0.9,\"#4d9221\"],[1,\"#276419\"]]},\"xaxis\":{\"gridcolor\":\"white\",\"linecolor\":\"white\",\"ticks\":\"\",\"title\":{\"standoff\":15},\"zerolinecolor\":\"white\",\"automargin\":true,\"zerolinewidth\":2},\"yaxis\":{\"gridcolor\":\"white\",\"linecolor\":\"white\",\"ticks\":\"\",\"title\":{\"standoff\":15},\"zerolinecolor\":\"white\",\"automargin\":true,\"zerolinewidth\":2},\"scene\":{\"xaxis\":{\"backgroundcolor\":\"#E5ECF6\",\"gridcolor\":\"white\",\"linecolor\":\"white\",\"showbackground\":true,\"ticks\":\"\",\"zerolinecolor\":\"white\",\"gridwidth\":2},\"yaxis\":{\"backgroundcolor\":\"#E5ECF6\",\"gridcolor\":\"white\",\"linecolor\":\"white\",\"showbackground\":true,\"ticks\":\"\",\"zerolinecolor\":\"white\",\"gridwidth\":2},\"zaxis\":{\"backgroundcolor\":\"#E5ECF6\",\"gridcolor\":\"white\",\"linecolor\":\"white\",\"showbackground\":true,\"ticks\":\"\",\"zerolinecolor\":\"white\",\"gridwidth\":2}},\"shapedefaults\":{\"line\":{\"color\":\"#2a3f5f\"}},\"annotationdefaults\":{\"arrowcolor\":\"#2a3f5f\",\"arrowhead\":0,\"arrowwidth\":1},\"geo\":{\"bgcolor\":\"white\",\"landcolor\":\"#E5ECF6\",\"subunitcolor\":\"white\",\"showland\":true,\"showlakes\":true,\"lakecolor\":\"white\"},\"title\":{\"x\":0.05},\"mapbox\":{\"style\":\"light\"}}},\"margin\":{\"l\":0,\"r\":0,\"b\":0,\"t\":0},\"scene\":{\"camera\":{\"eye\":{\"x\":0.0,\"y\":3,\"z\":0}}},\"title\":{\"text\":\"eye = (x:0., y:3, z:0.)\"}},                        {\"responsive\": true}                    ).then(function(){\n",
       "                            \n",
       "var gd = document.getElementById('c0bd227f-5938-4ca5-a2d7-e5863c3e9bb8');\n",
       "var x = new MutationObserver(function (mutations, observer) {{\n",
       "        var display = window.getComputedStyle(gd).display;\n",
       "        if (!display || display === 'none') {{\n",
       "            console.log([gd, 'removed!']);\n",
       "            Plotly.purge(gd);\n",
       "            observer.disconnect();\n",
       "        }}\n",
       "}});\n",
       "\n",
       "// Listen for the removal of the full notebook cells\n",
       "var notebookContainer = gd.closest('#notebook-container');\n",
       "if (notebookContainer) {{\n",
       "    x.observe(notebookContainer, {childList: true});\n",
       "}}\n",
       "\n",
       "// Listen for the clearing of the current output cell\n",
       "var outputEl = gd.closest('.output');\n",
       "if (outputEl) {{\n",
       "    x.observe(outputEl, {childList: true});\n",
       "}}\n",
       "\n",
       "                        })                };                });            </script>        </div>"
      ]
     },
     "metadata": {},
     "output_type": "display_data"
    }
   ],
   "source": [
    "name = 'eye = (x:0., y:3, z:0.)'\n",
    "camera = dict(\n",
    "    eye=dict(x=0., y=3, z=0)\n",
    ")\n",
    "\n",
    "\n",
    "fig_c2.update_layout(scene_camera=camera, title=name)\n",
    "fig_c2.show()"
   ]
  },
  {
   "cell_type": "code",
   "execution_count": 77,
   "id": "1d2bd127",
   "metadata": {},
   "outputs": [
    {
     "data": {
      "application/vnd.plotly.v1+json": {
       "config": {
        "plotlyServerURL": "https://plot.ly"
       },
       "data": [
        {
         "marker": {
          "color": [
           6,
           10,
           8,
           7,
           4,
           14,
           1,
           2,
           2,
           14,
           10,
           3,
           11,
           14,
           13,
           14,
           4,
           2,
           11,
           0,
           13,
           5,
           14,
           11,
           10,
           1,
           5,
           3,
           8,
           14,
           6,
           3,
           1,
           4,
           11,
           13,
           5,
           7,
           12,
           4,
           9,
           12,
           11,
           5,
           2,
           14,
           12,
           11,
           0,
           6,
           11,
           9,
           3,
           11,
           1,
           0,
           4,
           1,
           7,
           2,
           6,
           3,
           2,
           13,
           11,
           11,
           5,
           9,
           13,
           2,
           3,
           0,
           9,
           0,
           3,
           10,
           4,
           1,
           7,
           11,
           1,
           0,
           14,
           2,
           1,
           10,
           4,
           0,
           14,
           13,
           5,
           2,
           13,
           0,
           6,
           14,
           1,
           0,
           12,
           4,
           5,
           8
          ],
          "colorscale": [
           [
            0,
            "#440154"
           ],
           [
            0.1111111111111111,
            "#482878"
           ],
           [
            0.2222222222222222,
            "#3e4989"
           ],
           [
            0.3333333333333333,
            "#31688e"
           ],
           [
            0.4444444444444444,
            "#26828e"
           ],
           [
            0.5555555555555556,
            "#1f9e89"
           ],
           [
            0.6666666666666666,
            "#35b779"
           ],
           [
            0.7777777777777778,
            "#6ece58"
           ],
           [
            0.8888888888888888,
            "#b5de2b"
           ],
           [
            1,
            "#fde725"
           ]
          ],
          "opacity": 0.8,
          "size": 5
         },
         "mode": "markers",
         "type": "scatter3d",
         "x": [
          1.376554445662277,
          1.8958364779650319,
          1.433205080756888,
          1.8760640646055102,
          0.9422724133595217,
          0.6494486372867092,
          0.8204422863405996,
          0.028301270189221933,
          0.4512916512459885,
          0.683467875173176,
          0.15284609690826528,
          0.888432667397366,
          1.0980255888325765,
          1.9581088913245535,
          0.25766660498395405,
          0.271817240078565,
          1.8336121593216772,
          0.9083012701892219,
          0.5899871130596428,
          0.4003108891324554,
          0.2066377481542538,
          0.4824038105676658,
          1.5237787643056313,
          0.14998711305964285,
          1.015836477965032,
          1.271782032302755,
          1.4020929214352105,
          0.9167820323027551,
          1.4388749537379657,
          1.1121281292110203,
          1.8165544456622769,
          0.4824519052838329,
          0.41446152422706634,
          0.022583302491977035,
          1.9496762239271874,
          0.6749871130596428,
          0.07642304845413264,
          0.94503520777581,
          1.9411473670974873,
          0.9366025403784439,
          0.12735571585149869,
          1.5181569860407207,
          1.4869967320028763,
          0.4653941916244324,
          -4.8094716167089435e-05,
          0.22078838324886474,
          1.038467875173176,
          0.5786473670974872,
          1.7373205080756888,
          1.4162435565298215,
          0.5786473670974872,
          0.1160159698893431,
          1.3681217782649107,
          0.6240063509461097,
          0.42013139720814413,
          1.2519615242270663,
          1.3369134295108993,
          0.8431217782649107,
          0.9903941916244323,
          1.7599519052838328,
          1.8732531754730548,
          0.8827627944162882,
          0.4342820323027551,
          2.000656986040721,
          1.9723557158514988,
          0.5899871130596428,
          0.9337435565298214,
          1.876015969889343,
          1.0866377481542537,
          1.3199519052838329,
          0.4541025403784439,
          0.823301270189222,
          0.5786954618136544,
          0.3662916512459885,
          0.8827627944162882,
          1.9128460969082652,
          0.4455736835487436,
          0.894150635094611,
          0.9790544456622767,
          0.16699673200287624,
          -0.01986860279185586,
          -0.07937822173508927,
          1.5974871130596429,
          0.4342820323027551,
          0.019820508075688772,
          0.5928460969082653,
          0.9479422863405995,
          1.2633012701892221,
          2.0091377481542536,
          0.23498711305964282,
          1.8364230484541326,
          1.754282032302755,
          0.640967875173176,
          -0.05669872981077805,
          1.839233937586588,
          2.037487113059643,
          1.271782032302755,
          1.6806217782649107,
          1.9694967320028762,
          0.45691342951089925
         ],
         "y": [
          2.1105255888325765,
          2.7705255888325766,
          2.07856406460551,
          2.6192820323027552,
          1.3319615242270664,
          0.9678460969082653,
          1.4924871130596429,
          0.05464101615137754,
          0.7266025403784439,
          0.8639230484541326,
          0.23856406460551016,
          1.4258845726811988,
          1.35,
          2.8624871130596428,
          0.12999999999999998,
          0.15732050807568876,
          2.537320508075689,
          1.2946410161513775,
          0.9378460969082653,
          0.7412435565298214,
          0.28588457268119893,
          0.8432050807568877,
          2.225166604983954,
          0.31784609690826526,
          1.5305255888325764,
          2.077846096908265,
          1.9619615242270663,
          1.339282032302755,
          2.0612435565298215,
          1.5185640646055103,
          2.7305255888325766,
          0.7019615242270663,
          0.7685640646055102,
          0.2132050807568877,
          2.6766025403784437,
          0.8192820323027551,
          0.11928203230275508,
          1.535166604983954,
          2.7732050807568878,
          1.349282032302755,
          0.24588457268119895,
          2.101243556529821,
          2.1258845726811986,
          0.8951666049839541,
          0.1412435565298214,
          0.3132050807568877,
          1.6024871130596428,
          0.9724871130596429,
          2.549282032302755,
          1.989282032302755,
          0.9724871130596429,
          0.2805255888325765,
          1.9246410161513774,
          0.8339230484541327,
          0.7512435565298214,
          2.0678460969082653,
          2.0905255888325764,
          1.4232050807568877,
          1.396602540378444,
          2.6212435565298216,
          2.557320508075689,
          1.4432050807568877,
          0.7785640646055102,
          2.6619615242270664,
          2.6073205080756887,
          0.9378460969082653,
          1.4285640646055102,
          2.7605255888325764,
          1.525884572681199,
          2.0012435565298214,
          0.7885640646055102,
          1.4132050807568877,
          0.8312435565298214,
          0.845166604983954,
          1.4432050807568877,
          2.71856406460551,
          0.885166604983954,
          1.2673205080756889,
          1.4312435565298214,
          0.2658845726811989,
          0.13124355652982142,
          0.24248711305964282,
          1.9999999999999998,
          0.7785640646055102,
          0.009999999999999998,
          0.8585640646055102,
          1.3146410161513775,
          2.0332050807568876,
          2.706602540378444,
          0.19928203230275507,
          2.5992820323027552,
          2.63856406460551,
          0.9232050807568877,
          0.17320508075688773,
          2.6612435565298216,
          2.62,
          2.077846096908265,
          2.7224871130596426,
          2.686602540378444,
          0.8505255888325765
         ],
         "z": [
          75,
          100,
          75,
          100,
          50,
          25,
          50,
          0,
          25,
          25,
          0,
          50,
          50,
          100,
          0,
          0,
          100,
          50,
          25,
          25,
          0,
          25,
          75,
          0,
          50,
          75,
          75,
          50,
          75,
          50,
          100,
          25,
          25,
          0,
          100,
          25,
          0,
          50,
          100,
          50,
          0,
          75,
          75,
          25,
          0,
          0,
          50,
          25,
          100,
          75,
          25,
          0,
          75,
          25,
          25,
          75,
          75,
          50,
          50,
          100,
          100,
          50,
          25,
          100,
          100,
          25,
          50,
          100,
          50,
          75,
          25,
          50,
          25,
          25,
          50,
          100,
          25,
          50,
          50,
          0,
          0,
          0,
          75,
          25,
          0,
          25,
          50,
          75,
          100,
          0,
          100,
          100,
          25,
          0,
          100,
          100,
          75,
          100,
          100,
          25
         ]
        }
       ],
       "layout": {
        "margin": {
         "b": 0,
         "l": 0,
         "r": 0,
         "t": 0
        },
        "scene": {
         "camera": {
          "eye": {
           "x": 0,
           "y": 0,
           "z": 2
          }
         }
        },
        "template": {
         "data": {
          "bar": [
           {
            "error_x": {
             "color": "#2a3f5f"
            },
            "error_y": {
             "color": "#2a3f5f"
            },
            "marker": {
             "line": {
              "color": "#E5ECF6",
              "width": 0.5
             },
             "pattern": {
              "fillmode": "overlay",
              "size": 10,
              "solidity": 0.2
             }
            },
            "type": "bar"
           }
          ],
          "barpolar": [
           {
            "marker": {
             "line": {
              "color": "#E5ECF6",
              "width": 0.5
             },
             "pattern": {
              "fillmode": "overlay",
              "size": 10,
              "solidity": 0.2
             }
            },
            "type": "barpolar"
           }
          ],
          "carpet": [
           {
            "aaxis": {
             "endlinecolor": "#2a3f5f",
             "gridcolor": "white",
             "linecolor": "white",
             "minorgridcolor": "white",
             "startlinecolor": "#2a3f5f"
            },
            "baxis": {
             "endlinecolor": "#2a3f5f",
             "gridcolor": "white",
             "linecolor": "white",
             "minorgridcolor": "white",
             "startlinecolor": "#2a3f5f"
            },
            "type": "carpet"
           }
          ],
          "choropleth": [
           {
            "colorbar": {
             "outlinewidth": 0,
             "ticks": ""
            },
            "type": "choropleth"
           }
          ],
          "contour": [
           {
            "colorbar": {
             "outlinewidth": 0,
             "ticks": ""
            },
            "colorscale": [
             [
              0,
              "#0d0887"
             ],
             [
              0.1111111111111111,
              "#46039f"
             ],
             [
              0.2222222222222222,
              "#7201a8"
             ],
             [
              0.3333333333333333,
              "#9c179e"
             ],
             [
              0.4444444444444444,
              "#bd3786"
             ],
             [
              0.5555555555555556,
              "#d8576b"
             ],
             [
              0.6666666666666666,
              "#ed7953"
             ],
             [
              0.7777777777777778,
              "#fb9f3a"
             ],
             [
              0.8888888888888888,
              "#fdca26"
             ],
             [
              1,
              "#f0f921"
             ]
            ],
            "type": "contour"
           }
          ],
          "contourcarpet": [
           {
            "colorbar": {
             "outlinewidth": 0,
             "ticks": ""
            },
            "type": "contourcarpet"
           }
          ],
          "heatmap": [
           {
            "colorbar": {
             "outlinewidth": 0,
             "ticks": ""
            },
            "colorscale": [
             [
              0,
              "#0d0887"
             ],
             [
              0.1111111111111111,
              "#46039f"
             ],
             [
              0.2222222222222222,
              "#7201a8"
             ],
             [
              0.3333333333333333,
              "#9c179e"
             ],
             [
              0.4444444444444444,
              "#bd3786"
             ],
             [
              0.5555555555555556,
              "#d8576b"
             ],
             [
              0.6666666666666666,
              "#ed7953"
             ],
             [
              0.7777777777777778,
              "#fb9f3a"
             ],
             [
              0.8888888888888888,
              "#fdca26"
             ],
             [
              1,
              "#f0f921"
             ]
            ],
            "type": "heatmap"
           }
          ],
          "heatmapgl": [
           {
            "colorbar": {
             "outlinewidth": 0,
             "ticks": ""
            },
            "colorscale": [
             [
              0,
              "#0d0887"
             ],
             [
              0.1111111111111111,
              "#46039f"
             ],
             [
              0.2222222222222222,
              "#7201a8"
             ],
             [
              0.3333333333333333,
              "#9c179e"
             ],
             [
              0.4444444444444444,
              "#bd3786"
             ],
             [
              0.5555555555555556,
              "#d8576b"
             ],
             [
              0.6666666666666666,
              "#ed7953"
             ],
             [
              0.7777777777777778,
              "#fb9f3a"
             ],
             [
              0.8888888888888888,
              "#fdca26"
             ],
             [
              1,
              "#f0f921"
             ]
            ],
            "type": "heatmapgl"
           }
          ],
          "histogram": [
           {
            "marker": {
             "pattern": {
              "fillmode": "overlay",
              "size": 10,
              "solidity": 0.2
             }
            },
            "type": "histogram"
           }
          ],
          "histogram2d": [
           {
            "colorbar": {
             "outlinewidth": 0,
             "ticks": ""
            },
            "colorscale": [
             [
              0,
              "#0d0887"
             ],
             [
              0.1111111111111111,
              "#46039f"
             ],
             [
              0.2222222222222222,
              "#7201a8"
             ],
             [
              0.3333333333333333,
              "#9c179e"
             ],
             [
              0.4444444444444444,
              "#bd3786"
             ],
             [
              0.5555555555555556,
              "#d8576b"
             ],
             [
              0.6666666666666666,
              "#ed7953"
             ],
             [
              0.7777777777777778,
              "#fb9f3a"
             ],
             [
              0.8888888888888888,
              "#fdca26"
             ],
             [
              1,
              "#f0f921"
             ]
            ],
            "type": "histogram2d"
           }
          ],
          "histogram2dcontour": [
           {
            "colorbar": {
             "outlinewidth": 0,
             "ticks": ""
            },
            "colorscale": [
             [
              0,
              "#0d0887"
             ],
             [
              0.1111111111111111,
              "#46039f"
             ],
             [
              0.2222222222222222,
              "#7201a8"
             ],
             [
              0.3333333333333333,
              "#9c179e"
             ],
             [
              0.4444444444444444,
              "#bd3786"
             ],
             [
              0.5555555555555556,
              "#d8576b"
             ],
             [
              0.6666666666666666,
              "#ed7953"
             ],
             [
              0.7777777777777778,
              "#fb9f3a"
             ],
             [
              0.8888888888888888,
              "#fdca26"
             ],
             [
              1,
              "#f0f921"
             ]
            ],
            "type": "histogram2dcontour"
           }
          ],
          "mesh3d": [
           {
            "colorbar": {
             "outlinewidth": 0,
             "ticks": ""
            },
            "type": "mesh3d"
           }
          ],
          "parcoords": [
           {
            "line": {
             "colorbar": {
              "outlinewidth": 0,
              "ticks": ""
             }
            },
            "type": "parcoords"
           }
          ],
          "pie": [
           {
            "automargin": true,
            "type": "pie"
           }
          ],
          "scatter": [
           {
            "fillpattern": {
             "fillmode": "overlay",
             "size": 10,
             "solidity": 0.2
            },
            "type": "scatter"
           }
          ],
          "scatter3d": [
           {
            "line": {
             "colorbar": {
              "outlinewidth": 0,
              "ticks": ""
             }
            },
            "marker": {
             "colorbar": {
              "outlinewidth": 0,
              "ticks": ""
             }
            },
            "type": "scatter3d"
           }
          ],
          "scattercarpet": [
           {
            "marker": {
             "colorbar": {
              "outlinewidth": 0,
              "ticks": ""
             }
            },
            "type": "scattercarpet"
           }
          ],
          "scattergeo": [
           {
            "marker": {
             "colorbar": {
              "outlinewidth": 0,
              "ticks": ""
             }
            },
            "type": "scattergeo"
           }
          ],
          "scattergl": [
           {
            "marker": {
             "colorbar": {
              "outlinewidth": 0,
              "ticks": ""
             }
            },
            "type": "scattergl"
           }
          ],
          "scattermapbox": [
           {
            "marker": {
             "colorbar": {
              "outlinewidth": 0,
              "ticks": ""
             }
            },
            "type": "scattermapbox"
           }
          ],
          "scatterpolar": [
           {
            "marker": {
             "colorbar": {
              "outlinewidth": 0,
              "ticks": ""
             }
            },
            "type": "scatterpolar"
           }
          ],
          "scatterpolargl": [
           {
            "marker": {
             "colorbar": {
              "outlinewidth": 0,
              "ticks": ""
             }
            },
            "type": "scatterpolargl"
           }
          ],
          "scatterternary": [
           {
            "marker": {
             "colorbar": {
              "outlinewidth": 0,
              "ticks": ""
             }
            },
            "type": "scatterternary"
           }
          ],
          "surface": [
           {
            "colorbar": {
             "outlinewidth": 0,
             "ticks": ""
            },
            "colorscale": [
             [
              0,
              "#0d0887"
             ],
             [
              0.1111111111111111,
              "#46039f"
             ],
             [
              0.2222222222222222,
              "#7201a8"
             ],
             [
              0.3333333333333333,
              "#9c179e"
             ],
             [
              0.4444444444444444,
              "#bd3786"
             ],
             [
              0.5555555555555556,
              "#d8576b"
             ],
             [
              0.6666666666666666,
              "#ed7953"
             ],
             [
              0.7777777777777778,
              "#fb9f3a"
             ],
             [
              0.8888888888888888,
              "#fdca26"
             ],
             [
              1,
              "#f0f921"
             ]
            ],
            "type": "surface"
           }
          ],
          "table": [
           {
            "cells": {
             "fill": {
              "color": "#EBF0F8"
             },
             "line": {
              "color": "white"
             }
            },
            "header": {
             "fill": {
              "color": "#C8D4E3"
             },
             "line": {
              "color": "white"
             }
            },
            "type": "table"
           }
          ]
         },
         "layout": {
          "annotationdefaults": {
           "arrowcolor": "#2a3f5f",
           "arrowhead": 0,
           "arrowwidth": 1
          },
          "autotypenumbers": "strict",
          "coloraxis": {
           "colorbar": {
            "outlinewidth": 0,
            "ticks": ""
           }
          },
          "colorscale": {
           "diverging": [
            [
             0,
             "#8e0152"
            ],
            [
             0.1,
             "#c51b7d"
            ],
            [
             0.2,
             "#de77ae"
            ],
            [
             0.3,
             "#f1b6da"
            ],
            [
             0.4,
             "#fde0ef"
            ],
            [
             0.5,
             "#f7f7f7"
            ],
            [
             0.6,
             "#e6f5d0"
            ],
            [
             0.7,
             "#b8e186"
            ],
            [
             0.8,
             "#7fbc41"
            ],
            [
             0.9,
             "#4d9221"
            ],
            [
             1,
             "#276419"
            ]
           ],
           "sequential": [
            [
             0,
             "#0d0887"
            ],
            [
             0.1111111111111111,
             "#46039f"
            ],
            [
             0.2222222222222222,
             "#7201a8"
            ],
            [
             0.3333333333333333,
             "#9c179e"
            ],
            [
             0.4444444444444444,
             "#bd3786"
            ],
            [
             0.5555555555555556,
             "#d8576b"
            ],
            [
             0.6666666666666666,
             "#ed7953"
            ],
            [
             0.7777777777777778,
             "#fb9f3a"
            ],
            [
             0.8888888888888888,
             "#fdca26"
            ],
            [
             1,
             "#f0f921"
            ]
           ],
           "sequentialminus": [
            [
             0,
             "#0d0887"
            ],
            [
             0.1111111111111111,
             "#46039f"
            ],
            [
             0.2222222222222222,
             "#7201a8"
            ],
            [
             0.3333333333333333,
             "#9c179e"
            ],
            [
             0.4444444444444444,
             "#bd3786"
            ],
            [
             0.5555555555555556,
             "#d8576b"
            ],
            [
             0.6666666666666666,
             "#ed7953"
            ],
            [
             0.7777777777777778,
             "#fb9f3a"
            ],
            [
             0.8888888888888888,
             "#fdca26"
            ],
            [
             1,
             "#f0f921"
            ]
           ]
          },
          "colorway": [
           "#636efa",
           "#EF553B",
           "#00cc96",
           "#ab63fa",
           "#FFA15A",
           "#19d3f3",
           "#FF6692",
           "#B6E880",
           "#FF97FF",
           "#FECB52"
          ],
          "font": {
           "color": "#2a3f5f"
          },
          "geo": {
           "bgcolor": "white",
           "lakecolor": "white",
           "landcolor": "#E5ECF6",
           "showlakes": true,
           "showland": true,
           "subunitcolor": "white"
          },
          "hoverlabel": {
           "align": "left"
          },
          "hovermode": "closest",
          "mapbox": {
           "style": "light"
          },
          "paper_bgcolor": "white",
          "plot_bgcolor": "#E5ECF6",
          "polar": {
           "angularaxis": {
            "gridcolor": "white",
            "linecolor": "white",
            "ticks": ""
           },
           "bgcolor": "#E5ECF6",
           "radialaxis": {
            "gridcolor": "white",
            "linecolor": "white",
            "ticks": ""
           }
          },
          "scene": {
           "xaxis": {
            "backgroundcolor": "#E5ECF6",
            "gridcolor": "white",
            "gridwidth": 2,
            "linecolor": "white",
            "showbackground": true,
            "ticks": "",
            "zerolinecolor": "white"
           },
           "yaxis": {
            "backgroundcolor": "#E5ECF6",
            "gridcolor": "white",
            "gridwidth": 2,
            "linecolor": "white",
            "showbackground": true,
            "ticks": "",
            "zerolinecolor": "white"
           },
           "zaxis": {
            "backgroundcolor": "#E5ECF6",
            "gridcolor": "white",
            "gridwidth": 2,
            "linecolor": "white",
            "showbackground": true,
            "ticks": "",
            "zerolinecolor": "white"
           }
          },
          "shapedefaults": {
           "line": {
            "color": "#2a3f5f"
           }
          },
          "ternary": {
           "aaxis": {
            "gridcolor": "white",
            "linecolor": "white",
            "ticks": ""
           },
           "baxis": {
            "gridcolor": "white",
            "linecolor": "white",
            "ticks": ""
           },
           "bgcolor": "#E5ECF6",
           "caxis": {
            "gridcolor": "white",
            "linecolor": "white",
            "ticks": ""
           }
          },
          "title": {
           "x": 0.05
          },
          "xaxis": {
           "automargin": true,
           "gridcolor": "white",
           "linecolor": "white",
           "ticks": "",
           "title": {
            "standoff": 15
           },
           "zerolinecolor": "white",
           "zerolinewidth": 2
          },
          "yaxis": {
           "automargin": true,
           "gridcolor": "white",
           "linecolor": "white",
           "ticks": "",
           "title": {
            "standoff": 15
           },
           "zerolinecolor": "white",
           "zerolinewidth": 2
          }
         }
        },
        "title": {
         "text": "eye = (x:0., y:0, z:2)"
        }
       }
      },
      "text/html": [
       "<div>                            <div id=\"07b64a17-a08f-4a42-92c7-9e5351f61e6b\" class=\"plotly-graph-div\" style=\"height:525px; width:100%;\"></div>            <script type=\"text/javascript\">                require([\"plotly\"], function(Plotly) {                    window.PLOTLYENV=window.PLOTLYENV || {};                                    if (document.getElementById(\"07b64a17-a08f-4a42-92c7-9e5351f61e6b\")) {                    Plotly.newPlot(                        \"07b64a17-a08f-4a42-92c7-9e5351f61e6b\",                        [{\"marker\":{\"color\":[6,10,8,7,4,14,1,2,2,14,10,3,11,14,13,14,4,2,11,0,13,5,14,11,10,1,5,3,8,14,6,3,1,4,11,13,5,7,12,4,9,12,11,5,2,14,12,11,0,6,11,9,3,11,1,0,4,1,7,2,6,3,2,13,11,11,5,9,13,2,3,0,9,0,3,10,4,1,7,11,1,0,14,2,1,10,4,0,14,13,5,2,13,0,6,14,1,0,12,4,5,8],\"colorscale\":[[0.0,\"#440154\"],[0.1111111111111111,\"#482878\"],[0.2222222222222222,\"#3e4989\"],[0.3333333333333333,\"#31688e\"],[0.4444444444444444,\"#26828e\"],[0.5555555555555556,\"#1f9e89\"],[0.6666666666666666,\"#35b779\"],[0.7777777777777778,\"#6ece58\"],[0.8888888888888888,\"#b5de2b\"],[1.0,\"#fde725\"]],\"opacity\":0.8,\"size\":5},\"mode\":\"markers\",\"x\":[1.376554445662277,1.8958364779650319,1.433205080756888,1.8760640646055102,0.9422724133595217,0.6494486372867092,0.8204422863405996,0.028301270189221933,0.4512916512459885,0.683467875173176,0.15284609690826528,0.888432667397366,1.0980255888325765,1.9581088913245535,0.25766660498395405,0.271817240078565,1.8336121593216772,0.9083012701892219,0.5899871130596428,0.4003108891324554,0.2066377481542538,0.4824038105676658,1.5237787643056313,0.14998711305964285,1.015836477965032,1.271782032302755,1.4020929214352105,0.9167820323027551,1.4388749537379657,1.1121281292110203,1.8165544456622769,0.4824519052838329,0.41446152422706634,0.022583302491977035,1.9496762239271874,0.6749871130596428,0.07642304845413264,0.94503520777581,1.9411473670974873,0.9366025403784439,0.12735571585149869,1.5181569860407207,1.4869967320028763,0.4653941916244324,-4.8094716167089435e-05,0.22078838324886474,1.038467875173176,0.5786473670974872,1.7373205080756888,1.4162435565298215,0.5786473670974872,0.1160159698893431,1.3681217782649107,0.6240063509461097,0.42013139720814413,1.2519615242270663,1.3369134295108993,0.8431217782649107,0.9903941916244323,1.7599519052838328,1.8732531754730548,0.8827627944162882,0.4342820323027551,2.000656986040721,1.9723557158514988,0.5899871130596428,0.9337435565298214,1.876015969889343,1.0866377481542537,1.3199519052838329,0.4541025403784439,0.823301270189222,0.5786954618136544,0.3662916512459885,0.8827627944162882,1.9128460969082652,0.4455736835487436,0.894150635094611,0.9790544456622767,0.16699673200287624,-0.01986860279185586,-0.07937822173508927,1.5974871130596429,0.4342820323027551,0.019820508075688772,0.5928460969082653,0.9479422863405995,1.2633012701892221,2.0091377481542536,0.23498711305964282,1.8364230484541326,1.754282032302755,0.640967875173176,-0.05669872981077805,1.839233937586588,2.037487113059643,1.271782032302755,1.6806217782649107,1.9694967320028762,0.45691342951089925],\"y\":[2.1105255888325765,2.7705255888325766,2.07856406460551,2.6192820323027552,1.3319615242270664,0.9678460969082653,1.4924871130596429,0.05464101615137754,0.7266025403784439,0.8639230484541326,0.23856406460551016,1.4258845726811988,1.35,2.8624871130596428,0.12999999999999998,0.15732050807568876,2.537320508075689,1.2946410161513775,0.9378460969082653,0.7412435565298214,0.28588457268119893,0.8432050807568877,2.225166604983954,0.31784609690826526,1.5305255888325764,2.077846096908265,1.9619615242270663,1.339282032302755,2.0612435565298215,1.5185640646055103,2.7305255888325766,0.7019615242270663,0.7685640646055102,0.2132050807568877,2.6766025403784437,0.8192820323027551,0.11928203230275508,1.535166604983954,2.7732050807568878,1.349282032302755,0.24588457268119895,2.101243556529821,2.1258845726811986,0.8951666049839541,0.1412435565298214,0.3132050807568877,1.6024871130596428,0.9724871130596429,2.549282032302755,1.989282032302755,0.9724871130596429,0.2805255888325765,1.9246410161513774,0.8339230484541327,0.7512435565298214,2.0678460969082653,2.0905255888325764,1.4232050807568877,1.396602540378444,2.6212435565298216,2.557320508075689,1.4432050807568877,0.7785640646055102,2.6619615242270664,2.6073205080756887,0.9378460969082653,1.4285640646055102,2.7605255888325764,1.525884572681199,2.0012435565298214,0.7885640646055102,1.4132050807568877,0.8312435565298214,0.845166604983954,1.4432050807568877,2.71856406460551,0.885166604983954,1.2673205080756889,1.4312435565298214,0.2658845726811989,0.13124355652982142,0.24248711305964282,1.9999999999999998,0.7785640646055102,0.009999999999999998,0.8585640646055102,1.3146410161513775,2.0332050807568876,2.706602540378444,0.19928203230275507,2.5992820323027552,2.63856406460551,0.9232050807568877,0.17320508075688773,2.6612435565298216,2.62,2.077846096908265,2.7224871130596426,2.686602540378444,0.8505255888325765],\"z\":[75.0,100.0,75.0,100.0,50.0,25.0,50.0,0.0,25.0,25.0,0.0,50.0,50.0,100.0,0.0,0.0,100.0,50.0,25.0,25.0,0.0,25.0,75.0,0.0,50.0,75.0,75.0,50.0,75.0,50.0,100.0,25.0,25.0,0.0,100.0,25.0,0.0,50.0,100.0,50.0,0.0,75.0,75.0,25.0,0.0,0.0,50.0,25.0,100.0,75.0,25.0,0.0,75.0,25.0,25.0,75.0,75.0,50.0,50.0,100.0,100.0,50.0,25.0,100.0,100.0,25.0,50.0,100.0,50.0,75.0,25.0,50.0,25.0,25.0,50.0,100.0,25.0,50.0,50.0,0.0,0.0,0.0,75.0,25.0,0.0,25.0,50.0,75.0,100.0,0.0,100.0,100.0,25.0,0.0,100.0,100.0,75.0,100.0,100.0,25.0],\"type\":\"scatter3d\"}],                        {\"template\":{\"data\":{\"histogram2dcontour\":[{\"type\":\"histogram2dcontour\",\"colorbar\":{\"outlinewidth\":0,\"ticks\":\"\"},\"colorscale\":[[0.0,\"#0d0887\"],[0.1111111111111111,\"#46039f\"],[0.2222222222222222,\"#7201a8\"],[0.3333333333333333,\"#9c179e\"],[0.4444444444444444,\"#bd3786\"],[0.5555555555555556,\"#d8576b\"],[0.6666666666666666,\"#ed7953\"],[0.7777777777777778,\"#fb9f3a\"],[0.8888888888888888,\"#fdca26\"],[1.0,\"#f0f921\"]]}],\"choropleth\":[{\"type\":\"choropleth\",\"colorbar\":{\"outlinewidth\":0,\"ticks\":\"\"}}],\"histogram2d\":[{\"type\":\"histogram2d\",\"colorbar\":{\"outlinewidth\":0,\"ticks\":\"\"},\"colorscale\":[[0.0,\"#0d0887\"],[0.1111111111111111,\"#46039f\"],[0.2222222222222222,\"#7201a8\"],[0.3333333333333333,\"#9c179e\"],[0.4444444444444444,\"#bd3786\"],[0.5555555555555556,\"#d8576b\"],[0.6666666666666666,\"#ed7953\"],[0.7777777777777778,\"#fb9f3a\"],[0.8888888888888888,\"#fdca26\"],[1.0,\"#f0f921\"]]}],\"heatmap\":[{\"type\":\"heatmap\",\"colorbar\":{\"outlinewidth\":0,\"ticks\":\"\"},\"colorscale\":[[0.0,\"#0d0887\"],[0.1111111111111111,\"#46039f\"],[0.2222222222222222,\"#7201a8\"],[0.3333333333333333,\"#9c179e\"],[0.4444444444444444,\"#bd3786\"],[0.5555555555555556,\"#d8576b\"],[0.6666666666666666,\"#ed7953\"],[0.7777777777777778,\"#fb9f3a\"],[0.8888888888888888,\"#fdca26\"],[1.0,\"#f0f921\"]]}],\"heatmapgl\":[{\"type\":\"heatmapgl\",\"colorbar\":{\"outlinewidth\":0,\"ticks\":\"\"},\"colorscale\":[[0.0,\"#0d0887\"],[0.1111111111111111,\"#46039f\"],[0.2222222222222222,\"#7201a8\"],[0.3333333333333333,\"#9c179e\"],[0.4444444444444444,\"#bd3786\"],[0.5555555555555556,\"#d8576b\"],[0.6666666666666666,\"#ed7953\"],[0.7777777777777778,\"#fb9f3a\"],[0.8888888888888888,\"#fdca26\"],[1.0,\"#f0f921\"]]}],\"contourcarpet\":[{\"type\":\"contourcarpet\",\"colorbar\":{\"outlinewidth\":0,\"ticks\":\"\"}}],\"contour\":[{\"type\":\"contour\",\"colorbar\":{\"outlinewidth\":0,\"ticks\":\"\"},\"colorscale\":[[0.0,\"#0d0887\"],[0.1111111111111111,\"#46039f\"],[0.2222222222222222,\"#7201a8\"],[0.3333333333333333,\"#9c179e\"],[0.4444444444444444,\"#bd3786\"],[0.5555555555555556,\"#d8576b\"],[0.6666666666666666,\"#ed7953\"],[0.7777777777777778,\"#fb9f3a\"],[0.8888888888888888,\"#fdca26\"],[1.0,\"#f0f921\"]]}],\"surface\":[{\"type\":\"surface\",\"colorbar\":{\"outlinewidth\":0,\"ticks\":\"\"},\"colorscale\":[[0.0,\"#0d0887\"],[0.1111111111111111,\"#46039f\"],[0.2222222222222222,\"#7201a8\"],[0.3333333333333333,\"#9c179e\"],[0.4444444444444444,\"#bd3786\"],[0.5555555555555556,\"#d8576b\"],[0.6666666666666666,\"#ed7953\"],[0.7777777777777778,\"#fb9f3a\"],[0.8888888888888888,\"#fdca26\"],[1.0,\"#f0f921\"]]}],\"mesh3d\":[{\"type\":\"mesh3d\",\"colorbar\":{\"outlinewidth\":0,\"ticks\":\"\"}}],\"scatter\":[{\"fillpattern\":{\"fillmode\":\"overlay\",\"size\":10,\"solidity\":0.2},\"type\":\"scatter\"}],\"parcoords\":[{\"type\":\"parcoords\",\"line\":{\"colorbar\":{\"outlinewidth\":0,\"ticks\":\"\"}}}],\"scatterpolargl\":[{\"type\":\"scatterpolargl\",\"marker\":{\"colorbar\":{\"outlinewidth\":0,\"ticks\":\"\"}}}],\"bar\":[{\"error_x\":{\"color\":\"#2a3f5f\"},\"error_y\":{\"color\":\"#2a3f5f\"},\"marker\":{\"line\":{\"color\":\"#E5ECF6\",\"width\":0.5},\"pattern\":{\"fillmode\":\"overlay\",\"size\":10,\"solidity\":0.2}},\"type\":\"bar\"}],\"scattergeo\":[{\"type\":\"scattergeo\",\"marker\":{\"colorbar\":{\"outlinewidth\":0,\"ticks\":\"\"}}}],\"scatterpolar\":[{\"type\":\"scatterpolar\",\"marker\":{\"colorbar\":{\"outlinewidth\":0,\"ticks\":\"\"}}}],\"histogram\":[{\"marker\":{\"pattern\":{\"fillmode\":\"overlay\",\"size\":10,\"solidity\":0.2}},\"type\":\"histogram\"}],\"scattergl\":[{\"type\":\"scattergl\",\"marker\":{\"colorbar\":{\"outlinewidth\":0,\"ticks\":\"\"}}}],\"scatter3d\":[{\"type\":\"scatter3d\",\"line\":{\"colorbar\":{\"outlinewidth\":0,\"ticks\":\"\"}},\"marker\":{\"colorbar\":{\"outlinewidth\":0,\"ticks\":\"\"}}}],\"scattermapbox\":[{\"type\":\"scattermapbox\",\"marker\":{\"colorbar\":{\"outlinewidth\":0,\"ticks\":\"\"}}}],\"scatterternary\":[{\"type\":\"scatterternary\",\"marker\":{\"colorbar\":{\"outlinewidth\":0,\"ticks\":\"\"}}}],\"scattercarpet\":[{\"type\":\"scattercarpet\",\"marker\":{\"colorbar\":{\"outlinewidth\":0,\"ticks\":\"\"}}}],\"carpet\":[{\"aaxis\":{\"endlinecolor\":\"#2a3f5f\",\"gridcolor\":\"white\",\"linecolor\":\"white\",\"minorgridcolor\":\"white\",\"startlinecolor\":\"#2a3f5f\"},\"baxis\":{\"endlinecolor\":\"#2a3f5f\",\"gridcolor\":\"white\",\"linecolor\":\"white\",\"minorgridcolor\":\"white\",\"startlinecolor\":\"#2a3f5f\"},\"type\":\"carpet\"}],\"table\":[{\"cells\":{\"fill\":{\"color\":\"#EBF0F8\"},\"line\":{\"color\":\"white\"}},\"header\":{\"fill\":{\"color\":\"#C8D4E3\"},\"line\":{\"color\":\"white\"}},\"type\":\"table\"}],\"barpolar\":[{\"marker\":{\"line\":{\"color\":\"#E5ECF6\",\"width\":0.5},\"pattern\":{\"fillmode\":\"overlay\",\"size\":10,\"solidity\":0.2}},\"type\":\"barpolar\"}],\"pie\":[{\"automargin\":true,\"type\":\"pie\"}]},\"layout\":{\"autotypenumbers\":\"strict\",\"colorway\":[\"#636efa\",\"#EF553B\",\"#00cc96\",\"#ab63fa\",\"#FFA15A\",\"#19d3f3\",\"#FF6692\",\"#B6E880\",\"#FF97FF\",\"#FECB52\"],\"font\":{\"color\":\"#2a3f5f\"},\"hovermode\":\"closest\",\"hoverlabel\":{\"align\":\"left\"},\"paper_bgcolor\":\"white\",\"plot_bgcolor\":\"#E5ECF6\",\"polar\":{\"bgcolor\":\"#E5ECF6\",\"angularaxis\":{\"gridcolor\":\"white\",\"linecolor\":\"white\",\"ticks\":\"\"},\"radialaxis\":{\"gridcolor\":\"white\",\"linecolor\":\"white\",\"ticks\":\"\"}},\"ternary\":{\"bgcolor\":\"#E5ECF6\",\"aaxis\":{\"gridcolor\":\"white\",\"linecolor\":\"white\",\"ticks\":\"\"},\"baxis\":{\"gridcolor\":\"white\",\"linecolor\":\"white\",\"ticks\":\"\"},\"caxis\":{\"gridcolor\":\"white\",\"linecolor\":\"white\",\"ticks\":\"\"}},\"coloraxis\":{\"colorbar\":{\"outlinewidth\":0,\"ticks\":\"\"}},\"colorscale\":{\"sequential\":[[0.0,\"#0d0887\"],[0.1111111111111111,\"#46039f\"],[0.2222222222222222,\"#7201a8\"],[0.3333333333333333,\"#9c179e\"],[0.4444444444444444,\"#bd3786\"],[0.5555555555555556,\"#d8576b\"],[0.6666666666666666,\"#ed7953\"],[0.7777777777777778,\"#fb9f3a\"],[0.8888888888888888,\"#fdca26\"],[1.0,\"#f0f921\"]],\"sequentialminus\":[[0.0,\"#0d0887\"],[0.1111111111111111,\"#46039f\"],[0.2222222222222222,\"#7201a8\"],[0.3333333333333333,\"#9c179e\"],[0.4444444444444444,\"#bd3786\"],[0.5555555555555556,\"#d8576b\"],[0.6666666666666666,\"#ed7953\"],[0.7777777777777778,\"#fb9f3a\"],[0.8888888888888888,\"#fdca26\"],[1.0,\"#f0f921\"]],\"diverging\":[[0,\"#8e0152\"],[0.1,\"#c51b7d\"],[0.2,\"#de77ae\"],[0.3,\"#f1b6da\"],[0.4,\"#fde0ef\"],[0.5,\"#f7f7f7\"],[0.6,\"#e6f5d0\"],[0.7,\"#b8e186\"],[0.8,\"#7fbc41\"],[0.9,\"#4d9221\"],[1,\"#276419\"]]},\"xaxis\":{\"gridcolor\":\"white\",\"linecolor\":\"white\",\"ticks\":\"\",\"title\":{\"standoff\":15},\"zerolinecolor\":\"white\",\"automargin\":true,\"zerolinewidth\":2},\"yaxis\":{\"gridcolor\":\"white\",\"linecolor\":\"white\",\"ticks\":\"\",\"title\":{\"standoff\":15},\"zerolinecolor\":\"white\",\"automargin\":true,\"zerolinewidth\":2},\"scene\":{\"xaxis\":{\"backgroundcolor\":\"#E5ECF6\",\"gridcolor\":\"white\",\"linecolor\":\"white\",\"showbackground\":true,\"ticks\":\"\",\"zerolinecolor\":\"white\",\"gridwidth\":2},\"yaxis\":{\"backgroundcolor\":\"#E5ECF6\",\"gridcolor\":\"white\",\"linecolor\":\"white\",\"showbackground\":true,\"ticks\":\"\",\"zerolinecolor\":\"white\",\"gridwidth\":2},\"zaxis\":{\"backgroundcolor\":\"#E5ECF6\",\"gridcolor\":\"white\",\"linecolor\":\"white\",\"showbackground\":true,\"ticks\":\"\",\"zerolinecolor\":\"white\",\"gridwidth\":2}},\"shapedefaults\":{\"line\":{\"color\":\"#2a3f5f\"}},\"annotationdefaults\":{\"arrowcolor\":\"#2a3f5f\",\"arrowhead\":0,\"arrowwidth\":1},\"geo\":{\"bgcolor\":\"white\",\"landcolor\":\"#E5ECF6\",\"subunitcolor\":\"white\",\"showland\":true,\"showlakes\":true,\"lakecolor\":\"white\"},\"title\":{\"x\":0.05},\"mapbox\":{\"style\":\"light\"}}},\"margin\":{\"l\":0,\"r\":0,\"b\":0,\"t\":0},\"scene\":{\"camera\":{\"eye\":{\"x\":0.0,\"y\":0,\"z\":2}}},\"title\":{\"text\":\"eye = (x:0., y:0, z:2)\"}},                        {\"responsive\": true}                    ).then(function(){\n",
       "                            \n",
       "var gd = document.getElementById('07b64a17-a08f-4a42-92c7-9e5351f61e6b');\n",
       "var x = new MutationObserver(function (mutations, observer) {{\n",
       "        var display = window.getComputedStyle(gd).display;\n",
       "        if (!display || display === 'none') {{\n",
       "            console.log([gd, 'removed!']);\n",
       "            Plotly.purge(gd);\n",
       "            observer.disconnect();\n",
       "        }}\n",
       "}});\n",
       "\n",
       "// Listen for the removal of the full notebook cells\n",
       "var notebookContainer = gd.closest('#notebook-container');\n",
       "if (notebookContainer) {{\n",
       "    x.observe(notebookContainer, {childList: true});\n",
       "}}\n",
       "\n",
       "// Listen for the clearing of the current output cell\n",
       "var outputEl = gd.closest('.output');\n",
       "if (outputEl) {{\n",
       "    x.observe(outputEl, {childList: true});\n",
       "}}\n",
       "\n",
       "                        })                };                });            </script>        </div>"
      ]
     },
     "metadata": {},
     "output_type": "display_data"
    }
   ],
   "source": [
    "name = 'eye = (x:0., y:0, z:2)'\n",
    "camera = dict(\n",
    "    eye=dict(x=0., y=0, z=2)\n",
    ")\n",
    "\n",
    "\n",
    "fig_c2.update_layout(scene_camera=camera, title=name)\n",
    "fig_c2.show()"
   ]
  },
  {
   "cell_type": "code",
   "execution_count": 78,
   "id": "d1a4d644",
   "metadata": {},
   "outputs": [
    {
     "data": {
      "application/vnd.plotly.v1+json": {
       "config": {
        "plotlyServerURL": "https://plot.ly"
       },
       "data": [
        {
         "marker": {
          "color": [
           6,
           10,
           8,
           7,
           4,
           14,
           1,
           2,
           2,
           14,
           10,
           3,
           11,
           14,
           13,
           14,
           4,
           2,
           11,
           0,
           13,
           5,
           14,
           11,
           10,
           1,
           5,
           3,
           8,
           14,
           6,
           3,
           1,
           4,
           11,
           13,
           5,
           7,
           12,
           4,
           9,
           12,
           11,
           5,
           2,
           14,
           12,
           11,
           0,
           6,
           11,
           9,
           3,
           11,
           1,
           0,
           4,
           1,
           7,
           2,
           6,
           3,
           2,
           13,
           11,
           11,
           5,
           9,
           13,
           2,
           3,
           0,
           9,
           0,
           3,
           10,
           4,
           1,
           7,
           11,
           1,
           0,
           14,
           2,
           1,
           10,
           4,
           0,
           14,
           13,
           5,
           2,
           13,
           0,
           6,
           14,
           1,
           0,
           12,
           4,
           5,
           8
          ],
          "colorscale": [
           [
            0,
            "#440154"
           ],
           [
            0.1111111111111111,
            "#482878"
           ],
           [
            0.2222222222222222,
            "#3e4989"
           ],
           [
            0.3333333333333333,
            "#31688e"
           ],
           [
            0.4444444444444444,
            "#26828e"
           ],
           [
            0.5555555555555556,
            "#1f9e89"
           ],
           [
            0.6666666666666666,
            "#35b779"
           ],
           [
            0.7777777777777778,
            "#6ece58"
           ],
           [
            0.8888888888888888,
            "#b5de2b"
           ],
           [
            1,
            "#fde725"
           ]
          ],
          "opacity": 0.8,
          "size": 5
         },
         "mode": "markers",
         "type": "scatter3d",
         "x": [
          1.376554445662277,
          1.8958364779650319,
          1.433205080756888,
          1.8760640646055102,
          0.9422724133595217,
          0.6494486372867092,
          0.8204422863405996,
          0.028301270189221933,
          0.4512916512459885,
          0.683467875173176,
          0.15284609690826528,
          0.888432667397366,
          1.0980255888325765,
          1.9581088913245535,
          0.25766660498395405,
          0.271817240078565,
          1.8336121593216772,
          0.9083012701892219,
          0.5899871130596428,
          0.4003108891324554,
          0.2066377481542538,
          0.4824038105676658,
          1.5237787643056313,
          0.14998711305964285,
          1.015836477965032,
          1.271782032302755,
          1.4020929214352105,
          0.9167820323027551,
          1.4388749537379657,
          1.1121281292110203,
          1.8165544456622769,
          0.4824519052838329,
          0.41446152422706634,
          0.022583302491977035,
          1.9496762239271874,
          0.6749871130596428,
          0.07642304845413264,
          0.94503520777581,
          1.9411473670974873,
          0.9366025403784439,
          0.12735571585149869,
          1.5181569860407207,
          1.4869967320028763,
          0.4653941916244324,
          -4.8094716167089435e-05,
          0.22078838324886474,
          1.038467875173176,
          0.5786473670974872,
          1.7373205080756888,
          1.4162435565298215,
          0.5786473670974872,
          0.1160159698893431,
          1.3681217782649107,
          0.6240063509461097,
          0.42013139720814413,
          1.2519615242270663,
          1.3369134295108993,
          0.8431217782649107,
          0.9903941916244323,
          1.7599519052838328,
          1.8732531754730548,
          0.8827627944162882,
          0.4342820323027551,
          2.000656986040721,
          1.9723557158514988,
          0.5899871130596428,
          0.9337435565298214,
          1.876015969889343,
          1.0866377481542537,
          1.3199519052838329,
          0.4541025403784439,
          0.823301270189222,
          0.5786954618136544,
          0.3662916512459885,
          0.8827627944162882,
          1.9128460969082652,
          0.4455736835487436,
          0.894150635094611,
          0.9790544456622767,
          0.16699673200287624,
          -0.01986860279185586,
          -0.07937822173508927,
          1.5974871130596429,
          0.4342820323027551,
          0.019820508075688772,
          0.5928460969082653,
          0.9479422863405995,
          1.2633012701892221,
          2.0091377481542536,
          0.23498711305964282,
          1.8364230484541326,
          1.754282032302755,
          0.640967875173176,
          -0.05669872981077805,
          1.839233937586588,
          2.037487113059643,
          1.271782032302755,
          1.6806217782649107,
          1.9694967320028762,
          0.45691342951089925
         ],
         "y": [
          2.1105255888325765,
          2.7705255888325766,
          2.07856406460551,
          2.6192820323027552,
          1.3319615242270664,
          0.9678460969082653,
          1.4924871130596429,
          0.05464101615137754,
          0.7266025403784439,
          0.8639230484541326,
          0.23856406460551016,
          1.4258845726811988,
          1.35,
          2.8624871130596428,
          0.12999999999999998,
          0.15732050807568876,
          2.537320508075689,
          1.2946410161513775,
          0.9378460969082653,
          0.7412435565298214,
          0.28588457268119893,
          0.8432050807568877,
          2.225166604983954,
          0.31784609690826526,
          1.5305255888325764,
          2.077846096908265,
          1.9619615242270663,
          1.339282032302755,
          2.0612435565298215,
          1.5185640646055103,
          2.7305255888325766,
          0.7019615242270663,
          0.7685640646055102,
          0.2132050807568877,
          2.6766025403784437,
          0.8192820323027551,
          0.11928203230275508,
          1.535166604983954,
          2.7732050807568878,
          1.349282032302755,
          0.24588457268119895,
          2.101243556529821,
          2.1258845726811986,
          0.8951666049839541,
          0.1412435565298214,
          0.3132050807568877,
          1.6024871130596428,
          0.9724871130596429,
          2.549282032302755,
          1.989282032302755,
          0.9724871130596429,
          0.2805255888325765,
          1.9246410161513774,
          0.8339230484541327,
          0.7512435565298214,
          2.0678460969082653,
          2.0905255888325764,
          1.4232050807568877,
          1.396602540378444,
          2.6212435565298216,
          2.557320508075689,
          1.4432050807568877,
          0.7785640646055102,
          2.6619615242270664,
          2.6073205080756887,
          0.9378460969082653,
          1.4285640646055102,
          2.7605255888325764,
          1.525884572681199,
          2.0012435565298214,
          0.7885640646055102,
          1.4132050807568877,
          0.8312435565298214,
          0.845166604983954,
          1.4432050807568877,
          2.71856406460551,
          0.885166604983954,
          1.2673205080756889,
          1.4312435565298214,
          0.2658845726811989,
          0.13124355652982142,
          0.24248711305964282,
          1.9999999999999998,
          0.7785640646055102,
          0.009999999999999998,
          0.8585640646055102,
          1.3146410161513775,
          2.0332050807568876,
          2.706602540378444,
          0.19928203230275507,
          2.5992820323027552,
          2.63856406460551,
          0.9232050807568877,
          0.17320508075688773,
          2.6612435565298216,
          2.62,
          2.077846096908265,
          2.7224871130596426,
          2.686602540378444,
          0.8505255888325765
         ],
         "z": [
          75,
          100,
          75,
          100,
          50,
          25,
          50,
          0,
          25,
          25,
          0,
          50,
          50,
          100,
          0,
          0,
          100,
          50,
          25,
          25,
          0,
          25,
          75,
          0,
          50,
          75,
          75,
          50,
          75,
          50,
          100,
          25,
          25,
          0,
          100,
          25,
          0,
          50,
          100,
          50,
          0,
          75,
          75,
          25,
          0,
          0,
          50,
          25,
          100,
          75,
          25,
          0,
          75,
          25,
          25,
          75,
          75,
          50,
          50,
          100,
          100,
          50,
          25,
          100,
          100,
          25,
          50,
          100,
          50,
          75,
          25,
          50,
          25,
          25,
          50,
          100,
          25,
          50,
          50,
          0,
          0,
          0,
          75,
          25,
          0,
          25,
          50,
          75,
          100,
          0,
          100,
          100,
          25,
          0,
          100,
          100,
          75,
          100,
          100,
          25
         ]
        }
       ],
       "layout": {
        "margin": {
         "b": 0,
         "l": 0,
         "r": 0,
         "t": 0
        },
        "scene": {
         "camera": {
          "eye": {
           "x": 3,
           "y": 0,
           "z": 0
          }
         }
        },
        "template": {
         "data": {
          "bar": [
           {
            "error_x": {
             "color": "#2a3f5f"
            },
            "error_y": {
             "color": "#2a3f5f"
            },
            "marker": {
             "line": {
              "color": "#E5ECF6",
              "width": 0.5
             },
             "pattern": {
              "fillmode": "overlay",
              "size": 10,
              "solidity": 0.2
             }
            },
            "type": "bar"
           }
          ],
          "barpolar": [
           {
            "marker": {
             "line": {
              "color": "#E5ECF6",
              "width": 0.5
             },
             "pattern": {
              "fillmode": "overlay",
              "size": 10,
              "solidity": 0.2
             }
            },
            "type": "barpolar"
           }
          ],
          "carpet": [
           {
            "aaxis": {
             "endlinecolor": "#2a3f5f",
             "gridcolor": "white",
             "linecolor": "white",
             "minorgridcolor": "white",
             "startlinecolor": "#2a3f5f"
            },
            "baxis": {
             "endlinecolor": "#2a3f5f",
             "gridcolor": "white",
             "linecolor": "white",
             "minorgridcolor": "white",
             "startlinecolor": "#2a3f5f"
            },
            "type": "carpet"
           }
          ],
          "choropleth": [
           {
            "colorbar": {
             "outlinewidth": 0,
             "ticks": ""
            },
            "type": "choropleth"
           }
          ],
          "contour": [
           {
            "colorbar": {
             "outlinewidth": 0,
             "ticks": ""
            },
            "colorscale": [
             [
              0,
              "#0d0887"
             ],
             [
              0.1111111111111111,
              "#46039f"
             ],
             [
              0.2222222222222222,
              "#7201a8"
             ],
             [
              0.3333333333333333,
              "#9c179e"
             ],
             [
              0.4444444444444444,
              "#bd3786"
             ],
             [
              0.5555555555555556,
              "#d8576b"
             ],
             [
              0.6666666666666666,
              "#ed7953"
             ],
             [
              0.7777777777777778,
              "#fb9f3a"
             ],
             [
              0.8888888888888888,
              "#fdca26"
             ],
             [
              1,
              "#f0f921"
             ]
            ],
            "type": "contour"
           }
          ],
          "contourcarpet": [
           {
            "colorbar": {
             "outlinewidth": 0,
             "ticks": ""
            },
            "type": "contourcarpet"
           }
          ],
          "heatmap": [
           {
            "colorbar": {
             "outlinewidth": 0,
             "ticks": ""
            },
            "colorscale": [
             [
              0,
              "#0d0887"
             ],
             [
              0.1111111111111111,
              "#46039f"
             ],
             [
              0.2222222222222222,
              "#7201a8"
             ],
             [
              0.3333333333333333,
              "#9c179e"
             ],
             [
              0.4444444444444444,
              "#bd3786"
             ],
             [
              0.5555555555555556,
              "#d8576b"
             ],
             [
              0.6666666666666666,
              "#ed7953"
             ],
             [
              0.7777777777777778,
              "#fb9f3a"
             ],
             [
              0.8888888888888888,
              "#fdca26"
             ],
             [
              1,
              "#f0f921"
             ]
            ],
            "type": "heatmap"
           }
          ],
          "heatmapgl": [
           {
            "colorbar": {
             "outlinewidth": 0,
             "ticks": ""
            },
            "colorscale": [
             [
              0,
              "#0d0887"
             ],
             [
              0.1111111111111111,
              "#46039f"
             ],
             [
              0.2222222222222222,
              "#7201a8"
             ],
             [
              0.3333333333333333,
              "#9c179e"
             ],
             [
              0.4444444444444444,
              "#bd3786"
             ],
             [
              0.5555555555555556,
              "#d8576b"
             ],
             [
              0.6666666666666666,
              "#ed7953"
             ],
             [
              0.7777777777777778,
              "#fb9f3a"
             ],
             [
              0.8888888888888888,
              "#fdca26"
             ],
             [
              1,
              "#f0f921"
             ]
            ],
            "type": "heatmapgl"
           }
          ],
          "histogram": [
           {
            "marker": {
             "pattern": {
              "fillmode": "overlay",
              "size": 10,
              "solidity": 0.2
             }
            },
            "type": "histogram"
           }
          ],
          "histogram2d": [
           {
            "colorbar": {
             "outlinewidth": 0,
             "ticks": ""
            },
            "colorscale": [
             [
              0,
              "#0d0887"
             ],
             [
              0.1111111111111111,
              "#46039f"
             ],
             [
              0.2222222222222222,
              "#7201a8"
             ],
             [
              0.3333333333333333,
              "#9c179e"
             ],
             [
              0.4444444444444444,
              "#bd3786"
             ],
             [
              0.5555555555555556,
              "#d8576b"
             ],
             [
              0.6666666666666666,
              "#ed7953"
             ],
             [
              0.7777777777777778,
              "#fb9f3a"
             ],
             [
              0.8888888888888888,
              "#fdca26"
             ],
             [
              1,
              "#f0f921"
             ]
            ],
            "type": "histogram2d"
           }
          ],
          "histogram2dcontour": [
           {
            "colorbar": {
             "outlinewidth": 0,
             "ticks": ""
            },
            "colorscale": [
             [
              0,
              "#0d0887"
             ],
             [
              0.1111111111111111,
              "#46039f"
             ],
             [
              0.2222222222222222,
              "#7201a8"
             ],
             [
              0.3333333333333333,
              "#9c179e"
             ],
             [
              0.4444444444444444,
              "#bd3786"
             ],
             [
              0.5555555555555556,
              "#d8576b"
             ],
             [
              0.6666666666666666,
              "#ed7953"
             ],
             [
              0.7777777777777778,
              "#fb9f3a"
             ],
             [
              0.8888888888888888,
              "#fdca26"
             ],
             [
              1,
              "#f0f921"
             ]
            ],
            "type": "histogram2dcontour"
           }
          ],
          "mesh3d": [
           {
            "colorbar": {
             "outlinewidth": 0,
             "ticks": ""
            },
            "type": "mesh3d"
           }
          ],
          "parcoords": [
           {
            "line": {
             "colorbar": {
              "outlinewidth": 0,
              "ticks": ""
             }
            },
            "type": "parcoords"
           }
          ],
          "pie": [
           {
            "automargin": true,
            "type": "pie"
           }
          ],
          "scatter": [
           {
            "fillpattern": {
             "fillmode": "overlay",
             "size": 10,
             "solidity": 0.2
            },
            "type": "scatter"
           }
          ],
          "scatter3d": [
           {
            "line": {
             "colorbar": {
              "outlinewidth": 0,
              "ticks": ""
             }
            },
            "marker": {
             "colorbar": {
              "outlinewidth": 0,
              "ticks": ""
             }
            },
            "type": "scatter3d"
           }
          ],
          "scattercarpet": [
           {
            "marker": {
             "colorbar": {
              "outlinewidth": 0,
              "ticks": ""
             }
            },
            "type": "scattercarpet"
           }
          ],
          "scattergeo": [
           {
            "marker": {
             "colorbar": {
              "outlinewidth": 0,
              "ticks": ""
             }
            },
            "type": "scattergeo"
           }
          ],
          "scattergl": [
           {
            "marker": {
             "colorbar": {
              "outlinewidth": 0,
              "ticks": ""
             }
            },
            "type": "scattergl"
           }
          ],
          "scattermapbox": [
           {
            "marker": {
             "colorbar": {
              "outlinewidth": 0,
              "ticks": ""
             }
            },
            "type": "scattermapbox"
           }
          ],
          "scatterpolar": [
           {
            "marker": {
             "colorbar": {
              "outlinewidth": 0,
              "ticks": ""
             }
            },
            "type": "scatterpolar"
           }
          ],
          "scatterpolargl": [
           {
            "marker": {
             "colorbar": {
              "outlinewidth": 0,
              "ticks": ""
             }
            },
            "type": "scatterpolargl"
           }
          ],
          "scatterternary": [
           {
            "marker": {
             "colorbar": {
              "outlinewidth": 0,
              "ticks": ""
             }
            },
            "type": "scatterternary"
           }
          ],
          "surface": [
           {
            "colorbar": {
             "outlinewidth": 0,
             "ticks": ""
            },
            "colorscale": [
             [
              0,
              "#0d0887"
             ],
             [
              0.1111111111111111,
              "#46039f"
             ],
             [
              0.2222222222222222,
              "#7201a8"
             ],
             [
              0.3333333333333333,
              "#9c179e"
             ],
             [
              0.4444444444444444,
              "#bd3786"
             ],
             [
              0.5555555555555556,
              "#d8576b"
             ],
             [
              0.6666666666666666,
              "#ed7953"
             ],
             [
              0.7777777777777778,
              "#fb9f3a"
             ],
             [
              0.8888888888888888,
              "#fdca26"
             ],
             [
              1,
              "#f0f921"
             ]
            ],
            "type": "surface"
           }
          ],
          "table": [
           {
            "cells": {
             "fill": {
              "color": "#EBF0F8"
             },
             "line": {
              "color": "white"
             }
            },
            "header": {
             "fill": {
              "color": "#C8D4E3"
             },
             "line": {
              "color": "white"
             }
            },
            "type": "table"
           }
          ]
         },
         "layout": {
          "annotationdefaults": {
           "arrowcolor": "#2a3f5f",
           "arrowhead": 0,
           "arrowwidth": 1
          },
          "autotypenumbers": "strict",
          "coloraxis": {
           "colorbar": {
            "outlinewidth": 0,
            "ticks": ""
           }
          },
          "colorscale": {
           "diverging": [
            [
             0,
             "#8e0152"
            ],
            [
             0.1,
             "#c51b7d"
            ],
            [
             0.2,
             "#de77ae"
            ],
            [
             0.3,
             "#f1b6da"
            ],
            [
             0.4,
             "#fde0ef"
            ],
            [
             0.5,
             "#f7f7f7"
            ],
            [
             0.6,
             "#e6f5d0"
            ],
            [
             0.7,
             "#b8e186"
            ],
            [
             0.8,
             "#7fbc41"
            ],
            [
             0.9,
             "#4d9221"
            ],
            [
             1,
             "#276419"
            ]
           ],
           "sequential": [
            [
             0,
             "#0d0887"
            ],
            [
             0.1111111111111111,
             "#46039f"
            ],
            [
             0.2222222222222222,
             "#7201a8"
            ],
            [
             0.3333333333333333,
             "#9c179e"
            ],
            [
             0.4444444444444444,
             "#bd3786"
            ],
            [
             0.5555555555555556,
             "#d8576b"
            ],
            [
             0.6666666666666666,
             "#ed7953"
            ],
            [
             0.7777777777777778,
             "#fb9f3a"
            ],
            [
             0.8888888888888888,
             "#fdca26"
            ],
            [
             1,
             "#f0f921"
            ]
           ],
           "sequentialminus": [
            [
             0,
             "#0d0887"
            ],
            [
             0.1111111111111111,
             "#46039f"
            ],
            [
             0.2222222222222222,
             "#7201a8"
            ],
            [
             0.3333333333333333,
             "#9c179e"
            ],
            [
             0.4444444444444444,
             "#bd3786"
            ],
            [
             0.5555555555555556,
             "#d8576b"
            ],
            [
             0.6666666666666666,
             "#ed7953"
            ],
            [
             0.7777777777777778,
             "#fb9f3a"
            ],
            [
             0.8888888888888888,
             "#fdca26"
            ],
            [
             1,
             "#f0f921"
            ]
           ]
          },
          "colorway": [
           "#636efa",
           "#EF553B",
           "#00cc96",
           "#ab63fa",
           "#FFA15A",
           "#19d3f3",
           "#FF6692",
           "#B6E880",
           "#FF97FF",
           "#FECB52"
          ],
          "font": {
           "color": "#2a3f5f"
          },
          "geo": {
           "bgcolor": "white",
           "lakecolor": "white",
           "landcolor": "#E5ECF6",
           "showlakes": true,
           "showland": true,
           "subunitcolor": "white"
          },
          "hoverlabel": {
           "align": "left"
          },
          "hovermode": "closest",
          "mapbox": {
           "style": "light"
          },
          "paper_bgcolor": "white",
          "plot_bgcolor": "#E5ECF6",
          "polar": {
           "angularaxis": {
            "gridcolor": "white",
            "linecolor": "white",
            "ticks": ""
           },
           "bgcolor": "#E5ECF6",
           "radialaxis": {
            "gridcolor": "white",
            "linecolor": "white",
            "ticks": ""
           }
          },
          "scene": {
           "xaxis": {
            "backgroundcolor": "#E5ECF6",
            "gridcolor": "white",
            "gridwidth": 2,
            "linecolor": "white",
            "showbackground": true,
            "ticks": "",
            "zerolinecolor": "white"
           },
           "yaxis": {
            "backgroundcolor": "#E5ECF6",
            "gridcolor": "white",
            "gridwidth": 2,
            "linecolor": "white",
            "showbackground": true,
            "ticks": "",
            "zerolinecolor": "white"
           },
           "zaxis": {
            "backgroundcolor": "#E5ECF6",
            "gridcolor": "white",
            "gridwidth": 2,
            "linecolor": "white",
            "showbackground": true,
            "ticks": "",
            "zerolinecolor": "white"
           }
          },
          "shapedefaults": {
           "line": {
            "color": "#2a3f5f"
           }
          },
          "ternary": {
           "aaxis": {
            "gridcolor": "white",
            "linecolor": "white",
            "ticks": ""
           },
           "baxis": {
            "gridcolor": "white",
            "linecolor": "white",
            "ticks": ""
           },
           "bgcolor": "#E5ECF6",
           "caxis": {
            "gridcolor": "white",
            "linecolor": "white",
            "ticks": ""
           }
          },
          "title": {
           "x": 0.05
          },
          "xaxis": {
           "automargin": true,
           "gridcolor": "white",
           "linecolor": "white",
           "ticks": "",
           "title": {
            "standoff": 15
           },
           "zerolinecolor": "white",
           "zerolinewidth": 2
          },
          "yaxis": {
           "automargin": true,
           "gridcolor": "white",
           "linecolor": "white",
           "ticks": "",
           "title": {
            "standoff": 15
           },
           "zerolinecolor": "white",
           "zerolinewidth": 2
          }
         }
        },
        "title": {
         "text": "eye = (x:2., y:0, z:0)"
        }
       }
      },
      "text/html": [
       "<div>                            <div id=\"0a7fc3f7-398b-48a0-b774-a4c856df6f78\" class=\"plotly-graph-div\" style=\"height:525px; width:100%;\"></div>            <script type=\"text/javascript\">                require([\"plotly\"], function(Plotly) {                    window.PLOTLYENV=window.PLOTLYENV || {};                                    if (document.getElementById(\"0a7fc3f7-398b-48a0-b774-a4c856df6f78\")) {                    Plotly.newPlot(                        \"0a7fc3f7-398b-48a0-b774-a4c856df6f78\",                        [{\"marker\":{\"color\":[6,10,8,7,4,14,1,2,2,14,10,3,11,14,13,14,4,2,11,0,13,5,14,11,10,1,5,3,8,14,6,3,1,4,11,13,5,7,12,4,9,12,11,5,2,14,12,11,0,6,11,9,3,11,1,0,4,1,7,2,6,3,2,13,11,11,5,9,13,2,3,0,9,0,3,10,4,1,7,11,1,0,14,2,1,10,4,0,14,13,5,2,13,0,6,14,1,0,12,4,5,8],\"colorscale\":[[0.0,\"#440154\"],[0.1111111111111111,\"#482878\"],[0.2222222222222222,\"#3e4989\"],[0.3333333333333333,\"#31688e\"],[0.4444444444444444,\"#26828e\"],[0.5555555555555556,\"#1f9e89\"],[0.6666666666666666,\"#35b779\"],[0.7777777777777778,\"#6ece58\"],[0.8888888888888888,\"#b5de2b\"],[1.0,\"#fde725\"]],\"opacity\":0.8,\"size\":5},\"mode\":\"markers\",\"x\":[1.376554445662277,1.8958364779650319,1.433205080756888,1.8760640646055102,0.9422724133595217,0.6494486372867092,0.8204422863405996,0.028301270189221933,0.4512916512459885,0.683467875173176,0.15284609690826528,0.888432667397366,1.0980255888325765,1.9581088913245535,0.25766660498395405,0.271817240078565,1.8336121593216772,0.9083012701892219,0.5899871130596428,0.4003108891324554,0.2066377481542538,0.4824038105676658,1.5237787643056313,0.14998711305964285,1.015836477965032,1.271782032302755,1.4020929214352105,0.9167820323027551,1.4388749537379657,1.1121281292110203,1.8165544456622769,0.4824519052838329,0.41446152422706634,0.022583302491977035,1.9496762239271874,0.6749871130596428,0.07642304845413264,0.94503520777581,1.9411473670974873,0.9366025403784439,0.12735571585149869,1.5181569860407207,1.4869967320028763,0.4653941916244324,-4.8094716167089435e-05,0.22078838324886474,1.038467875173176,0.5786473670974872,1.7373205080756888,1.4162435565298215,0.5786473670974872,0.1160159698893431,1.3681217782649107,0.6240063509461097,0.42013139720814413,1.2519615242270663,1.3369134295108993,0.8431217782649107,0.9903941916244323,1.7599519052838328,1.8732531754730548,0.8827627944162882,0.4342820323027551,2.000656986040721,1.9723557158514988,0.5899871130596428,0.9337435565298214,1.876015969889343,1.0866377481542537,1.3199519052838329,0.4541025403784439,0.823301270189222,0.5786954618136544,0.3662916512459885,0.8827627944162882,1.9128460969082652,0.4455736835487436,0.894150635094611,0.9790544456622767,0.16699673200287624,-0.01986860279185586,-0.07937822173508927,1.5974871130596429,0.4342820323027551,0.019820508075688772,0.5928460969082653,0.9479422863405995,1.2633012701892221,2.0091377481542536,0.23498711305964282,1.8364230484541326,1.754282032302755,0.640967875173176,-0.05669872981077805,1.839233937586588,2.037487113059643,1.271782032302755,1.6806217782649107,1.9694967320028762,0.45691342951089925],\"y\":[2.1105255888325765,2.7705255888325766,2.07856406460551,2.6192820323027552,1.3319615242270664,0.9678460969082653,1.4924871130596429,0.05464101615137754,0.7266025403784439,0.8639230484541326,0.23856406460551016,1.4258845726811988,1.35,2.8624871130596428,0.12999999999999998,0.15732050807568876,2.537320508075689,1.2946410161513775,0.9378460969082653,0.7412435565298214,0.28588457268119893,0.8432050807568877,2.225166604983954,0.31784609690826526,1.5305255888325764,2.077846096908265,1.9619615242270663,1.339282032302755,2.0612435565298215,1.5185640646055103,2.7305255888325766,0.7019615242270663,0.7685640646055102,0.2132050807568877,2.6766025403784437,0.8192820323027551,0.11928203230275508,1.535166604983954,2.7732050807568878,1.349282032302755,0.24588457268119895,2.101243556529821,2.1258845726811986,0.8951666049839541,0.1412435565298214,0.3132050807568877,1.6024871130596428,0.9724871130596429,2.549282032302755,1.989282032302755,0.9724871130596429,0.2805255888325765,1.9246410161513774,0.8339230484541327,0.7512435565298214,2.0678460969082653,2.0905255888325764,1.4232050807568877,1.396602540378444,2.6212435565298216,2.557320508075689,1.4432050807568877,0.7785640646055102,2.6619615242270664,2.6073205080756887,0.9378460969082653,1.4285640646055102,2.7605255888325764,1.525884572681199,2.0012435565298214,0.7885640646055102,1.4132050807568877,0.8312435565298214,0.845166604983954,1.4432050807568877,2.71856406460551,0.885166604983954,1.2673205080756889,1.4312435565298214,0.2658845726811989,0.13124355652982142,0.24248711305964282,1.9999999999999998,0.7785640646055102,0.009999999999999998,0.8585640646055102,1.3146410161513775,2.0332050807568876,2.706602540378444,0.19928203230275507,2.5992820323027552,2.63856406460551,0.9232050807568877,0.17320508075688773,2.6612435565298216,2.62,2.077846096908265,2.7224871130596426,2.686602540378444,0.8505255888325765],\"z\":[75.0,100.0,75.0,100.0,50.0,25.0,50.0,0.0,25.0,25.0,0.0,50.0,50.0,100.0,0.0,0.0,100.0,50.0,25.0,25.0,0.0,25.0,75.0,0.0,50.0,75.0,75.0,50.0,75.0,50.0,100.0,25.0,25.0,0.0,100.0,25.0,0.0,50.0,100.0,50.0,0.0,75.0,75.0,25.0,0.0,0.0,50.0,25.0,100.0,75.0,25.0,0.0,75.0,25.0,25.0,75.0,75.0,50.0,50.0,100.0,100.0,50.0,25.0,100.0,100.0,25.0,50.0,100.0,50.0,75.0,25.0,50.0,25.0,25.0,50.0,100.0,25.0,50.0,50.0,0.0,0.0,0.0,75.0,25.0,0.0,25.0,50.0,75.0,100.0,0.0,100.0,100.0,25.0,0.0,100.0,100.0,75.0,100.0,100.0,25.0],\"type\":\"scatter3d\"}],                        {\"template\":{\"data\":{\"histogram2dcontour\":[{\"type\":\"histogram2dcontour\",\"colorbar\":{\"outlinewidth\":0,\"ticks\":\"\"},\"colorscale\":[[0.0,\"#0d0887\"],[0.1111111111111111,\"#46039f\"],[0.2222222222222222,\"#7201a8\"],[0.3333333333333333,\"#9c179e\"],[0.4444444444444444,\"#bd3786\"],[0.5555555555555556,\"#d8576b\"],[0.6666666666666666,\"#ed7953\"],[0.7777777777777778,\"#fb9f3a\"],[0.8888888888888888,\"#fdca26\"],[1.0,\"#f0f921\"]]}],\"choropleth\":[{\"type\":\"choropleth\",\"colorbar\":{\"outlinewidth\":0,\"ticks\":\"\"}}],\"histogram2d\":[{\"type\":\"histogram2d\",\"colorbar\":{\"outlinewidth\":0,\"ticks\":\"\"},\"colorscale\":[[0.0,\"#0d0887\"],[0.1111111111111111,\"#46039f\"],[0.2222222222222222,\"#7201a8\"],[0.3333333333333333,\"#9c179e\"],[0.4444444444444444,\"#bd3786\"],[0.5555555555555556,\"#d8576b\"],[0.6666666666666666,\"#ed7953\"],[0.7777777777777778,\"#fb9f3a\"],[0.8888888888888888,\"#fdca26\"],[1.0,\"#f0f921\"]]}],\"heatmap\":[{\"type\":\"heatmap\",\"colorbar\":{\"outlinewidth\":0,\"ticks\":\"\"},\"colorscale\":[[0.0,\"#0d0887\"],[0.1111111111111111,\"#46039f\"],[0.2222222222222222,\"#7201a8\"],[0.3333333333333333,\"#9c179e\"],[0.4444444444444444,\"#bd3786\"],[0.5555555555555556,\"#d8576b\"],[0.6666666666666666,\"#ed7953\"],[0.7777777777777778,\"#fb9f3a\"],[0.8888888888888888,\"#fdca26\"],[1.0,\"#f0f921\"]]}],\"heatmapgl\":[{\"type\":\"heatmapgl\",\"colorbar\":{\"outlinewidth\":0,\"ticks\":\"\"},\"colorscale\":[[0.0,\"#0d0887\"],[0.1111111111111111,\"#46039f\"],[0.2222222222222222,\"#7201a8\"],[0.3333333333333333,\"#9c179e\"],[0.4444444444444444,\"#bd3786\"],[0.5555555555555556,\"#d8576b\"],[0.6666666666666666,\"#ed7953\"],[0.7777777777777778,\"#fb9f3a\"],[0.8888888888888888,\"#fdca26\"],[1.0,\"#f0f921\"]]}],\"contourcarpet\":[{\"type\":\"contourcarpet\",\"colorbar\":{\"outlinewidth\":0,\"ticks\":\"\"}}],\"contour\":[{\"type\":\"contour\",\"colorbar\":{\"outlinewidth\":0,\"ticks\":\"\"},\"colorscale\":[[0.0,\"#0d0887\"],[0.1111111111111111,\"#46039f\"],[0.2222222222222222,\"#7201a8\"],[0.3333333333333333,\"#9c179e\"],[0.4444444444444444,\"#bd3786\"],[0.5555555555555556,\"#d8576b\"],[0.6666666666666666,\"#ed7953\"],[0.7777777777777778,\"#fb9f3a\"],[0.8888888888888888,\"#fdca26\"],[1.0,\"#f0f921\"]]}],\"surface\":[{\"type\":\"surface\",\"colorbar\":{\"outlinewidth\":0,\"ticks\":\"\"},\"colorscale\":[[0.0,\"#0d0887\"],[0.1111111111111111,\"#46039f\"],[0.2222222222222222,\"#7201a8\"],[0.3333333333333333,\"#9c179e\"],[0.4444444444444444,\"#bd3786\"],[0.5555555555555556,\"#d8576b\"],[0.6666666666666666,\"#ed7953\"],[0.7777777777777778,\"#fb9f3a\"],[0.8888888888888888,\"#fdca26\"],[1.0,\"#f0f921\"]]}],\"mesh3d\":[{\"type\":\"mesh3d\",\"colorbar\":{\"outlinewidth\":0,\"ticks\":\"\"}}],\"scatter\":[{\"fillpattern\":{\"fillmode\":\"overlay\",\"size\":10,\"solidity\":0.2},\"type\":\"scatter\"}],\"parcoords\":[{\"type\":\"parcoords\",\"line\":{\"colorbar\":{\"outlinewidth\":0,\"ticks\":\"\"}}}],\"scatterpolargl\":[{\"type\":\"scatterpolargl\",\"marker\":{\"colorbar\":{\"outlinewidth\":0,\"ticks\":\"\"}}}],\"bar\":[{\"error_x\":{\"color\":\"#2a3f5f\"},\"error_y\":{\"color\":\"#2a3f5f\"},\"marker\":{\"line\":{\"color\":\"#E5ECF6\",\"width\":0.5},\"pattern\":{\"fillmode\":\"overlay\",\"size\":10,\"solidity\":0.2}},\"type\":\"bar\"}],\"scattergeo\":[{\"type\":\"scattergeo\",\"marker\":{\"colorbar\":{\"outlinewidth\":0,\"ticks\":\"\"}}}],\"scatterpolar\":[{\"type\":\"scatterpolar\",\"marker\":{\"colorbar\":{\"outlinewidth\":0,\"ticks\":\"\"}}}],\"histogram\":[{\"marker\":{\"pattern\":{\"fillmode\":\"overlay\",\"size\":10,\"solidity\":0.2}},\"type\":\"histogram\"}],\"scattergl\":[{\"type\":\"scattergl\",\"marker\":{\"colorbar\":{\"outlinewidth\":0,\"ticks\":\"\"}}}],\"scatter3d\":[{\"type\":\"scatter3d\",\"line\":{\"colorbar\":{\"outlinewidth\":0,\"ticks\":\"\"}},\"marker\":{\"colorbar\":{\"outlinewidth\":0,\"ticks\":\"\"}}}],\"scattermapbox\":[{\"type\":\"scattermapbox\",\"marker\":{\"colorbar\":{\"outlinewidth\":0,\"ticks\":\"\"}}}],\"scatterternary\":[{\"type\":\"scatterternary\",\"marker\":{\"colorbar\":{\"outlinewidth\":0,\"ticks\":\"\"}}}],\"scattercarpet\":[{\"type\":\"scattercarpet\",\"marker\":{\"colorbar\":{\"outlinewidth\":0,\"ticks\":\"\"}}}],\"carpet\":[{\"aaxis\":{\"endlinecolor\":\"#2a3f5f\",\"gridcolor\":\"white\",\"linecolor\":\"white\",\"minorgridcolor\":\"white\",\"startlinecolor\":\"#2a3f5f\"},\"baxis\":{\"endlinecolor\":\"#2a3f5f\",\"gridcolor\":\"white\",\"linecolor\":\"white\",\"minorgridcolor\":\"white\",\"startlinecolor\":\"#2a3f5f\"},\"type\":\"carpet\"}],\"table\":[{\"cells\":{\"fill\":{\"color\":\"#EBF0F8\"},\"line\":{\"color\":\"white\"}},\"header\":{\"fill\":{\"color\":\"#C8D4E3\"},\"line\":{\"color\":\"white\"}},\"type\":\"table\"}],\"barpolar\":[{\"marker\":{\"line\":{\"color\":\"#E5ECF6\",\"width\":0.5},\"pattern\":{\"fillmode\":\"overlay\",\"size\":10,\"solidity\":0.2}},\"type\":\"barpolar\"}],\"pie\":[{\"automargin\":true,\"type\":\"pie\"}]},\"layout\":{\"autotypenumbers\":\"strict\",\"colorway\":[\"#636efa\",\"#EF553B\",\"#00cc96\",\"#ab63fa\",\"#FFA15A\",\"#19d3f3\",\"#FF6692\",\"#B6E880\",\"#FF97FF\",\"#FECB52\"],\"font\":{\"color\":\"#2a3f5f\"},\"hovermode\":\"closest\",\"hoverlabel\":{\"align\":\"left\"},\"paper_bgcolor\":\"white\",\"plot_bgcolor\":\"#E5ECF6\",\"polar\":{\"bgcolor\":\"#E5ECF6\",\"angularaxis\":{\"gridcolor\":\"white\",\"linecolor\":\"white\",\"ticks\":\"\"},\"radialaxis\":{\"gridcolor\":\"white\",\"linecolor\":\"white\",\"ticks\":\"\"}},\"ternary\":{\"bgcolor\":\"#E5ECF6\",\"aaxis\":{\"gridcolor\":\"white\",\"linecolor\":\"white\",\"ticks\":\"\"},\"baxis\":{\"gridcolor\":\"white\",\"linecolor\":\"white\",\"ticks\":\"\"},\"caxis\":{\"gridcolor\":\"white\",\"linecolor\":\"white\",\"ticks\":\"\"}},\"coloraxis\":{\"colorbar\":{\"outlinewidth\":0,\"ticks\":\"\"}},\"colorscale\":{\"sequential\":[[0.0,\"#0d0887\"],[0.1111111111111111,\"#46039f\"],[0.2222222222222222,\"#7201a8\"],[0.3333333333333333,\"#9c179e\"],[0.4444444444444444,\"#bd3786\"],[0.5555555555555556,\"#d8576b\"],[0.6666666666666666,\"#ed7953\"],[0.7777777777777778,\"#fb9f3a\"],[0.8888888888888888,\"#fdca26\"],[1.0,\"#f0f921\"]],\"sequentialminus\":[[0.0,\"#0d0887\"],[0.1111111111111111,\"#46039f\"],[0.2222222222222222,\"#7201a8\"],[0.3333333333333333,\"#9c179e\"],[0.4444444444444444,\"#bd3786\"],[0.5555555555555556,\"#d8576b\"],[0.6666666666666666,\"#ed7953\"],[0.7777777777777778,\"#fb9f3a\"],[0.8888888888888888,\"#fdca26\"],[1.0,\"#f0f921\"]],\"diverging\":[[0,\"#8e0152\"],[0.1,\"#c51b7d\"],[0.2,\"#de77ae\"],[0.3,\"#f1b6da\"],[0.4,\"#fde0ef\"],[0.5,\"#f7f7f7\"],[0.6,\"#e6f5d0\"],[0.7,\"#b8e186\"],[0.8,\"#7fbc41\"],[0.9,\"#4d9221\"],[1,\"#276419\"]]},\"xaxis\":{\"gridcolor\":\"white\",\"linecolor\":\"white\",\"ticks\":\"\",\"title\":{\"standoff\":15},\"zerolinecolor\":\"white\",\"automargin\":true,\"zerolinewidth\":2},\"yaxis\":{\"gridcolor\":\"white\",\"linecolor\":\"white\",\"ticks\":\"\",\"title\":{\"standoff\":15},\"zerolinecolor\":\"white\",\"automargin\":true,\"zerolinewidth\":2},\"scene\":{\"xaxis\":{\"backgroundcolor\":\"#E5ECF6\",\"gridcolor\":\"white\",\"linecolor\":\"white\",\"showbackground\":true,\"ticks\":\"\",\"zerolinecolor\":\"white\",\"gridwidth\":2},\"yaxis\":{\"backgroundcolor\":\"#E5ECF6\",\"gridcolor\":\"white\",\"linecolor\":\"white\",\"showbackground\":true,\"ticks\":\"\",\"zerolinecolor\":\"white\",\"gridwidth\":2},\"zaxis\":{\"backgroundcolor\":\"#E5ECF6\",\"gridcolor\":\"white\",\"linecolor\":\"white\",\"showbackground\":true,\"ticks\":\"\",\"zerolinecolor\":\"white\",\"gridwidth\":2}},\"shapedefaults\":{\"line\":{\"color\":\"#2a3f5f\"}},\"annotationdefaults\":{\"arrowcolor\":\"#2a3f5f\",\"arrowhead\":0,\"arrowwidth\":1},\"geo\":{\"bgcolor\":\"white\",\"landcolor\":\"#E5ECF6\",\"subunitcolor\":\"white\",\"showland\":true,\"showlakes\":true,\"lakecolor\":\"white\"},\"title\":{\"x\":0.05},\"mapbox\":{\"style\":\"light\"}}},\"margin\":{\"l\":0,\"r\":0,\"b\":0,\"t\":0},\"scene\":{\"camera\":{\"eye\":{\"x\":3,\"y\":0,\"z\":0}}},\"title\":{\"text\":\"eye = (x:2., y:0, z:0)\"}},                        {\"responsive\": true}                    ).then(function(){\n",
       "                            \n",
       "var gd = document.getElementById('0a7fc3f7-398b-48a0-b774-a4c856df6f78');\n",
       "var x = new MutationObserver(function (mutations, observer) {{\n",
       "        var display = window.getComputedStyle(gd).display;\n",
       "        if (!display || display === 'none') {{\n",
       "            console.log([gd, 'removed!']);\n",
       "            Plotly.purge(gd);\n",
       "            observer.disconnect();\n",
       "        }}\n",
       "}});\n",
       "\n",
       "// Listen for the removal of the full notebook cells\n",
       "var notebookContainer = gd.closest('#notebook-container');\n",
       "if (notebookContainer) {{\n",
       "    x.observe(notebookContainer, {childList: true});\n",
       "}}\n",
       "\n",
       "// Listen for the clearing of the current output cell\n",
       "var outputEl = gd.closest('.output');\n",
       "if (outputEl) {{\n",
       "    x.observe(outputEl, {childList: true});\n",
       "}}\n",
       "\n",
       "                        })                };                });            </script>        </div>"
      ]
     },
     "metadata": {},
     "output_type": "display_data"
    }
   ],
   "source": [
    "name = 'eye = (x:2., y:0, z:0)'\n",
    "camera = dict(\n",
    "    eye=dict(x=3, y=0, z=0)\n",
    ")\n",
    "\n",
    "\n",
    "fig_c2.update_layout(scene_camera=camera, title=name)\n",
    "fig_c2.show()"
   ]
  },
  {
   "cell_type": "code",
   "execution_count": 83,
   "id": "20564a71",
   "metadata": {},
   "outputs": [
    {
     "data": {
      "text/plain": [
       "(3, 100)"
      ]
     },
     "execution_count": 83,
     "metadata": {},
     "output_type": "execute_result"
    }
   ],
   "source": [
    "#Part iv - v\n",
    "\n",
    "print(pts_o.shape)\n",
    "print(pts_o2.shape)"
   ]
  },
  {
   "cell_type": "code",
   "execution_count": 100,
   "id": "7cdee828",
   "metadata": {},
   "outputs": [],
   "source": [
    "#calculating homography\n",
    "h,_ = cv2.findHomography(pts_o.T,pts_o2.T)"
   ]
  },
  {
   "cell_type": "code",
   "execution_count": 101,
   "id": "a613f289",
   "metadata": {},
   "outputs": [
    {
     "name": "stdout",
     "output_type": "stream",
     "text": [
      "(3, 100)\n"
     ]
    }
   ],
   "source": [
    "#applying homography over the points\n",
    "pts_o2_h = np.matmul(h, pts_o2)\n",
    "print(pts_o2_h.shape)"
   ]
  },
  {
   "cell_type": "code",
   "execution_count": 103,
   "id": "0780c989",
   "metadata": {},
   "outputs": [
    {
     "name": "stdout",
     "output_type": "stream",
     "text": [
      "[1.80120476e-01 5.87861134e-02 1.53998535e+02]\n"
     ]
    }
   ],
   "source": [
    "#calculating mean squared error\n",
    "mse_axis = ((pts_o2_h - pts_o)**2).mean(axis=1)\n",
    "print(mse_axis)"
   ]
  },
  {
   "cell_type": "code",
   "execution_count": 107,
   "id": "7e7442d9",
   "metadata": {},
   "outputs": [
    {
     "name": "stdout",
     "output_type": "stream",
     "text": [
      "2643.2431660696716\n"
     ]
    }
   ],
   "source": [
    "mse = (np.sum(mse_axis)/3)**2\n",
    "print(mse)"
   ]
  },
  {
   "cell_type": "code",
   "execution_count": null,
   "id": "644e0c5b",
   "metadata": {},
   "outputs": [],
   "source": []
  }
 ],
 "metadata": {
  "kernelspec": {
   "display_name": "Python 3 (ipykernel)",
   "language": "python",
   "name": "python3"
  },
  "language_info": {
   "codemirror_mode": {
    "name": "ipython",
    "version": 3
   },
   "file_extension": ".py",
   "mimetype": "text/x-python",
   "name": "python",
   "nbconvert_exporter": "python",
   "pygments_lexer": "ipython3",
   "version": "3.10.6"
  },
  "vp": {
   "vp_config_version": "1.0.0",
   "vp_menu_width": 273,
   "vp_note_display": false,
   "vp_note_width": 0,
   "vp_position": {
    "width": 278
   },
   "vp_section_display": false,
   "vp_signature": "VisualPython"
  }
 },
 "nbformat": 4,
 "nbformat_minor": 5
}
